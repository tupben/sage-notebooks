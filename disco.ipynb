{
 "cells": [
  {
   "cell_type": "code",
   "execution_count": 1,
   "id": "88ec971d",
   "metadata": {},
   "outputs": [],
   "source": [
    "from flatsurf import *\n",
    "import flatsurf\n",
    "from flatsurf.geometry.similarity_surface_generators import TranslationSurfaceGenerators\n",
    "from flatsurf.geometry.similarity_surface_generators import DilationSurfaceGenerators"
   ]
  },
  {
   "cell_type": "code",
   "execution_count": 28,
   "id": "a375bbd6",
   "metadata": {},
   "outputs": [
    {
     "data": {
      "image/png": "[encoded data removed]",
      "text/plain": [
       "Graphics object consisting of 22 graphics primitives"
      ]
     },
     "execution_count": 28,
     "metadata": {},
     "output_type": "execute_result"
    }
   ],
   "source": [
    "# The 'Disco Surface'\n",
    "# From `Dilation Surfaces and their Veech Groups' bt Duryev et al\n",
    "\n",
    "P = flatsurf.polygons(vertices = [(0,0),(1,0),(3,0),(5,0),(6,0),(6,1),(5,1),(3,1),(1,1),(0,1)])\n",
    "s = Surface_list(QQ)\n",
    "s.add_polygon(P)\n",
    "S = SimilaritySurface(s)\n",
    "\n",
    "# Pair edges.\n",
    "s.set_edge_pairing(0,0,0,7)\n",
    "s.set_edge_pairing(0,1,0,8)\n",
    "s.set_edge_pairing(0,2,0,5)\n",
    "s.set_edge_pairing(0,3,0,6)\n",
    "s.set_edge_pairing(0,4,0,9)\n",
    "\n",
    "\n",
    "gs = S.graphical_surface()\n",
    "gs.plot()"
   ]
  },
  {
   "cell_type": "code",
   "execution_count": 44,
   "id": "3d4db81a",
   "metadata": {},
   "outputs": [
    {
     "data": {
      "image/png": "[encoded data removed]",
      "text/plain": [
       "Graphics object consisting of 30 graphics primitives"
      ]
     },
     "execution_count": 44,
     "metadata": {},
     "output_type": "execute_result"
    }
   ],
   "source": [
    "# Playing with trajectories.\n",
    "\n",
    "v = S.tangent_vector(0, (0,0), (1,4))\n",
    "w = S.tangent_vector(0, (2,0), (4,3))\n",
    "traj1 = v.straight_line_trajectory()\n",
    "traj2 = w.straight_line_trajectory()\n",
    "traj1.flow(10)\n",
    "traj2.flow(10)\n",
    "S.plot(edge_labels='number') + traj1.plot(color='green') + traj2.plot(color='red')\n"
   ]
  },
  {
   "cell_type": "code",
   "execution_count": 40,
   "id": "ee6673d9",
   "metadata": {},
   "outputs": [
    {
     "name": "stdout",
     "output_type": "stream",
     "text": [
      "False\n",
      "True\n"
     ]
    }
   ],
   "source": [
    "print(traj1.is_closed())\n",
    "print(traj2.is_closed())"
   ]
  }
 ],
 "metadata": {
  "kernelspec": {
   "display_name": "SageMath 9.6",
   "language": "sage",
   "name": "sagemath-9.6"
  },
  "language_info": {
   "codemirror_mode": {
    "name": "ipython",
    "version": 3
   },
   "file_extension": ".py",
   "mimetype": "text/x-python",
   "name": "python",
   "nbconvert_exporter": "python",
   "pygments_lexer": "ipython3",
   "version": "3.10.3"
  }
 },
 "nbformat": 4,
 "nbformat_minor": 5
}
