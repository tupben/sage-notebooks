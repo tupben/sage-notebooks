{
 "cells": [
  {
   "cell_type": "code",
   "execution_count": 3,
   "id": "8e351028",
   "metadata": {},
   "outputs": [],
   "source": [
    "from flatsurf import *\n",
    "import flatsurf\n",
    "from flatsurf.geometry.similarity_surface_generators import TranslationSurfaceGenerators\n",
    "from flatsurf.geometry.similarity_surface_generators import DilationSurfaceGenerators\n",
    "from sage.plot.plot3d.shapes import *\n",
    "from sage.plot.plot3d.shapes2 import Line\n",
    "from sage.plot.line import Line"
   ]
  },
  {
   "cell_type": "code",
   "execution_count": 4,
   "id": "7d2b5848",
   "metadata": {},
   "outputs": [
    {
     "data": {
      "image/png": "[encoded data removed]",
      "text/plain": [
       "Graphics object consisting of 22 graphics primitives"
      ]
     },
     "execution_count": 4,
     "metadata": {},
     "output_type": "execute_result"
    }
   ],
   "source": [
    "# The 'Disco Surface' from `Dilation Surfaces and their Veech Groups' by Duryev et al.\n",
    "\n",
    "P = flatsurf.polygons(vertices = [(0,0),(1,0),(3,0),(5,0),(6,0),(6,1),(5,1),(3,1),(1,1),(0,1)])\n",
    "s = Surface_list(QQ)\n",
    "s.add_polygon(P)\n",
    "S = SimilaritySurface(s)\n",
    "\n",
    "\n",
    "# Pair edges.\n",
    "s.set_edge_pairing(0,0,0,7)\n",
    "s.set_edge_pairing(0,1,0,8)\n",
    "s.set_edge_pairing(0,2,0,5)\n",
    "s.set_edge_pairing(0,3,0,6)\n",
    "s.set_edge_pairing(0,4,0,9)\n",
    "\n",
    "\n",
    "gs = S.graphical_surface()\n",
    "gs.plot()"
   ]
  },
  {
   "cell_type": "code",
   "execution_count": 5,
   "id": "48e0cef3",
   "metadata": {},
   "outputs": [
    {
     "data": {
      "image/png": "[encoded data removed]",
      "text/plain": [
       "Graphics object consisting of 21 graphics primitives"
      ]
     },
     "execution_count": 5,
     "metadata": {},
     "output_type": "execute_result"
    }
   ],
   "source": [
    "C = line([(0,0), (1,0)], color = 'violet', thickness=3)\n",
    "C += line([(1,1), (3,1)], color = 'violet', thickness=3)\n",
    "C += line([(1,0), (3,0)], color = 'purple', thickness=3)\n",
    "C += line([(0,1), (1,1)], color = 'purple', thickness=3)\n",
    "\n",
    "C += line([(3,0), (5,0)], color = 'lightgreen', thickness=3)\n",
    "C += line([(5,1), (6,1)], color = 'lightgreen', thickness=3)\n",
    "C += line([(5,0), (6,0)], color = 'green', thickness=3)\n",
    "C += line([(3,1), (5,1)], color = 'green', thickness=3)\n",
    "\n",
    "C += line([(0,0), (0,1)], color = 'black', thickness=3)\n",
    "C += line([(6,0), (6,1)], color = 'black', thickness=3)\n",
    "\n",
    "S.plot(edge_labels=False, polygon_labels=False) + C.plot()"
   ]
  },
  {
   "cell_type": "code",
   "execution_count": 56,
   "id": "9f480f3c",
   "metadata": {},
   "outputs": [
    {
     "data": {
      "image/png": "[encoded data removed]",
      "text/plain": [
       "Graphics object consisting of 26 graphics primitives"
      ]
     },
     "execution_count": 56,
     "metadata": {},
     "output_type": "execute_result"
    }
   ],
   "source": [
    "# Playing with trajectories.\n",
    "\n",
    "u = S.tangent_vector(0, (0,0), (1,1))\n",
    "v = S.tangent_vector(0, (2,0), (4,3))\n",
    "w = S.tangent_vector(0, (0,1/4), (1,0))\n",
    "\n",
    "traj1 = u.straight_line_trajectory()\n",
    "traj2 = v.straight_line_trajectory()\n",
    "traj3 = w.straight_line_trajectory()\n",
    "\n",
    "traj1.flow(30)\n",
    "traj2.flow(100)\n",
    "traj3.flow(100)\n",
    "\n",
    "traj1.plot(color='blue') + traj2.plot(color='red') + traj3.plot(color='yellow') \\\n",
    "+ S.plot(edge_labels=False, polygon_labels=False) + C.plot()\n"
   ]
  },
  {
   "cell_type": "code",
   "execution_count": 58,
   "id": "d1b91b88",
   "metadata": {},
   "outputs": [
    {
     "name": "stdout",
     "output_type": "stream",
     "text": [
      "blue:   False\n",
      "red:    True\n",
      "yellow: True\n"
     ]
    }
   ],
   "source": [
    "print('blue:  ' , traj1.is_closed()) # This seems wrong. Isn't the blue trajectory closed? \n",
    "print('red:   ' ,traj2.is_closed())\n",
    "print('yellow:' ,traj3.is_closed())"
   ]
  }
 ],
 "metadata": {
  "kernelspec": {
   "display_name": "SageMath 9.6",
   "language": "sage",
   "name": "sagemath-9.6"
  },
  "language_info": {
   "codemirror_mode": {
    "name": "ipython",
    "version": 3
   },
   "file_extension": ".py",
   "mimetype": "text/x-python",
   "name": "python",
   "nbconvert_exporter": "python",
   "pygments_lexer": "ipython3",
   "version": "3.10.3"
  }
 },
 "nbformat": 4,
 "nbformat_minor": 5
}
