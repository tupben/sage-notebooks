{
 "cells": [
  {
   "cell_type": "code",
   "execution_count": 1,
   "id": "40d502ca",
   "metadata": {},
   "outputs": [
    {
     "name": "stdout",
     "output_type": "stream",
     "text": [
      "HI\n"
     ]
    }
   ],
   "source": [
    "print(\"HI\")"
   ]
  },
  {
   "cell_type": "code",
   "execution_count": 2,
   "id": "a4725088",
   "metadata": {},
   "outputs": [
    {
     "ename": "NameError",
     "evalue": "name 'itertools' is not defined",
     "output_type": "error",
     "traceback": [
      "\u001b[0;31m---------------------------------------------------------------------------\u001b[0m",
      "\u001b[0;31mNameError\u001b[0m                                 Traceback (most recent call last)",
      "\u001b[0;32m/var/folders/0_/52g57wh96ts0d8c73k51nj8m0000gn/T/ipykernel_49007/2264298502.py\u001b[0m in \u001b[0;36m<module>\u001b[0;34m\u001b[0m\n\u001b[1;32m     53\u001b[0m \u001b[0;34m\u001b[0m\u001b[0m\n\u001b[1;32m     54\u001b[0m \u001b[0;31m# O PATH : 3/3 COMPLETE\u001b[0m\u001b[0;34m\u001b[0m\u001b[0;34m\u001b[0m\u001b[0m\n\u001b[0;32m---> 55\u001b[0;31m \u001b[0mshow_it\u001b[0m\u001b[0;34m(\u001b[0m\u001b[0;34m[\u001b[0m\u001b[0;34m'uf'\u001b[0m\u001b[0;34m,\u001b[0m\u001b[0;34m'ur'\u001b[0m\u001b[0;34m,\u001b[0m\u001b[0;34m'ub'\u001b[0m\u001b[0;34m,\u001b[0m\u001b[0;34m'ul'\u001b[0m\u001b[0;34m]\u001b[0m\u001b[0;34m)\u001b[0m\u001b[0;34m\u001b[0m\u001b[0;34m\u001b[0m\u001b[0m\n\u001b[0m\u001b[1;32m     56\u001b[0m \u001b[0mshow_it\u001b[0m\u001b[0;34m(\u001b[0m\u001b[0;34m[\u001b[0m\u001b[0;34m'uf'\u001b[0m\u001b[0;34m,\u001b[0m\u001b[0;34m'ur'\u001b[0m\u001b[0;34m,\u001b[0m\u001b[0;34m'ub'\u001b[0m\u001b[0;34m,\u001b[0m\u001b[0;34m'ul'\u001b[0m\u001b[0;34m,\u001b[0m\u001b[0;34m'f'\u001b[0m\u001b[0;34m,\u001b[0m\u001b[0;34m'r'\u001b[0m\u001b[0;34m,\u001b[0m\u001b[0;34m'l'\u001b[0m\u001b[0;34m,\u001b[0m\u001b[0;34m'd'\u001b[0m\u001b[0;34m]\u001b[0m\u001b[0;34m,\u001b[0m\u001b[0;34m[\u001b[0m\u001b[0;36m2\u001b[0m\u001b[0;34m,\u001b[0m\u001b[0;36m1\u001b[0m\u001b[0;34m]\u001b[0m\u001b[0;34m)\u001b[0m\u001b[0;34m\u001b[0m\u001b[0;34m\u001b[0m\u001b[0m\n\u001b[1;32m     57\u001b[0m \u001b[0mshow_it\u001b[0m\u001b[0;34m(\u001b[0m\u001b[0;34m[\u001b[0m\u001b[0;34m'uf'\u001b[0m\u001b[0;34m,\u001b[0m\u001b[0;34m'ur'\u001b[0m\u001b[0;34m,\u001b[0m\u001b[0;34m'ub'\u001b[0m\u001b[0;34m,\u001b[0m\u001b[0;34m'ul'\u001b[0m\u001b[0;34m,\u001b[0m\u001b[0;34m'd'\u001b[0m\u001b[0;34m,\u001b[0m\u001b[0;34m'u'\u001b[0m\u001b[0;34m]\u001b[0m\u001b[0;34m,\u001b[0m\u001b[0;34m[\u001b[0m\u001b[0;36m0\u001b[0m\u001b[0;34m,\u001b[0m\u001b[0;36m2\u001b[0m\u001b[0;34m]\u001b[0m\u001b[0;34m)\u001b[0m\u001b[0;34m\u001b[0m\u001b[0;34m\u001b[0m\u001b[0m\n",
      "\u001b[0;32m/var/folders/0_/52g57wh96ts0d8c73k51nj8m0000gn/T/ipykernel_49007/2264298502.py\u001b[0m in \u001b[0;36mshow_it\u001b[0;34m(rubix_coords, rotation)\u001b[0m\n\u001b[1;32m     40\u001b[0m     \u001b[0mx\u001b[0m \u001b[0;34m=\u001b[0m \u001b[0;34m-\u001b[0m\u001b[0;36m1\u001b[0m \u001b[0;34m*\u001b[0m \u001b[0mrotation\u001b[0m\u001b[0;34m[\u001b[0m\u001b[0;36m1\u001b[0m\u001b[0;34m]\u001b[0m\u001b[0;34m\u001b[0m\u001b[0;34m\u001b[0m\u001b[0m\n\u001b[1;32m     41\u001b[0m     \u001b[0mface_coords\u001b[0m \u001b[0;34m=\u001b[0m \u001b[0mrubix_to_face\u001b[0m\u001b[0;34m(\u001b[0m\u001b[0mrubix_coords\u001b[0m\u001b[0;34m)\u001b[0m\u001b[0;34m\u001b[0m\u001b[0;34m\u001b[0m\u001b[0m\n\u001b[0;32m---> 42\u001b[0;31m     \u001b[0mcartesian_coords\u001b[0m \u001b[0;34m=\u001b[0m \u001b[0mface_to_cartesian\u001b[0m\u001b[0;34m(\u001b[0m\u001b[0mface_coords\u001b[0m\u001b[0;34m)\u001b[0m\u001b[0;34m\u001b[0m\u001b[0;34m\u001b[0m\u001b[0m\n\u001b[0m\u001b[1;32m     43\u001b[0m     \u001b[0mP\u001b[0m \u001b[0;34m=\u001b[0m  \u001b[0mSphere\u001b[0m\u001b[0;34m(\u001b[0m\u001b[0;36m.1\u001b[0m\u001b[0;34m,\u001b[0m \u001b[0mcolor\u001b[0m\u001b[0;34m=\u001b[0m\u001b[0;34m'red'\u001b[0m\u001b[0;34m)\u001b[0m\u001b[0;34m\u001b[0m\u001b[0;34m\u001b[0m\u001b[0m\n\u001b[1;32m     44\u001b[0m     \u001b[0mP\u001b[0m \u001b[0;34m+=\u001b[0m \u001b[0mSphere\u001b[0m\u001b[0;34m(\u001b[0m\u001b[0;36m.1\u001b[0m\u001b[0;34m,\u001b[0m \u001b[0mcolor\u001b[0m\u001b[0;34m=\u001b[0m\u001b[0;34m'blue'\u001b[0m\u001b[0;34m)\u001b[0m\u001b[0;34m.\u001b[0m\u001b[0mtranslate\u001b[0m\u001b[0;34m(\u001b[0m\u001b[0;36m0\u001b[0m\u001b[0;34m,\u001b[0m\u001b[0;36m.01\u001b[0m\u001b[0;34m,\u001b[0m\u001b[0;36m0\u001b[0m\u001b[0;34m)\u001b[0m\u001b[0;34m\u001b[0m\u001b[0;34m\u001b[0m\u001b[0m\n",
      "\u001b[0;32m/var/folders/0_/52g57wh96ts0d8c73k51nj8m0000gn/T/ipykernel_49007/2264298502.py\u001b[0m in \u001b[0;36mface_to_cartesian\u001b[0;34m(rubix_list)\u001b[0m\n\u001b[1;32m     19\u001b[0m     \u001b[0;32mfor\u001b[0m \u001b[0mface\u001b[0m \u001b[0;32min\u001b[0m \u001b[0mrubix_list\u001b[0m\u001b[0;34m:\u001b[0m\u001b[0;34m\u001b[0m\u001b[0;34m\u001b[0m\u001b[0m\n\u001b[1;32m     20\u001b[0m         \u001b[0msquarelist\u001b[0m \u001b[0;34m=\u001b[0m \u001b[0;34m[\u001b[0m\u001b[0;34m[\u001b[0m\u001b[0mi\u001b[0m\u001b[0;34m]\u001b[0m \u001b[0;32mif\u001b[0m \u001b[0mi\u001b[0m \u001b[0;34m!=\u001b[0m \u001b[0;36m0\u001b[0m \u001b[0;32melse\u001b[0m \u001b[0;34m[\u001b[0m\u001b[0;34m-\u001b[0m\u001b[0;36m1\u001b[0m\u001b[0;34m,\u001b[0m\u001b[0;36m1\u001b[0m\u001b[0;34m]\u001b[0m \u001b[0;32mfor\u001b[0m \u001b[0mi\u001b[0m \u001b[0;32min\u001b[0m \u001b[0mface\u001b[0m\u001b[0;34m]\u001b[0m\u001b[0;34m\u001b[0m\u001b[0;34m\u001b[0m\u001b[0m\n\u001b[0;32m---> 21\u001b[0;31m         \u001b[0mnew_face\u001b[0m \u001b[0;34m=\u001b[0m \u001b[0mlist\u001b[0m\u001b[0;34m(\u001b[0m\u001b[0mitertools\u001b[0m\u001b[0;34m.\u001b[0m\u001b[0mproduct\u001b[0m\u001b[0;34m(\u001b[0m\u001b[0;34m*\u001b[0m\u001b[0msquarelist\u001b[0m\u001b[0;34m)\u001b[0m\u001b[0;34m)\u001b[0m\u001b[0;34m\u001b[0m\u001b[0;34m\u001b[0m\u001b[0m\n\u001b[0m\u001b[1;32m     22\u001b[0m         \u001b[0;32mif\u001b[0m \u001b[0mlen\u001b[0m\u001b[0;34m(\u001b[0m\u001b[0mnew_face\u001b[0m\u001b[0;34m)\u001b[0m \u001b[0;34m==\u001b[0m \u001b[0;36m2\u001b[0m\u001b[0;34m:\u001b[0m\u001b[0;34m\u001b[0m\u001b[0;34m\u001b[0m\u001b[0m\n\u001b[1;32m     23\u001b[0m             \u001b[0mnew_face\u001b[0m \u001b[0;34m+=\u001b[0m \u001b[0;34m[\u001b[0m\u001b[0mtuple\u001b[0m\u001b[0;34m(\u001b[0m\u001b[0;36m2\u001b[0m\u001b[0;34m*\u001b[0m\u001b[0mi\u001b[0m \u001b[0;32mfor\u001b[0m \u001b[0mi\u001b[0m \u001b[0;32min\u001b[0m \u001b[0mj\u001b[0m\u001b[0;34m)\u001b[0m \u001b[0;32mfor\u001b[0m \u001b[0mj\u001b[0m \u001b[0;32min\u001b[0m \u001b[0mnew_face\u001b[0m\u001b[0;34m]\u001b[0m\u001b[0;34m\u001b[0m\u001b[0;34m\u001b[0m\u001b[0m\n",
      "\u001b[0;31mNameError\u001b[0m: name 'itertools' is not defined"
     ]
    }
   ],
   "source": [
    "rubix_dict = {'r': [1,0,0], 'l':[-1,0,0],\n",
    "              'f': [0,1,0], 'b':[0,-1,0],\n",
    "              'u': [0,0,1], 'd':[0,0,-1]}\n",
    "\n",
    "def rubix_to_face(rubix_list):\n",
    "    coords = []\n",
    "    for full in rubix_list:\n",
    "        a,b,c = 0,0,0\n",
    "        for single in full:\n",
    "            a += rubix_dict[single][0]\n",
    "            b += rubix_dict[single][1]\n",
    "            c += rubix_dict[single][2]\n",
    "        coords.append([a,b,c])\n",
    "    return coords\n",
    "\n",
    "\n",
    "def face_to_cartesian(rubix_list):\n",
    "    face_list = []\n",
    "    for face in rubix_list:\n",
    "        squarelist = [[i] if i != 0 else [-1,1] for i in face]\n",
    "        new_face = list(itertools.product(*squarelist))\n",
    "        if len(new_face) == 2:\n",
    "            new_face += [tuple(2*i for i in j) for j in new_face]\n",
    "        new_face = [new_face[1], new_face[0] , new_face[2], new_face[3]]\n",
    "        face_list.append(new_face)\n",
    "    return face_list\n",
    "\n",
    "\n",
    "def palette(index):\n",
    "    color_list = ['red','orange','yellow','green','lightblue','blue','darkblue','purple']\n",
    "    if index < len(color_list):\n",
    "        return color_list[index]\n",
    "    else:\n",
    "        return black\n",
    "\n",
    "    \n",
    "def show_it(rubix_coords,rotation=[0,0]):\n",
    "    color_index = 0\n",
    "    z = -1 * rotation[0]\n",
    "    x = -1 * rotation[1]  \n",
    "    face_coords = rubix_to_face(rubix_coords)\n",
    "    cartesian_coords = face_to_cartesian(face_coords)\n",
    "    P =  Sphere(.1, color='red')\n",
    "    P += Sphere(.1, color='blue').translate(0,.01,0)\n",
    "    for k in cartesian_coords:\n",
    "        P += polygons3d([range(4)], k, color='gray',opacity=0.7)\n",
    "#         P += polygons3d([range(4)], k, color='gray',opacity=0.7).rotate((0,0,1),z*math.pi/2).rotate((1,0,0),x*math.pi/2).scale(0.5,0.5,0.5)\n",
    "        if k[0][0]/k[3][0] == k[0][1]/k[3][1]:\n",
    "            P += LineSegment(k[2], k[3], 2, color=palette(color_index))\n",
    "            P += LineSegment(k[2], k[3], 4, color=palette(color_index)).rotate((0,0,1),z*math.pi/2).rotate((1,0,0),x*math.pi/2).scale(0.5,0.5,0.5)\n",
    "            color_index +=1\n",
    "    P.show()\n",
    "\n",
    "# O PATH : 3/3 COMPLETE\n",
    "show_it(['uf','ur','ub','ul'])\n",
    "show_it(['uf','ur','ub','ul','f','r','l','d'],[2,1])\n",
    "show_it(['uf','ur','ub','ul','d','u'],[0,2])\n",
    "\n",
    "\n",
    "# L PATH : 4/5 COMPLETE\n",
    "show_it(['ul','fl','dl','db','rb','ub'],[0,0])\n",
    "show_it(['ul','fl','dl','db','rb','ub','f','b'],[-1,0])\n",
    "# show_it(['ul','fl','dl','db','rb','ub'],[0,3]) # FAIL\n",
    "show_it(['ul','fl','dl','db','rb','ub','d','f'],[1,-1])\n",
    "show_it(['ul','fl','dl','db','rb','ub','u','d'],[2,0])\n",
    "\n",
    "\n",
    "# U PATH : 2/4 COMPLETE\n",
    "show_it(['ul','fl','dl','db','dr','fr','ur','ub'],[0,0])\n",
    "# show_it(['ul','fl','dl','db','dr','fr','ur','ub'],[1,0]) # FAIL\n",
    "show_it(['ul','fl','dl','db','dr','fr','ur','ub','f','b'],[2,0])\n",
    "# show_it(['ul','fl','dl','db','dr','fr','ur','ub'],[-1,0]) # FAIL\n",
    "\n",
    "# OO PATH : 2/2 COMPLETE\n",
    "show_it(['uf','ur','ub','ul','df','dr','db','dl'])\n",
    "show_it(['uf','ur','ub','ul','df','dr','db','dl','r','l'],[0,1])\n",
    "more?\n",
    "\n",
    "# EQ PATH : 2/2 COMPLETE\n",
    "show_it(['uf','ul','bl','db','dr','rf'])\n",
    "show_it(['uf','ul','bl','db','dr','rf','u','d'],[2,0])\n",
    "# A petrie hexagon"
   ]
  },
  {
   "cell_type": "code",
   "execution_count": null,
   "id": "0cd5688e",
   "metadata": {},
   "outputs": [],
   "source": []
  }
 ],
 "metadata": {
  "kernelspec": {
   "display_name": "Python 3 (ipykernel)",
   "language": "python",
   "name": "python3"
  },
  "language_info": {
   "codemirror_mode": {
    "name": "ipython",
    "version": 3
   },
   "file_extension": ".py",
   "mimetype": "text/x-python",
   "name": "python",
   "nbconvert_exporter": "python",
   "pygments_lexer": "ipython3",
   "version": "3.9.9"
  }
 },
 "nbformat": 4,
 "nbformat_minor": 5
}
