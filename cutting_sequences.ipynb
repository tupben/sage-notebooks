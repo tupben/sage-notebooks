{
 "cells": [
  {
   "cell_type": "code",
   "execution_count": null,
   "id": "28c9288a",
   "metadata": {},
   "outputs": [],
   "source": [
    "# # # # # # # # # # # # # # # # # # # # # # # # # # # # # # # # # # #\n",
    "# # # # # # #                                           # # # # # # #\n",
    "# # # # # # #   Trying to design a cutting sequence     # # # # # # # \n",
    "# # # # # # #            finder.                        # # # # # # #\n",
    "# # # # # # #                                           # # # # # # #\n",
    "# # # # # # # # # # # # # # # # # # # # # # # # # # # # # # # # # # #"
   ]
  },
  {
   "cell_type": "code",
   "execution_count": 2,
   "id": "96889545",
   "metadata": {},
   "outputs": [],
   "source": [
    "import flatsurf\n",
    "from flatsurf import *\n",
    "from sage.plot.plot3d.shapes import *\n",
    "from sage.plot.plot3d.shapes2 import Line"
   ]
  },
  {
   "cell_type": "code",
   "execution_count": 34,
   "id": "6e074dac",
   "metadata": {},
   "outputs": [
    {
     "data": {
      "image/png": "[encoded data removed]",
      "text/plain": [
       "Graphics object consisting of 18 graphics primitives"
      ]
     },
     "execution_count": 34,
     "metadata": {},
     "output_type": "execute_result"
    }
   ],
   "source": [
    "s = TranslationSurfaceGenerators.regular_octagon()\n",
    "s.plot(edge_labels='letter')"
   ]
  },
  {
   "cell_type": "code",
   "execution_count": 37,
   "id": "8d30a71d",
   "metadata": {
    "scrolled": true
   },
   "outputs": [
    {
     "data": {
      "image/png": "[encoded data removed]",
      "text/plain": [
       "Graphics object consisting of 23 graphics primitives"
      ]
     },
     "execution_count": 37,
     "metadata": {},
     "output_type": "execute_result"
    }
   ],
   "source": [
    "v = s.tangent_vector(0, (0,0), (1,4))\n",
    "traj = v.straight_line_trajectory()\n",
    "traj.flow(4)\n",
    "s.plot() + traj.plot(color='red')"
   ]
  },
  {
   "cell_type": "code",
   "execution_count": 40,
   "id": "5675a2df",
   "metadata": {},
   "outputs": [
    {
     "name": "stdout",
     "output_type": "stream",
     "text": [
      "Segment in polygon 0 starting at (0, 0) and ending at (1/4*a + 1/4, a + 1)\n",
      "Segment in polygon 0 starting at (1/4*a + 1/4, 0) and ending at (2/5*a + 3/5, 3/5*a + 7/5)\n",
      "Segment in polygon 0 starting at (-1/10*a - 2/5, 1/10*a + 2/5) and ending at (1/6*a - 1/3, 7/6*a + 2/3)\n",
      "Segment in polygon 0 starting at (2/3*a + 2/3, 2/3*a - 1/3) and ending at (1/2*a + 1, 1)\n",
      "Segment in polygon 0 starting at (-1/2*a, 1) and ending at (-1/3*a, 2/3*a + 1)\n"
     ]
    }
   ],
   "source": [
    "for seg in traj.segments():\n",
    "    print(seg)\n",
    "#     point = seg.start().point()"
   ]
  },
  {
   "cell_type": "code",
   "execution_count": 9,
   "id": "1c438c55",
   "metadata": {},
   "outputs": [
    {
     "name": "stdout",
     "output_type": "stream",
     "text": [
      "30\n",
      "34\n",
      "31\n",
      "35\n",
      "C\n"
     ]
    }
   ],
   "source": [
    "edge_list = []\n",
    "edge_dict = {'00':'A',\\\n",
    "             '02':'B',\\\n",
    "             '03':'C',\\\n",
    "             '10':'D',\\\n",
    "             '12':'D',\\\n",
    "             '20':'E',\\\n",
    "             '22':'E',\\\n",
    "             '23':'F',\\\n",
    "             '30':'B',\\\n",
    "             '32':'A',\\\n",
    "             '41':'G',\\\n",
    "             '43':'G',\\\n",
    "             '45':'H',\\\n",
    "             '46':'F',\\\n",
    "             '47':'H',\\\n",
    "             '51':'I',\\\n",
    "             '52':'C',\\\n",
    "             '53':'J',\\\n",
    "             '54':'J'\n",
    "            }\n",
    "\n",
    "for seg in traj3.segments():\n",
    "#     print(point)\n",
    "    point = seg.start().point()\n",
    "    poly = seg.polygon_label()\n",
    "    x = P1 if poly < 4 else P2\n",
    "#     if poly in [0,1,2,3]:\n",
    "#         x = P1\n",
    "#     elif poly in [4,5]:\n",
    "#         x = P2\n",
    "    edge_list += [str(poly) + str(x.get_point_position(point))[-12]]\n",
    "    print(str(P1.get_point_position(point).VERTEX) + str(poly))\n",
    "#     print(str(P1.get_point_position(point))[-12] + str(poly))\n",
    "#     elif poly in [4,5]:\n",
    "#         edge_list += [str(P1.get_point_position(point))[-12] + str(poly)]\n",
    "\n",
    "def get_name(y):\n",
    "    if y in edge_dict.keys():\n",
    "        return edge_dict[y]\n",
    "    else:\n",
    "        return ''\n",
    "    \n",
    "# print(get_name('03'))\n",
    "\n",
    "result = list(map(get_name, edge_list))\n",
    "print(''.join(result))\n",
    "# print(edge_dict['03'])\n",
    "# print(edge_list)"
   ]
  },
  {
   "cell_type": "code",
   "execution_count": 10,
   "id": "7008b0ea",
   "metadata": {
    "scrolled": true
   },
   "outputs": [
    {
     "name": "stdout",
     "output_type": "stream",
     "text": [
      "point positioned on interior of edge 3 of polygon 0\n",
      "3\n",
      "point positioned on interior of edge 0 of polygon 4\n",
      "0\n",
      "point positioned on interior of edge 3 of polygon 1\n",
      "3\n",
      "point positioned on interior of edge 0 of polygon 5\n",
      "0\n"
     ]
    }
   ],
   "source": [
    "for seg in traj3.segments():\n",
    "    #print(seg)\n",
    "    start = seg.start()\n",
    "    print(start.position(), start.polygon_label())\n",
    "    pos = start.position()\n",
    "    print(pos.get_edge())"
   ]
  }
 ],
 "metadata": {
  "kernelspec": {
   "display_name": "SageMath 9.6",
   "language": "sage",
   "name": "sagemath-9.6"
  },
  "language_info": {
   "codemirror_mode": {
    "name": "ipython",
    "version": 3
   },
   "file_extension": ".py",
   "mimetype": "text/x-python",
   "name": "python",
   "nbconvert_exporter": "python",
   "pygments_lexer": "ipython3",
   "version": "3.10.3"
  }
 },
 "nbformat": 4,
 "nbformat_minor": 5
}
