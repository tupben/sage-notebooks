{
 "cells": [
  {
   "cell_type": "code",
   "execution_count": 1,
   "id": "5e6552ea",
   "metadata": {},
   "outputs": [],
   "source": [
    "# # # # # # # # # # # # # # # # # # # # # # # # # # # # # # # # # #\n",
    "# # # # # # #                                         # # # # # # #\n",
    "# # # # # # #             Dimple Surface              # # # # # # # \n",
    "# # # # # # #                                         # # # # # # #\n",
    "# # # # # # # # # # # # # # # # # # # # # # # # # # # # # # # # # #"
   ]
  },
  {
   "cell_type": "code",
   "execution_count": 4,
   "id": "d32c1b8d",
   "metadata": {},
   "outputs": [],
   "source": [
    "from veech import *"
   ]
  },
  {
   "cell_type": "code",
   "execution_count": 5,
   "id": "c22f84e3",
   "metadata": {
    "scrolled": false
   },
   "outputs": [
    {
     "data": {
      "image/png": "[encoded data removed]",
      "text/plain": [
       "Graphics object consisting of 31 graphics primitives"
      ]
     },
     "execution_count": 5,
     "metadata": {},
     "output_type": "execute_result"
    }
   ],
   "source": [
    "def dimple(x,y):\n",
    "\n",
    "    def rectangle(a,b):\n",
    "        return polygons(vertices = [(0,0),(a,0),(a,b),(0,b)])\n",
    "\n",
    "    P1 = rectangle(x,y)\n",
    "    Q1 = rectangle(1,y)\n",
    "    R1 = rectangle(1,1)\n",
    "    S1 = rectangle(y,1)\n",
    "    \n",
    "    s = Surface_list(QQ)\n",
    "\n",
    "    s.add_polygon(P1)\n",
    "    s.add_polygon(Q1)\n",
    "    s.add_polygon(R1)\n",
    "    s.add_polygon(S1)\n",
    "\n",
    "    S = SimilaritySurface(s)\n",
    "\n",
    "    s.set_edge_pairing(0,0,3,2)\n",
    "    s.set_edge_pairing(0,1,1,3)\n",
    "    s.set_edge_pairing(0,2,3,0)\n",
    "    s.set_edge_pairing(0,3,1,1)\n",
    "    s.set_edge_pairing(1,0,2,2)\n",
    "    s.set_edge_pairing(1,2,2,0)\n",
    "    s.set_edge_pairing(2,1,3,3)\n",
    "    s.set_edge_pairing(2,3,3,1)\n",
    "\n",
    "    gs = S.graphical_surface()\n",
    "\n",
    "    gs.make_adjacent(1,2)\n",
    "    gs.make_adjacent(2,1)      \n",
    "    \n",
    "    DS = S.minimal_cover(cover_type='dilation').copy(relabel=True)\n",
    "    \n",
    "    return DS, S, gs, s\n",
    "\n",
    "DS, S, gs, s = dimple(2,1)\n",
    "S.plot(edge_labels='letter')"
   ]
  },
  {
   "cell_type": "code",
   "execution_count": 4,
   "id": "ccae7ee7",
   "metadata": {},
   "outputs": [],
   "source": [
    "# We first imagined the Dimple surface as a (1 by 1) square torus surface\n",
    "# with an (x by x) square cut out, and replaced by a (1 by y) rectangle.\n",
    "# \n",
    "# Then, we chose a presentation with the cut-out in the lower-left corner.\n",
    "# The simplest presentation might be the following reparameterization:\n",
    "# \n",
    "# Normalize Box 2 to be a unit square, and let x and y vary as the height and width of Box 0, respectively.\n",
    "#\n",
    "# The horizontal left-right sheers are generated by    [[1,z],    where  z = lcm( (x + 1)/y, y + 1).\n",
    "#                                                       [0,1]]                   \n",
    "# \n",
    "# The vertical up-down sheers are generated by         [[1, 0],   where z' = lcm(1/(y+1), xy/(y^2 + x)).\n",
    "#                                                       [z',1]]\n",
    "#                                                               \n",
    "# This is because the surface decomposes into horizontal cylinders of moduli (x + 1)/y and y + 1,\n",
    "# and it decomposes into vertical cylinders of moduli 1/(y+1) and xy/(y^2 + x).\n",
    "# \n",
    "# These formulas match the results found,\n",
    "# namely, the entries 6, 4, and 10 matrices for dimple(2,1), dimple(3,1), dimple(2,1).\n",
    "# \n",
    "# Using FlatSurf, we are searching for Veech elements under certain simple parameters.\n",
    "# Under the number of iterations we've tried so far, Flatsurf doesn't terminate,\n",
    "# it just keeps finding more and more veech elements."
   ]
  },
  {
   "cell_type": "code",
   "execution_count": 6,
   "id": "6bf4ba7b",
   "metadata": {},
   "outputs": [],
   "source": [
    "def pprint(matrices):\n",
    "    print(str([[[m[0][0],m[0][1]],[m[1][0],m[1][1]]] for m in matrices]))"
   ]
  },
  {
   "cell_type": "code",
   "execution_count": 56,
   "id": "65f9f01b",
   "metadata": {
    "scrolled": false
   },
   "outputs": [
    {
     "name": "stdout",
     "output_type": "stream",
     "text": [
      "\n",
      "IDR 7475/30000\r"
     ]
    },
    {
     "ename": "KeyboardInterrupt",
     "evalue": "",
     "output_type": "error",
     "traceback": [
      "\u001b[0;31m---------------------------------------------------------------------------\u001b[0m",
      "\u001b[0;31mKeyboardInterrupt\u001b[0m                         Traceback (most recent call last)",
      "\u001b[0;32m/tmp/ipykernel_27218/3247301481.py\u001b[0m in \u001b[0;36m<module>\u001b[0;34m\u001b[0m\n\u001b[1;32m      1\u001b[0m \u001b[0mDS\u001b[0m\u001b[0;34m,\u001b[0m \u001b[0mS\u001b[0m\u001b[0;34m,\u001b[0m \u001b[0mgs\u001b[0m\u001b[0;34m,\u001b[0m \u001b[0ms\u001b[0m \u001b[0;34m=\u001b[0m \u001b[0mdimple\u001b[0m\u001b[0;34m(\u001b[0m\u001b[0mInteger\u001b[0m\u001b[0;34m(\u001b[0m\u001b[0;36m2\u001b[0m\u001b[0;34m)\u001b[0m\u001b[0;34m,\u001b[0m\u001b[0mInteger\u001b[0m\u001b[0;34m(\u001b[0m\u001b[0;36m1\u001b[0m\u001b[0;34m)\u001b[0m\u001b[0;34m)\u001b[0m\u001b[0;34m\u001b[0m\u001b[0;34m\u001b[0m\u001b[0m\n\u001b[1;32m      2\u001b[0m \u001b[0;34m\u001b[0m\u001b[0m\n\u001b[0;32m----> 3\u001b[0;31m \u001b[0mIDC1\u001b[0m \u001b[0;34m=\u001b[0m \u001b[0mIDC\u001b[0m\u001b[0;34m(\u001b[0m\u001b[0mDS\u001b[0m\u001b[0;34m,\u001b[0m \u001b[0mInteger\u001b[0m\u001b[0;34m(\u001b[0m\u001b[0;36m30000\u001b[0m\u001b[0;34m)\u001b[0m\u001b[0;34m,\u001b[0m \u001b[0mveech\u001b[0m \u001b[0;34m=\u001b[0m \u001b[0mInteger\u001b[0m\u001b[0;34m(\u001b[0m\u001b[0;36m1\u001b[0m\u001b[0;34m)\u001b[0m\u001b[0;34m,\u001b[0m \u001b[0mshow_current_sym\u001b[0m \u001b[0;34m=\u001b[0m \u001b[0mInteger\u001b[0m\u001b[0;34m(\u001b[0m\u001b[0;36m0\u001b[0m\u001b[0;34m)\u001b[0m\u001b[0;34m)\u001b[0m\u001b[0;34m\u001b[0m\u001b[0;34m\u001b[0m\u001b[0m\n\u001b[0m\u001b[1;32m      4\u001b[0m \u001b[0mshow\u001b[0m\u001b[0;34m(\u001b[0m\u001b[0mS\u001b[0m\u001b[0;34m.\u001b[0m\u001b[0mplot\u001b[0m\u001b[0;34m(\u001b[0m\u001b[0;34m)\u001b[0m\u001b[0;34m)\u001b[0m\u001b[0;34m\u001b[0m\u001b[0;34m\u001b[0m\u001b[0m\n\u001b[1;32m      5\u001b[0m \u001b[0mshow\u001b[0m\u001b[0;34m(\u001b[0m\u001b[0mIDC1\u001b[0m\u001b[0;34m.\u001b[0m\u001b[0mplot\u001b[0m\u001b[0;34m(\u001b[0m\u001b[0mmodel\u001b[0m \u001b[0;34m=\u001b[0m \u001b[0;34m'UHP'\u001b[0m\u001b[0;34m,\u001b[0m \u001b[0mfigsize\u001b[0m \u001b[0;34m=\u001b[0m \u001b[0mInteger\u001b[0m\u001b[0;34m(\u001b[0m\u001b[0;36m10\u001b[0m\u001b[0;34m)\u001b[0m\u001b[0;34m)\u001b[0m\u001b[0;34m)\u001b[0m \u001b[0;31m#UHP or KMf\u001b[0m\u001b[0;34m\u001b[0m\u001b[0;34m\u001b[0m\u001b[0m\n",
      "\u001b[0;32m~/Documents/CUNY/sage-notebooks/veech.py\u001b[0m in \u001b[0;36m__init__\u001b[0;34m(self, s, n, veech, show_current_sym)\u001b[0m\n\u001b[1;32m    683\u001b[0m             \u001b[0mself\u001b[0m\u001b[0;34m.\u001b[0m\u001b[0m_generators\u001b[0m\u001b[0;34m.\u001b[0m\u001b[0madd\u001b[0m\u001b[0;34m(\u001b[0m\u001b[0mmatrix\u001b[0m\u001b[0;34m(\u001b[0m\u001b[0ms\u001b[0m\u001b[0;34m.\u001b[0m\u001b[0mbase_ring\u001b[0m\u001b[0;34m(\u001b[0m\u001b[0;34m)\u001b[0m\u001b[0;34m,\u001b[0m \u001b[0;34m[\u001b[0m\u001b[0;34m[\u001b[0m\u001b[0;34m-\u001b[0m\u001b[0m_sage_const_1\u001b[0m \u001b[0;34m,\u001b[0m \u001b[0m_sage_const_0\u001b[0m \u001b[0;34m]\u001b[0m\u001b[0;34m,\u001b[0m \u001b[0;34m[\u001b[0m\u001b[0m_sage_const_0\u001b[0m \u001b[0;34m,\u001b[0m \u001b[0;34m-\u001b[0m\u001b[0m_sage_const_1\u001b[0m \u001b[0;34m]\u001b[0m\u001b[0;34m]\u001b[0m\u001b[0;34m,\u001b[0m \u001b[0mimmutable\u001b[0m \u001b[0;34m=\u001b[0m \u001b[0;32mTrue\u001b[0m\u001b[0;34m)\u001b[0m\u001b[0;34m)\u001b[0m\u001b[0;34m\u001b[0m\u001b[0;34m\u001b[0m\u001b[0m\n\u001b[1;32m    684\u001b[0m             \u001b[0mself\u001b[0m\u001b[0;34m.\u001b[0m\u001b[0m_neg_I_is_sym\u001b[0m \u001b[0;34m=\u001b[0m \u001b[0;32mTrue\u001b[0m\u001b[0;34m\u001b[0m\u001b[0;34m\u001b[0m\u001b[0m\n\u001b[0;32m--> 685\u001b[0;31m         \u001b[0mself\u001b[0m\u001b[0;34m.\u001b[0m\u001b[0mexpand_IDR\u001b[0m\u001b[0;34m(\u001b[0m\u001b[0mn\u001b[0m\u001b[0;34m,\u001b[0m \u001b[0mveech\u001b[0m \u001b[0;34m=\u001b[0m \u001b[0mveech\u001b[0m\u001b[0;34m,\u001b[0m \u001b[0mshow_current_sym\u001b[0m \u001b[0;34m=\u001b[0m \u001b[0mshow_current_sym\u001b[0m\u001b[0;34m)\u001b[0m\u001b[0;34m\u001b[0m\u001b[0;34m\u001b[0m\u001b[0m\n\u001b[0m\u001b[1;32m    686\u001b[0m \u001b[0;34m\u001b[0m\u001b[0m\n\u001b[1;32m    687\u001b[0m \u001b[0;34m\u001b[0m\u001b[0m\n",
      "\u001b[0;32m~/Documents/CUNY/sage-notebooks/veech.py\u001b[0m in \u001b[0;36mexpand_IDR\u001b[0;34m(self, n, veech, show_current_sym)\u001b[0m\n\u001b[1;32m    802\u001b[0m                             \u001b[0mshould_check\u001b[0m \u001b[0;34m=\u001b[0m \u001b[0;32mFalse\u001b[0m\u001b[0;34m\u001b[0m\u001b[0;34m\u001b[0m\u001b[0m\n\u001b[1;32m    803\u001b[0m                             \u001b[0;32mfor\u001b[0m \u001b[0medge\u001b[0m \u001b[0;32min\u001b[0m \u001b[0mregion\u001b[0m\u001b[0;34m.\u001b[0m\u001b[0munique_geodesics\u001b[0m\u001b[0;34m(\u001b[0m\u001b[0;34m)\u001b[0m\u001b[0;34m.\u001b[0m\u001b[0mkeys\u001b[0m\u001b[0;34m(\u001b[0m\u001b[0;34m)\u001b[0m\u001b[0;34m:\u001b[0m\u001b[0;34m\u001b[0m\u001b[0;34m\u001b[0m\u001b[0m\n\u001b[0;32m--> 804\u001b[0;31m                                 \u001b[0;32mif\u001b[0m \u001b[0;32mnot\u001b[0m \u001b[0mself\u001b[0m\u001b[0;34m.\u001b[0m\u001b[0m_edge_complete\u001b[0m\u001b[0;34m[\u001b[0m\u001b[0medge\u001b[0m\u001b[0;34m]\u001b[0m\u001b[0;34m:\u001b[0m\u001b[0;34m\u001b[0m\u001b[0;34m\u001b[0m\u001b[0m\n\u001b[0m\u001b[1;32m    805\u001b[0m                                     \u001b[0mshould_check\u001b[0m \u001b[0;34m=\u001b[0m \u001b[0;32mTrue\u001b[0m\u001b[0;34m\u001b[0m\u001b[0;34m\u001b[0m\u001b[0m\n\u001b[1;32m    806\u001b[0m                                     \u001b[0;32mbreak\u001b[0m\u001b[0;34m\u001b[0m\u001b[0;34m\u001b[0m\u001b[0m\n",
      "\u001b[0;32m~/Documents/CUNY/sage-notebooks/veech.py\u001b[0m in \u001b[0;36m__eq__\u001b[0;34m(self, other)\u001b[0m\n\u001b[1;32m    142\u001b[0m \u001b[0;34m\u001b[0m\u001b[0m\n\u001b[1;32m    143\u001b[0m \u001b[0;34m\u001b[0m\u001b[0m\n\u001b[0;32m--> 144\u001b[0;31m     \u001b[0;32mdef\u001b[0m \u001b[0m__eq__\u001b[0m\u001b[0;34m(\u001b[0m\u001b[0mself\u001b[0m\u001b[0;34m,\u001b[0m \u001b[0mother\u001b[0m\u001b[0;34m)\u001b[0m\u001b[0;34m:\u001b[0m\u001b[0;34m\u001b[0m\u001b[0;34m\u001b[0m\u001b[0m\n\u001b[0m\u001b[1;32m    145\u001b[0m         \u001b[0;32mreturn\u001b[0m \u001b[0mset\u001b[0m\u001b[0;34m(\u001b[0m\u001b[0mself\u001b[0m\u001b[0;34m.\u001b[0m\u001b[0me\u001b[0m\u001b[0;34m(\u001b[0m\u001b[0;34m)\u001b[0m\u001b[0;34m)\u001b[0m \u001b[0;34m==\u001b[0m \u001b[0mset\u001b[0m\u001b[0;34m(\u001b[0m\u001b[0mother\u001b[0m\u001b[0;34m.\u001b[0m\u001b[0me\u001b[0m\u001b[0;34m(\u001b[0m\u001b[0;34m)\u001b[0m\u001b[0;34m)\u001b[0m\u001b[0;34m\u001b[0m\u001b[0;34m\u001b[0m\u001b[0m\n\u001b[1;32m    146\u001b[0m \u001b[0;34m\u001b[0m\u001b[0m\n",
      "\u001b[0;32msrc/cysignals/signals.pyx\u001b[0m in \u001b[0;36mcysignals.signals.python_check_interrupt\u001b[0;34m()\u001b[0m\n",
      "\u001b[0;31mKeyboardInterrupt\u001b[0m: "
     ]
    }
   ],
   "source": [
    "DS, S, gs, s = dimple(2,1)\n",
    "\n",
    "IDC1 = IDC(DS, 30000, veech = 1, show_current_sym = 0)\n",
    "show(S.plot())\n",
    "show(IDC1.plot(model = 'UHP', figsize = 10)) #UHP or KMf\n",
    "show(list(IDC1.generators(normalize_det=1)))\n",
    "pprint(IDC1.generators(normalize_det=1))"
   ]
  },
  {
   "cell_type": "code",
   "execution_count": 21,
   "id": "9894a8b7",
   "metadata": {},
   "outputs": [],
   "source": [
    "DS, S, gs, s = dimple(2,1)"
   ]
  },
  {
   "cell_type": "code",
   "execution_count": 11,
   "id": "2340ec75",
   "metadata": {},
   "outputs": [],
   "source": [
    "A = matrix([[1, 0],\n",
    "            [0, 1]])"
   ]
  },
  {
   "cell_type": "code",
   "execution_count": 21,
   "id": "6cb5e44f",
   "metadata": {
    "scrolled": true
   },
   "outputs": [],
   "source": [
    "show(DS.plot())\n",
    "show((A*DS).plot())"
   ]
  },
  {
   "cell_type": "code",
   "execution_count": 17,
   "id": "d7798d85",
   "metadata": {
    "scrolled": false
   },
   "outputs": [],
   "source": [
    "show((DS).delaunay_triangulation().plot())\n",
    "show((A*DS).delaunay_triangulation().plot())"
   ]
  },
  {
   "cell_type": "code",
   "execution_count": 18,
   "id": "92264f99",
   "metadata": {},
   "outputs": [],
   "source": [
    "show(DS.delaunay_decomposition().plot())\n",
    "show((A*DS).delaunay_decomposition().plot())"
   ]
  },
  {
   "cell_type": "code",
   "execution_count": 20,
   "id": "9e69a137",
   "metadata": {},
   "outputs": [],
   "source": [
    "show(DS.canonicalize().plot())\n",
    "show((A*DS).canonicalize().plot())"
   ]
  },
  {
   "cell_type": "code",
   "execution_count": 51,
   "id": "b366d360",
   "metadata": {
    "scrolled": false
   },
   "outputs": [
    {
     "data": {
      "text/html": [
       "<html>\\(\\displaystyle \\left(\\begin{array}{rr}\n",
       "23 & 63 \\\\\n",
       "-7 & -19\n",
       "\\end{array}\\right)\\)</html>"
      ],
      "text/latex": [
       "$\\displaystyle \\left(\\begin{array}{rr}\n",
       "23 & 63 \\\\\n",
       "-7 & -19\n",
       "\\end{array}\\right)$"
      ],
      "text/plain": [
       "[ 23  63]\n",
       "[ -7 -19]"
      ]
     },
     "metadata": {},
     "output_type": "display_data"
    },
    {
     "name": "stdout",
     "output_type": "stream",
     "text": [
      "True\n"
     ]
    }
   ],
   "source": [
    "z = -16\n",
    "y = 2/5\n",
    "# A = matrix([[1+z, -1*z/y],\n",
    "#             [z*y, 1-z]])\n",
    "A = matrix([[23,63],[-7,-19]])\n",
    "\n",
    "show(A)\n",
    "\n",
    "print(DS.canonicalize() == (A*DS).canonicalize())"
   ]
  }
 ],
 "metadata": {
  "kernelspec": {
   "display_name": "SageMath 9.6",
   "language": "sage",
   "name": "sagemath-9.6"
  },
  "language_info": {
   "codemirror_mode": {
    "name": "ipython",
    "version": 3
   },
   "file_extension": ".py",
   "mimetype": "text/x-python",
   "name": "python",
   "nbconvert_exporter": "python",
   "pygments_lexer": "ipython3",
   "version": "3.10.3"
  }
 },
 "nbformat": 4,
 "nbformat_minor": 5
}
