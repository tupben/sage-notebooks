{
 "cells": [
  {
   "cell_type": "code",
   "execution_count": null,
   "id": "5e6552ea",
   "metadata": {},
   "outputs": [],
   "source": [
    "# # # # # # # # # # # # # # # # # # # # # # # # # # # # # # # # # #\n",
    "# # # # # # #                                         # # # # # # #\n",
    "# # # # # # #             Dimple Surface              # # # # # # # \n",
    "# # # # # # #                                         # # # # # # #\n",
    "# # # # # # # # # # # # # # # # # # # # # # # # # # # # # # # # # #"
   ]
  },
  {
   "cell_type": "code",
   "execution_count": 2,
   "id": "d32c1b8d",
   "metadata": {},
   "outputs": [],
   "source": [
    "from veech import *"
   ]
  },
  {
   "cell_type": "code",
   "execution_count": 75,
   "id": "c22f84e3",
   "metadata": {
    "scrolled": false
   },
   "outputs": [
    {
     "data": {
      "image/png": "[encoded data removed]",
      "text/plain": [
       "Graphics object consisting of 31 graphics primitives"
      ]
     },
     "execution_count": 75,
     "metadata": {},
     "output_type": "execute_result"
    }
   ],
   "source": [
    "def dimple(x,y):\n",
    "\n",
    "    def rectangle(a,b):\n",
    "        return polygons(vertices = [(0,0),(a,0),(a,b),(0,b)])\n",
    "\n",
    "    P1 = rectangle(x,y)\n",
    "    Q1 = rectangle(1,y)\n",
    "    R1 = rectangle(1,1)\n",
    "    S1 = rectangle(y,1)\n",
    "    \n",
    "    s = Surface_list(QQ)\n",
    "\n",
    "    s.add_polygon(P1)\n",
    "    s.add_polygon(Q1)\n",
    "    s.add_polygon(R1)\n",
    "    s.add_polygon(S1)\n",
    "\n",
    "    S = SimilaritySurface(s)\n",
    "\n",
    "    s.set_edge_pairing(0,0,3,2)\n",
    "    s.set_edge_pairing(0,1,1,3)\n",
    "    s.set_edge_pairing(0,2,3,0)\n",
    "    s.set_edge_pairing(0,3,1,1)\n",
    "    s.set_edge_pairing(1,0,2,2)\n",
    "    s.set_edge_pairing(1,2,2,0)\n",
    "    s.set_edge_pairing(2,1,3,3)\n",
    "    s.set_edge_pairing(2,3,3,1)\n",
    "\n",
    "    gs = S.graphical_surface()\n",
    "\n",
    "    gs.make_adjacent(1,2)\n",
    "    gs.make_adjacent(2,1)      \n",
    "    \n",
    "    DS = S.minimal_cover(cover_type='dilation').copy(relabel=True)\n",
    "    \n",
    "    return DS, S, gs, s\n",
    "\n",
    "DS, S, gs, s = dimple(1/2,2)\n",
    "gs.plot()"
   ]
  },
  {
   "cell_type": "code",
   "execution_count": 317,
   "id": "ccae7ee7",
   "metadata": {},
   "outputs": [],
   "source": [
    "# We first imagined the Dimple surface as a (1 by 1) square torus surface\n",
    "# with an (x by x) square cut out, and replaced by a (1 by y) rectangle.\n",
    "# \n",
    "# Then, we chose a presentation with the cut-out in the lower-left corner.\n",
    "# The simplest presentation might be the following reparameterization:\n",
    "# \n",
    "# Normalize Box 2 to be a unit square, and let x and y vary as the height and width of Box 0, respectively.\n",
    "#\n",
    "# The horizontal left-right sheers are generated by    [[1,z],    where  z = lcm( (x + 1)/y, y + 1).\n",
    "#                                                       [0,1]]                   \n",
    "# \n",
    "# The vertical up-down sheers are generated by         [[1, 0],   where z' = lcm(1/(y+1), xy/(y^2 + x)).\n",
    "#                                                       [z',1]]\n",
    "#                                                               \n",
    "# This is because the surface decomposes into horizontal cylinders of moduli (x + 1)/y and y + 1,\n",
    "# and it decomposes into vertical cylinders of moduli 1/(y+1) and xy/(y^2 + x).\n",
    "# \n",
    "# These formulas match the results found,\n",
    "# namely, the entries 6, 4, and 10 matrices for dimple(2,1), dimple(3,1), dimple(2,1).\n",
    "# \n",
    "# Using FlatSurf, we are searching for Veech elements under certain simple parameters.\n",
    "# Under the number of iterations we've tried so far, Flatsurf doesn't terminate,\n",
    "# it just keeps finding more and more veech elements."
   ]
  },
  {
   "cell_type": "code",
   "execution_count": 318,
   "id": "68f0df48",
   "metadata": {
    "scrolled": true
   },
   "outputs": [],
   "source": [
    "# DS, S, gs, s = dimple(2,1)\n",
    "# IDC1 = IDC(DS, 200, veech = 1, show_current_sym = 0)\n",
    "# show(IDC1.plot(model = 'UHP', figsize = 5)) #UHP or KM\n",
    "# gs.plot()\n",
    "# veech_matrices = list(IDC1.generators(normalize_det=1))\n",
    "# show(veech_matrices)"
   ]
  },
  {
   "cell_type": "code",
   "execution_count": 19,
   "id": "dab7f6ee",
   "metadata": {},
   "outputs": [],
   "source": [
    "all_veech_matrices = {}"
   ]
  },
  {
   "cell_type": "code",
   "execution_count": 173,
   "id": "bc241834",
   "metadata": {},
   "outputs": [],
   "source": [
    "def display_info(parameters, i = 0):\n",
    "#     print('plain matrices:')\n",
    "#     print(all_veech_matrices[parameters][0][0])\n",
    "    \n",
    "    print('parameters = ' + parameters)\n",
    "\n",
    "    print('\\nveech_matrices:')\n",
    "    show(all_veech_matrices[parameters][0])\n",
    "\n",
    "    print('\\neigenvectors:')\n",
    "    count = 0\n",
    "    for m in all_veech_matrices[parameters][0]:\n",
    "        string_to_print = str(count) + ' '*(count<10) + ' : ' + str(m.eigenvectors_right()[0][1][0])\n",
    "        if int(str(len(m.eigenvectors_right()[0][1]))) > 1:\n",
    "            string_to_print += ' , ' + str(m.eigenvectors_right()[0][1][1])\n",
    "        print(string_to_print)\n",
    "#         print(m.eigenvectors_right()[0][1])\n",
    "        count += 1\n",
    "\n",
    "    print('\\nsample matrix:')\n",
    "    print(all_veech_matrices[parameters][0][i])\n",
    "\n",
    "    print('\\nsample eigenvector:')\n",
    "    eigen = list(all_veech_matrices[parameters][0][i].eigenvectors_right()[0][1][0])\n",
    "    print(eigen)\n",
    "\n",
    "    v = all_veech_matrices[parameters][1].tangent_vector(0, (1/51,1/51), eigen)\n",
    "    traj = v.straight_line_trajectory()\n",
    "    traj.flow(1000)\n",
    "#     print('\\nclosed: ' + str(traj.is_closed()))\n",
    "#     print('saddle: ' + str(traj.is_saddle_connection()))\n",
    "    show(all_veech_matrices[parameters][1].plot() + traj.cylinder().plot(alpha=.4, color = 'red') + traj.plot(color='red', thickness = 2))\n",
    "    "
   ]
  },
  {
   "cell_type": "code",
   "execution_count": 23,
   "id": "65f9f01b",
   "metadata": {},
   "outputs": [
    {
     "name": "stdout",
     "output_type": "stream",
     "text": [
      "\n",
      "IDR 4/300 --> 0.62 seconds\n",
      "Veech terminated\n"
     ]
    }
   ],
   "source": [
    "DS, S, gs, s = dimple(1,1)\n",
    "IDC1 = IDC(DS, 300, veech = 1, show_current_sym = 0)\n",
    "all_veech_matrices['1,1'] = [list(IDC1.generators(normalize_det=1)),S]"
   ]
  },
  {
   "cell_type": "code",
   "execution_count": 168,
   "id": "f15d93c9",
   "metadata": {},
   "outputs": [
    {
     "name": "stdout",
     "output_type": "stream",
     "text": [
      "plain matrices:\n",
      "[ 0 -1]\n",
      "[ 1  2]\n",
      "parameters = 1,1\n",
      "\n",
      "veech_matrices:\n"
     ]
    },
    {
     "data": {
      "text/html": [
       "<html>\\(\\displaystyle \\left[\\left(\\begin{array}{rr}\n",
       "0 & -1 \\\\\n",
       "1 & 2\n",
       "\\end{array}\\right), \\left(\\begin{array}{rr}\n",
       "0 & 1 \\\\\n",
       "-1 & 0\n",
       "\\end{array}\\right), \\left(\\begin{array}{rr}\n",
       "-1 & 0 \\\\\n",
       "0 & -1\n",
       "\\end{array}\\right), \\left(\\begin{array}{rr}\n",
       "-1 & 0 \\\\\n",
       "-1 & -1\n",
       "\\end{array}\\right)\\right]\\)</html>"
      ],
      "text/latex": [
       "$\\displaystyle \\left[\\left(\\begin{array}{rr}\n",
       "0 & -1 \\\\\n",
       "1 & 2\n",
       "\\end{array}\\right), \\left(\\begin{array}{rr}\n",
       "0 & 1 \\\\\n",
       "-1 & 0\n",
       "\\end{array}\\right), \\left(\\begin{array}{rr}\n",
       "-1 & 0 \\\\\n",
       "0 & -1\n",
       "\\end{array}\\right), \\left(\\begin{array}{rr}\n",
       "-1 & 0 \\\\\n",
       "-1 & -1\n",
       "\\end{array}\\right)\\right]$"
      ],
      "text/plain": [
       "[\n",
       "[ 0 -1]  [ 0  1]  [-1  0]  [-1  0]\n",
       "[ 1  2], [-1  0], [ 0 -1], [-1 -1]\n",
       "]"
      ]
     },
     "metadata": {},
     "output_type": "display_data"
    },
    {
     "name": "stdout",
     "output_type": "stream",
     "text": [
      "\n",
      "eigenvectors:\n",
      "0  : (1, -1)\n",
      "1  : (1, -1*I)\n",
      "2  : (1, 0) , (0, 1)\n",
      "3  : (0, 1)\n",
      "\n",
      "sample matrix:\n",
      "[-1  0]\n",
      "[ 0 -1]\n",
      "\n",
      "sample eigenvector:\n",
      "[1, 0]\n"
     ]
    },
    {
     "data": {
      "image/png": "[encoded data removed]",
      "text/plain": [
       "Graphics object consisting of 35 graphics primitives"
      ]
     },
     "metadata": {},
     "output_type": "display_data"
    }
   ],
   "source": [
    "display_info('1,1',2)"
   ]
  },
  {
   "cell_type": "code",
   "execution_count": 81,
   "id": "9acd38ac",
   "metadata": {},
   "outputs": [
    {
     "name": "stdout",
     "output_type": "stream",
     "text": [
      "\n",
      "IDR 20/2000\r"
     ]
    },
    {
     "name": "stderr",
     "output_type": "stream",
     "text": [
      "/private/var/tmp/sage-9.6-current/local/var/lib/sage/venv-python3.10.3/lib/python3.10/site-packages/sage/rings/qqbar.py:2865: DeprecationWarning: non-integer arguments to randrange() have been deprecated since Python 3.10 and will be removed in a subsequent version\n",
      "  roots = p.roots(ring, False)\n"
     ]
    },
    {
     "name": "stdout",
     "output_type": "stream",
     "text": [
      "IDR 560/2000\r"
     ]
    },
    {
     "name": "stderr",
     "output_type": "stream",
     "text": [
      "/private/var/tmp/sage-9.6-current/local/var/lib/sage/venv-python3.10.3/lib/python3.10/site-packages/zmq/sugar/attrsettr.py:51: RuntimeWarning: cypari2 leaked 11809943008 bytes on the PARI stack\n",
      "  return self._get_attr_opt(upper_key, opt)\n"
     ]
    },
    {
     "name": "stdout",
     "output_type": "stream",
     "text": [
      "ERROR: inconsistent avma when removing Gen from PARI stack\n",
      "Expected: 0x2bfe56950\n",
      "Actual:   0x2bfed94c8\n",
      "IDR 2000/2000 --> 326.94 seconds\n",
      "Plot IDR 1877/1877 --> 4.02 seconds\r"
     ]
    },
    {
     "data": {
      "image/png": "[encoded data removed]",
      "text/plain": [
       "Graphics object consisting of 15870 graphics primitives"
      ]
     },
     "metadata": {},
     "output_type": "display_data"
    },
    {
     "data": {
      "text/html": [
       "<html>\\(\\displaystyle \\left[\\left(\\begin{array}{rr}\n",
       "161 & 144 \\\\\n",
       "180 & 161\n",
       "\\end{array}\\right), \\left(\\begin{array}{rr}\n",
       "119 & 180 \\\\\n",
       "-80 & -121\n",
       "\\end{array}\\right), \\left(\\begin{array}{rr}\n",
       "121 & 180 \\\\\n",
       "-80 & -119\n",
       "\\end{array}\\right), \\left(\\begin{array}{rr}\n",
       "65 & -53 \\\\\n",
       "-38 & 31\n",
       "\\end{array}\\right), \\left(\\begin{array}{rr}\n",
       "121 & -180 \\\\\n",
       "80 & -119\n",
       "\\end{array}\\right), \\left(\\begin{array}{rr}\n",
       "47 & -77 \\\\\n",
       "-\\frac{119}{2} & \\frac{195}{2}\n",
       "\\end{array}\\right), \\left(\\begin{array}{rr}\n",
       "\\frac{23}{2} & \\frac{63}{2} \\\\\n",
       "-\\frac{7}{2} & -\\frac{19}{2}\n",
       "\\end{array}\\right), \\left(\\begin{array}{rr}\n",
       "\\frac{473}{2} & -107 \\\\\n",
       "-\\frac{305}{2} & 69\n",
       "\\end{array}\\right), \\left(\\begin{array}{rr}\n",
       "-15 & -32 \\\\\n",
       "8 & 17\n",
       "\\end{array}\\right), \\left(\\begin{array}{rr}\n",
       "21 & 11 \\\\\n",
       "-44 & -23\n",
       "\\end{array}\\right), \\left(\\begin{array}{rr}\n",
       "23 & 11 \\\\\n",
       "-44 & -21\n",
       "\\end{array}\\right), \\left(\\begin{array}{rr}\n",
       "-\\frac{797}{4} & -\\frac{1157}{4} \\\\\n",
       "-\\frac{549}{4} & -\\frac{797}{4}\n",
       "\\end{array}\\right), \\left(\\begin{array}{rr}\n",
       "29 & 20 \\\\\n",
       "-45 & -31\n",
       "\\end{array}\\right), \\left(\\begin{array}{rr}\n",
       "23 & -11 \\\\\n",
       "44 & -21\n",
       "\\end{array}\\right), \\left(\\begin{array}{rr}\n",
       "-\\frac{23}{2} & -\\frac{63}{2} \\\\\n",
       "\\frac{7}{2} & \\frac{19}{2}\n",
       "\\end{array}\\right), \\left(\\begin{array}{rr}\n",
       "-\\frac{19}{2} & -\\frac{63}{2} \\\\\n",
       "\\frac{7}{2} & \\frac{23}{2}\n",
       "\\end{array}\\right), \\left(\\begin{array}{rr}\n",
       "-14 & -5 \\\\\n",
       "-39 & -14\n",
       "\\end{array}\\right), \\left(\\begin{array}{rr}\n",
       "-161 & 144 \\\\\n",
       "180 & -161\n",
       "\\end{array}\\right), \\left(\\begin{array}{rr}\n",
       "65 & 53 \\\\\n",
       "38 & 31\n",
       "\\end{array}\\right), \\left(\\begin{array}{rr}\n",
       "\\frac{797}{4} & -\\frac{1157}{4} \\\\\n",
       "-\\frac{549}{4} & \\frac{797}{4}\n",
       "\\end{array}\\right), \\left(\\begin{array}{rr}\n",
       "47 & 77 \\\\\n",
       "\\frac{119}{2} & \\frac{195}{2}\n",
       "\\end{array}\\right), \\left(\\begin{array}{rr}\n",
       "\\frac{473}{2} & 107 \\\\\n",
       "\\frac{305}{2} & 69\n",
       "\\end{array}\\right), \\left(\\begin{array}{rr}\n",
       "-31 & -20 \\\\\n",
       "45 & 29\n",
       "\\end{array}\\right), \\left(\\begin{array}{rr}\n",
       "-1 & 6 \\\\\n",
       "0 & -1\n",
       "\\end{array}\\right), \\left(\\begin{array}{rr}\n",
       "\\frac{479}{2} & -\\frac{689}{2} \\\\\n",
       "-\\frac{333}{2} & \\frac{479}{2}\n",
       "\\end{array}\\right), \\left(\\begin{array}{rr}\n",
       "-15 & -58 \\\\\n",
       "-8 & -31\n",
       "\\end{array}\\right), \\left(\\begin{array}{rr}\n",
       "1 & 0 \\\\\n",
       "6 & 1\n",
       "\\end{array}\\right), \\left(\\begin{array}{rr}\n",
       "-23 & -11 \\\\\n",
       "44 & 21\n",
       "\\end{array}\\right), \\left(\\begin{array}{rr}\n",
       "-47 & 77 \\\\\n",
       "\\frac{119}{2} & -\\frac{195}{2}\n",
       "\\end{array}\\right), \\left(\\begin{array}{rr}\n",
       "-121 & 180 \\\\\n",
       "-80 & 119\n",
       "\\end{array}\\right), \\left(\\begin{array}{rr}\n",
       "-31 & 20 \\\\\n",
       "-45 & 29\n",
       "\\end{array}\\right), \\left(\\begin{array}{rr}\n",
       "-1 & 0 \\\\\n",
       "0 & -1\n",
       "\\end{array}\\right)\\right]\\)</html>"
      ],
      "text/latex": [
       "$\\displaystyle \\left[\\left(\\begin{array}{rr}\n",
       "161 & 144 \\\\\n",
       "180 & 161\n",
       "\\end{array}\\right), \\left(\\begin{array}{rr}\n",
       "119 & 180 \\\\\n",
       "-80 & -121\n",
       "\\end{array}\\right), \\left(\\begin{array}{rr}\n",
       "121 & 180 \\\\\n",
       "-80 & -119\n",
       "\\end{array}\\right), \\left(\\begin{array}{rr}\n",
       "65 & -53 \\\\\n",
       "-38 & 31\n",
       "\\end{array}\\right), \\left(\\begin{array}{rr}\n",
       "121 & -180 \\\\\n",
       "80 & -119\n",
       "\\end{array}\\right), \\left(\\begin{array}{rr}\n",
       "47 & -77 \\\\\n",
       "-\\frac{119}{2} & \\frac{195}{2}\n",
       "\\end{array}\\right), \\left(\\begin{array}{rr}\n",
       "\\frac{23}{2} & \\frac{63}{2} \\\\\n",
       "-\\frac{7}{2} & -\\frac{19}{2}\n",
       "\\end{array}\\right), \\left(\\begin{array}{rr}\n",
       "\\frac{473}{2} & -107 \\\\\n",
       "-\\frac{305}{2} & 69\n",
       "\\end{array}\\right), \\left(\\begin{array}{rr}\n",
       "-15 & -32 \\\\\n",
       "8 & 17\n",
       "\\end{array}\\right), \\left(\\begin{array}{rr}\n",
       "21 & 11 \\\\\n",
       "-44 & -23\n",
       "\\end{array}\\right), \\left(\\begin{array}{rr}\n",
       "23 & 11 \\\\\n",
       "-44 & -21\n",
       "\\end{array}\\right), \\left(\\begin{array}{rr}\n",
       "-\\frac{797}{4} & -\\frac{1157}{4} \\\\\n",
       "-\\frac{549}{4} & -\\frac{797}{4}\n",
       "\\end{array}\\right), \\left(\\begin{array}{rr}\n",
       "29 & 20 \\\\\n",
       "-45 & -31\n",
       "\\end{array}\\right), \\left(\\begin{array}{rr}\n",
       "23 & -11 \\\\\n",
       "44 & -21\n",
       "\\end{array}\\right), \\left(\\begin{array}{rr}\n",
       "-\\frac{23}{2} & -\\frac{63}{2} \\\\\n",
       "\\frac{7}{2} & \\frac{19}{2}\n",
       "\\end{array}\\right), \\left(\\begin{array}{rr}\n",
       "-\\frac{19}{2} & -\\frac{63}{2} \\\\\n",
       "\\frac{7}{2} & \\frac{23}{2}\n",
       "\\end{array}\\right), \\left(\\begin{array}{rr}\n",
       "-14 & -5 \\\\\n",
       "-39 & -14\n",
       "\\end{array}\\right), \\left(\\begin{array}{rr}\n",
       "-161 & 144 \\\\\n",
       "180 & -161\n",
       "\\end{array}\\right), \\left(\\begin{array}{rr}\n",
       "65 & 53 \\\\\n",
       "38 & 31\n",
       "\\end{array}\\right), \\left(\\begin{array}{rr}\n",
       "\\frac{797}{4} & -\\frac{1157}{4} \\\\\n",
       "-\\frac{549}{4} & \\frac{797}{4}\n",
       "\\end{array}\\right), \\left(\\begin{array}{rr}\n",
       "47 & 77 \\\\\n",
       "\\frac{119}{2} & \\frac{195}{2}\n",
       "\\end{array}\\right), \\left(\\begin{array}{rr}\n",
       "\\frac{473}{2} & 107 \\\\\n",
       "\\frac{305}{2} & 69\n",
       "\\end{array}\\right), \\left(\\begin{array}{rr}\n",
       "-31 & -20 \\\\\n",
       "45 & 29\n",
       "\\end{array}\\right), \\left(\\begin{array}{rr}\n",
       "-1 & 6 \\\\\n",
       "0 & -1\n",
       "\\end{array}\\right), \\left(\\begin{array}{rr}\n",
       "\\frac{479}{2} & -\\frac{689}{2} \\\\\n",
       "-\\frac{333}{2} & \\frac{479}{2}\n",
       "\\end{array}\\right), \\left(\\begin{array}{rr}\n",
       "-15 & -58 \\\\\n",
       "-8 & -31\n",
       "\\end{array}\\right), \\left(\\begin{array}{rr}\n",
       "1 & 0 \\\\\n",
       "6 & 1\n",
       "\\end{array}\\right), \\left(\\begin{array}{rr}\n",
       "-23 & -11 \\\\\n",
       "44 & 21\n",
       "\\end{array}\\right), \\left(\\begin{array}{rr}\n",
       "-47 & 77 \\\\\n",
       "\\frac{119}{2} & -\\frac{195}{2}\n",
       "\\end{array}\\right), \\left(\\begin{array}{rr}\n",
       "-121 & 180 \\\\\n",
       "-80 & 119\n",
       "\\end{array}\\right), \\left(\\begin{array}{rr}\n",
       "-31 & 20 \\\\\n",
       "-45 & 29\n",
       "\\end{array}\\right), \\left(\\begin{array}{rr}\n",
       "-1 & 0 \\\\\n",
       "0 & -1\n",
       "\\end{array}\\right)\\right]$"
      ],
      "text/plain": [
       "[\n",
       "[161 144]  [ 119  180]  [ 121  180]  [ 65 -53]  [ 121 -180]\n",
       "[180 161], [ -80 -121], [ -80 -119], [-38  31], [  80 -119],\n",
       "\n",
       "[    47    -77]  [ 23/2  63/2]  [ 473/2   -107]  [-15 -32]  [ 21  11]\n",
       "[-119/2  195/2], [ -7/2 -19/2], [-305/2     69], [  8  17], [-44 -23],\n",
       "\n",
       "[ 23  11]  [ -797/4 -1157/4]  [ 29  20]  [ 23 -11]  [-23/2 -63/2]\n",
       "[-44 -21], [ -549/4  -797/4], [-45 -31], [ 44 -21], [  7/2  19/2],\n",
       "\n",
       "[-19/2 -63/2]  [-14  -5]  [-161  144]  [65 53]  [  797/4 -1157/4]\n",
       "[  7/2  23/2], [-39 -14], [ 180 -161], [38 31], [ -549/4   797/4],\n",
       "\n",
       "[   47    77]  [473/2   107]  [-31 -20]  [-1  6]  [ 479/2 -689/2]\n",
       "[119/2 195/2], [305/2    69], [ 45  29], [ 0 -1], [-333/2  479/2],\n",
       "\n",
       "[-15 -58]  [1 0]  [-23 -11]  [   -47     77]  [-121  180]  [-31  20]\n",
       "[ -8 -31], [6 1], [ 44  21], [ 119/2 -195/2], [ -80  119], [-45  29],\n",
       "\n",
       "[-1  0]\n",
       "[ 0 -1]\n",
       "]"
      ]
     },
     "metadata": {},
     "output_type": "display_data"
    }
   ],
   "source": [
    "DS, S, gs, s = dimple(2,1)\n",
    "IDC1 = IDC(DS, 2000, veech = 1, show_current_sym = 0)\n",
    "all_veech_matrices['2,1'] = [list(IDC1.generators(normalize_det=1)),S]\n",
    "show(IDC1.plot(model = 'UHP', figsize = 10)) #UHP or KM\n",
    "show(list(IDC1.generators(normalize_det=1)))"
   ]
  },
  {
   "cell_type": "code",
   "execution_count": 209,
   "id": "7bb5d45e",
   "metadata": {
    "scrolled": false
   },
   "outputs": [
    {
     "name": "stdout",
     "output_type": "stream",
     "text": [
      "parameters = 2,1\n",
      "\n",
      "veech_matrices:\n"
     ]
    },
    {
     "data": {
      "text/html": [
       "<html>\\(\\displaystyle \\left[\\left(\\begin{array}{rr}\n",
       "161 & 144 \\\\\n",
       "180 & 161\n",
       "\\end{array}\\right), \\left(\\begin{array}{rr}\n",
       "119 & 180 \\\\\n",
       "-80 & -121\n",
       "\\end{array}\\right), \\left(\\begin{array}{rr}\n",
       "121 & 180 \\\\\n",
       "-80 & -119\n",
       "\\end{array}\\right), \\left(\\begin{array}{rr}\n",
       "65 & -53 \\\\\n",
       "-38 & 31\n",
       "\\end{array}\\right), \\left(\\begin{array}{rr}\n",
       "121 & -180 \\\\\n",
       "80 & -119\n",
       "\\end{array}\\right), \\left(\\begin{array}{rr}\n",
       "47 & -77 \\\\\n",
       "-\\frac{119}{2} & \\frac{195}{2}\n",
       "\\end{array}\\right), \\left(\\begin{array}{rr}\n",
       "\\frac{23}{2} & \\frac{63}{2} \\\\\n",
       "-\\frac{7}{2} & -\\frac{19}{2}\n",
       "\\end{array}\\right), \\left(\\begin{array}{rr}\n",
       "\\frac{473}{2} & -107 \\\\\n",
       "-\\frac{305}{2} & 69\n",
       "\\end{array}\\right), \\left(\\begin{array}{rr}\n",
       "-15 & -32 \\\\\n",
       "8 & 17\n",
       "\\end{array}\\right), \\left(\\begin{array}{rr}\n",
       "21 & 11 \\\\\n",
       "-44 & -23\n",
       "\\end{array}\\right), \\left(\\begin{array}{rr}\n",
       "23 & 11 \\\\\n",
       "-44 & -21\n",
       "\\end{array}\\right), \\left(\\begin{array}{rr}\n",
       "-\\frac{797}{4} & -\\frac{1157}{4} \\\\\n",
       "-\\frac{549}{4} & -\\frac{797}{4}\n",
       "\\end{array}\\right), \\left(\\begin{array}{rr}\n",
       "29 & 20 \\\\\n",
       "-45 & -31\n",
       "\\end{array}\\right), \\left(\\begin{array}{rr}\n",
       "23 & -11 \\\\\n",
       "44 & -21\n",
       "\\end{array}\\right), \\left(\\begin{array}{rr}\n",
       "-\\frac{23}{2} & -\\frac{63}{2} \\\\\n",
       "\\frac{7}{2} & \\frac{19}{2}\n",
       "\\end{array}\\right), \\left(\\begin{array}{rr}\n",
       "-\\frac{19}{2} & -\\frac{63}{2} \\\\\n",
       "\\frac{7}{2} & \\frac{23}{2}\n",
       "\\end{array}\\right), \\left(\\begin{array}{rr}\n",
       "-14 & -5 \\\\\n",
       "-39 & -14\n",
       "\\end{array}\\right), \\left(\\begin{array}{rr}\n",
       "-161 & 144 \\\\\n",
       "180 & -161\n",
       "\\end{array}\\right), \\left(\\begin{array}{rr}\n",
       "65 & 53 \\\\\n",
       "38 & 31\n",
       "\\end{array}\\right), \\left(\\begin{array}{rr}\n",
       "\\frac{797}{4} & -\\frac{1157}{4} \\\\\n",
       "-\\frac{549}{4} & \\frac{797}{4}\n",
       "\\end{array}\\right), \\left(\\begin{array}{rr}\n",
       "47 & 77 \\\\\n",
       "\\frac{119}{2} & \\frac{195}{2}\n",
       "\\end{array}\\right), \\left(\\begin{array}{rr}\n",
       "\\frac{473}{2} & 107 \\\\\n",
       "\\frac{305}{2} & 69\n",
       "\\end{array}\\right), \\left(\\begin{array}{rr}\n",
       "-31 & -20 \\\\\n",
       "45 & 29\n",
       "\\end{array}\\right), \\left(\\begin{array}{rr}\n",
       "-1 & 6 \\\\\n",
       "0 & -1\n",
       "\\end{array}\\right), \\left(\\begin{array}{rr}\n",
       "\\frac{479}{2} & -\\frac{689}{2} \\\\\n",
       "-\\frac{333}{2} & \\frac{479}{2}\n",
       "\\end{array}\\right), \\left(\\begin{array}{rr}\n",
       "-15 & -58 \\\\\n",
       "-8 & -31\n",
       "\\end{array}\\right), \\left(\\begin{array}{rr}\n",
       "1 & 0 \\\\\n",
       "6 & 1\n",
       "\\end{array}\\right), \\left(\\begin{array}{rr}\n",
       "-23 & -11 \\\\\n",
       "44 & 21\n",
       "\\end{array}\\right), \\left(\\begin{array}{rr}\n",
       "-47 & 77 \\\\\n",
       "\\frac{119}{2} & -\\frac{195}{2}\n",
       "\\end{array}\\right), \\left(\\begin{array}{rr}\n",
       "-121 & 180 \\\\\n",
       "-80 & 119\n",
       "\\end{array}\\right), \\left(\\begin{array}{rr}\n",
       "-31 & 20 \\\\\n",
       "-45 & 29\n",
       "\\end{array}\\right), \\left(\\begin{array}{rr}\n",
       "-1 & 0 \\\\\n",
       "0 & -1\n",
       "\\end{array}\\right)\\right]\\)</html>"
      ],
      "text/latex": [
       "$\\displaystyle \\left[\\left(\\begin{array}{rr}\n",
       "161 & 144 \\\\\n",
       "180 & 161\n",
       "\\end{array}\\right), \\left(\\begin{array}{rr}\n",
       "119 & 180 \\\\\n",
       "-80 & -121\n",
       "\\end{array}\\right), \\left(\\begin{array}{rr}\n",
       "121 & 180 \\\\\n",
       "-80 & -119\n",
       "\\end{array}\\right), \\left(\\begin{array}{rr}\n",
       "65 & -53 \\\\\n",
       "-38 & 31\n",
       "\\end{array}\\right), \\left(\\begin{array}{rr}\n",
       "121 & -180 \\\\\n",
       "80 & -119\n",
       "\\end{array}\\right), \\left(\\begin{array}{rr}\n",
       "47 & -77 \\\\\n",
       "-\\frac{119}{2} & \\frac{195}{2}\n",
       "\\end{array}\\right), \\left(\\begin{array}{rr}\n",
       "\\frac{23}{2} & \\frac{63}{2} \\\\\n",
       "-\\frac{7}{2} & -\\frac{19}{2}\n",
       "\\end{array}\\right), \\left(\\begin{array}{rr}\n",
       "\\frac{473}{2} & -107 \\\\\n",
       "-\\frac{305}{2} & 69\n",
       "\\end{array}\\right), \\left(\\begin{array}{rr}\n",
       "-15 & -32 \\\\\n",
       "8 & 17\n",
       "\\end{array}\\right), \\left(\\begin{array}{rr}\n",
       "21 & 11 \\\\\n",
       "-44 & -23\n",
       "\\end{array}\\right), \\left(\\begin{array}{rr}\n",
       "23 & 11 \\\\\n",
       "-44 & -21\n",
       "\\end{array}\\right), \\left(\\begin{array}{rr}\n",
       "-\\frac{797}{4} & -\\frac{1157}{4} \\\\\n",
       "-\\frac{549}{4} & -\\frac{797}{4}\n",
       "\\end{array}\\right), \\left(\\begin{array}{rr}\n",
       "29 & 20 \\\\\n",
       "-45 & -31\n",
       "\\end{array}\\right), \\left(\\begin{array}{rr}\n",
       "23 & -11 \\\\\n",
       "44 & -21\n",
       "\\end{array}\\right), \\left(\\begin{array}{rr}\n",
       "-\\frac{23}{2} & -\\frac{63}{2} \\\\\n",
       "\\frac{7}{2} & \\frac{19}{2}\n",
       "\\end{array}\\right), \\left(\\begin{array}{rr}\n",
       "-\\frac{19}{2} & -\\frac{63}{2} \\\\\n",
       "\\frac{7}{2} & \\frac{23}{2}\n",
       "\\end{array}\\right), \\left(\\begin{array}{rr}\n",
       "-14 & -5 \\\\\n",
       "-39 & -14\n",
       "\\end{array}\\right), \\left(\\begin{array}{rr}\n",
       "-161 & 144 \\\\\n",
       "180 & -161\n",
       "\\end{array}\\right), \\left(\\begin{array}{rr}\n",
       "65 & 53 \\\\\n",
       "38 & 31\n",
       "\\end{array}\\right), \\left(\\begin{array}{rr}\n",
       "\\frac{797}{4} & -\\frac{1157}{4} \\\\\n",
       "-\\frac{549}{4} & \\frac{797}{4}\n",
       "\\end{array}\\right), \\left(\\begin{array}{rr}\n",
       "47 & 77 \\\\\n",
       "\\frac{119}{2} & \\frac{195}{2}\n",
       "\\end{array}\\right), \\left(\\begin{array}{rr}\n",
       "\\frac{473}{2} & 107 \\\\\n",
       "\\frac{305}{2} & 69\n",
       "\\end{array}\\right), \\left(\\begin{array}{rr}\n",
       "-31 & -20 \\\\\n",
       "45 & 29\n",
       "\\end{array}\\right), \\left(\\begin{array}{rr}\n",
       "-1 & 6 \\\\\n",
       "0 & -1\n",
       "\\end{array}\\right), \\left(\\begin{array}{rr}\n",
       "\\frac{479}{2} & -\\frac{689}{2} \\\\\n",
       "-\\frac{333}{2} & \\frac{479}{2}\n",
       "\\end{array}\\right), \\left(\\begin{array}{rr}\n",
       "-15 & -58 \\\\\n",
       "-8 & -31\n",
       "\\end{array}\\right), \\left(\\begin{array}{rr}\n",
       "1 & 0 \\\\\n",
       "6 & 1\n",
       "\\end{array}\\right), \\left(\\begin{array}{rr}\n",
       "-23 & -11 \\\\\n",
       "44 & 21\n",
       "\\end{array}\\right), \\left(\\begin{array}{rr}\n",
       "-47 & 77 \\\\\n",
       "\\frac{119}{2} & -\\frac{195}{2}\n",
       "\\end{array}\\right), \\left(\\begin{array}{rr}\n",
       "-121 & 180 \\\\\n",
       "-80 & 119\n",
       "\\end{array}\\right), \\left(\\begin{array}{rr}\n",
       "-31 & 20 \\\\\n",
       "-45 & 29\n",
       "\\end{array}\\right), \\left(\\begin{array}{rr}\n",
       "-1 & 0 \\\\\n",
       "0 & -1\n",
       "\\end{array}\\right)\\right]$"
      ],
      "text/plain": [
       "[\n",
       "[161 144]  [ 119  180]  [ 121  180]  [ 65 -53]  [ 121 -180]\n",
       "[180 161], [ -80 -121], [ -80 -119], [-38  31], [  80 -119],\n",
       "\n",
       "[    47    -77]  [ 23/2  63/2]  [ 473/2   -107]  [-15 -32]  [ 21  11]\n",
       "[-119/2  195/2], [ -7/2 -19/2], [-305/2     69], [  8  17], [-44 -23],\n",
       "\n",
       "[ 23  11]  [ -797/4 -1157/4]  [ 29  20]  [ 23 -11]  [-23/2 -63/2]\n",
       "[-44 -21], [ -549/4  -797/4], [-45 -31], [ 44 -21], [  7/2  19/2],\n",
       "\n",
       "[-19/2 -63/2]  [-14  -5]  [-161  144]  [65 53]  [  797/4 -1157/4]\n",
       "[  7/2  23/2], [-39 -14], [ 180 -161], [38 31], [ -549/4   797/4],\n",
       "\n",
       "[   47    77]  [473/2   107]  [-31 -20]  [-1  6]  [ 479/2 -689/2]\n",
       "[119/2 195/2], [305/2    69], [ 45  29], [ 0 -1], [-333/2  479/2],\n",
       "\n",
       "[-15 -58]  [1 0]  [-23 -11]  [   -47     77]  [-121  180]  [-31  20]\n",
       "[ -8 -31], [6 1], [ 44  21], [ 119/2 -195/2], [ -80  119], [-45  29],\n",
       "\n",
       "[-1  0]\n",
       "[ 0 -1]\n",
       "]"
      ]
     },
     "metadata": {},
     "output_type": "display_data"
    },
    {
     "name": "stdout",
     "output_type": "stream",
     "text": [
      "\n",
      "eigenvectors:\n",
      "0  : (1, -1.118033988749895?)\n",
      "1  : (1, -2/3)\n",
      "2  : (1, -2/3)\n",
      "3  : (1, 1.226218532128440?)\n",
      "4  : (1, 2/3)\n",
      "5  : (1, 0.6102997305624648?)\n",
      "6  : (1, -1/3)\n",
      "7  : (1, 2.210249781705650?)\n",
      "8  : (1, -1/2)\n",
      "9  : (1, -2)\n",
      "10 : (1, -2)\n",
      "11 : (1, 0.6888417997369373?)\n",
      "12 : (1, -3/2)\n",
      "13 : (1, 2)\n",
      "14 : (1, -1/3)\n",
      "15 : (1, -1/3)\n",
      "16 : (1, 2.792848008753789?)\n",
      "17 : (1, -1.118033988749895?)\n",
      "18 : (1, -1.226218532128440?)\n",
      "19 : (1, 0.6888417997369373?)\n",
      "20 : (1, -0.6102997305624648?)\n",
      "21 : (1, -2.210249781705650?)\n",
      "22 : (1, -3/2)\n",
      "23 : (1, 0)\n",
      "24 : (1, 0.6952043898642342?)\n",
      "25 : (1, 0.5341077687267606?)\n",
      "26 : (0, 1)\n",
      "27 : (1, -2)\n",
      "28 : (1, -1.266143886406621?)\n",
      "29 : (1, 2/3)\n",
      "30 : (1, 3/2)\n",
      "31 : (1, 0) , (0, 1)\n",
      "\n",
      "sample matrix:\n",
      "[ 119  180]\n",
      "[ -80 -121]\n",
      "\n",
      "sample eigenvector:\n",
      "[1, -2/3]\n"
     ]
    },
    {
     "data": {
      "image/png": "[encoded data removed]",
      "text/plain": [
       "Graphics object consisting of 111 graphics primitives"
      ]
     },
     "metadata": {},
     "output_type": "display_data"
    }
   ],
   "source": [
    "display_info('2,1',1)"
   ]
  },
  {
   "cell_type": "code",
   "execution_count": 211,
   "id": "242c0e60",
   "metadata": {
    "scrolled": false
   },
   "outputs": [
    {
     "name": "stdout",
     "output_type": "stream",
     "text": [
      "\n",
      "IDR 32/2000\r"
     ]
    },
    {
     "name": "stderr",
     "output_type": "stream",
     "text": [
      "/private/var/tmp/sage-9.6-current/local/var/lib/sage/venv-python3.10.3/lib/python3.10/site-packages/sage/rings/qqbar.py:2865: DeprecationWarning: non-integer arguments to randrange() have been deprecated since Python 3.10 and will be removed in a subsequent version\n",
      "  roots = p.roots(ring, False)\n"
     ]
    },
    {
     "name": "stdout",
     "output_type": "stream",
     "text": [
      "IDR 2000/2000 --> 291.87 seconds\n"
     ]
    }
   ],
   "source": [
    "DS, S, gs, s = dimple(3,1)\n",
    "IDC1 = IDC(DS, 2000, veech = 1, show_current_sym = 0)\n",
    "all_veech_matrices['3,1'] = [list(IDC1.generators(normalize_det=1)),S]"
   ]
  },
  {
   "cell_type": "code",
   "execution_count": 215,
   "id": "42da450a",
   "metadata": {
    "scrolled": false
   },
   "outputs": [
    {
     "name": "stdout",
     "output_type": "stream",
     "text": [
      "parameters = 3,1\n",
      "\n",
      "veech_matrices:\n"
     ]
    },
    {
     "data": {
      "text/html": [
       "<html>\\(\\displaystyle \\left[\\left(\\begin{array}{rr}\n",
       "95 & 36 \\\\\n",
       "-\\frac{388}{3} & -49\n",
       "\\end{array}\\right), \\left(\\begin{array}{rr}\n",
       "111 & 84 \\\\\n",
       "\\frac{440}{3} & 111\n",
       "\\end{array}\\right), \\left(\\begin{array}{rr}\n",
       "-205 & 174 \\\\\n",
       "86 & -73\n",
       "\\end{array}\\right), \\left(\\begin{array}{rr}\n",
       "-1 & 4 \\\\\n",
       "0 & -1\n",
       "\\end{array}\\right), \\left(\\begin{array}{rr}\n",
       "111 & -84 \\\\\n",
       "-\\frac{440}{3} & 111\n",
       "\\end{array}\\right), \\left(\\begin{array}{rr}\n",
       "\\frac{929}{3} & 238 \\\\\n",
       "-\\frac{566}{3} & -145\n",
       "\\end{array}\\right), \\left(\\begin{array}{rr}\n",
       "-1 & 0 \\\\\n",
       "4 & -1\n",
       "\\end{array}\\right), \\left(\\begin{array}{rr}\n",
       "-1 & 0 \\\\\n",
       "-4 & -1\n",
       "\\end{array}\\right), \\left(\\begin{array}{rr}\n",
       "139 & 118 \\\\\n",
       "-86 & -73\n",
       "\\end{array}\\right), \\left(\\begin{array}{rr}\n",
       "1 & 0 \\\\\n",
       "-4 & 1\n",
       "\\end{array}\\right), \\left(\\begin{array}{rr}\n",
       "49 & 96 \\\\\n",
       "-24 & -47\n",
       "\\end{array}\\right), \\left(\\begin{array}{rr}\n",
       "-49 & 36 \\\\\n",
       "\\frac{200}{3} & -49\n",
       "\\end{array}\\right), \\left(\\begin{array}{rr}\n",
       "205 & -174 \\\\\n",
       "-86 & 73\n",
       "\\end{array}\\right), \\left(\\begin{array}{rr}\n",
       "-49 & -36 \\\\\n",
       "\\frac{388}{3} & 95\n",
       "\\end{array}\\right), \\left(\\begin{array}{rr}\n",
       "-1 & 0 \\\\\n",
       "0 & -1\n",
       "\\end{array}\\right)\\right]\\)</html>"
      ],
      "text/latex": [
       "$\\displaystyle \\left[\\left(\\begin{array}{rr}\n",
       "95 & 36 \\\\\n",
       "-\\frac{388}{3} & -49\n",
       "\\end{array}\\right), \\left(\\begin{array}{rr}\n",
       "111 & 84 \\\\\n",
       "\\frac{440}{3} & 111\n",
       "\\end{array}\\right), \\left(\\begin{array}{rr}\n",
       "-205 & 174 \\\\\n",
       "86 & -73\n",
       "\\end{array}\\right), \\left(\\begin{array}{rr}\n",
       "-1 & 4 \\\\\n",
       "0 & -1\n",
       "\\end{array}\\right), \\left(\\begin{array}{rr}\n",
       "111 & -84 \\\\\n",
       "-\\frac{440}{3} & 111\n",
       "\\end{array}\\right), \\left(\\begin{array}{rr}\n",
       "\\frac{929}{3} & 238 \\\\\n",
       "-\\frac{566}{3} & -145\n",
       "\\end{array}\\right), \\left(\\begin{array}{rr}\n",
       "-1 & 0 \\\\\n",
       "4 & -1\n",
       "\\end{array}\\right), \\left(\\begin{array}{rr}\n",
       "-1 & 0 \\\\\n",
       "-4 & -1\n",
       "\\end{array}\\right), \\left(\\begin{array}{rr}\n",
       "139 & 118 \\\\\n",
       "-86 & -73\n",
       "\\end{array}\\right), \\left(\\begin{array}{rr}\n",
       "1 & 0 \\\\\n",
       "-4 & 1\n",
       "\\end{array}\\right), \\left(\\begin{array}{rr}\n",
       "49 & 96 \\\\\n",
       "-24 & -47\n",
       "\\end{array}\\right), \\left(\\begin{array}{rr}\n",
       "-49 & 36 \\\\\n",
       "\\frac{200}{3} & -49\n",
       "\\end{array}\\right), \\left(\\begin{array}{rr}\n",
       "205 & -174 \\\\\n",
       "-86 & 73\n",
       "\\end{array}\\right), \\left(\\begin{array}{rr}\n",
       "-49 & -36 \\\\\n",
       "\\frac{388}{3} & 95\n",
       "\\end{array}\\right), \\left(\\begin{array}{rr}\n",
       "-1 & 0 \\\\\n",
       "0 & -1\n",
       "\\end{array}\\right)\\right]$"
      ],
      "text/plain": [
       "[\n",
       "[    95     36]  [  111    84]  [-205  174]  [-1  4]  [   111    -84]\n",
       "[-388/3    -49], [440/3   111], [  86  -73], [ 0 -1], [-440/3    111],\n",
       "\n",
       "[ 929/3    238]  [-1  0]  [-1  0]  [139 118]  [ 1  0]  [ 49  96]\n",
       "[-566/3   -145], [ 4 -1], [-4 -1], [-86 -73], [-4  1], [-24 -47],\n",
       "\n",
       "[  -49    36]  [ 205 -174]  [  -49   -36]  [-1  0]\n",
       "[200/3   -49], [ -86   73], [388/3    95], [ 0 -1]\n",
       "]"
      ]
     },
     "metadata": {},
     "output_type": "display_data"
    },
    {
     "name": "stdout",
     "output_type": "stream",
     "text": [
      "\n",
      "eigenvectors:\n",
      "0  : (1, -2.638284738504226?)\n",
      "1  : (1, -1.321374945286820?)\n",
      "2  : (1, -0.4195195565008761?)\n",
      "3  : (1, 0)\n",
      "4  : (1, 1.321374945286820?)\n",
      "5  : (1, -1.301094930958781?)\n",
      "6  : (0, 1)\n",
      "7  : (0, 1)\n",
      "8  : (1, -1.177837669533401?)\n",
      "9  : (0, 1)\n",
      "10 : (1, -1/2)\n",
      "11 : (1, -1.360827634879544?)\n",
      "12 : (1, 1.178140246156049?)\n",
      "13 : (1, -1.361715261495775?)\n",
      "14 : (1, 0) , (0, 1)\n",
      "\n",
      "sample matrix:\n",
      "[ 49  96]\n",
      "[-24 -47]\n",
      "\n",
      "sample eigenvector:\n",
      "[1, -1/2]\n"
     ]
    },
    {
     "data": {
      "image/png": "[encoded data removed]",
      "text/plain": [
       "Graphics object consisting of 51 graphics primitives"
      ]
     },
     "metadata": {},
     "output_type": "display_data"
    }
   ],
   "source": [
    "display_info('3,1',10)"
   ]
  },
  {
   "cell_type": "code",
   "execution_count": 68,
   "id": "6a6e978a",
   "metadata": {
    "scrolled": true
   },
   "outputs": [
    {
     "name": "stdout",
     "output_type": "stream",
     "text": [
      "\n",
      "IDR 300/300 --> 38.65 seconds\n"
     ]
    }
   ],
   "source": [
    "DS, S, gs, s = dimple(4,1)\n",
    "IDC1 = IDC(DS, 300, veech = 1, show_current_sym = 0)\n",
    "all_veech_matrices['4,1'] = [list(IDC1.generators(normalize_det=1)),S]"
   ]
  },
  {
   "cell_type": "code",
   "execution_count": 217,
   "id": "e32a575d",
   "metadata": {
    "scrolled": false
   },
   "outputs": [
    {
     "name": "stdout",
     "output_type": "stream",
     "text": [
      "parameters = 4,1\n",
      "\n",
      "veech_matrices:\n"
     ]
    },
    {
     "data": {
      "text/html": [
       "<html>\\(\\displaystyle \\left[\\left(\\begin{array}{rr}\n",
       "1 & -10 \\\\\n",
       "0 & 1\n",
       "\\end{array}\\right), \\left(\\begin{array}{rr}\n",
       "-1 & 0 \\\\\n",
       "0 & -1\n",
       "\\end{array}\\right)\\right]\\)</html>"
      ],
      "text/latex": [
       "$\\displaystyle \\left[\\left(\\begin{array}{rr}\n",
       "1 & -10 \\\\\n",
       "0 & 1\n",
       "\\end{array}\\right), \\left(\\begin{array}{rr}\n",
       "-1 & 0 \\\\\n",
       "0 & -1\n",
       "\\end{array}\\right)\\right]$"
      ],
      "text/plain": [
       "[\n",
       "[  1 -10]  [-1  0]\n",
       "[  0   1], [ 0 -1]\n",
       "]"
      ]
     },
     "metadata": {},
     "output_type": "display_data"
    },
    {
     "name": "stdout",
     "output_type": "stream",
     "text": [
      "\n",
      "eigenvectors:\n",
      "0  : (1, 0)\n",
      "1  : (1, 0) , (0, 1)\n",
      "\n",
      "sample matrix:\n",
      "[-1  0]\n",
      "[ 0 -1]\n",
      "\n",
      "sample eigenvector:\n",
      "[1, 0]\n"
     ]
    },
    {
     "data": {
      "image/png": "[encoded data removed]",
      "text/plain": [
       "Graphics object consisting of 35 graphics primitives"
      ]
     },
     "metadata": {},
     "output_type": "display_data"
    }
   ],
   "source": [
    "display_info('4,1',1)"
   ]
  },
  {
   "cell_type": "code",
   "execution_count": 216,
   "id": "65dc5bbe",
   "metadata": {},
   "outputs": [
    {
     "name": "stdout",
     "output_type": "stream",
     "text": [
      "\n",
      "IDR 10/2000 --> 1.25 seconds\n",
      "Veech terminated\n"
     ]
    }
   ],
   "source": [
    "DS, S, gs, s = dimple(2,2)\n",
    "IDC1 = IDC(DS, 2000, veech = 1, show_current_sym = 0)\n",
    "all_veech_matrices['2,2'] = [list(IDC1.generators(normalize_det=1)),S]"
   ]
  },
  {
   "cell_type": "code",
   "execution_count": 326,
   "id": "62a3fcf5",
   "metadata": {
    "scrolled": false
   },
   "outputs": [
    {
     "name": "stdout",
     "output_type": "stream",
     "text": [
      "parameters = 2,2\n",
      "\n",
      "veech_matrices:\n"
     ]
    },
    {
     "data": {
      "text/html": [
       "<html>\\(\\displaystyle \\left[\\left(\\begin{array}{rr}\n",
       "4 & 3 \\\\\n",
       "-3 & -2\n",
       "\\end{array}\\right), \\left(\\begin{array}{rr}\n",
       "-3 & -1 \\\\\n",
       "1 & 0\n",
       "\\end{array}\\right), \\left(\\begin{array}{rr}\n",
       "0 & 1 \\\\\n",
       "-1 & 0\n",
       "\\end{array}\\right), \\left(\\begin{array}{rr}\n",
       "-1 & 0 \\\\\n",
       "0 & -1\n",
       "\\end{array}\\right)\\right]\\)</html>"
      ],
      "text/latex": [
       "$\\displaystyle \\left[\\left(\\begin{array}{rr}\n",
       "4 & 3 \\\\\n",
       "-3 & -2\n",
       "\\end{array}\\right), \\left(\\begin{array}{rr}\n",
       "-3 & -1 \\\\\n",
       "1 & 0\n",
       "\\end{array}\\right), \\left(\\begin{array}{rr}\n",
       "0 & 1 \\\\\n",
       "-1 & 0\n",
       "\\end{array}\\right), \\left(\\begin{array}{rr}\n",
       "-1 & 0 \\\\\n",
       "0 & -1\n",
       "\\end{array}\\right)\\right]$"
      ],
      "text/plain": [
       "[\n",
       "[ 4  3]  [-3 -1]  [ 0  1]  [-1  0]\n",
       "[-3 -2], [ 1  0], [-1  0], [ 0 -1]\n",
       "]"
      ]
     },
     "metadata": {},
     "output_type": "display_data"
    },
    {
     "name": "stdout",
     "output_type": "stream",
     "text": [
      "\n",
      "eigenvectors:\n",
      "0  : (1, -1)\n",
      "1  : (1, -0.3819660112501051?)\n",
      "2  : (1, -1*I)\n",
      "3  : (1, 0)\n",
      "\n",
      "sample matrix:\n",
      "[ 4  3]\n",
      "[-3 -2]\n",
      "\n",
      "sample eigenvector:\n",
      "[1, -1]\n"
     ]
    },
    {
     "data": {
      "image/png": "[encoded data removed]",
      "text/plain": [
       "Graphics object consisting of 39 graphics primitives"
      ]
     },
     "metadata": {},
     "output_type": "display_data"
    }
   ],
   "source": [
    "display_info('2,2',0)"
   ]
  },
  {
   "cell_type": "code",
   "execution_count": 297,
   "id": "6f32b417",
   "metadata": {},
   "outputs": [
    {
     "name": "stdout",
     "output_type": "stream",
     "text": [
      "\n",
      "IDR 2000/2000 --> 401.94 seconds\n"
     ]
    }
   ],
   "source": [
    "DS, S, gs, s = dimple(3,2)\n",
    "IDC1 = IDC(DS, 2000, veech = 1, show_current_sym = 0)\n",
    "all_veech_matrices['3,2'] = [list(IDC1.generators(normalize_det=1)),S]"
   ]
  },
  {
   "cell_type": "code",
   "execution_count": 327,
   "id": "6161099f",
   "metadata": {},
   "outputs": [
    {
     "name": "stdout",
     "output_type": "stream",
     "text": [
      "parameters = 3,2\n",
      "\n",
      "veech_matrices:\n"
     ]
    },
    {
     "data": {
      "text/html": [
       "<html>\\(\\displaystyle \\left[\\left(\\begin{array}{rr}\n",
       "-\\frac{43}{3} & -\\frac{92}{3} \\\\\n",
       "\\frac{23}{3} & \\frac{49}{3}\n",
       "\\end{array}\\right), \\left(\\begin{array}{rr}\n",
       "-\\frac{43}{3} & \\frac{92}{3} \\\\\n",
       "-\\frac{23}{3} & \\frac{49}{3}\n",
       "\\end{array}\\right), \\left(\\begin{array}{rr}\n",
       "1 & 6 \\\\\n",
       "0 & 1\n",
       "\\end{array}\\right), \\left(\\begin{array}{rr}\n",
       "-\\frac{49}{3} & -\\frac{92}{3} \\\\\n",
       "\\frac{23}{3} & \\frac{43}{3}\n",
       "\\end{array}\\right), \\left(\\begin{array}{rr}\n",
       "-1 & 0 \\\\\n",
       "0 & -1\n",
       "\\end{array}\\right), \\left(\\begin{array}{rr}\n",
       "\\frac{43}{3} & -\\frac{92}{3} \\\\\n",
       "\\frac{23}{3} & -\\frac{49}{3}\n",
       "\\end{array}\\right)\\right]\\)</html>"
      ],
      "text/latex": [
       "$\\displaystyle \\left[\\left(\\begin{array}{rr}\n",
       "-\\frac{43}{3} & -\\frac{92}{3} \\\\\n",
       "\\frac{23}{3} & \\frac{49}{3}\n",
       "\\end{array}\\right), \\left(\\begin{array}{rr}\n",
       "-\\frac{43}{3} & \\frac{92}{3} \\\\\n",
       "-\\frac{23}{3} & \\frac{49}{3}\n",
       "\\end{array}\\right), \\left(\\begin{array}{rr}\n",
       "1 & 6 \\\\\n",
       "0 & 1\n",
       "\\end{array}\\right), \\left(\\begin{array}{rr}\n",
       "-\\frac{49}{3} & -\\frac{92}{3} \\\\\n",
       "\\frac{23}{3} & \\frac{43}{3}\n",
       "\\end{array}\\right), \\left(\\begin{array}{rr}\n",
       "-1 & 0 \\\\\n",
       "0 & -1\n",
       "\\end{array}\\right), \\left(\\begin{array}{rr}\n",
       "\\frac{43}{3} & -\\frac{92}{3} \\\\\n",
       "\\frac{23}{3} & -\\frac{49}{3}\n",
       "\\end{array}\\right)\\right]$"
      ],
      "text/plain": [
       "[\n",
       "[-43/3 -92/3]  [-43/3  92/3]  [1 6]  [-49/3 -92/3]  [-1  0]\n",
       "[ 23/3  49/3], [-23/3  49/3], [0 1], [ 23/3  43/3], [ 0 -1],\n",
       "\n",
       "[ 43/3 -92/3]\n",
       "[ 23/3 -49/3]\n",
       "]"
      ]
     },
     "metadata": {},
     "output_type": "display_data"
    },
    {
     "name": "stdout",
     "output_type": "stream",
     "text": [
      "\n",
      "eigenvectors:\n",
      "0  : (1, -1/2)\n",
      "1  : (1, 1/2)\n",
      "2  : (1, 0)\n",
      "3  : (1, -1/2)\n",
      "4  : (1, 0)\n",
      "5  : (1, 1/2)\n",
      "\n",
      "sample matrix:\n",
      "[-43/3 -92/3]\n",
      "[ 23/3  49/3]\n",
      "\n",
      "sample eigenvector:\n",
      "[1, -1/2]\n"
     ]
    },
    {
     "data": {
      "image/png": "[encoded data removed]",
      "text/plain": [
       "Graphics object consisting of 63 graphics primitives"
      ]
     },
     "metadata": {},
     "output_type": "display_data"
    }
   ],
   "source": [
    "display_info('3,2',0)"
   ]
  },
  {
   "cell_type": "code",
   "execution_count": 299,
   "id": "4082faa0",
   "metadata": {},
   "outputs": [
    {
     "name": "stdout",
     "output_type": "stream",
     "text": [
      "\n",
      "IDR 2954/3000\r"
     ]
    },
    {
     "name": "stderr",
     "output_type": "stream",
     "text": [
      "/private/var/tmp/sage-9.6-current/local/var/lib/sage/venv-python3.10.3/lib/python3.10/site-packages/ipykernel/iostream.py:214: RuntimeWarning: cypari2 leaked 381800 bytes on the PARI stack\n",
      "  self._event_pipe.send(b'')\n"
     ]
    },
    {
     "name": "stdout",
     "output_type": "stream",
     "text": [
      "IDR 3000/3000 --> 674.05 seconds\n"
     ]
    }
   ],
   "source": [
    "DS, S, gs, s = dimple(4,2)\n",
    "IDC1 = IDC(DS, 3000, veech = 1, show_current_sym = 0)\n",
    "all_veech_matrices['4,2'] = [list(IDC1.generators(normalize_det=1)),S]"
   ]
  },
  {
   "cell_type": "code",
   "execution_count": 328,
   "id": "826c2d0f",
   "metadata": {},
   "outputs": [
    {
     "name": "stdout",
     "output_type": "stream",
     "text": [
      "parameters = 4,2\n",
      "\n",
      "veech_matrices:\n"
     ]
    },
    {
     "data": {
      "text/html": [
       "<html>\\(\\displaystyle \\left[\\left(\\begin{array}{rr}\n",
       "-65 & -121 \\\\\n",
       "36 & 67\n",
       "\\end{array}\\right), \\left(\\begin{array}{rr}\n",
       "67 & 121 \\\\\n",
       "-36 & -65\n",
       "\\end{array}\\right), \\left(\\begin{array}{rr}\n",
       "141 & 490 \\\\\n",
       "-40 & -139\n",
       "\\end{array}\\right), \\left(\\begin{array}{rr}\n",
       "34 & -175 \\\\\n",
       "7 & -36\n",
       "\\end{array}\\right), \\left(\\begin{array}{rr}\n",
       "-58 & 171 \\\\\n",
       "-19 & 56\n",
       "\\end{array}\\right), \\left(\\begin{array}{rr}\n",
       "14 & -13 \\\\\n",
       "13 & -12\n",
       "\\end{array}\\right), \\left(\\begin{array}{rr}\n",
       "-1 & -15 \\\\\n",
       "0 & -1\n",
       "\\end{array}\\right), \\left(\\begin{array}{rr}\n",
       "69 & 175 \\\\\n",
       "-28 & -71\n",
       "\\end{array}\\right), \\left(\\begin{array}{rr}\n",
       "56 & -171 \\\\\n",
       "19 & -58\n",
       "\\end{array}\\right), \\left(\\begin{array}{rr}\n",
       "-14 & -13 \\\\\n",
       "13 & 12\n",
       "\\end{array}\\right), \\left(\\begin{array}{rr}\n",
       "1 & 0 \\\\\n",
       "3 & 1\n",
       "\\end{array}\\right), \\left(\\begin{array}{rr}\n",
       "-36 & -175 \\\\\n",
       "7 & 34\n",
       "\\end{array}\\right), \\left(\\begin{array}{rr}\n",
       "65 & -121 \\\\\n",
       "36 & -67\n",
       "\\end{array}\\right), \\left(\\begin{array}{rr}\n",
       "-36 & 175 \\\\\n",
       "-7 & 34\n",
       "\\end{array}\\right), \\left(\\begin{array}{rr}\n",
       "-69 & 175 \\\\\n",
       "-28 & 71\n",
       "\\end{array}\\right), \\left(\\begin{array}{rr}\n",
       "-56 & -171 \\\\\n",
       "19 & 58\n",
       "\\end{array}\\right), \\left(\\begin{array}{rr}\n",
       "-1 & 0 \\\\\n",
       "0 & -1\n",
       "\\end{array}\\right)\\right]\\)</html>"
      ],
      "text/latex": [
       "$\\displaystyle \\left[\\left(\\begin{array}{rr}\n",
       "-65 & -121 \\\\\n",
       "36 & 67\n",
       "\\end{array}\\right), \\left(\\begin{array}{rr}\n",
       "67 & 121 \\\\\n",
       "-36 & -65\n",
       "\\end{array}\\right), \\left(\\begin{array}{rr}\n",
       "141 & 490 \\\\\n",
       "-40 & -139\n",
       "\\end{array}\\right), \\left(\\begin{array}{rr}\n",
       "34 & -175 \\\\\n",
       "7 & -36\n",
       "\\end{array}\\right), \\left(\\begin{array}{rr}\n",
       "-58 & 171 \\\\\n",
       "-19 & 56\n",
       "\\end{array}\\right), \\left(\\begin{array}{rr}\n",
       "14 & -13 \\\\\n",
       "13 & -12\n",
       "\\end{array}\\right), \\left(\\begin{array}{rr}\n",
       "-1 & -15 \\\\\n",
       "0 & -1\n",
       "\\end{array}\\right), \\left(\\begin{array}{rr}\n",
       "69 & 175 \\\\\n",
       "-28 & -71\n",
       "\\end{array}\\right), \\left(\\begin{array}{rr}\n",
       "56 & -171 \\\\\n",
       "19 & -58\n",
       "\\end{array}\\right), \\left(\\begin{array}{rr}\n",
       "-14 & -13 \\\\\n",
       "13 & 12\n",
       "\\end{array}\\right), \\left(\\begin{array}{rr}\n",
       "1 & 0 \\\\\n",
       "3 & 1\n",
       "\\end{array}\\right), \\left(\\begin{array}{rr}\n",
       "-36 & -175 \\\\\n",
       "7 & 34\n",
       "\\end{array}\\right), \\left(\\begin{array}{rr}\n",
       "65 & -121 \\\\\n",
       "36 & -67\n",
       "\\end{array}\\right), \\left(\\begin{array}{rr}\n",
       "-36 & 175 \\\\\n",
       "-7 & 34\n",
       "\\end{array}\\right), \\left(\\begin{array}{rr}\n",
       "-69 & 175 \\\\\n",
       "-28 & 71\n",
       "\\end{array}\\right), \\left(\\begin{array}{rr}\n",
       "-56 & -171 \\\\\n",
       "19 & 58\n",
       "\\end{array}\\right), \\left(\\begin{array}{rr}\n",
       "-1 & 0 \\\\\n",
       "0 & -1\n",
       "\\end{array}\\right)\\right]$"
      ],
      "text/plain": [
       "[\n",
       "[ -65 -121]  [ 67 121]  [ 141  490]  [  34 -175]  [-58 171]  [ 14 -13]\n",
       "[  36   67], [-36 -65], [ -40 -139], [   7  -36], [-19  56], [ 13 -12],\n",
       "\n",
       "[ -1 -15]  [ 69 175]  [  56 -171]  [-14 -13]  [1 0]  [ -36 -175]\n",
       "[  0  -1], [-28 -71], [  19  -58], [ 13  12], [3 1], [   7   34],\n",
       "\n",
       "[  65 -121]  [-36 175]  [-69 175]  [ -56 -171]  [-1  0]\n",
       "[  36  -67], [ -7  34], [-28  71], [  19   58], [ 0 -1]\n",
       "]"
      ]
     },
     "metadata": {},
     "output_type": "display_data"
    },
    {
     "name": "stdout",
     "output_type": "stream",
     "text": [
      "\n",
      "eigenvectors:\n",
      "0  : (1, -6/11)\n",
      "1  : (1, -6/11)\n",
      "2  : (1, -2/7)\n",
      "3  : (1, 1/5)\n",
      "4  : (1, 1/3)\n",
      "5  : (1, 1)\n",
      "6  : (1, 0)\n",
      "7  : (1, -2/5)\n",
      "8  : (1, 1/3)\n",
      "9  : (1, -1)\n",
      "10 : (0, 1)\n",
      "11 : (1, -1/5)\n",
      "12 : (1, 6/11)\n",
      "13 : (1, 1/5)\n",
      "14 : (1, 2/5)\n",
      "15 : (1, -1/3)\n",
      "16 : (1, 0)\n",
      "\n",
      "sample matrix:\n",
      "[ -65 -121]\n",
      "[  36   67]\n",
      "\n",
      "sample eigenvector:\n",
      "[1, -6/11]\n"
     ]
    },
    {
     "data": {
      "image/png": "[encoded data removed]",
      "text/plain": [
       "Graphics object consisting of 59 graphics primitives"
      ]
     },
     "metadata": {},
     "output_type": "display_data"
    }
   ],
   "source": [
    "display_info('4,2',0)"
   ]
  },
  {
   "cell_type": "code",
   "execution_count": 302,
   "id": "ef639520",
   "metadata": {},
   "outputs": [
    {
     "name": "stdout",
     "output_type": "stream",
     "text": [
      "\n",
      "IDR 2000/2000 --> 369.11 seconds\n"
     ]
    }
   ],
   "source": [
    "DS, S, gs, s = dimple(5,2)\n",
    "IDC1 = IDC(DS, 2000, veech = 1, show_current_sym = 0)\n",
    "all_veech_matrices['5,2'] = [list(IDC1.generators(normalize_det=1)),S]"
   ]
  },
  {
   "cell_type": "code",
   "execution_count": 329,
   "id": "8dd9fb5a",
   "metadata": {},
   "outputs": [
    {
     "name": "stdout",
     "output_type": "stream",
     "text": [
      "parameters = 5,2\n",
      "\n",
      "veech_matrices:\n"
     ]
    },
    {
     "data": {
      "text/html": [
       "<html>\\(\\displaystyle \\left[\\left(\\begin{array}{rr}\n",
       "1 & 3 \\\\\n",
       "0 & 1\n",
       "\\end{array}\\right), \\left(\\begin{array}{rr}\n",
       "-1 & 0 \\\\\n",
       "-9 & -1\n",
       "\\end{array}\\right), \\left(\\begin{array}{rr}\n",
       "134 & 75 \\\\\n",
       "\\frac{1197}{5} & 134\n",
       "\\end{array}\\right), \\left(\\begin{array}{rr}\n",
       "-1 & 0 \\\\\n",
       "0 & -1\n",
       "\\end{array}\\right)\\right]\\)</html>"
      ],
      "text/latex": [
       "$\\displaystyle \\left[\\left(\\begin{array}{rr}\n",
       "1 & 3 \\\\\n",
       "0 & 1\n",
       "\\end{array}\\right), \\left(\\begin{array}{rr}\n",
       "-1 & 0 \\\\\n",
       "-9 & -1\n",
       "\\end{array}\\right), \\left(\\begin{array}{rr}\n",
       "134 & 75 \\\\\n",
       "\\frac{1197}{5} & 134\n",
       "\\end{array}\\right), \\left(\\begin{array}{rr}\n",
       "-1 & 0 \\\\\n",
       "0 & -1\n",
       "\\end{array}\\right)\\right]$"
      ],
      "text/plain": [
       "[\n",
       "[1 3]  [-1  0]  [   134     75]  [-1  0]\n",
       "[0 1], [-9 -1], [1197/5    134], [ 0 -1]\n",
       "]"
      ]
     },
     "metadata": {},
     "output_type": "display_data"
    },
    {
     "name": "stdout",
     "output_type": "stream",
     "text": [
      "\n",
      "eigenvectors:\n",
      "0  : (1, 0)\n",
      "1  : (0, 1)\n",
      "2  : (1, -1.786616914730184?)\n",
      "3  : (1, 0)\n",
      "\n",
      "sample matrix:\n",
      "[1 3]\n",
      "[0 1]\n",
      "\n",
      "sample eigenvector:\n",
      "[1, 0]\n"
     ]
    },
    {
     "data": {
      "image/png": "[encoded data removed]",
      "text/plain": [
       "Graphics object consisting of 35 graphics primitives"
      ]
     },
     "metadata": {},
     "output_type": "display_data"
    }
   ],
   "source": [
    "display_info('5,2',0)"
   ]
  },
  {
   "cell_type": "code",
   "execution_count": 303,
   "id": "aac68a92",
   "metadata": {},
   "outputs": [
    {
     "name": "stdout",
     "output_type": "stream",
     "text": [
      "\n",
      "IDR 3000/3000 --> 752.89 seconds\n"
     ]
    }
   ],
   "source": [
    "DS, S, gs, s = dimple(1,3)\n",
    "IDC1 = IDC(DS, 3000, veech = 1, show_current_sym = 0)\n",
    "all_veech_matrices['1,3'] = [list(IDC1.generators(normalize_det=1)),S]"
   ]
  },
  {
   "cell_type": "code",
   "execution_count": 330,
   "id": "728849ca",
   "metadata": {},
   "outputs": [
    {
     "name": "stdout",
     "output_type": "stream",
     "text": [
      "parameters = 1,3\n",
      "\n",
      "veech_matrices:\n"
     ]
    },
    {
     "data": {
      "text/html": [
       "<html>\\(\\displaystyle \\left[\\left(\\begin{array}{rr}\n",
       "129 & 120 \\\\\n",
       "\\frac{416}{3} & 129\n",
       "\\end{array}\\right), \\left(\\begin{array}{rr}\n",
       "-79 & -72 \\\\\n",
       "-\\frac{260}{3} & -79\n",
       "\\end{array}\\right), \\left(\\begin{array}{rr}\n",
       "-89 & 36 \\\\\n",
       "220 & -89\n",
       "\\end{array}\\right), \\left(\\begin{array}{rr}\n",
       "-1 & 4 \\\\\n",
       "0 & -1\n",
       "\\end{array}\\right), \\left(\\begin{array}{rr}\n",
       "-89 & -36 \\\\\n",
       "-220 & -89\n",
       "\\end{array}\\right), \\left(\\begin{array}{rr}\n",
       "47 & -36 \\\\\n",
       "-\\frac{184}{3} & 47\n",
       "\\end{array}\\right), \\left(\\begin{array}{rr}\n",
       "-1 & 0 \\\\\n",
       "-20 & -1\n",
       "\\end{array}\\right), \\left(\\begin{array}{rr}\n",
       "1 & 0 \\\\\n",
       "20 & 1\n",
       "\\end{array}\\right), \\left(\\begin{array}{rr}\n",
       "-1 & -4 \\\\\n",
       "0 & -1\n",
       "\\end{array}\\right), \\left(\\begin{array}{rr}\n",
       "47 & 36 \\\\\n",
       "\\frac{184}{3} & 47\n",
       "\\end{array}\\right), \\left(\\begin{array}{rr}\n",
       "-49 & -36 \\\\\n",
       "-\\frac{200}{3} & -49\n",
       "\\end{array}\\right), \\left(\\begin{array}{rr}\n",
       "-1 & 0 \\\\\n",
       "0 & -1\n",
       "\\end{array}\\right)\\right]\\)</html>"
      ],
      "text/latex": [
       "$\\displaystyle \\left[\\left(\\begin{array}{rr}\n",
       "129 & 120 \\\\\n",
       "\\frac{416}{3} & 129\n",
       "\\end{array}\\right), \\left(\\begin{array}{rr}\n",
       "-79 & -72 \\\\\n",
       "-\\frac{260}{3} & -79\n",
       "\\end{array}\\right), \\left(\\begin{array}{rr}\n",
       "-89 & 36 \\\\\n",
       "220 & -89\n",
       "\\end{array}\\right), \\left(\\begin{array}{rr}\n",
       "-1 & 4 \\\\\n",
       "0 & -1\n",
       "\\end{array}\\right), \\left(\\begin{array}{rr}\n",
       "-89 & -36 \\\\\n",
       "-220 & -89\n",
       "\\end{array}\\right), \\left(\\begin{array}{rr}\n",
       "47 & -36 \\\\\n",
       "-\\frac{184}{3} & 47\n",
       "\\end{array}\\right), \\left(\\begin{array}{rr}\n",
       "-1 & 0 \\\\\n",
       "-20 & -1\n",
       "\\end{array}\\right), \\left(\\begin{array}{rr}\n",
       "1 & 0 \\\\\n",
       "20 & 1\n",
       "\\end{array}\\right), \\left(\\begin{array}{rr}\n",
       "-1 & -4 \\\\\n",
       "0 & -1\n",
       "\\end{array}\\right), \\left(\\begin{array}{rr}\n",
       "47 & 36 \\\\\n",
       "\\frac{184}{3} & 47\n",
       "\\end{array}\\right), \\left(\\begin{array}{rr}\n",
       "-49 & -36 \\\\\n",
       "-\\frac{200}{3} & -49\n",
       "\\end{array}\\right), \\left(\\begin{array}{rr}\n",
       "-1 & 0 \\\\\n",
       "0 & -1\n",
       "\\end{array}\\right)\\right]$"
      ],
      "text/plain": [
       "[\n",
       "[  129   120]  [   -79    -72]  [-89  36]  [-1  4]  [ -89  -36]\n",
       "[416/3   129], [-260/3    -79], [220 -89], [ 0 -1], [-220  -89],\n",
       "\n",
       "[    47    -36]  [ -1   0]  [ 1  0]  [-1 -4]  [   47    36]\n",
       "[-184/3     47], [-20  -1], [20  1], [ 0 -1], [184/3    47],\n",
       "\n",
       "[   -49    -36]  [-1  0]\n",
       "[-200/3    -49], [ 0 -1]\n",
       "]"
      ]
     },
     "metadata": {},
     "output_type": "display_data"
    },
    {
     "name": "stdout",
     "output_type": "stream",
     "text": [
      "\n",
      "eigenvectors:\n",
      "0  : (1, -1.074967699773140?)\n",
      "1  : (1, 1.097134314340639?)\n",
      "2  : (1, -2.472066162365221?)\n",
      "3  : (1, 0)\n",
      "4  : (1, 2.472066162365221?)\n",
      "5  : (1, 1.305260013830082?)\n",
      "6  : (0, 1)\n",
      "7  : (0, 1)\n",
      "8  : (1, 0)\n",
      "9  : (1, -1.305260013830082?)\n",
      "10 : (1, 1.360827634879544?)\n",
      "11 : (1, 0)\n",
      "\n",
      "sample matrix:\n",
      "[ 1  0]\n",
      "[20  1]\n",
      "\n",
      "sample eigenvector:\n",
      "[0, 1]\n"
     ]
    },
    {
     "data": {
      "image/png": "[encoded data removed]",
      "text/plain": [
       "Graphics object consisting of 35 graphics primitives"
      ]
     },
     "metadata": {},
     "output_type": "display_data"
    }
   ],
   "source": [
    "display_info('1,3',7)"
   ]
  },
  {
   "cell_type": "code",
   "execution_count": 304,
   "id": "21ab45b8",
   "metadata": {},
   "outputs": [
    {
     "name": "stdout",
     "output_type": "stream",
     "text": [
      "\n",
      "IDR 3000/3000 --> 797.55 seconds\n"
     ]
    }
   ],
   "source": [
    "DS, S, gs, s = dimple(2,3)\n",
    "IDC1 = IDC(DS, 3000, veech = 1, show_current_sym = 0)\n",
    "all_veech_matrices['2,3'] = [list(IDC1.generators(normalize_det=1)),S]"
   ]
  },
  {
   "cell_type": "code",
   "execution_count": 331,
   "id": "24d88728",
   "metadata": {
    "scrolled": false
   },
   "outputs": [
    {
     "name": "stdout",
     "output_type": "stream",
     "text": [
      "parameters = 2,3\n",
      "\n",
      "veech_matrices:\n"
     ]
    },
    {
     "data": {
      "text/html": [
       "<html>\\(\\displaystyle \\left[\\left(\\begin{array}{rr}\n",
       "-\\frac{39}{2} & -\\frac{41}{2} \\\\\n",
       "\\frac{41}{2} & \\frac{43}{2}\n",
       "\\end{array}\\right), \\left(\\begin{array}{rr}\n",
       "-1 & 4 \\\\\n",
       "0 & -1\n",
       "\\end{array}\\right), \\left(\\begin{array}{rr}\n",
       "\\frac{43}{2} & \\frac{41}{2} \\\\\n",
       "-\\frac{41}{2} & -\\frac{39}{2}\n",
       "\\end{array}\\right), \\left(\\begin{array}{rr}\n",
       "1 & -4 \\\\\n",
       "0 & 1\n",
       "\\end{array}\\right), \\left(\\begin{array}{rr}\n",
       "-1 & 0 \\\\\n",
       "0 & -1\n",
       "\\end{array}\\right), \\left(\\begin{array}{rr}\n",
       "\\frac{39}{2} & -\\frac{41}{2} \\\\\n",
       "\\frac{41}{2} & -\\frac{43}{2}\n",
       "\\end{array}\\right)\\right]\\)</html>"
      ],
      "text/latex": [
       "$\\displaystyle \\left[\\left(\\begin{array}{rr}\n",
       "-\\frac{39}{2} & -\\frac{41}{2} \\\\\n",
       "\\frac{41}{2} & \\frac{43}{2}\n",
       "\\end{array}\\right), \\left(\\begin{array}{rr}\n",
       "-1 & 4 \\\\\n",
       "0 & -1\n",
       "\\end{array}\\right), \\left(\\begin{array}{rr}\n",
       "\\frac{43}{2} & \\frac{41}{2} \\\\\n",
       "-\\frac{41}{2} & -\\frac{39}{2}\n",
       "\\end{array}\\right), \\left(\\begin{array}{rr}\n",
       "1 & -4 \\\\\n",
       "0 & 1\n",
       "\\end{array}\\right), \\left(\\begin{array}{rr}\n",
       "-1 & 0 \\\\\n",
       "0 & -1\n",
       "\\end{array}\\right), \\left(\\begin{array}{rr}\n",
       "\\frac{39}{2} & -\\frac{41}{2} \\\\\n",
       "\\frac{41}{2} & -\\frac{43}{2}\n",
       "\\end{array}\\right)\\right]$"
      ],
      "text/plain": [
       "[\n",
       "[-39/2 -41/2]  [-1  4]  [ 43/2  41/2]  [ 1 -4]  [-1  0]  [ 39/2 -41/2]\n",
       "[ 41/2  43/2], [ 0 -1], [-41/2 -39/2], [ 0  1], [ 0 -1], [ 41/2 -43/2]\n",
       "]"
      ]
     },
     "metadata": {},
     "output_type": "display_data"
    },
    {
     "name": "stdout",
     "output_type": "stream",
     "text": [
      "\n",
      "eigenvectors:\n",
      "0  : (1, -1)\n",
      "1  : (1, 0)\n",
      "2  : (1, -1)\n",
      "3  : (1, 0)\n",
      "4  : (1, 0)\n",
      "5  : (1, 1)\n",
      "\n",
      "sample matrix:\n",
      "[-39/2 -41/2]\n",
      "[ 41/2  43/2]\n",
      "\n",
      "sample eigenvector:\n",
      "[1, -1]\n"
     ]
    },
    {
     "data": {
      "image/png": "[encoded data removed]",
      "text/plain": [
       "Graphics object consisting of 67 graphics primitives"
      ]
     },
     "metadata": {},
     "output_type": "display_data"
    }
   ],
   "source": [
    "display_info('2,3',0)"
   ]
  },
  {
   "cell_type": "code",
   "execution_count": null,
   "id": "eb137820",
   "metadata": {},
   "outputs": [],
   "source": [
    "# sage: cyl.holonomy()\n",
    "# (3*a + 4, 2*a + 3)\n",
    "# sage: cyl.edges()\n",
    "# (2, 3, 3, 2, 4)\n",
    "# cyl.polygons()\n",
    "# b = cyl.boundary()"
   ]
  },
  {
   "cell_type": "code",
   "execution_count": 10,
   "id": "9894a8b7",
   "metadata": {},
   "outputs": [],
   "source": [
    "DS, S, gs, s = dimple(2,1)"
   ]
  },
  {
   "cell_type": "code",
   "execution_count": null,
   "id": "2340ec75",
   "metadata": {},
   "outputs": [],
   "source": [
    "A = matrix([[1, 6],\n",
    "            [0, 1]])"
   ]
  },
  {
   "cell_type": "code",
   "execution_count": null,
   "id": "6cb5e44f",
   "metadata": {},
   "outputs": [],
   "source": [
    "show(DS.plot())\n",
    "show((A*DS).plot())"
   ]
  },
  {
   "cell_type": "code",
   "execution_count": 208,
   "id": "d7798d85",
   "metadata": {},
   "outputs": [],
   "source": [
    "show((DS).delaunay_triangulation().plot())\n",
    "show((A*DS).delaunay_triangulation().plot())"
   ]
  },
  {
   "cell_type": "code",
   "execution_count": null,
   "id": "92264f99",
   "metadata": {},
   "outputs": [],
   "source": [
    "show(DS.delaunay_decomposition().plot())\n",
    "show((A*DS).delaunay_decomposition().plot())"
   ]
  },
  {
   "cell_type": "code",
   "execution_count": 14,
   "id": "9e69a137",
   "metadata": {},
   "outputs": [],
   "source": [
    "show(DS.canonicalize().plot())\n",
    "show((A*DS).canonicalize().plot())"
   ]
  },
  {
   "cell_type": "code",
   "execution_count": null,
   "id": "b366d360",
   "metadata": {},
   "outputs": [],
   "source": [
    "print((A*DS).delaunay_triangulation() == DS.delaunay_triangulation())\n",
    "print((A*DS).delaunay_decomposition() == DS.delaunay_decomposition())\n",
    "print(DS.canonicalize() == (A*DS).canonicalize())"
   ]
  },
  {
   "cell_type": "code",
   "execution_count": 222,
   "id": "15887bdc",
   "metadata": {},
   "outputs": [
    {
     "data": {
      "text/html": [
       "<html>\\(\\displaystyle \\left[\\left(\\begin{array}{rr}\n",
       "161 & 144 \\\\\n",
       "180 & 161\n",
       "\\end{array}\\right), \\left(\\begin{array}{rr}\n",
       "119 & 180 \\\\\n",
       "-80 & -121\n",
       "\\end{array}\\right), \\left(\\begin{array}{rr}\n",
       "121 & 180 \\\\\n",
       "-80 & -119\n",
       "\\end{array}\\right), \\left(\\begin{array}{rr}\n",
       "65 & -53 \\\\\n",
       "-38 & 31\n",
       "\\end{array}\\right), \\left(\\begin{array}{rr}\n",
       "121 & -180 \\\\\n",
       "80 & -119\n",
       "\\end{array}\\right), \\left(\\begin{array}{rr}\n",
       "47 & -77 \\\\\n",
       "-\\frac{119}{2} & \\frac{195}{2}\n",
       "\\end{array}\\right), \\left(\\begin{array}{rr}\n",
       "\\frac{23}{2} & \\frac{63}{2} \\\\\n",
       "-\\frac{7}{2} & -\\frac{19}{2}\n",
       "\\end{array}\\right), \\left(\\begin{array}{rr}\n",
       "\\frac{473}{2} & -107 \\\\\n",
       "-\\frac{305}{2} & 69\n",
       "\\end{array}\\right), \\left(\\begin{array}{rr}\n",
       "-15 & -32 \\\\\n",
       "8 & 17\n",
       "\\end{array}\\right), \\left(\\begin{array}{rr}\n",
       "21 & 11 \\\\\n",
       "-44 & -23\n",
       "\\end{array}\\right), \\left(\\begin{array}{rr}\n",
       "23 & 11 \\\\\n",
       "-44 & -21\n",
       "\\end{array}\\right), \\left(\\begin{array}{rr}\n",
       "-\\frac{797}{4} & -\\frac{1157}{4} \\\\\n",
       "-\\frac{549}{4} & -\\frac{797}{4}\n",
       "\\end{array}\\right), \\left(\\begin{array}{rr}\n",
       "29 & 20 \\\\\n",
       "-45 & -31\n",
       "\\end{array}\\right), \\left(\\begin{array}{rr}\n",
       "23 & -11 \\\\\n",
       "44 & -21\n",
       "\\end{array}\\right), \\left(\\begin{array}{rr}\n",
       "-\\frac{23}{2} & -\\frac{63}{2} \\\\\n",
       "\\frac{7}{2} & \\frac{19}{2}\n",
       "\\end{array}\\right), \\left(\\begin{array}{rr}\n",
       "-\\frac{19}{2} & -\\frac{63}{2} \\\\\n",
       "\\frac{7}{2} & \\frac{23}{2}\n",
       "\\end{array}\\right), \\left(\\begin{array}{rr}\n",
       "-14 & -5 \\\\\n",
       "-39 & -14\n",
       "\\end{array}\\right), \\left(\\begin{array}{rr}\n",
       "-161 & 144 \\\\\n",
       "180 & -161\n",
       "\\end{array}\\right), \\left(\\begin{array}{rr}\n",
       "65 & 53 \\\\\n",
       "38 & 31\n",
       "\\end{array}\\right), \\left(\\begin{array}{rr}\n",
       "\\frac{797}{4} & -\\frac{1157}{4} \\\\\n",
       "-\\frac{549}{4} & \\frac{797}{4}\n",
       "\\end{array}\\right), \\left(\\begin{array}{rr}\n",
       "47 & 77 \\\\\n",
       "\\frac{119}{2} & \\frac{195}{2}\n",
       "\\end{array}\\right), \\left(\\begin{array}{rr}\n",
       "\\frac{473}{2} & 107 \\\\\n",
       "\\frac{305}{2} & 69\n",
       "\\end{array}\\right), \\left(\\begin{array}{rr}\n",
       "-31 & -20 \\\\\n",
       "45 & 29\n",
       "\\end{array}\\right), \\left(\\begin{array}{rr}\n",
       "-1 & 6 \\\\\n",
       "0 & -1\n",
       "\\end{array}\\right), \\left(\\begin{array}{rr}\n",
       "\\frac{479}{2} & -\\frac{689}{2} \\\\\n",
       "-\\frac{333}{2} & \\frac{479}{2}\n",
       "\\end{array}\\right), \\left(\\begin{array}{rr}\n",
       "-15 & -58 \\\\\n",
       "-8 & -31\n",
       "\\end{array}\\right), \\left(\\begin{array}{rr}\n",
       "1 & 0 \\\\\n",
       "6 & 1\n",
       "\\end{array}\\right), \\left(\\begin{array}{rr}\n",
       "-23 & -11 \\\\\n",
       "44 & 21\n",
       "\\end{array}\\right), \\left(\\begin{array}{rr}\n",
       "-47 & 77 \\\\\n",
       "\\frac{119}{2} & -\\frac{195}{2}\n",
       "\\end{array}\\right), \\left(\\begin{array}{rr}\n",
       "-121 & 180 \\\\\n",
       "-80 & 119\n",
       "\\end{array}\\right), \\left(\\begin{array}{rr}\n",
       "-31 & 20 \\\\\n",
       "-45 & 29\n",
       "\\end{array}\\right), \\left(\\begin{array}{rr}\n",
       "-1 & 0 \\\\\n",
       "0 & -1\n",
       "\\end{array}\\right)\\right]\\)</html>"
      ],
      "text/latex": [
       "$\\displaystyle \\left[\\left(\\begin{array}{rr}\n",
       "161 & 144 \\\\\n",
       "180 & 161\n",
       "\\end{array}\\right), \\left(\\begin{array}{rr}\n",
       "119 & 180 \\\\\n",
       "-80 & -121\n",
       "\\end{array}\\right), \\left(\\begin{array}{rr}\n",
       "121 & 180 \\\\\n",
       "-80 & -119\n",
       "\\end{array}\\right), \\left(\\begin{array}{rr}\n",
       "65 & -53 \\\\\n",
       "-38 & 31\n",
       "\\end{array}\\right), \\left(\\begin{array}{rr}\n",
       "121 & -180 \\\\\n",
       "80 & -119\n",
       "\\end{array}\\right), \\left(\\begin{array}{rr}\n",
       "47 & -77 \\\\\n",
       "-\\frac{119}{2} & \\frac{195}{2}\n",
       "\\end{array}\\right), \\left(\\begin{array}{rr}\n",
       "\\frac{23}{2} & \\frac{63}{2} \\\\\n",
       "-\\frac{7}{2} & -\\frac{19}{2}\n",
       "\\end{array}\\right), \\left(\\begin{array}{rr}\n",
       "\\frac{473}{2} & -107 \\\\\n",
       "-\\frac{305}{2} & 69\n",
       "\\end{array}\\right), \\left(\\begin{array}{rr}\n",
       "-15 & -32 \\\\\n",
       "8 & 17\n",
       "\\end{array}\\right), \\left(\\begin{array}{rr}\n",
       "21 & 11 \\\\\n",
       "-44 & -23\n",
       "\\end{array}\\right), \\left(\\begin{array}{rr}\n",
       "23 & 11 \\\\\n",
       "-44 & -21\n",
       "\\end{array}\\right), \\left(\\begin{array}{rr}\n",
       "-\\frac{797}{4} & -\\frac{1157}{4} \\\\\n",
       "-\\frac{549}{4} & -\\frac{797}{4}\n",
       "\\end{array}\\right), \\left(\\begin{array}{rr}\n",
       "29 & 20 \\\\\n",
       "-45 & -31\n",
       "\\end{array}\\right), \\left(\\begin{array}{rr}\n",
       "23 & -11 \\\\\n",
       "44 & -21\n",
       "\\end{array}\\right), \\left(\\begin{array}{rr}\n",
       "-\\frac{23}{2} & -\\frac{63}{2} \\\\\n",
       "\\frac{7}{2} & \\frac{19}{2}\n",
       "\\end{array}\\right), \\left(\\begin{array}{rr}\n",
       "-\\frac{19}{2} & -\\frac{63}{2} \\\\\n",
       "\\frac{7}{2} & \\frac{23}{2}\n",
       "\\end{array}\\right), \\left(\\begin{array}{rr}\n",
       "-14 & -5 \\\\\n",
       "-39 & -14\n",
       "\\end{array}\\right), \\left(\\begin{array}{rr}\n",
       "-161 & 144 \\\\\n",
       "180 & -161\n",
       "\\end{array}\\right), \\left(\\begin{array}{rr}\n",
       "65 & 53 \\\\\n",
       "38 & 31\n",
       "\\end{array}\\right), \\left(\\begin{array}{rr}\n",
       "\\frac{797}{4} & -\\frac{1157}{4} \\\\\n",
       "-\\frac{549}{4} & \\frac{797}{4}\n",
       "\\end{array}\\right), \\left(\\begin{array}{rr}\n",
       "47 & 77 \\\\\n",
       "\\frac{119}{2} & \\frac{195}{2}\n",
       "\\end{array}\\right), \\left(\\begin{array}{rr}\n",
       "\\frac{473}{2} & 107 \\\\\n",
       "\\frac{305}{2} & 69\n",
       "\\end{array}\\right), \\left(\\begin{array}{rr}\n",
       "-31 & -20 \\\\\n",
       "45 & 29\n",
       "\\end{array}\\right), \\left(\\begin{array}{rr}\n",
       "-1 & 6 \\\\\n",
       "0 & -1\n",
       "\\end{array}\\right), \\left(\\begin{array}{rr}\n",
       "\\frac{479}{2} & -\\frac{689}{2} \\\\\n",
       "-\\frac{333}{2} & \\frac{479}{2}\n",
       "\\end{array}\\right), \\left(\\begin{array}{rr}\n",
       "-15 & -58 \\\\\n",
       "-8 & -31\n",
       "\\end{array}\\right), \\left(\\begin{array}{rr}\n",
       "1 & 0 \\\\\n",
       "6 & 1\n",
       "\\end{array}\\right), \\left(\\begin{array}{rr}\n",
       "-23 & -11 \\\\\n",
       "44 & 21\n",
       "\\end{array}\\right), \\left(\\begin{array}{rr}\n",
       "-47 & 77 \\\\\n",
       "\\frac{119}{2} & -\\frac{195}{2}\n",
       "\\end{array}\\right), \\left(\\begin{array}{rr}\n",
       "-121 & 180 \\\\\n",
       "-80 & 119\n",
       "\\end{array}\\right), \\left(\\begin{array}{rr}\n",
       "-31 & 20 \\\\\n",
       "-45 & 29\n",
       "\\end{array}\\right), \\left(\\begin{array}{rr}\n",
       "-1 & 0 \\\\\n",
       "0 & -1\n",
       "\\end{array}\\right)\\right]$"
      ],
      "text/plain": [
       "[\n",
       "[161 144]  [ 119  180]  [ 121  180]  [ 65 -53]  [ 121 -180]\n",
       "[180 161], [ -80 -121], [ -80 -119], [-38  31], [  80 -119],\n",
       "\n",
       "[    47    -77]  [ 23/2  63/2]  [ 473/2   -107]  [-15 -32]  [ 21  11]\n",
       "[-119/2  195/2], [ -7/2 -19/2], [-305/2     69], [  8  17], [-44 -23],\n",
       "\n",
       "[ 23  11]  [ -797/4 -1157/4]  [ 29  20]  [ 23 -11]  [-23/2 -63/2]\n",
       "[-44 -21], [ -549/4  -797/4], [-45 -31], [ 44 -21], [  7/2  19/2],\n",
       "\n",
       "[-19/2 -63/2]  [-14  -5]  [-161  144]  [65 53]  [  797/4 -1157/4]\n",
       "[  7/2  23/2], [-39 -14], [ 180 -161], [38 31], [ -549/4   797/4],\n",
       "\n",
       "[   47    77]  [473/2   107]  [-31 -20]  [-1  6]  [ 479/2 -689/2]\n",
       "[119/2 195/2], [305/2    69], [ 45  29], [ 0 -1], [-333/2  479/2],\n",
       "\n",
       "[-15 -58]  [1 0]  [-23 -11]  [   -47     77]  [-121  180]  [-31  20]\n",
       "[ -8 -31], [6 1], [ 44  21], [ 119/2 -195/2], [ -80  119], [-45  29],\n",
       "\n",
       "[-1  0]\n",
       "[ 0 -1]\n",
       "]"
      ]
     },
     "metadata": {},
     "output_type": "display_data"
    },
    {
     "data": {
      "image/png": "[encoded data removed]",
      "text/plain": [
       "Graphics object consisting of 66 graphics primitives"
      ]
     },
     "metadata": {},
     "output_type": "display_data"
    }
   ],
   "source": [
    "UHP = HyperbolicPlane().UHP()\n",
    "\n",
    "\n",
    "elements = all_veech_matrices['2,1'][0]\n",
    "\n",
    "\n",
    "orbit = UHP.get_point(I).show()\n",
    "\n",
    "for m in elements:\n",
    "    new_point = moebius_transform(matrix(2,m),I)\n",
    "    orbit += UHP.get_point(new_point).show()\n",
    "\n",
    "show(elements)\n",
    "show(orbit)"
   ]
  }
 ],
 "metadata": {
  "kernelspec": {
   "display_name": "SageMath 9.6",
   "language": "sage",
   "name": "sagemath-9.6"
  },
  "language_info": {
   "codemirror_mode": {
    "name": "ipython",
    "version": 3
   },
   "file_extension": ".py",
   "mimetype": "text/x-python",
   "name": "python",
   "nbconvert_exporter": "python",
   "pygments_lexer": "ipython3",
   "version": "3.10.3"
  }
 },
 "nbformat": 4,
 "nbformat_minor": 5
}
