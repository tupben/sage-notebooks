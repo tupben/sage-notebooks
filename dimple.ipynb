{
 "cells": [
  {
   "cell_type": "code",
   "execution_count": null,
   "id": "5e6552ea",
   "metadata": {},
   "outputs": [],
   "source": [
    "# # # # # # # # # # # # # # # # # # # # # # # # # # # # # # # # # #\n",
    "# # # # # # #                                         # # # # # # #\n",
    "# # # # # # #             Dimple Surface              # # # # # # # \n",
    "# # # # # # #                                         # # # # # # #\n",
    "# # # # # # # # # # # # # # # # # # # # # # # # # # # # # # # # # #"
   ]
  },
  {
   "cell_type": "code",
   "execution_count": 2,
   "id": "d32c1b8d",
   "metadata": {},
   "outputs": [],
   "source": [
    "from veech import *"
   ]
  },
  {
   "cell_type": "code",
   "execution_count": 4,
   "id": "c22f84e3",
   "metadata": {
    "scrolled": false
   },
   "outputs": [
    {
     "data": {
      "image/png": "[encoded data removed]",
      "text/plain": [
       "Graphics object consisting of 31 graphics primitives"
      ]
     },
     "execution_count": 4,
     "metadata": {},
     "output_type": "execute_result"
    }
   ],
   "source": [
    "def dimple(x,y):\n",
    "\n",
    "    def rectangle(a,b):\n",
    "        return polygons(vertices = [(0,0),(a,0),(a,b),(0,b)])\n",
    "\n",
    "    P1 = rectangle(x,y)\n",
    "    Q1 = rectangle(1,y)\n",
    "    R1 = rectangle(1,1)\n",
    "    S1 = rectangle(y,1)\n",
    "    \n",
    "    s = Surface_list(QQ)\n",
    "\n",
    "    s.add_polygon(P1)\n",
    "    s.add_polygon(Q1)\n",
    "    s.add_polygon(R1)\n",
    "    s.add_polygon(S1)\n",
    "\n",
    "    S = SimilaritySurface(s)\n",
    "\n",
    "    s.set_edge_pairing(0,0,3,2)\n",
    "    s.set_edge_pairing(0,1,1,3)\n",
    "    s.set_edge_pairing(0,2,3,0)\n",
    "    s.set_edge_pairing(0,3,1,1)\n",
    "    s.set_edge_pairing(1,0,2,2)\n",
    "    s.set_edge_pairing(1,2,2,0)\n",
    "    s.set_edge_pairing(2,1,3,3)\n",
    "    s.set_edge_pairing(2,3,3,1)\n",
    "\n",
    "    gs = S.graphical_surface()\n",
    "\n",
    "    gs.make_adjacent(1,2)\n",
    "    gs.make_adjacent(2,1)      \n",
    "    \n",
    "    DS = S.minimal_cover(cover_type='dilation').copy(relabel=True)\n",
    "    \n",
    "    return DS, S, gs, s\n",
    "\n",
    "DS, S, gs, s = dimple(2,1)\n",
    "gs.plot()"
   ]
  },
  {
   "cell_type": "code",
   "execution_count": 608,
   "id": "168885d6",
   "metadata": {},
   "outputs": [],
   "source": [
    "matrices = {}\n",
    "\n",
    "matrices['1,1'] = [[[0, -1], [1, 2]], [[0, 1], [-1, 0]], [[-1, 0], [0, -1]], [[-1, 0], [-1, -1]]]\n",
    "matrices['2,1'] = [[[161, 144], [180, 161]], [[119, 180], [-80, -121]], [[121, 180], [-80, -119]], [[65, -53], [-38, 31]], [[121, -180], [80, -119]], [[47, -77], [-119/2, 195/2]], [[23/2, 63/2], [-7/2, -19/2]], [[473/2, -107], [-305/2, 69]], [[-15, -32], [8, 17]], [[21, 11], [-44, -23]], [[23, 11], [-44, -21]], [[-797/4, -1157/4], [-549/4, -797/4]], [[29, 20], [-45, -31]], [[23, -11], [44, -21]], [[-23/2, -63/2], [7/2, 19/2]], [[-19/2, -63/2], [7/2, 23/2]], [[-14, -5], [-39, -14]], [[-161, 144], [180, -161]], [[65, 53], [38, 31]], [[797/4, -1157/4], [-549/4, 797/4]], [[47, 77], [119/2, 195/2]], [[473/2, 107], [305/2, 69]], [[-31, -20], [45, 29]], [[-1, 6], [0, -1]], [[479/2, -689/2], [-333/2, 479/2]], [[-15, -58], [-8, -31]], [[1, 0], [6, 1]], [[-23, -11], [44, 21]], [[-47, 77], [119/2, -195/2]], [[-121, 180], [-80, 119]], [[-31, 20], [-45, 29]], [[-1, 0], [0, -1]]]\n",
    "matrices['3,1'] = [[[95, 36], [-388/3, -49]], [[111, 84], [440/3, 111]], [[-205, 174], [86, -73]], [[-1, 4], [0, -1]], [[111, -84], [-440/3, 111]], [[929/3, 238], [-566/3, -145]], [[-1, 0], [4, -1]], [[-1, 0], [-4, -1]], [[139, 118], [-86, -73]], [[1, 0], [-4, 1]], [[49, 96], [-24, -47]], [[-49, 36], [200/3, -49]], [[205, -174], [-86, 73]], [[-49, -36], [388/3, 95]], [[-1, 0], [0, -1]]]\n",
    "matrices['4,1'] = [[[-87, -352], [22, 89]], [[-139, -112], [175, 141]], [[61/4, 325/4], [-13/4, -69/4]], [[1, 0], [-10, 1]], [[-61/4, -325/4], [13/4, 69/4]], [[-45, -88], [22, 43]], [[1, -10], [0, 1]], [[43, -88], [22, -45]], [[71, 28], [-175, -69]], [[73, 37], [-148, -75]], [[-1, 0], [0, -1]]]\n",
    "matrices['2,2'] = [[[2, 3], [-3, -4]], [[-3, -1], [1, 0]], [[0, 1], [-1, 0]], [[-1, 0], [0, -1]]]\n",
    "matrices['3,2'] = [[[-1, 6], [0, -1]], [[-43/3, -92/3], [23/3, 49/3]], [[-89/3, 166/3], [23/3, -43/3]], [[43/3, 166/3], [23/3, 89/3]], [[-49/3, -92/3], [23/3, 43/3]], [[-1, 0], [0, -1]]]\n",
    "matrices['4,2'] = [[[65, 121], [-36, -67]], [[14, -13], [13, -12]], [[-71, -175], [28, 69]], [[-14, -13], [13, 12]], [[-1, 15], [0, -1]], [[1, 0], [3, 1]], [[56, -171], [19, -58]], [[65, -121], [36, -67]], [[-34, -175], [7, 36]], [[-56, -171], [19, 58]], [[-1, 0], [0, -1]]]\n",
    "matrices['5,2'] = [[[1, -3], [0, 1]], [[-2921/5, -327], [1197/5, 134]], [[-26, -3], [9, 1]], [[-1, 0], [0, -1]]]\n",
    "matrices['1,3'] = [[[-1, 4], [0, -1]], [[1, 0], [20, 1]], [[47, 36], [184/3, 47]], [[-49, 36], [200/3, -49]], [[47, -36], [-184/3, 47]], [[-1, 0], [0, -1]], [[79, -72], [-260/3, 79]]]\n",
    "matrices['2,3'] = [[[-39/2, -41/2], [41/2, 43/2]], [[43/2, 41/2], [-41/2, -39/2]], [[-1, -4], [0, -1]], [[-1, 0], [0, -1]], [[39/2, -41/2], [41/2, -43/2]]]"
   ]
  },
  {
   "cell_type": "code",
   "execution_count": 543,
   "id": "39f0ad84",
   "metadata": {},
   "outputs": [],
   "source": [
    "def show_eigenvectors(m):\n",
    "    m_list = ([m[0][0],m[0][1]],[m[1][0],m[1][1]])\n",
    "    A = maxima(\"matrix \" + str(m_list))\n",
    "    eig = A.eigenvectors()\n",
    "    if len(eig[1]) == 1:\n",
    "        if len(eig[1][0]) == 1:\n",
    "            return eig[1][0][0]\n",
    "        elif len(eig[1][0]) == 2:\n",
    "            return eig[1][0]\n",
    "    elif len(eig[1]) == 2:\n",
    "        return [eig[1][0][0],eig[1][1][0]]"
   ]
  },
  {
   "cell_type": "code",
   "execution_count": 600,
   "id": "bc241834",
   "metadata": {
    "scrolled": false
   },
   "outputs": [],
   "source": [
    "def display_info(parameters, i = 0):\n",
    "    DS, S, gs, s = dimple(int(parameters[0]),int(parameters[2]))\n",
    "    all_m = matrices[parameters]\n",
    "    \n",
    "    print('parameters = ' + parameters)\n",
    "\n",
    "    print('\\nmatrices and eigenvectors:')\n",
    "    for j in range(len(all_m)):\n",
    "        show(j, '.' , matrix(all_m[j]), ' : ' , show_eigenvectors(all_m[j]))\n",
    "           \n",
    "    print('\\nsample matrix:')\n",
    "    m = matrix(all_m[i])\n",
    "    show(m)\n",
    "\n",
    "    print('\\nsample eigenvector:')\n",
    "    eigen = list(m.eigenvectors_right()[0][1][0])\n",
    "#     eigen = [1,3/4]\n",
    "    print(eigen)\n",
    "\n",
    "    v = S.tangent_vector(0, (43/51,1/51), eigen)\n",
    "    traj = v.straight_line_trajectory()\n",
    "    traj.flow(1000)\n",
    "    print('\\nclosed: ' + str(traj.is_closed()))\n",
    "    print('saddle: ' + str(traj.is_saddle_connection()))\n",
    "    show(S.plot() + traj.cylinder().plot(alpha=.4, color = 'red') + traj.plot(color='red', thickness = 2))\n",
    "#     show(S.plot() + traj.plot(color='red', thickness = 2))\n",
    "    "
   ]
  },
  {
   "cell_type": "code",
   "execution_count": 611,
   "id": "db23c3e0",
   "metadata": {
    "scrolled": false
   },
   "outputs": [
    {
     "name": "stdout",
     "output_type": "stream",
     "text": [
      "parameters = 2,1\n",
      "\n",
      "matrices and eigenvectors:\n"
     ]
    },
    {
     "data": {
      "text/html": [
       "<html>\\(\\displaystyle 0 . \\left(\\begin{array}{rr}\n",
       "161 & 144 \\\\\n",
       "180 & 161\n",
       "\\end{array}\\right) \\verb| |\\verb|:| \\left[\\left[ 1 , -{{\\sqrt{5}}\\over{2}} \\right] , \\left[ 1 , {{\\sqrt{5}}\\over{2}} \\right] \\right]\\)</html>"
      ],
      "text/latex": [
       "$\\displaystyle 0 . \\left(\\begin{array}{rr}\n",
       "161 & 144 \\\\\n",
       "180 & 161\n",
       "\\end{array}\\right) \\verb| |\\verb|:| \\left[\\left[ 1 , -{{\\sqrt{5}}\\over{2}} \\right] , \\left[ 1 , {{\\sqrt{5}}\\over{2}} \\right] \\right]$"
      ],
      "text/plain": [
       "0 '.' [161 144]\n",
       "[180 161] ' : ' [[1,-sqrt(5)/2], [1,sqrt(5)/2]]"
      ]
     },
     "metadata": {},
     "output_type": "display_data"
    },
    {
     "data": {
      "text/html": [
       "<html>\\(\\displaystyle 1 . \\left(\\begin{array}{rr}\n",
       "119 & 180 \\\\\n",
       "-80 & -121\n",
       "\\end{array}\\right) \\verb| |\\verb|:| \\left[ 1 , -{{2}\\over{3}} \\right] \\)</html>"
      ],
      "text/latex": [
       "$\\displaystyle 1 . \\left(\\begin{array}{rr}\n",
       "119 & 180 \\\\\n",
       "-80 & -121\n",
       "\\end{array}\\right) \\verb| |\\verb|:| \\left[ 1 , -{{2}\\over{3}} \\right] $"
      ],
      "text/plain": [
       "1 '.' [ 119  180]\n",
       "[ -80 -121] ' : ' [1,-2/3]"
      ]
     },
     "metadata": {},
     "output_type": "display_data"
    },
    {
     "data": {
      "text/html": [
       "<html>\\(\\displaystyle 2 . \\left(\\begin{array}{rr}\n",
       "121 & 180 \\\\\n",
       "-80 & -119\n",
       "\\end{array}\\right) \\verb| |\\verb|:| \\left[ 1 , -{{2}\\over{3}} \\right] \\)</html>"
      ],
      "text/latex": [
       "$\\displaystyle 2 . \\left(\\begin{array}{rr}\n",
       "121 & 180 \\\\\n",
       "-80 & -119\n",
       "\\end{array}\\right) \\verb| |\\verb|:| \\left[ 1 , -{{2}\\over{3}} \\right] $"
      ],
      "text/plain": [
       "2 '.' [ 121  180]\n",
       "[ -80 -119] ' : ' [1,-2/3]"
      ]
     },
     "metadata": {},
     "output_type": "display_data"
    },
    {
     "data": {
      "text/html": [
       "<html>\\(\\displaystyle 3 . \\left(\\begin{array}{rr}\n",
       "65 & -53 \\\\\n",
       "-38 & 31\n",
       "\\end{array}\\right) \\verb| |\\verb|:| \\left[\\left[ 1 , {{7\\,\\sqrt{47}+17}\\over{53}} \\right] , \\left[ 1 , -{{7\\,\\sqrt{47}-17}\\over{53}} \\right] \\right]\\)</html>"
      ],
      "text/latex": [
       "$\\displaystyle 3 . \\left(\\begin{array}{rr}\n",
       "65 & -53 \\\\\n",
       "-38 & 31\n",
       "\\end{array}\\right) \\verb| |\\verb|:| \\left[\\left[ 1 , {{7\\,\\sqrt{47}+17}\\over{53}} \\right] , \\left[ 1 , -{{7\\,\\sqrt{47}-17}\\over{53}} \\right] \\right]$"
      ],
      "text/plain": [
       "3 '.' [ 65 -53]\n",
       "[-38  31] ' : ' [[1,(7*sqrt(47)+17)/53], [1,-(7*sqrt(47)-17)/53]]"
      ]
     },
     "metadata": {},
     "output_type": "display_data"
    },
    {
     "data": {
      "text/html": [
       "<html>\\(\\displaystyle 4 . \\left(\\begin{array}{rr}\n",
       "121 & -180 \\\\\n",
       "80 & -119\n",
       "\\end{array}\\right) \\verb| |\\verb|:| \\left[ 1 , {{2}\\over{3}} \\right] \\)</html>"
      ],
      "text/latex": [
       "$\\displaystyle 4 . \\left(\\begin{array}{rr}\n",
       "121 & -180 \\\\\n",
       "80 & -119\n",
       "\\end{array}\\right) \\verb| |\\verb|:| \\left[ 1 , {{2}\\over{3}} \\right] $"
      ],
      "text/plain": [
       "4 '.' [ 121 -180]\n",
       "[  80 -119] ' : ' [1,2/3]"
      ]
     },
     "metadata": {},
     "output_type": "display_data"
    },
    {
     "data": {
      "text/html": [
       "<html>\\(\\displaystyle 5 . \\left(\\begin{array}{rr}\n",
       "47 & -77 \\\\\n",
       "-\\frac{119}{2} & \\frac{195}{2}\n",
       "\\end{array}\\right) \\verb| |\\verb|:| \\left[\\left[ 1 , {{\\sqrt{83505}-101}\\over{308}} \\right] , \\left[ 1 , -{{\\sqrt{83505}+101}\\over{308}} \\right] \\right]\\)</html>"
      ],
      "text/latex": [
       "$\\displaystyle 5 . \\left(\\begin{array}{rr}\n",
       "47 & -77 \\\\\n",
       "-\\frac{119}{2} & \\frac{195}{2}\n",
       "\\end{array}\\right) \\verb| |\\verb|:| \\left[\\left[ 1 , {{\\sqrt{83505}-101}\\over{308}} \\right] , \\left[ 1 , -{{\\sqrt{83505}+101}\\over{308}} \\right] \\right]$"
      ],
      "text/plain": [
       "5 '.' [    47    -77]\n",
       "[-119/2  195/2] ' : ' [[1,(sqrt(83505)-101)/308], [1,-(sqrt(83505)+101)/308]]"
      ]
     },
     "metadata": {},
     "output_type": "display_data"
    },
    {
     "data": {
      "text/html": [
       "<html>\\(\\displaystyle 6 . \\left(\\begin{array}{rr}\n",
       "\\frac{23}{2} & \\frac{63}{2} \\\\\n",
       "-\\frac{7}{2} & -\\frac{19}{2}\n",
       "\\end{array}\\right) \\verb| |\\verb|:| \\left[ 1 , -{{1}\\over{3}} \\right] \\)</html>"
      ],
      "text/latex": [
       "$\\displaystyle 6 . \\left(\\begin{array}{rr}\n",
       "\\frac{23}{2} & \\frac{63}{2} \\\\\n",
       "-\\frac{7}{2} & -\\frac{19}{2}\n",
       "\\end{array}\\right) \\verb| |\\verb|:| \\left[ 1 , -{{1}\\over{3}} \\right] $"
      ],
      "text/plain": [
       "6 '.' [ 23/2  63/2]\n",
       "[ -7/2 -19/2] ' : ' [1,-1/3]"
      ]
     },
     "metadata": {},
     "output_type": "display_data"
    },
    {
     "data": {
      "text/html": [
       "<html>\\(\\displaystyle 7 . \\left(\\begin{array}{rr}\n",
       "\\frac{473}{2} & -107 \\\\\n",
       "-\\frac{305}{2} & 69\n",
       "\\end{array}\\right) \\verb| |\\verb|:| \\left[\\left[ 1 , {{\\sqrt{373305}+335}\\over{428}} \\right] , \\left[ 1 , -{{\\sqrt{373305}-335}\\over{428}} \\right] \\right]\\)</html>"
      ],
      "text/latex": [
       "$\\displaystyle 7 . \\left(\\begin{array}{rr}\n",
       "\\frac{473}{2} & -107 \\\\\n",
       "-\\frac{305}{2} & 69\n",
       "\\end{array}\\right) \\verb| |\\verb|:| \\left[\\left[ 1 , {{\\sqrt{373305}+335}\\over{428}} \\right] , \\left[ 1 , -{{\\sqrt{373305}-335}\\over{428}} \\right] \\right]$"
      ],
      "text/plain": [
       "7 '.' [ 473/2   -107]\n",
       "[-305/2     69] ' : ' [[1,(sqrt(373305)+335)/428], [1,-(sqrt(373305)-335)/428]]"
      ]
     },
     "metadata": {},
     "output_type": "display_data"
    },
    {
     "data": {
      "text/html": [
       "<html>\\(\\displaystyle 8 . \\left(\\begin{array}{rr}\n",
       "-15 & -32 \\\\\n",
       "8 & 17\n",
       "\\end{array}\\right) \\verb| |\\verb|:| \\left[ 1 , -{{1}\\over{2}} \\right] \\)</html>"
      ],
      "text/latex": [
       "$\\displaystyle 8 . \\left(\\begin{array}{rr}\n",
       "-15 & -32 \\\\\n",
       "8 & 17\n",
       "\\end{array}\\right) \\verb| |\\verb|:| \\left[ 1 , -{{1}\\over{2}} \\right] $"
      ],
      "text/plain": [
       "8 '.' [-15 -32]\n",
       "[  8  17] ' : ' [1,-1/2]"
      ]
     },
     "metadata": {},
     "output_type": "display_data"
    },
    {
     "data": {
      "text/html": [
       "<html>\\(\\displaystyle 9 . \\left(\\begin{array}{rr}\n",
       "21 & 11 \\\\\n",
       "-44 & -23\n",
       "\\end{array}\\right) \\verb| |\\verb|:| \\left[ 1 , -2 \\right] \\)</html>"
      ],
      "text/latex": [
       "$\\displaystyle 9 . \\left(\\begin{array}{rr}\n",
       "21 & 11 \\\\\n",
       "-44 & -23\n",
       "\\end{array}\\right) \\verb| |\\verb|:| \\left[ 1 , -2 \\right] $"
      ],
      "text/plain": [
       "9 '.' [ 21  11]\n",
       "[-44 -23] ' : ' [1,-2]"
      ]
     },
     "metadata": {},
     "output_type": "display_data"
    },
    {
     "data": {
      "text/html": [
       "<html>\\(\\displaystyle 10 . \\left(\\begin{array}{rr}\n",
       "23 & 11 \\\\\n",
       "-44 & -21\n",
       "\\end{array}\\right) \\verb| |\\verb|:| \\left[ 1 , -2 \\right] \\)</html>"
      ],
      "text/latex": [
       "$\\displaystyle 10 . \\left(\\begin{array}{rr}\n",
       "23 & 11 \\\\\n",
       "-44 & -21\n",
       "\\end{array}\\right) \\verb| |\\verb|:| \\left[ 1 , -2 \\right] $"
      ],
      "text/plain": [
       "10 '.' [ 23  11]\n",
       "[-44 -21] ' : ' [1,-2]"
      ]
     },
     "metadata": {},
     "output_type": "display_data"
    },
    {
     "data": {
      "text/html": [
       "<html>\\(\\displaystyle 11 . \\left(\\begin{array}{rr}\n",
       "-\\frac{797}{4} & -\\frac{1157}{4} \\\\\n",
       "-\\frac{549}{4} & -\\frac{797}{4}\n",
       "\\end{array}\\right) \\verb| |\\verb|:| \\left[\\left[ 1 , {{3\\,\\sqrt{70577}}\\over{1157}} \\right] , \\left[ 1 , -{{3\\,\\sqrt{70577}}\\over{1157}} \\right] \\right]\\)</html>"
      ],
      "text/latex": [
       "$\\displaystyle 11 . \\left(\\begin{array}{rr}\n",
       "-\\frac{797}{4} & -\\frac{1157}{4} \\\\\n",
       "-\\frac{549}{4} & -\\frac{797}{4}\n",
       "\\end{array}\\right) \\verb| |\\verb|:| \\left[\\left[ 1 , {{3\\,\\sqrt{70577}}\\over{1157}} \\right] , \\left[ 1 , -{{3\\,\\sqrt{70577}}\\over{1157}} \\right] \\right]$"
      ],
      "text/plain": [
       "11 '.' [ -797/4 -1157/4]\n",
       "[ -549/4  -797/4] ' : ' [[1,(3*sqrt(70577))/1157], [1,-(3*sqrt(70577))/1157]]"
      ]
     },
     "metadata": {},
     "output_type": "display_data"
    },
    {
     "data": {
      "text/html": [
       "<html>\\(\\displaystyle 12 . \\left(\\begin{array}{rr}\n",
       "29 & 20 \\\\\n",
       "-45 & -31\n",
       "\\end{array}\\right) \\verb| |\\verb|:| \\left[ 1 , -{{3}\\over{2}} \\right] \\)</html>"
      ],
      "text/latex": [
       "$\\displaystyle 12 . \\left(\\begin{array}{rr}\n",
       "29 & 20 \\\\\n",
       "-45 & -31\n",
       "\\end{array}\\right) \\verb| |\\verb|:| \\left[ 1 , -{{3}\\over{2}} \\right] $"
      ],
      "text/plain": [
       "12 '.' [ 29  20]\n",
       "[-45 -31] ' : ' [1,-3/2]"
      ]
     },
     "metadata": {},
     "output_type": "display_data"
    },
    {
     "data": {
      "text/html": [
       "<html>\\(\\displaystyle 13 . \\left(\\begin{array}{rr}\n",
       "23 & -11 \\\\\n",
       "44 & -21\n",
       "\\end{array}\\right) \\verb| |\\verb|:| \\left[ 1 , 2 \\right] \\)</html>"
      ],
      "text/latex": [
       "$\\displaystyle 13 . \\left(\\begin{array}{rr}\n",
       "23 & -11 \\\\\n",
       "44 & -21\n",
       "\\end{array}\\right) \\verb| |\\verb|:| \\left[ 1 , 2 \\right] $"
      ],
      "text/plain": [
       "13 '.' [ 23 -11]\n",
       "[ 44 -21] ' : ' [1,2]"
      ]
     },
     "metadata": {},
     "output_type": "display_data"
    },
    {
     "data": {
      "text/html": [
       "<html>\\(\\displaystyle 14 . \\left(\\begin{array}{rr}\n",
       "-\\frac{23}{2} & -\\frac{63}{2} \\\\\n",
       "\\frac{7}{2} & \\frac{19}{2}\n",
       "\\end{array}\\right) \\verb| |\\verb|:| \\left[ 1 , -{{1}\\over{3}} \\right] \\)</html>"
      ],
      "text/latex": [
       "$\\displaystyle 14 . \\left(\\begin{array}{rr}\n",
       "-\\frac{23}{2} & -\\frac{63}{2} \\\\\n",
       "\\frac{7}{2} & \\frac{19}{2}\n",
       "\\end{array}\\right) \\verb| |\\verb|:| \\left[ 1 , -{{1}\\over{3}} \\right] $"
      ],
      "text/plain": [
       "14 '.' [-23/2 -63/2]\n",
       "[  7/2  19/2] ' : ' [1,-1/3]"
      ]
     },
     "metadata": {},
     "output_type": "display_data"
    },
    {
     "data": {
      "text/html": [
       "<html>\\(\\displaystyle 15 . \\left(\\begin{array}{rr}\n",
       "-\\frac{19}{2} & -\\frac{63}{2} \\\\\n",
       "\\frac{7}{2} & \\frac{23}{2}\n",
       "\\end{array}\\right) \\verb| |\\verb|:| \\left[ 1 , -{{1}\\over{3}} \\right] \\)</html>"
      ],
      "text/latex": [
       "$\\displaystyle 15 . \\left(\\begin{array}{rr}\n",
       "-\\frac{19}{2} & -\\frac{63}{2} \\\\\n",
       "\\frac{7}{2} & \\frac{23}{2}\n",
       "\\end{array}\\right) \\verb| |\\verb|:| \\left[ 1 , -{{1}\\over{3}} \\right] $"
      ],
      "text/plain": [
       "15 '.' [-19/2 -63/2]\n",
       "[  7/2  23/2] ' : ' [1,-1/3]"
      ]
     },
     "metadata": {},
     "output_type": "display_data"
    },
    {
     "data": {
      "text/html": [
       "<html>\\(\\displaystyle 16 . \\left(\\begin{array}{rr}\n",
       "-14 & -5 \\\\\n",
       "-39 & -14\n",
       "\\end{array}\\right) \\verb| |\\verb|:| \\left[\\left[ 1 , {{\\sqrt{195}}\\over{5}} \\right] , \\left[ 1 , -{{\\sqrt{195}}\\over{5}} \\right] \\right]\\)</html>"
      ],
      "text/latex": [
       "$\\displaystyle 16 . \\left(\\begin{array}{rr}\n",
       "-14 & -5 \\\\\n",
       "-39 & -14\n",
       "\\end{array}\\right) \\verb| |\\verb|:| \\left[\\left[ 1 , {{\\sqrt{195}}\\over{5}} \\right] , \\left[ 1 , -{{\\sqrt{195}}\\over{5}} \\right] \\right]$"
      ],
      "text/plain": [
       "16 '.' [-14  -5]\n",
       "[-39 -14] ' : ' [[1,sqrt(195)/5], [1,-sqrt(195)/5]]"
      ]
     },
     "metadata": {},
     "output_type": "display_data"
    },
    {
     "data": {
      "text/html": [
       "<html>\\(\\displaystyle 17 . \\left(\\begin{array}{rr}\n",
       "-161 & 144 \\\\\n",
       "180 & -161\n",
       "\\end{array}\\right) \\verb| |\\verb|:| \\left[\\left[ 1 , -{{\\sqrt{5}}\\over{2}} \\right] , \\left[ 1 , {{\\sqrt{5}}\\over{2}} \\right] \\right]\\)</html>"
      ],
      "text/latex": [
       "$\\displaystyle 17 . \\left(\\begin{array}{rr}\n",
       "-161 & 144 \\\\\n",
       "180 & -161\n",
       "\\end{array}\\right) \\verb| |\\verb|:| \\left[\\left[ 1 , -{{\\sqrt{5}}\\over{2}} \\right] , \\left[ 1 , {{\\sqrt{5}}\\over{2}} \\right] \\right]$"
      ],
      "text/plain": [
       "17 '.' [-161  144]\n",
       "[ 180 -161] ' : ' [[1,-sqrt(5)/2], [1,sqrt(5)/2]]"
      ]
     },
     "metadata": {},
     "output_type": "display_data"
    },
    {
     "data": {
      "text/html": [
       "<html>\\(\\displaystyle 18 . \\left(\\begin{array}{rr}\n",
       "65 & 53 \\\\\n",
       "38 & 31\n",
       "\\end{array}\\right) \\verb| |\\verb|:| \\left[\\left[ 1 , -{{7\\,\\sqrt{47}+17}\\over{53}} \\right] , \\left[ 1 , {{7\\,\\sqrt{47}-17}\\over{53}} \\right] \\right]\\)</html>"
      ],
      "text/latex": [
       "$\\displaystyle 18 . \\left(\\begin{array}{rr}\n",
       "65 & 53 \\\\\n",
       "38 & 31\n",
       "\\end{array}\\right) \\verb| |\\verb|:| \\left[\\left[ 1 , -{{7\\,\\sqrt{47}+17}\\over{53}} \\right] , \\left[ 1 , {{7\\,\\sqrt{47}-17}\\over{53}} \\right] \\right]$"
      ],
      "text/plain": [
       "18 '.' [65 53]\n",
       "[38 31] ' : ' [[1,-(7*sqrt(47)+17)/53], [1,(7*sqrt(47)-17)/53]]"
      ]
     },
     "metadata": {},
     "output_type": "display_data"
    },
    {
     "data": {
      "text/html": [
       "<html>\\(\\displaystyle 19 . \\left(\\begin{array}{rr}\n",
       "\\frac{797}{4} & -\\frac{1157}{4} \\\\\n",
       "-\\frac{549}{4} & \\frac{797}{4}\n",
       "\\end{array}\\right) \\verb| |\\verb|:| \\left[\\left[ 1 , {{3\\,\\sqrt{70577}}\\over{1157}} \\right] , \\left[ 1 , -{{3\\,\\sqrt{70577}}\\over{1157}} \\right] \\right]\\)</html>"
      ],
      "text/latex": [
       "$\\displaystyle 19 . \\left(\\begin{array}{rr}\n",
       "\\frac{797}{4} & -\\frac{1157}{4} \\\\\n",
       "-\\frac{549}{4} & \\frac{797}{4}\n",
       "\\end{array}\\right) \\verb| |\\verb|:| \\left[\\left[ 1 , {{3\\,\\sqrt{70577}}\\over{1157}} \\right] , \\left[ 1 , -{{3\\,\\sqrt{70577}}\\over{1157}} \\right] \\right]$"
      ],
      "text/plain": [
       "19 '.' [  797/4 -1157/4]\n",
       "[ -549/4   797/4] ' : ' [[1,(3*sqrt(70577))/1157], [1,-(3*sqrt(70577))/1157]]"
      ]
     },
     "metadata": {},
     "output_type": "display_data"
    },
    {
     "data": {
      "text/html": [
       "<html>\\(\\displaystyle 20 . \\left(\\begin{array}{rr}\n",
       "47 & 77 \\\\\n",
       "\\frac{119}{2} & \\frac{195}{2}\n",
       "\\end{array}\\right) \\verb| |\\verb|:| \\left[\\left[ 1 , -{{\\sqrt{83505}-101}\\over{308}} \\right] , \\left[ 1 , {{\\sqrt{83505}+101}\\over{308}} \\right] \\right]\\)</html>"
      ],
      "text/latex": [
       "$\\displaystyle 20 . \\left(\\begin{array}{rr}\n",
       "47 & 77 \\\\\n",
       "\\frac{119}{2} & \\frac{195}{2}\n",
       "\\end{array}\\right) \\verb| |\\verb|:| \\left[\\left[ 1 , -{{\\sqrt{83505}-101}\\over{308}} \\right] , \\left[ 1 , {{\\sqrt{83505}+101}\\over{308}} \\right] \\right]$"
      ],
      "text/plain": [
       "20 '.' [   47    77]\n",
       "[119/2 195/2] ' : ' [[1,-(sqrt(83505)-101)/308], [1,(sqrt(83505)+101)/308]]"
      ]
     },
     "metadata": {},
     "output_type": "display_data"
    },
    {
     "data": {
      "text/html": [
       "<html>\\(\\displaystyle 21 . \\left(\\begin{array}{rr}\n",
       "\\frac{473}{2} & 107 \\\\\n",
       "\\frac{305}{2} & 69\n",
       "\\end{array}\\right) \\verb| |\\verb|:| \\left[\\left[ 1 , -{{\\sqrt{373305}+335}\\over{428}} \\right] , \\left[ 1 , {{\\sqrt{373305}-335}\\over{428}} \\right] \\right]\\)</html>"
      ],
      "text/latex": [
       "$\\displaystyle 21 . \\left(\\begin{array}{rr}\n",
       "\\frac{473}{2} & 107 \\\\\n",
       "\\frac{305}{2} & 69\n",
       "\\end{array}\\right) \\verb| |\\verb|:| \\left[\\left[ 1 , -{{\\sqrt{373305}+335}\\over{428}} \\right] , \\left[ 1 , {{\\sqrt{373305}-335}\\over{428}} \\right] \\right]$"
      ],
      "text/plain": [
       "21 '.' [473/2   107]\n",
       "[305/2    69] ' : ' [[1,-(sqrt(373305)+335)/428], [1,(sqrt(373305)-335)/428]]"
      ]
     },
     "metadata": {},
     "output_type": "display_data"
    },
    {
     "data": {
      "text/html": [
       "<html>\\(\\displaystyle 22 . \\left(\\begin{array}{rr}\n",
       "-31 & -20 \\\\\n",
       "45 & 29\n",
       "\\end{array}\\right) \\verb| |\\verb|:| \\left[ 1 , -{{3}\\over{2}} \\right] \\)</html>"
      ],
      "text/latex": [
       "$\\displaystyle 22 . \\left(\\begin{array}{rr}\n",
       "-31 & -20 \\\\\n",
       "45 & 29\n",
       "\\end{array}\\right) \\verb| |\\verb|:| \\left[ 1 , -{{3}\\over{2}} \\right] $"
      ],
      "text/plain": [
       "22 '.' [-31 -20]\n",
       "[ 45  29] ' : ' [1,-3/2]"
      ]
     },
     "metadata": {},
     "output_type": "display_data"
    },
    {
     "data": {
      "text/html": [
       "<html>\\(\\displaystyle 23 . \\left(\\begin{array}{rr}\n",
       "-1 & 6 \\\\\n",
       "0 & -1\n",
       "\\end{array}\\right) \\verb| |\\verb|:| \\left[ 1 , 0 \\right] \\)</html>"
      ],
      "text/latex": [
       "$\\displaystyle 23 . \\left(\\begin{array}{rr}\n",
       "-1 & 6 \\\\\n",
       "0 & -1\n",
       "\\end{array}\\right) \\verb| |\\verb|:| \\left[ 1 , 0 \\right] $"
      ],
      "text/plain": [
       "23 '.' [-1  6]\n",
       "[ 0 -1] ' : ' [1,0]"
      ]
     },
     "metadata": {},
     "output_type": "display_data"
    },
    {
     "data": {
      "text/html": [
       "<html>\\(\\displaystyle 24 . \\left(\\begin{array}{rr}\n",
       "\\frac{479}{2} & -\\frac{689}{2} \\\\\n",
       "-\\frac{333}{2} & \\frac{479}{2}\n",
       "\\end{array}\\right) \\verb| |\\verb|:| \\left[\\left[ 1 , {{3\\,\\sqrt{25493}}\\over{689}} \\right] , \\left[ 1 , -{{3\\,\\sqrt{25493}}\\over{689}} \\right] \\right]\\)</html>"
      ],
      "text/latex": [
       "$\\displaystyle 24 . \\left(\\begin{array}{rr}\n",
       "\\frac{479}{2} & -\\frac{689}{2} \\\\\n",
       "-\\frac{333}{2} & \\frac{479}{2}\n",
       "\\end{array}\\right) \\verb| |\\verb|:| \\left[\\left[ 1 , {{3\\,\\sqrt{25493}}\\over{689}} \\right] , \\left[ 1 , -{{3\\,\\sqrt{25493}}\\over{689}} \\right] \\right]$"
      ],
      "text/plain": [
       "24 '.' [ 479/2 -689/2]\n",
       "[-333/2  479/2] ' : ' [[1,(3*sqrt(25493))/689], [1,-(3*sqrt(25493))/689]]"
      ]
     },
     "metadata": {},
     "output_type": "display_data"
    },
    {
     "data": {
      "text/html": [
       "<html>\\(\\displaystyle 25 . \\left(\\begin{array}{rr}\n",
       "-15 & -58 \\\\\n",
       "-8 & -31\n",
       "\\end{array}\\right) \\verb| |\\verb|:| \\left[\\left[ 1 , {{2\\,\\sqrt{33}+4}\\over{29}} \\right] , \\left[ 1 , -{{2\\,\\sqrt{33}-4}\\over{29}} \\right] \\right]\\)</html>"
      ],
      "text/latex": [
       "$\\displaystyle 25 . \\left(\\begin{array}{rr}\n",
       "-15 & -58 \\\\\n",
       "-8 & -31\n",
       "\\end{array}\\right) \\verb| |\\verb|:| \\left[\\left[ 1 , {{2\\,\\sqrt{33}+4}\\over{29}} \\right] , \\left[ 1 , -{{2\\,\\sqrt{33}-4}\\over{29}} \\right] \\right]$"
      ],
      "text/plain": [
       "25 '.' [-15 -58]\n",
       "[ -8 -31] ' : ' [[1,(2*sqrt(33)+4)/29], [1,-(2*sqrt(33)-4)/29]]"
      ]
     },
     "metadata": {},
     "output_type": "display_data"
    },
    {
     "data": {
      "text/html": [
       "<html>\\(\\displaystyle 26 . \\left(\\begin{array}{rr}\n",
       "1 & 0 \\\\\n",
       "6 & 1\n",
       "\\end{array}\\right) \\verb| |\\verb|:| \\left[ 0 , 1 \\right] \\)</html>"
      ],
      "text/latex": [
       "$\\displaystyle 26 . \\left(\\begin{array}{rr}\n",
       "1 & 0 \\\\\n",
       "6 & 1\n",
       "\\end{array}\\right) \\verb| |\\verb|:| \\left[ 0 , 1 \\right] $"
      ],
      "text/plain": [
       "26 '.' [1 0]\n",
       "[6 1] ' : ' [0,1]"
      ]
     },
     "metadata": {},
     "output_type": "display_data"
    },
    {
     "data": {
      "text/html": [
       "<html>\\(\\displaystyle 27 . \\left(\\begin{array}{rr}\n",
       "-23 & -11 \\\\\n",
       "44 & 21\n",
       "\\end{array}\\right) \\verb| |\\verb|:| \\left[ 1 , -2 \\right] \\)</html>"
      ],
      "text/latex": [
       "$\\displaystyle 27 . \\left(\\begin{array}{rr}\n",
       "-23 & -11 \\\\\n",
       "44 & 21\n",
       "\\end{array}\\right) \\verb| |\\verb|:| \\left[ 1 , -2 \\right] $"
      ],
      "text/plain": [
       "27 '.' [-23 -11]\n",
       "[ 44  21] ' : ' [1,-2]"
      ]
     },
     "metadata": {},
     "output_type": "display_data"
    },
    {
     "data": {
      "text/html": [
       "<html>\\(\\displaystyle 28 . \\left(\\begin{array}{rr}\n",
       "-47 & 77 \\\\\n",
       "\\frac{119}{2} & -\\frac{195}{2}\n",
       "\\end{array}\\right) \\verb| |\\verb|:| \\left[\\left[ 1 , -{{\\sqrt{83505}+101}\\over{308}} \\right] , \\left[ 1 , {{\\sqrt{83505}-101}\\over{308}} \\right] \\right]\\)</html>"
      ],
      "text/latex": [
       "$\\displaystyle 28 . \\left(\\begin{array}{rr}\n",
       "-47 & 77 \\\\\n",
       "\\frac{119}{2} & -\\frac{195}{2}\n",
       "\\end{array}\\right) \\verb| |\\verb|:| \\left[\\left[ 1 , -{{\\sqrt{83505}+101}\\over{308}} \\right] , \\left[ 1 , {{\\sqrt{83505}-101}\\over{308}} \\right] \\right]$"
      ],
      "text/plain": [
       "28 '.' [   -47     77]\n",
       "[ 119/2 -195/2] ' : ' [[1,-(sqrt(83505)+101)/308], [1,(sqrt(83505)-101)/308]]"
      ]
     },
     "metadata": {},
     "output_type": "display_data"
    },
    {
     "data": {
      "text/html": [
       "<html>\\(\\displaystyle 29 . \\left(\\begin{array}{rr}\n",
       "-121 & 180 \\\\\n",
       "-80 & 119\n",
       "\\end{array}\\right) \\verb| |\\verb|:| \\left[ 1 , {{2}\\over{3}} \\right] \\)</html>"
      ],
      "text/latex": [
       "$\\displaystyle 29 . \\left(\\begin{array}{rr}\n",
       "-121 & 180 \\\\\n",
       "-80 & 119\n",
       "\\end{array}\\right) \\verb| |\\verb|:| \\left[ 1 , {{2}\\over{3}} \\right] $"
      ],
      "text/plain": [
       "29 '.' [-121  180]\n",
       "[ -80  119] ' : ' [1,2/3]"
      ]
     },
     "metadata": {},
     "output_type": "display_data"
    },
    {
     "data": {
      "text/html": [
       "<html>\\(\\displaystyle 30 . \\left(\\begin{array}{rr}\n",
       "-31 & 20 \\\\\n",
       "-45 & 29\n",
       "\\end{array}\\right) \\verb| |\\verb|:| \\left[ 1 , {{3}\\over{2}} \\right] \\)</html>"
      ],
      "text/latex": [
       "$\\displaystyle 30 . \\left(\\begin{array}{rr}\n",
       "-31 & 20 \\\\\n",
       "-45 & 29\n",
       "\\end{array}\\right) \\verb| |\\verb|:| \\left[ 1 , {{3}\\over{2}} \\right] $"
      ],
      "text/plain": [
       "30 '.' [-31  20]\n",
       "[-45  29] ' : ' [1,3/2]"
      ]
     },
     "metadata": {},
     "output_type": "display_data"
    },
    {
     "data": {
      "text/html": [
       "<html>\\(\\displaystyle 31 . \\left(\\begin{array}{rr}\n",
       "-1 & 0 \\\\\n",
       "0 & -1\n",
       "\\end{array}\\right) \\verb| |\\verb|:| \\left[ \\left[ 1 , 0 \\right]  , \\left[ 0 , 1 \\right]  \\right] \\)</html>"
      ],
      "text/latex": [
       "$\\displaystyle 31 . \\left(\\begin{array}{rr}\n",
       "-1 & 0 \\\\\n",
       "0 & -1\n",
       "\\end{array}\\right) \\verb| |\\verb|:| \\left[ \\left[ 1 , 0 \\right]  , \\left[ 0 , 1 \\right]  \\right] $"
      ],
      "text/plain": [
       "31 '.' [-1  0]\n",
       "[ 0 -1] ' : ' [[1,0],[0,1]]"
      ]
     },
     "metadata": {},
     "output_type": "display_data"
    },
    {
     "name": "stdout",
     "output_type": "stream",
     "text": [
      "\n",
      "sample matrix:\n"
     ]
    },
    {
     "data": {
      "text/html": [
       "<html>\\(\\displaystyle \\left(\\begin{array}{rr}\n",
       "121 & 180 \\\\\n",
       "-80 & -119\n",
       "\\end{array}\\right)\\)</html>"
      ],
      "text/latex": [
       "$\\displaystyle \\left(\\begin{array}{rr}\n",
       "121 & 180 \\\\\n",
       "-80 & -119\n",
       "\\end{array}\\right)$"
      ],
      "text/plain": [
       "[ 121  180]\n",
       "[ -80 -119]"
      ]
     },
     "metadata": {},
     "output_type": "display_data"
    },
    {
     "name": "stdout",
     "output_type": "stream",
     "text": [
      "\n",
      "sample eigenvector:\n",
      "[1, -2/3]\n",
      "\n",
      "closed: True\n",
      "saddle: False\n"
     ]
    },
    {
     "data": {
      "image/png": "[encoded data removed]",
      "text/plain": [
       "Graphics object consisting of 111 graphics primitives"
      ]
     },
     "metadata": {},
     "output_type": "display_data"
    }
   ],
   "source": [
    "display_info('2,1',2)"
   ]
  },
  {
   "cell_type": "code",
   "execution_count": 81,
   "id": "9acd38ac",
   "metadata": {},
   "outputs": [
    {
     "name": "stdout",
     "output_type": "stream",
     "text": [
      "\n",
      "IDR 20/2000\r"
     ]
    },
    {
     "name": "stderr",
     "output_type": "stream",
     "text": [
      "/private/var/tmp/sage-9.6-current/local/var/lib/sage/venv-python3.10.3/lib/python3.10/site-packages/sage/rings/qqbar.py:2865: DeprecationWarning: non-integer arguments to randrange() have been deprecated since Python 3.10 and will be removed in a subsequent version\n",
      "  roots = p.roots(ring, False)\n"
     ]
    },
    {
     "name": "stdout",
     "output_type": "stream",
     "text": [
      "IDR 560/2000\r"
     ]
    },
    {
     "name": "stderr",
     "output_type": "stream",
     "text": [
      "/private/var/tmp/sage-9.6-current/local/var/lib/sage/venv-python3.10.3/lib/python3.10/site-packages/zmq/sugar/attrsettr.py:51: RuntimeWarning: cypari2 leaked 11809943008 bytes on the PARI stack\n",
      "  return self._get_attr_opt(upper_key, opt)\n"
     ]
    },
    {
     "name": "stdout",
     "output_type": "stream",
     "text": [
      "ERROR: inconsistent avma when removing Gen from PARI stack\n",
      "Expected: 0x2bfe56950\n",
      "Actual:   0x2bfed94c8\n",
      "IDR 2000/2000 --> 326.94 seconds\n",
      "Plot IDR 1877/1877 --> 4.02 seconds\r"
     ]
    },
    {
     "data": {
      "image/png": "[encoded data removed]",
      "text/plain": [
       "Graphics object consisting of 15870 graphics primitives"
      ]
     },
     "metadata": {},
     "output_type": "display_data"
    },
    {
     "data": {
      "text/html": [
       "<html>\\(\\displaystyle \\left[\\left(\\begin{array}{rr}\n",
       "161 & 144 \\\\\n",
       "180 & 161\n",
       "\\end{array}\\right), \\left(\\begin{array}{rr}\n",
       "119 & 180 \\\\\n",
       "-80 & -121\n",
       "\\end{array}\\right), \\left(\\begin{array}{rr}\n",
       "121 & 180 \\\\\n",
       "-80 & -119\n",
       "\\end{array}\\right), \\left(\\begin{array}{rr}\n",
       "65 & -53 \\\\\n",
       "-38 & 31\n",
       "\\end{array}\\right), \\left(\\begin{array}{rr}\n",
       "121 & -180 \\\\\n",
       "80 & -119\n",
       "\\end{array}\\right), \\left(\\begin{array}{rr}\n",
       "47 & -77 \\\\\n",
       "-\\frac{119}{2} & \\frac{195}{2}\n",
       "\\end{array}\\right), \\left(\\begin{array}{rr}\n",
       "\\frac{23}{2} & \\frac{63}{2} \\\\\n",
       "-\\frac{7}{2} & -\\frac{19}{2}\n",
       "\\end{array}\\right), \\left(\\begin{array}{rr}\n",
       "\\frac{473}{2} & -107 \\\\\n",
       "-\\frac{305}{2} & 69\n",
       "\\end{array}\\right), \\left(\\begin{array}{rr}\n",
       "-15 & -32 \\\\\n",
       "8 & 17\n",
       "\\end{array}\\right), \\left(\\begin{array}{rr}\n",
       "21 & 11 \\\\\n",
       "-44 & -23\n",
       "\\end{array}\\right), \\left(\\begin{array}{rr}\n",
       "23 & 11 \\\\\n",
       "-44 & -21\n",
       "\\end{array}\\right), \\left(\\begin{array}{rr}\n",
       "-\\frac{797}{4} & -\\frac{1157}{4} \\\\\n",
       "-\\frac{549}{4} & -\\frac{797}{4}\n",
       "\\end{array}\\right), \\left(\\begin{array}{rr}\n",
       "29 & 20 \\\\\n",
       "-45 & -31\n",
       "\\end{array}\\right), \\left(\\begin{array}{rr}\n",
       "23 & -11 \\\\\n",
       "44 & -21\n",
       "\\end{array}\\right), \\left(\\begin{array}{rr}\n",
       "-\\frac{23}{2} & -\\frac{63}{2} \\\\\n",
       "\\frac{7}{2} & \\frac{19}{2}\n",
       "\\end{array}\\right), \\left(\\begin{array}{rr}\n",
       "-\\frac{19}{2} & -\\frac{63}{2} \\\\\n",
       "\\frac{7}{2} & \\frac{23}{2}\n",
       "\\end{array}\\right), \\left(\\begin{array}{rr}\n",
       "-14 & -5 \\\\\n",
       "-39 & -14\n",
       "\\end{array}\\right), \\left(\\begin{array}{rr}\n",
       "-161 & 144 \\\\\n",
       "180 & -161\n",
       "\\end{array}\\right), \\left(\\begin{array}{rr}\n",
       "65 & 53 \\\\\n",
       "38 & 31\n",
       "\\end{array}\\right), \\left(\\begin{array}{rr}\n",
       "\\frac{797}{4} & -\\frac{1157}{4} \\\\\n",
       "-\\frac{549}{4} & \\frac{797}{4}\n",
       "\\end{array}\\right), \\left(\\begin{array}{rr}\n",
       "47 & 77 \\\\\n",
       "\\frac{119}{2} & \\frac{195}{2}\n",
       "\\end{array}\\right), \\left(\\begin{array}{rr}\n",
       "\\frac{473}{2} & 107 \\\\\n",
       "\\frac{305}{2} & 69\n",
       "\\end{array}\\right), \\left(\\begin{array}{rr}\n",
       "-31 & -20 \\\\\n",
       "45 & 29\n",
       "\\end{array}\\right), \\left(\\begin{array}{rr}\n",
       "-1 & 6 \\\\\n",
       "0 & -1\n",
       "\\end{array}\\right), \\left(\\begin{array}{rr}\n",
       "\\frac{479}{2} & -\\frac{689}{2} \\\\\n",
       "-\\frac{333}{2} & \\frac{479}{2}\n",
       "\\end{array}\\right), \\left(\\begin{array}{rr}\n",
       "-15 & -58 \\\\\n",
       "-8 & -31\n",
       "\\end{array}\\right), \\left(\\begin{array}{rr}\n",
       "1 & 0 \\\\\n",
       "6 & 1\n",
       "\\end{array}\\right), \\left(\\begin{array}{rr}\n",
       "-23 & -11 \\\\\n",
       "44 & 21\n",
       "\\end{array}\\right), \\left(\\begin{array}{rr}\n",
       "-47 & 77 \\\\\n",
       "\\frac{119}{2} & -\\frac{195}{2}\n",
       "\\end{array}\\right), \\left(\\begin{array}{rr}\n",
       "-121 & 180 \\\\\n",
       "-80 & 119\n",
       "\\end{array}\\right), \\left(\\begin{array}{rr}\n",
       "-31 & 20 \\\\\n",
       "-45 & 29\n",
       "\\end{array}\\right), \\left(\\begin{array}{rr}\n",
       "-1 & 0 \\\\\n",
       "0 & -1\n",
       "\\end{array}\\right)\\right]\\)</html>"
      ],
      "text/latex": [
       "$\\displaystyle \\left[\\left(\\begin{array}{rr}\n",
       "161 & 144 \\\\\n",
       "180 & 161\n",
       "\\end{array}\\right), \\left(\\begin{array}{rr}\n",
       "119 & 180 \\\\\n",
       "-80 & -121\n",
       "\\end{array}\\right), \\left(\\begin{array}{rr}\n",
       "121 & 180 \\\\\n",
       "-80 & -119\n",
       "\\end{array}\\right), \\left(\\begin{array}{rr}\n",
       "65 & -53 \\\\\n",
       "-38 & 31\n",
       "\\end{array}\\right), \\left(\\begin{array}{rr}\n",
       "121 & -180 \\\\\n",
       "80 & -119\n",
       "\\end{array}\\right), \\left(\\begin{array}{rr}\n",
       "47 & -77 \\\\\n",
       "-\\frac{119}{2} & \\frac{195}{2}\n",
       "\\end{array}\\right), \\left(\\begin{array}{rr}\n",
       "\\frac{23}{2} & \\frac{63}{2} \\\\\n",
       "-\\frac{7}{2} & -\\frac{19}{2}\n",
       "\\end{array}\\right), \\left(\\begin{array}{rr}\n",
       "\\frac{473}{2} & -107 \\\\\n",
       "-\\frac{305}{2} & 69\n",
       "\\end{array}\\right), \\left(\\begin{array}{rr}\n",
       "-15 & -32 \\\\\n",
       "8 & 17\n",
       "\\end{array}\\right), \\left(\\begin{array}{rr}\n",
       "21 & 11 \\\\\n",
       "-44 & -23\n",
       "\\end{array}\\right), \\left(\\begin{array}{rr}\n",
       "23 & 11 \\\\\n",
       "-44 & -21\n",
       "\\end{array}\\right), \\left(\\begin{array}{rr}\n",
       "-\\frac{797}{4} & -\\frac{1157}{4} \\\\\n",
       "-\\frac{549}{4} & -\\frac{797}{4}\n",
       "\\end{array}\\right), \\left(\\begin{array}{rr}\n",
       "29 & 20 \\\\\n",
       "-45 & -31\n",
       "\\end{array}\\right), \\left(\\begin{array}{rr}\n",
       "23 & -11 \\\\\n",
       "44 & -21\n",
       "\\end{array}\\right), \\left(\\begin{array}{rr}\n",
       "-\\frac{23}{2} & -\\frac{63}{2} \\\\\n",
       "\\frac{7}{2} & \\frac{19}{2}\n",
       "\\end{array}\\right), \\left(\\begin{array}{rr}\n",
       "-\\frac{19}{2} & -\\frac{63}{2} \\\\\n",
       "\\frac{7}{2} & \\frac{23}{2}\n",
       "\\end{array}\\right), \\left(\\begin{array}{rr}\n",
       "-14 & -5 \\\\\n",
       "-39 & -14\n",
       "\\end{array}\\right), \\left(\\begin{array}{rr}\n",
       "-161 & 144 \\\\\n",
       "180 & -161\n",
       "\\end{array}\\right), \\left(\\begin{array}{rr}\n",
       "65 & 53 \\\\\n",
       "38 & 31\n",
       "\\end{array}\\right), \\left(\\begin{array}{rr}\n",
       "\\frac{797}{4} & -\\frac{1157}{4} \\\\\n",
       "-\\frac{549}{4} & \\frac{797}{4}\n",
       "\\end{array}\\right), \\left(\\begin{array}{rr}\n",
       "47 & 77 \\\\\n",
       "\\frac{119}{2} & \\frac{195}{2}\n",
       "\\end{array}\\right), \\left(\\begin{array}{rr}\n",
       "\\frac{473}{2} & 107 \\\\\n",
       "\\frac{305}{2} & 69\n",
       "\\end{array}\\right), \\left(\\begin{array}{rr}\n",
       "-31 & -20 \\\\\n",
       "45 & 29\n",
       "\\end{array}\\right), \\left(\\begin{array}{rr}\n",
       "-1 & 6 \\\\\n",
       "0 & -1\n",
       "\\end{array}\\right), \\left(\\begin{array}{rr}\n",
       "\\frac{479}{2} & -\\frac{689}{2} \\\\\n",
       "-\\frac{333}{2} & \\frac{479}{2}\n",
       "\\end{array}\\right), \\left(\\begin{array}{rr}\n",
       "-15 & -58 \\\\\n",
       "-8 & -31\n",
       "\\end{array}\\right), \\left(\\begin{array}{rr}\n",
       "1 & 0 \\\\\n",
       "6 & 1\n",
       "\\end{array}\\right), \\left(\\begin{array}{rr}\n",
       "-23 & -11 \\\\\n",
       "44 & 21\n",
       "\\end{array}\\right), \\left(\\begin{array}{rr}\n",
       "-47 & 77 \\\\\n",
       "\\frac{119}{2} & -\\frac{195}{2}\n",
       "\\end{array}\\right), \\left(\\begin{array}{rr}\n",
       "-121 & 180 \\\\\n",
       "-80 & 119\n",
       "\\end{array}\\right), \\left(\\begin{array}{rr}\n",
       "-31 & 20 \\\\\n",
       "-45 & 29\n",
       "\\end{array}\\right), \\left(\\begin{array}{rr}\n",
       "-1 & 0 \\\\\n",
       "0 & -1\n",
       "\\end{array}\\right)\\right]$"
      ],
      "text/plain": [
       "[\n",
       "[161 144]  [ 119  180]  [ 121  180]  [ 65 -53]  [ 121 -180]\n",
       "[180 161], [ -80 -121], [ -80 -119], [-38  31], [  80 -119],\n",
       "\n",
       "[    47    -77]  [ 23/2  63/2]  [ 473/2   -107]  [-15 -32]  [ 21  11]\n",
       "[-119/2  195/2], [ -7/2 -19/2], [-305/2     69], [  8  17], [-44 -23],\n",
       "\n",
       "[ 23  11]  [ -797/4 -1157/4]  [ 29  20]  [ 23 -11]  [-23/2 -63/2]\n",
       "[-44 -21], [ -549/4  -797/4], [-45 -31], [ 44 -21], [  7/2  19/2],\n",
       "\n",
       "[-19/2 -63/2]  [-14  -5]  [-161  144]  [65 53]  [  797/4 -1157/4]\n",
       "[  7/2  23/2], [-39 -14], [ 180 -161], [38 31], [ -549/4   797/4],\n",
       "\n",
       "[   47    77]  [473/2   107]  [-31 -20]  [-1  6]  [ 479/2 -689/2]\n",
       "[119/2 195/2], [305/2    69], [ 45  29], [ 0 -1], [-333/2  479/2],\n",
       "\n",
       "[-15 -58]  [1 0]  [-23 -11]  [   -47     77]  [-121  180]  [-31  20]\n",
       "[ -8 -31], [6 1], [ 44  21], [ 119/2 -195/2], [ -80  119], [-45  29],\n",
       "\n",
       "[-1  0]\n",
       "[ 0 -1]\n",
       "]"
      ]
     },
     "metadata": {},
     "output_type": "display_data"
    }
   ],
   "source": [
    "all_veech_matrices = {}\n",
    "DS, S, gs, s = dimple(2,1)\n",
    "IDC1 = IDC(DS, 2000, veech = 1, show_current_sym = 0)\n",
    "all_veech_matrices['2,1'] = [list(IDC1.generators(normalize_det=1)),S]\n",
    "show(IDC1.plot(model = 'UHP', figsize = 10)) #UHP or KM\n",
    "show(list(IDC1.generators(normalize_det=1)))"
   ]
  },
  {
   "cell_type": "code",
   "execution_count": null,
   "id": "eb137820",
   "metadata": {},
   "outputs": [],
   "source": [
    "# sage: cyl.holonomy()\n",
    "# (3*a + 4, 2*a + 3)\n",
    "# sage: cyl.edges()\n",
    "# (2, 3, 3, 2, 4)\n",
    "# cyl.polygons()\n",
    "# b = cyl.boundary()"
   ]
  },
  {
   "cell_type": "code",
   "execution_count": 534,
   "id": "124f09dc",
   "metadata": {
    "scrolled": false
   },
   "outputs": [
    {
     "data": {
      "image/png": "[encoded data removed]",
      "text/plain": [
       "Graphics object consisting of 74 graphics primitives"
      ]
     },
     "execution_count": 534,
     "metadata": {},
     "output_type": "execute_result"
    }
   ],
   "source": [
    "UHP = HyperbolicPlane().UHP()\n",
    "\n",
    "orbit = UHP.get_point(I).show(color = 'red')\n",
    "orbit += UHP.get_point(1).show(color = 'red')\n",
    "orbit += UHP.get_point(-1).show(color = 'red')\n",
    "orbit += UHP.get_point(0).show(color = 'red')\n",
    "    \n",
    "points = [I]\n",
    "\n",
    "for j in range(1):\n",
    "    new_points = [moebius_transform(matrix(m),p) for m in matrices['2,1'] for p in points]\n",
    "    points += new_points\n",
    "\n",
    "for k in points:\n",
    "    orbit += UHP.get_point(k).show()\n",
    "    \n",
    "orbit.plot()"
   ]
  }
 ],
 "metadata": {
  "kernelspec": {
   "display_name": "SageMath 9.6",
   "language": "sage",
   "name": "sagemath-9.6"
  },
  "language_info": {
   "codemirror_mode": {
    "name": "ipython",
    "version": 3
   },
   "file_extension": ".py",
   "mimetype": "text/x-python",
   "name": "python",
   "nbconvert_exporter": "python",
   "pygments_lexer": "ipython3",
   "version": "3.10.3"
  }
 },
 "nbformat": 4,
 "nbformat_minor": 5
}
