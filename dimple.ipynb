{
 "cells": [
  {
   "cell_type": "code",
   "execution_count": 1,
   "id": "3e735c88",
   "metadata": {},
   "outputs": [],
   "source": [
    "import flatsurf\n",
    "from flatsurf import *\n",
    "from flatsurf.geometry.similarity_surface_generators import *\n",
    "from flatsurf.geometry.polygon import polygons\n",
    "from sage.geometry.hyperbolic_space.hyperbolic_model import HyperbolicGeodesic\n",
    "from sage.geometry.hyperbolic_space.hyperbolic_model import moebius_transform\n",
    "from sage.plot.plot3d.shapes import *\n",
    "from sage.plot.plot3d.shapes2 import Line\n",
    "import time\n",
    "\n",
    "\n",
    "class Vertex:\n",
    "    r'''\n",
    "    A vertex object can be defined by either a complex number or a pair of\n",
    "    coordinates of norm <= 1. They represent a point in the UHP and Klein model\n",
    "    respectively. The 'get_field' option will tell the program to generate a\n",
    "    number field for the coordinate in the Klein model.\n",
    "    '''\n",
    "    def __init__(self, v, get_field = False):\n",
    "        self._v_km = None\n",
    "        self._v_uhp = None\n",
    "        if get_field:\n",
    "            self._v_km = generate_field(v)\n",
    "        else:\n",
    "            if type(v) == tuple:\n",
    "                self._v_km = v\n",
    "            else:\n",
    "                self._v_uhp = v\n",
    "                self._v_km = point_UHP_to_KM(v)\n",
    "        \n",
    "    def dist(self, other):\n",
    "        r'''\n",
    "        Returns the Euclidean distance from one point to another in KM.\n",
    "        '''\n",
    "        return sqrt((self.x() - other.x())**2 + (self.y() - other.y())**2)\n",
    "            \n",
    "    def __rmul__(self, other):\n",
    "        r'''\n",
    "        This defines coordinate-wise multiplication.\n",
    "        '''\n",
    "        assert type(other) == Vertex\n",
    "        return Vertex((other * self.km()[0], other * self.km()[1]))\n",
    "        \n",
    "    def __add__(self, other):\n",
    "        r'''\n",
    "        This defines coordinate-wise addition.\n",
    "        '''\n",
    "        return Vertex((self.x() + other.x(), self.y() + other.y()))\n",
    "    \n",
    "    def __sub__(self, other):\n",
    "        r'''\n",
    "        This defines coordinate-wise subtraction.\n",
    "        '''\n",
    "        return Vertex((self.x() - other.x(), self.y() - other.y()))\n",
    "    \n",
    "    def __neg__(self):\n",
    "        r'''\n",
    "        This defines the negative of a vertex object.\n",
    "        '''\n",
    "        return Vertex((-self.x(), -self.y()))\n",
    "    \n",
    "    \n",
    "    def __eq__(self, other):\n",
    "        r'''\n",
    "        For two vertex objects to be equal, they must represent the same point in KM or UHP.\n",
    "        '''\n",
    "        return (AA(self.x()), AA(self.y())) == (AA(other.x()), AA(other.y()))\n",
    "    \n",
    "    @cached_method\n",
    "    def __hash__(self):\n",
    "        r'''\n",
    "        The hash is defined by the sum of the hashes of the x and y-coordinates in KM.\n",
    "        '''\n",
    "        return hash(AA(self.x())) + hash(AA(self.y()))\n",
    "    def km(self, approx = False):\n",
    "        if approx:\n",
    "            return (float(self.x()), float(self.y()))\n",
    "        return self._v_km\n",
    "    def uhp(self, approx = False):\n",
    "        if self._v_uhp:\n",
    "            if approx:\n",
    "                return self._v_uhp.n()\n",
    "            return self._v_uhp\n",
    "        else:\n",
    "            self._v_uhp = point_KM_to_UHP(self.km())\n",
    "            if approx:\n",
    "                return self._v_uhp.n()\n",
    "            return self._v_uhp\n",
    "    \n",
    "    def x(self):\n",
    "        return self.km()[0]\n",
    "    def y(self):\n",
    "        return self.km()[1]\n",
    "    def norm(self):\n",
    "        r'''\n",
    "        Returns the Euclidean distance from (0, 0) to self.\n",
    "        '''\n",
    "        return self.km()[0]**2 + self.km()[1]**2\n",
    "    def plot(self, model = \"UHP\", axes = True, xmin = -2, xmax = 2, ymin = 0, ymax = 2, figsize = 30):\n",
    "        try:\n",
    "            if model == \"UHP\":\n",
    "                g = HyperbolicPlane().UHP().get_point(self.uhp(approx = True), color = \"red\", size = 50)\n",
    "            else:\n",
    "                g = HyperbolicPlane().KM().get_point(self.km(approx = True), color = \"red\", size = 50)\n",
    "            return g.show()\n",
    "        except AttributeError:\n",
    "            pass\n",
    "\n",
    "\n",
    "class Edge:\n",
    "    r'''\n",
    "    An edge object is represented by a pair of vertex objects. However, if\n",
    "    e1 = Edge(v1, v2) and\n",
    "    e2 = Edge(v2, v1).\n",
    "    We want them to be the same under ==.\n",
    "    '''\n",
    "    \n",
    "    \n",
    "    def __init__(self, v1, v2):\n",
    "        self._end_points = [v1, v2]\n",
    "    \n",
    "    def e(self):\n",
    "        return self._end_points\n",
    "    def e_km(self, approx = False):\n",
    "        \n",
    "        return self._end_points[0].km(approx = approx), self._end_points[1].km(approx = approx)\n",
    "#         return self._end_points[0].km(), self._end_points[1].km()\n",
    "    def e_uhp(self, approx = False):\n",
    "        r'''\n",
    "        The approx parameter is there for plotting.\n",
    "        '''\n",
    "        return self._end_points[0].uhp(approx = approx), self._end_points[1].uhp(approx = approx)\n",
    "    \n",
    "    \n",
    "    def __eq__(self, other):\n",
    "        return set(self.e()) == set(other.e())\n",
    "\n",
    "    @cached_method\n",
    "    def __hash__(self):\n",
    "        r'''\n",
    "        The hash of an edge is the sum of the hashes of its vertices.\n",
    "        '''\n",
    "        return hash(self._end_points[0]) + hash(self._end_points[1])\n",
    "    \n",
    "    def plot(self, model = \"UHP\", axes = True, xmin = -2, xmax = 2,\n",
    "             ymin = 0, ymax = 2, figsize = 30, color = \"blue\"):\n",
    "        try:\n",
    "            if model == \"UHP\":\n",
    "                g = HyperbolicPlane().UHP().get_geodesic(self.e_uhp(approx = True)[0],\\\n",
    "                                                         self.e_uhp(approx = True)[1], color = color)\n",
    "                return g.plot(axes = axes, xmin = xmin, xmax = xmax,\\\n",
    "                                  ymin = ymin, ymax = ymax, figsize = figsize)\n",
    "            else:\n",
    "                g = HyperbolicPlane().KM().get_geodesic(self.e_km(approx = True)[0],\\\n",
    "                                                        self.e_km(approx = True)[1], color = color)\n",
    "                return g.plot(axes = axes, xmin = -1, xmax = 1, ymin = -1, ymax = 1, figsize = figsize)\n",
    "        except AttributeError:\n",
    "            return None\n",
    "\n",
    "        \n",
    "        \n",
    "@cached_function\n",
    "def get_intersection(v1, v2, w1, w2):\n",
    "    r'''\n",
    "    Given four vertex objects, return the intersection of\n",
    "    two lines defined by v1, v2 and w1, w2, respectively.\n",
    "    '''\n",
    "    x1, y1 = v1.km()\n",
    "    x2, y2 = v2.km()\n",
    "    x3, y3 = w1.km()\n",
    "    x4, y4 = w2.km()\n",
    "    D = (x1-x2)*(y3-y4) - (y1-y2)*(x3-x4)\n",
    "    Px = (x1*y2-y1*x2)*(x3-x4) - (x1-x2)*(x3*y4-y3*x4)\n",
    "    Py = (x1*y2-y1*x2)*(y3-y4) - (y1-y2)*(x3*y4-y3*x4)\n",
    "    return Vertex((Px/D, Py/D), get_field = True)\n",
    "\n",
    "@cached_function\n",
    "def tri_center(v1, v2, v3):\n",
    "    r'''\n",
    "    Given three vertices, define a mobius map by\n",
    "    v1 |-> v2,\n",
    "    v2 |-> v3, and\n",
    "    v3 |-> v1.\n",
    "    Return the vertex object defined by the fixed point of\n",
    "    this mobius map such that the imaginary component is positive.\n",
    "    '''\n",
    "    \n",
    "    center_of_0_1_inf = 1/2 + sqrt(3)/2 * I\n",
    "    L = [v1.uhp(), v2.uhp(), v3.uhp()]\n",
    "    if v2.uhp() == oo:\n",
    "        L = [v2.uhp(), v3.uhp(), v1.uhp()]\n",
    "    elif v3.uhp() == oo:\n",
    "        L = [v3.uhp(), v1.uhp(), v2.uhp()]\n",
    "    if oo in L: #we know L[0] == oo\n",
    "        f(x) = ((x-1)*L[2] + L[1]) / x\n",
    "    else:\n",
    "        f(x) = (L[0] * ((x-1)*L[2] + L[1]) - x*L[1]*L[2]) / (x*L[0] - (x-1)*L[1] - L[2])\n",
    "    return Vertex(f(center_of_0_1_inf), get_field = True)\n",
    "        \n",
    "        \n",
    "        \n",
    "        \n",
    "        \n",
    "@cached_function\n",
    "def generate_field(v):\n",
    "    r'''\n",
    "    Given a complex number (UHP) or a pair of coordinates (KM),\n",
    "    return a pair of coordinates in KM where the coordinates\n",
    "    are in a number field.\n",
    "    '''\n",
    "    if type(v) != tuple:\n",
    "        v = point_UHP_to_KM(v)\n",
    "    tup = number_field_elements_from_algebraics([v[0], v[1]], embedded=True)\n",
    "    field = tup[0]\n",
    "    return (field(v[0]), field(v[1]))\n",
    "        \n",
    "@cached_function\n",
    "def point_UHP_to_KM(z, approx = False):\n",
    "    if approx:\n",
    "        z = z.n()\n",
    "    if z == oo:\n",
    "        return (0, 1)\n",
    "    pairx = 2 * z.real() / (z.real()**2 + z.imag()**2 + 1)\n",
    "    pairy = (z.real()**2 + z.imag()**2 - 1) / (z.real()**2 + z.imag()**2 + 1)\n",
    "    return (pairx, pairy)\n",
    "\n",
    "@cached_function\n",
    "def point_KM_to_UHP(pair, approx = False):\n",
    "    if approx:\n",
    "        x, y = float(pair[0]), float(pair[1])\n",
    "        temp = 1 - x**2 - y**2\n",
    "        if temp <= 0:\n",
    "            return x / (1-y)\n",
    "        else:\n",
    "            return x / (1-y) + I*(sqrt(temp) / (1-y))\n",
    "    else:\n",
    "        x, y  = pair[0], pair[1]\n",
    "    if (x, y) == (0, 1):\n",
    "        return oo\n",
    "    return QQbar(x) / QQbar(1-y) + QQbar(I)*QQbar(sqrt(AA(1 - x**2 - y**2)) / QQbar(1-y))\n",
    "\n",
    "@cached_function\n",
    "def point_KM_to_float_UHP(pair):\n",
    "    x, y = pair[0], pair[1]\n",
    "    if (x, y) == (0, 1):\n",
    "        return oo\n",
    "    x, y = float(pair[0]), float(pair[1])\n",
    "    temp = 1 - x**2 - y**2\n",
    "    if temp <= 0:\n",
    "        return x / (1-y)\n",
    "    else:\n",
    "        return x / (1-y) + I*(sqrt(temp) / (1-y))\n",
    "\n",
    "@cached_function\n",
    "def get_edge_geo_ineq(s, x, no_geo = False): # x is of the form ((p0, e0), (p1, e1))\n",
    "    r'''\n",
    "    Given a surface s, and gluing data x, return the inequality\n",
    "    defined in Bowman's paper and the geodesic (edge object).\n",
    "    In particular, the inequality is a line in the KM (Bowman p.8, eq.2),\n",
    "    and the geodesic returned is the line in the UHP.\n",
    "    \n",
    "    Note that the geodesic is not needed when we try to build an\n",
    "    IDR from a translation surface, hence the paramater 'no_geo'.\n",
    "    '''\n",
    "    # Below gives a polygon named 'new_polygon' defined by the four points\n",
    "    # obtained from the gluing data x.\n",
    "    P = Polygons(s.base_ring())\n",
    "    p0_label = x[0][0]\n",
    "    p1_label = x[1][0]\n",
    "    e0 = x[0][1]\n",
    "    e1 = x[1][1]\n",
    "    p0 = s.polygon(p0_label)\n",
    "    g = s.edge_transformation(p1_label, e1)\n",
    "    p1 = g(s.polygon(p1_label))\n",
    "    p0_moved = P(edges=[p0.edge((i + e0)%3) for i in range(3)])\n",
    "    p1_moved = P(edges=[p1.edge((i + e1 + 1)%3) for i in range(3)])\n",
    "    new_poly_e0 = p1_moved.edge(0)\n",
    "    new_poly_e1 = p1_moved.edge(1)\n",
    "    new_poly_e2 = p0_moved.edge(1)\n",
    "    new_poly_e3 = p0_moved.edge(2)\n",
    "    new_polygon = P(edges = (new_poly_e0, new_poly_e1, new_poly_e2, new_poly_e3))\n",
    "    p = new_polygon.vertices()\n",
    "    \n",
    "    # Below defined a, b, c from Bowman's paper (p.8)\n",
    "    x0, y0, x1, y1, x2, y2, x3, y3 = p[0][0], p[0][1], p[1][0], p[1][1], p[2][0], p[2][1], p[3][0], p[3][1]\n",
    "    x0, y0, x1, y1, x2, y2, x3, y3 = 0, 0, (x1-x0), (y1-y0), (x2-x0), (y2-y0), (x3-x0), (y3-y0)\n",
    "    a = x1*y2*y3*(y3-y2) + x2*y1*y3*(y1-y3) + x3*y1*y2*(y2-y1)\n",
    "    b = x1*y1*(x2*y3-x3*y2) + x2*y2*(x3*y1-x1*y3) + x3*y3*(x1*y2-x2*y1)\n",
    "    c = x1*x2*y3*(x1-x2) + x2*x3*y1*(x2-x3) + x1*x3*y2*(x3-x1)\n",
    "    \n",
    "    if no_geo:\n",
    "        geo = None\n",
    "    else:\n",
    "        try:\n",
    "            if a == 0 and b!= 0:\n",
    "                v1 = Vertex(-c/(2*b), get_field = True)\n",
    "                v2 = Vertex((0, 1))\n",
    "                geo = Edge(v1, v2)\n",
    "            elif (a == 0 and b == 0) or (b**2 - a*c <= 0):\n",
    "                geo = None\n",
    "            else:\n",
    "                # r1 and r2 are the real points defining the geo in UHP\n",
    "                r1 = ((-b + sqrt(b**2 - a*c)) / a)\n",
    "                r2 = ((-b - sqrt(b**2 - a*c)) / a)\n",
    "                v1 = Vertex(r1, get_field = True)\n",
    "                v2 = Vertex(r2, get_field = True)\n",
    "                geo = Edge(v1, v2)\n",
    "        except ZeroDivisionError as err:\n",
    "            print(\"/0 Error: {}\".format(err))\n",
    "        except ValueError as err:\n",
    "            print(\"Value Error: {}\".format(err))\n",
    "    # Returning a triple in the base_ring and a pair of points in QQbar.\n",
    "    return (a+c, 2*b, a-c), geo\n",
    "\n",
    "@cached_function\n",
    "def get_IDR_from_bowman(s):\n",
    "    r'''\n",
    "    This function returns most of the necessary data to define the\n",
    "    iso-Delaunay Region (IDR). Namely, edge_ineq_geo is a dictionary\n",
    "    where the key is a gluing data (represented by frozensets).\n",
    "    And the value is a triplet = (ineqality, geo, geo')\n",
    "    where inequality is given by the function get_edge_geo_ineq,\n",
    "    geo is a bounding geodesic of the IDR that contains s. And\n",
    "    geo' is geo extended to infinity.\n",
    "    '''\n",
    "    us = s.underlying_surface()\n",
    "    seen = set()\n",
    "    unique_edges = []\n",
    "    boundary_vertices = set()\n",
    "    for g in us.edge_gluing_iterator():\n",
    "        if g not in seen:\n",
    "            # g is the form ((a, b), (c, d)) where polygon a edge b is glued to polygon c edge d\n",
    "            unique_edges.append(g)\n",
    "        seen.add((g[0], g[1]))\n",
    "        seen.add((g[1], g[0]))\n",
    "    edge_ineq_geo = dict()\n",
    "    for x in unique_edges: # is of the form ((a, b), (c, d))\n",
    "        if type(s) == TranslationSurface:\n",
    "            ret = get_edge_geo_ineq(s, x, no_geo = True)\n",
    "        else:\n",
    "            ret = get_edge_geo_ineq(s, x) # return is (inequality, geo = frozenset(end points))\n",
    "        edge_ineq_geo[frozenset([x[0], x[1]])] = (ret[0], ret[1], None)\n",
    "        if ret[1]:\n",
    "            boundary_vertices.update(ret[1].e())\n",
    "    # edge_geo_ineq is of the form {edge: (ineq, geo)}\n",
    "    # we now wish to expand this edge_geo_ineq into the form\n",
    "    # {edge: (ineq, geo, geo')}\n",
    "    # where geo' is the actual edges of the IDR, if it does not exist, then it is simply None\n",
    "    all_inequalities = [x[0] for x in list(edge_ineq_geo.values())]\n",
    "    p = Polyhedron(ieqs=all_inequalities, base_ring=s.base_ring())\n",
    "    vertices = []\n",
    "    for v in boundary_vertices: # limit to circle and filter for uniqueness\n",
    "        in_IDR = True\n",
    "        for ineq in p.inequalities(): #inequality is of the form (c, a, b) = (ineq[0], ineq[1], ineq[2])\n",
    "            if not ineq[1]*v.x() + ineq[2]*v.y() + ineq[0] >= 0:\n",
    "                in_IDR = False\n",
    "                break\n",
    "        if in_IDR:\n",
    "            vertices.append(v)\n",
    "    for v in p.vertices():\n",
    "        if v.vector()[0]**2 + v.vector()[1]**2 <= 1:\n",
    "            vertices.append(Vertex((v.vector()[0], v.vector()[1])))\n",
    "    edges = []\n",
    "    vertices = list(set(vertices))\n",
    "    point_count = len(vertices)\n",
    "    shift_factor_x = 0\n",
    "    shift_factor_y = 0\n",
    "    for v in vertices:\n",
    "        shift_factor_x += v.x()\n",
    "        shift_factor_y += v.y()\n",
    "    shift_factor_x, shift_factor_y = shift_factor_x / point_count, shift_factor_y / point_count\n",
    "    vertices = [v - Vertex((shift_factor_x, shift_factor_y)) for v in vertices]\n",
    "    \n",
    "    @cached_function\n",
    "    def angle_cmp(v, w): #is angle v < angle w?\n",
    "        v = v.x(), v.y()\n",
    "        w = w.x(), w.y()\n",
    "        def get_place(p):\n",
    "            if p == (0, 0):\n",
    "                return 0\n",
    "            if p[0] > 0 and p[1] == 0:\n",
    "                return 1\n",
    "            if p[0] > 0 and p[1] > 0:\n",
    "                return 2\n",
    "            if p[0] == 0 and p[1] > 0:\n",
    "                return 3\n",
    "            if p[0] < 0 and p[1] > 0:\n",
    "                return 4\n",
    "            if p[0] < 0 and p[1] == 0:\n",
    "                return 5\n",
    "            if p[0] < 0 and p[1] < 0:\n",
    "                return 6\n",
    "            if p[0] == 0 and p[1] < 0:\n",
    "                return 7\n",
    "            return 8\n",
    "        # --------------------------------\n",
    "        if v == w:\n",
    "            return 0\n",
    "        if v == (0, 0):\n",
    "            return 1\n",
    "        if w == (0, 0):\n",
    "            return -1\n",
    "\n",
    "        if get_place(v) < get_place(w):\n",
    "            return 1\n",
    "        elif get_place(v) > get_place(w):\n",
    "            return -1\n",
    "        else:\n",
    "            det = (v[0] * w[1]) - (w[0] * v[1])\n",
    "            if det > 0:\n",
    "                return 1\n",
    "            elif det < 0:\n",
    "                return -1\n",
    "            else:\n",
    "                d1 = (v[0])**2 + (v[1])**2 \n",
    "                d2 = (w[0])**2 + (w[1])**2\n",
    "                if d1 < d2:\n",
    "                    return 1\n",
    "                return -1\n",
    "            \n",
    "    from functools import cmp_to_key\n",
    "    vertices = sorted(vertices, key=cmp_to_key(angle_cmp), reverse=True)\n",
    "    vertices = [v + Vertex((shift_factor_x, shift_factor_y)) for v in vertices]\n",
    "    for i in range(point_count - 1):\n",
    "        edges.append(Edge(vertices[i + 1], vertices[i]))\n",
    "    edges.append(Edge(vertices[0], vertices[point_count - 1]))\n",
    "    # \n",
    "    def adding_good_edges(e):\n",
    "        # This function takes an edge e and updates the edge_ineq_geo dictionary.\n",
    "        # This can be optimized further to get rid of the repeated computation right below.\n",
    "        IV = e.e()[0]\n",
    "        TV = e.e()[1]          \n",
    "        for key, triplet in edge_ineq_geo.items():\n",
    "            ineq = triplet[0]\n",
    "            if ineq[0] + IV.x()*ineq[1] + IV.y()*ineq[2] == 0\\\n",
    "                and ineq[0] + TV.x()*ineq[1] + TV.y()*ineq[2] == 0:\n",
    "                edge_ineq_geo[key] = (triplet[0], triplet[1], e)\n",
    "                \n",
    "    for e in edges: #is of the form ((IV[0], IV[1]), (TV[0], TV[1]))\n",
    "        IV = e.e()[0]\n",
    "        TV = e.e()[1]\n",
    "        if (IV.norm() == 1 and TV.norm() == 1) and (IV != TV):\n",
    "            # this if statement checks for edges that go from boundary to boundary in KM,\n",
    "            # which means it can potentially be a free edge, in which case, we must find\n",
    "            # a inequality that goes straight through it, if there does exist such a line\n",
    "            # then we will pass it onto the 'adding_good_edges' function for further\n",
    "            # investigation.\n",
    "            for c, a, b in all_inequalities:\n",
    "                if IV.x() * a + IV.y() * b + c == 0 and TV.x() * a + TV.y() * b + c == 0:\n",
    "                    adding_good_edges(e)\n",
    "                    break\n",
    "        else:\n",
    "            adding_good_edges(e)\n",
    "    return edge_ineq_geo, vertices\n",
    "\n",
    "\n",
    "@cached_function\n",
    "def mobius_eval(m, p):\n",
    "    r'''\n",
    "    This function takes a mobius map represented by a 2x2 matrix and acts on p.\n",
    "    Note: This is a right action, details given in Bowman p.5\n",
    "    '''\n",
    "    x = p[0]\n",
    "    y = p[1]\n",
    "    d, b = m[0]\n",
    "    c, a = m[1]\n",
    "    try:\n",
    "        if p == (0, 1):\n",
    "            if c != 0:\n",
    "                r = Vertex(a/c).km()\n",
    "                return (AA(r[0]), AA(r[1]))\n",
    "            else:\n",
    "                return (AA(0), AA(1))\n",
    "        A_fraktur = AA(x / (1 - y))\n",
    "        B_fraktur = AA(sqrt(AA(1 - x**2 - y**2)) / (1 - y))\n",
    "        Real = ((a * A_fraktur + b)*(c*A_fraktur+d) + (a*B_fraktur)*(c*B_fraktur)) /\\\n",
    "                ((c*A_fraktur+d)**2 + (c*B_fraktur)**2)\n",
    "        Imag = ((c*A_fraktur+d)*(a*B_fraktur) - (a*A_fraktur+b)*(c*B_fraktur)) /\\\n",
    "                ((c*A_fraktur+d)**2 + (c*B_fraktur)**2)\n",
    "        retx = 2 * Real / (Real**2 + Imag**2 + 1)\n",
    "        rety = (Real**2 + Imag**2 - 1) / (Real**2 + Imag**2 + 1)\n",
    "        return (AA(retx), AA(rety))\n",
    "    except ZeroDivisionError:\n",
    "        return (AA(0), AA(1))\n",
    "    \n",
    "    \n",
    "    \n",
    "    \n",
    "\n",
    "\n",
    "\n",
    "@cached_function\n",
    "def IDR_veech_distinct(TD, R1, R2):\n",
    "    r'''\n",
    "    This function tests if two IDRs named R1 and R2 are Veech distinct given a\n",
    "    TeichmullerDisk.\n",
    "    '''\n",
    "    \n",
    "    s = TD.defining_surface()\n",
    "    \n",
    "    # 1. If hash or number of vertices differ, we have different surfaces, return 1 for distinct.\n",
    "    if len(R1.vertices()) != len(R2.vertices()) or hash(R1) != hash(R2):\n",
    "        return 1\n",
    "    \n",
    "    # if the function did not return at this point, must be same hash, same num of vertices\n",
    "    # There might be a hash collision however, which we can check more carefully below.\n",
    "    \n",
    "    if R1.is_degenerate() and R2.is_degenerate():\n",
    "        # If the vertices of R1 and R2 all lie on the boundary, then we need \"pseudo vertices\" for\n",
    "        # the purpose of obtaining surfaces from R1 and R2\n",
    "        R1_points = R1.pseudo_vertices()\n",
    "        R2_points = R2.pseudo_vertices()\n",
    "    else:\n",
    "        R1_points = R1.vertices()\n",
    "        R2_points = R2.vertices()\n",
    "    \n",
    "    \n",
    "    # The dictionary below is keyed by surfaces, and values are vertex objects which\n",
    "    # goes to that surface under TeichmullerDisk.surface(v)\n",
    "    surf_vert_dict = dict()\n",
    "    for v in R1_points:\n",
    "        try:\n",
    "            surf = TD.surface(v, new_field = AA)\n",
    "            if surf and (surf not in surf_vert_dict):\n",
    "                surf_vert_dict[surf] = (set([v]), set())\n",
    "            elif surf:\n",
    "                surf_vert_dict[surf][0].add(v)\n",
    "        except AttributeError:\n",
    "            pass\n",
    "    # If while getting set_2, we see a brand new surface (this may happen if there was a hash collision)\n",
    "    # then we return 1, for distinct.\n",
    "    for v in R2_points:\n",
    "        try:\n",
    "            surf = TD.surface(v, new_field = AA)\n",
    "        except AttributeError:\n",
    "            pass\n",
    "        if surf and (surf not in surf_vert_dict):\n",
    "            return 1\n",
    "        elif surf:\n",
    "            surf_vert_dict[surf][1].add(v)\n",
    "    \n",
    "    # Now we attempt to map from R1 to R2 by a symmetry of the surface, if sucessful, then we will\n",
    "    # return map, otherwise, R1 and R2 are distinct, dispite the fact that they have the surfaces.\n",
    "    v2_AA = set((AA(v.km()[0]),AA(v.km()[1])) for v in R2.vertices())\n",
    "    for set_pair in surf_vert_dict.values():\n",
    "        for v1 in set_pair[0]:\n",
    "            for v2 in set_pair[1]:\n",
    "                m1 = TD.matrix(v1)\n",
    "                m2 = TD.matrix(v2)\n",
    "                s1, ders1 = (m1 * s).canonicalize(group = 'similarity', derivatives=True)\n",
    "                s2, ders2 = (m2 * s).canonicalize(group = 'similarity', derivatives=True)\n",
    "                R1_to_R2 = False\n",
    "                mats = set()\n",
    "                for der1 in ders1:\n",
    "                    for der2 in ders2:\n",
    "                        try:\n",
    "                            mat = matrix(~m1*~der1*der2*m2)\n",
    "                            mat = matrix(s.base_ring(), mat, immutable = True)\n",
    "                            mats.add(mat)\n",
    "                        except TypeError as t:\n",
    "                            print(t)\n",
    "                veech_generator = None\n",
    "                for mat in mats:\n",
    "                    v1_img = set(mobius_eval(mat, v.km()) for v in R1.vertices())\n",
    "                    if v1_img == v2_AA:\n",
    "                        veech_generator = mat\n",
    "                        R1_to_R2 = True\n",
    "                        break\n",
    "                if R1_to_R2:\n",
    "                    if veech_generator == matrix(s.base_ring(), [[1, 0], [0, 1]]):\n",
    "                        print(\"Identity matrix should not be here\")\n",
    "                        print([v.uhp() for v in R1_points])\n",
    "                        print([v.uhp() for v in R2_points])\n",
    "                    return 0, veech_generator\n",
    "    return 1"
   ]
  },
  {
   "cell_type": "code",
   "execution_count": 2,
   "id": "df73fcf5",
   "metadata": {},
   "outputs": [],
   "source": [
    "class TeichmullerDisk:\n",
    "    r'''\n",
    "    A TeichmullerDisk object is defined by a surface.\n",
    "    '''\n",
    "    def __init__(self, surface):\n",
    "        self._s = surface.canonicalize()\n",
    "        self._s.set_immutable()\n",
    "    def defining_surface(self):\n",
    "        return self._s\n",
    "    @cached_method\n",
    "    def matrix(self, p):\n",
    "        if type(p) != tuple:\n",
    "            p = p.km()\n",
    "        root = sqrt(AA(1-p[0]**2-p[1]**2))\n",
    "        x = p[0]\n",
    "        y = p[1]\n",
    "        assert root.parent()==AA\n",
    "        try:\n",
    "            x = self._s.base_ring()(x)\n",
    "            y = self._s.base_ring()(y)\n",
    "            root = self._s.base_ring()(root)\n",
    "            field = self._s.base_ring()\n",
    "        except (TypeError, ValueError):\n",
    "            tup = number_field_elements_from_algebraics([root, self._s.base_ring().gen(), x, y], embedded=True)\n",
    "            field = tup[0]\n",
    "            x = field(x)\n",
    "            y = field(y)\n",
    "            root = tup[1][0]\n",
    "        return matrix(field, [[1, field(x/(1-y))],\\\n",
    "                              [0, root/field(1-y)]], immutable = True)\n",
    "    @cached_method\n",
    "    def surface_from_matrix(self, m):\n",
    "        return (m*self._s).canonicalize(group='similarity') \n",
    "    \n",
    "    @cached_method\n",
    "    def surface(self, p, derivatives = False, new_field = None):\n",
    "        r'''\n",
    "        Returns the surface associated with p, which can either be a vertex object, or\n",
    "        a pair of coordinates in KM.\n",
    "        '''\n",
    "        try:\n",
    "            m = self.matrix(p)\n",
    "        except ZeroDivisionError:\n",
    "            return None\n",
    "        if m:\n",
    "            try:\n",
    "                ms = m * self._s\n",
    "            except ValueError as err:\n",
    "                return None\n",
    "            ret = ms.canonicalize(group='similarity', derivatives=derivatives)\n",
    "            if new_field:\n",
    "                ret = ret.copy(new_field = new_field)\n",
    "            ret.set_immutable()\n",
    "            return ret\n",
    "\n",
    "    \n",
    "class IDC:\n",
    "    r'''\n",
    "    An IDC object is defined by a surface and a number n, serving as the upper bound\n",
    "    of the number of IDRs we will look at before stopping.\n",
    "    The 'veech' option will determine if we should search for symmetries or not.\n",
    "    The 'show_current_sym' will determine if the program will print the generators\n",
    "    as they're found.\n",
    "    '''\n",
    "    def __init__(self, s, n, veech = True, show_current_sym = False):\n",
    "        # Below we need to find a shearing that takes the surface to a\n",
    "        # triangulation. Once that is done, we undo the shearing while keeping\n",
    "        # the triangulation.\n",
    "        self._shear = matrix([[1, 0], [0, 1]], immutable = True)\n",
    "        if not (self._shear * s).delaunay_decomposition().is_triangulated():\n",
    "            for i in range(0, 100):\n",
    "                shear = matrix([[1, 1/(100 - i)], [0, 1]], immutable = True)\n",
    "                if (shear * s).delaunay_decomposition().is_triangulated():\n",
    "                    self._shear = shear\n",
    "                    break\n",
    "        self._defining_surface = ~self._shear * ((self._shear * s).canonicalize())\n",
    "        self._td = TeichmullerDisk(self._defining_surface)\n",
    "        self._regions = [IDR(~self._shear * ((self._shear * s).canonicalize()),\\\n",
    "                             self._defining_surface, self._td)]\n",
    "        self._surf_ver_dict = dict()\n",
    "        self._generators = set()\n",
    "        self._queue = None\n",
    "        self._edge_complete = dict()\n",
    "        self._counter = 0\n",
    "        # If 'veech == True', then we initialize self._surf_ver_dict, a dictionary keyed\n",
    "        # by surfaces with values being sets of vertices that go to the key under TD.\n",
    "        if veech:\n",
    "            for v in self.IDRs()[0].vertices():\n",
    "                if v.norm() == 1:\n",
    "                    continue\n",
    "                surf = self._td.surface(v)\n",
    "                if surf:\n",
    "                    key = surf.copy(new_field = AA)\n",
    "                    key.set_immutable()\n",
    "                    surf.set_immutable()\n",
    "                    if key not in self._surf_ver_dict:\n",
    "                        self._surf_ver_dict[key] = (surf, set([v]))\n",
    "                    else:\n",
    "                        self._surf_ver_dict[key][1].add(v)\n",
    "        # We manually check if -I is a symmetry, this will help filtering out\n",
    "        # redundent elements, which is currently not perfect.\n",
    "        self._neg_I_is_sym = False\n",
    "        if (matrix(s.base_ring(), [[-1, 0], [0, -1]]) * s).canonicalize() == s.canonicalize():\n",
    "            self._generators.add(matrix(s.base_ring(), [[-1, 0], [0, -1]], immutable = True))\n",
    "            self._neg_I_is_sym = True\n",
    "        self.expand_IDR(n, veech = veech, show_current_sym = show_current_sym)\n",
    "        \n",
    "    \n",
    "    def generators(self, normalize_det = False):\n",
    "        r'''\n",
    "        Returns the generators of the Veech (sub)group that the program found.\n",
    "        The 'normalize_det' option will further filter the generators up to\n",
    "        +-inverse, and factors of -I if applicable. One is likely to get a\n",
    "        smaller set with 'normalized_det' when dealing with dilation surfaces.\n",
    "        '''\n",
    "        normalized_generators = set()\n",
    "        if normalize_det:\n",
    "            for g in self._generators:\n",
    "                gen = matrix(g / sqrt(g.det()), immutable = True)\n",
    "                gen_inv = matrix(~g, immutable = True)\n",
    "                neg_gen = matrix(matrix([[-1, 0], [0, -1]]) * g, immutable = True)\n",
    "                neg_gen_inv = matrix(matrix([[-1, 0], [0, -1]]) * gen_inv, immutable = True)\n",
    "                if self._neg_I_is_sym:\n",
    "                    if (gen not in normalized_generators) and (gen_inv not in normalized_generators)\\\n",
    "                        and (neg_gen not in normalized_generators) and (neg_gen_inv not in normalized_generators):\n",
    "                        normalized_generators.add(gen)\n",
    "                else:\n",
    "                    if (gen not in normalized_generators) and (gen_inv not in normalized_generators):\n",
    "                        normalized_generators.add(gen)\n",
    "            return normalized_generators\n",
    "        else:\n",
    "            return self._generators\n",
    "        return self._generators\n",
    "    def pre_shear(self):\n",
    "        r'''\n",
    "        Returns the shearing that takes the input surface to a triangulation.\n",
    "        '''\n",
    "        return self._shear\n",
    "    def IDRs(self, index = None):\n",
    "        r'''\n",
    "        Returns either all of the IDRs as a list, or a particular one at a given 'index'.\n",
    "        '''\n",
    "        if index != None:\n",
    "            return self._regions[index]\n",
    "        return self._regions\n",
    "    def surface(self):\n",
    "        r'''\n",
    "        Returns the input surface canonicalized, or triangulated + canonicalized,\n",
    "        if the surface is degenerate.\n",
    "        '''\n",
    "        return self._defining_surface\n",
    "    def surf_ver_dict(self):\n",
    "        r'''\n",
    "        Returns the dictionary with key = surface, value = set of vertices, that\n",
    "        go to the key under TeichmullerDisk(input surface).\n",
    "        '''\n",
    "        return self._surf_ver_dict\n",
    "    def TeichmullerDisk(self):\n",
    "        r'''\n",
    "        Returns TeichmullerDisk of the input surface.\n",
    "        '''\n",
    "        return self._td\n",
    "    def expand_IDR(self, n, veech, show_current_sym = False):\n",
    "        r'''\n",
    "        This function constructs the IDRs for self.IDRs(). It also computes\n",
    "        the generators 'self.generators()' if 'veech == True'.\n",
    "        '''\n",
    "        n = n + self._counter\n",
    "        seen_vertex = set()\n",
    "        continue_from_queue = False\n",
    "        # If there is no queue, then we initialize it.\n",
    "        if not self._queue:\n",
    "            print('Previous queue not found.')\n",
    "            self._queue = [self.IDRs()[0]]\n",
    "            for edge in self._queue[0].unique_geodesics().keys():\n",
    "                self._edge_complete[edge] = False\n",
    "        else:\n",
    "            n += 1\n",
    "            if veech:\n",
    "                self._counter -= 1\n",
    "        starttime = time.time()\n",
    "        \n",
    "        \n",
    "        while True:\n",
    "            # Gets the first element of the queue, if there is an index error, then\n",
    "            # it must be that 'veech == True', and that the program has terminated.\n",
    "            try:\n",
    "                curr_IDR = self._queue.pop(0)\n",
    "            except IndexError:\n",
    "                endtime = time.time()\n",
    "                print(\"IDR {}/{} --> {} seconds\".format(self._counter + 1, n, round((endtime - starttime) * 100) / 100))\n",
    "                print(\"Veech terminated\")\n",
    "                break\n",
    "            curr_surf = curr_IDR.surface()\n",
    "            # Loops through all the edges of the current surface, and tries to cross the edges of\n",
    "            # the IDR.\n",
    "            for edge, glue_to_flip in curr_IDR.unique_geodesics().items():\n",
    "                if not self._edge_complete[edge]:\n",
    "                    if self._counter + 1 == n:\n",
    "                        endtime = time.time()\n",
    "                        self._queue.insert(0, curr_IDR)\n",
    "                        print(\"IDR {}/{} --> {} seconds\".format(n, n, round((endtime - starttime) * 100) / 100))\n",
    "                        return 0\n",
    "                    else:\n",
    "                        print(\"IDR {}/{}\".format(self._counter + 1, n), end=\"\\r\")\n",
    "                    self._counter += 1\n",
    "                    curr_surf_flipped = curr_surf\n",
    "                    # This does the necessary flippings, so that the IDR defined by 'new_IDR' will be adjacent\n",
    "                    # to the 'curr_IDR'.\n",
    "                    for glue in glue_to_flip:\n",
    "                        to_flip = next(iter(glue))\n",
    "                        curr_surf_flipped = curr_surf_flipped.triangle_flip(to_flip[0], to_flip[1])\n",
    "                    new_IDR = IDR(curr_surf_flipped, self.surface(), self._td)\n",
    "                    if veech:\n",
    "                        # If 'veech == True', then whenever we find an IDR, we must check it against\n",
    "                        # all of the previous ones to determine if it is Veech-equivalent to any\n",
    "                        # of the them. If so, then we will not add it to the queue.\n",
    "                        distinct = True\n",
    "                        for region in self.IDRs():\n",
    "                            # For all regions in self.IDRs(), some of them need not be compared to the\n",
    "                            # 'new_IDR'. More precisely, the ones with all \"neighborhoods\" discovered can\n",
    "                            # be skipped.\n",
    "                            should_check = False\n",
    "                            for edge in region.unique_geodesics().keys():\n",
    "                                if not self._edge_complete[edge]:\n",
    "                                    should_check = True\n",
    "                                    break\n",
    "                            if should_check:\n",
    "                                ret = IDR_veech_distinct(self.TeichmullerDisk(), region, new_IDR)\n",
    "                                if type(ret) == tuple:\n",
    "                                    gen = ret[1]\n",
    "                                    gen_inv = matrix(self.surface().base_ring(), ~ret[1], immutable = True)\n",
    "                                    neg_gen = matrix(self.surface().base_ring(), matrix([[-1, 0], [0, -1]]) * gen, immutable = True)\n",
    "                                    neg_gen_inv = matrix(self.surface().base_ring(), matrix([[-1, 0], [0, -1]]) * gen_inv, immutable = True)\n",
    "                                    if self._neg_I_is_sym:\n",
    "                                        if (gen not in self._generators) and (gen_inv not in self._generators)\\\n",
    "                                            and (neg_gen not in self._generators) and (neg_gen_inv not in self._generators):\n",
    "                                            self._generators.add(gen)\n",
    "                                            if show_current_sym:\n",
    "                                                show(gen)\n",
    "                                    else:\n",
    "                                        if (gen not in self._generators) and (gen_inv not in self._generators):\n",
    "                                            self._generators.add(gen)\n",
    "                                            if show_current_sym:\n",
    "                                                show(gen)\n",
    "                                    distinct = False\n",
    "                        # If the 'new_IDR' is distinct, we add it to the queue.\n",
    "                        if distinct:\n",
    "                            for v in new_IDR.vertices():\n",
    "                                if v.norm() == 1 or v in seen_vertex: \n",
    "                                    continue\n",
    "                                surf = self._td.surface(v)\n",
    "                                if surf:\n",
    "                                    key = surf.copy(new_field = AA)\n",
    "                                    key.set_immutable()\n",
    "                                    surf.set_immutable()\n",
    "                                    if key not in self._surf_ver_dict:\n",
    "                                        self._surf_ver_dict[key] = (surf, set([v]))\n",
    "                                    else:\n",
    "                                        self._surf_ver_dict[key][1].add(v)\n",
    "                                seen_vertex.add(v)\n",
    "                            self._regions.append(new_IDR)\n",
    "                            self._queue.append(new_IDR)\n",
    "                        \n",
    "                            for ee in new_IDR.unique_geodesics().keys():\n",
    "                                if ee not in self._edge_complete:\n",
    "                                    self._edge_complete[ee] = False\n",
    "                                else:\n",
    "                                    self._edge_complete[ee] = True\n",
    "                            \n",
    "                    else: # If 'veech' is not true, we add all the 'new_IDR's to the queue.\n",
    "                        self._edge_complete[edge] = True\n",
    "                        self._queue.append(new_IDR)\n",
    "                        self._regions.append(new_IDR)\n",
    "                        self._edge_complete[edge] = True\n",
    "                        for ee in new_IDR.unique_geodesics().keys():\n",
    "                            if ee not in self._edge_complete:\n",
    "                                self._edge_complete[ee] = False\n",
    "                            else:\n",
    "                                self._edge_complete[ee] = True\n",
    "                                \n",
    "                    \n",
    "    def plot(self, axes = True, model = \"UHP\", xmin = -2, xmax = 2, ymin = 0, ymax = 2,\\\n",
    "             figsize = 30, pseudo = 0):\n",
    "        r'''\n",
    "        This function plots the IDC with various options. In particular,\n",
    "        pseudo = 0 means we don't plot any pseudo edges/vertices,\n",
    "        pseudo = 1 means we plot pseudo vertices,\n",
    "        pseudo = 2 means we plot pseudo edges, and\n",
    "        pseudo = 3 means we plot pseudo vertices and edges.\n",
    "        '''\n",
    "        starttime = time.time()\n",
    "        q = plot(1000, axes = axes, xmin = xmin, xmax = xmax, ymin = ymin, ymax = ymax, figsize = figsize)\n",
    "        end = len(self._regions)\n",
    "        counter = 0\n",
    "        for x in self.IDRs():\n",
    "            print(\"Plot IDR {}/{}\".format(counter, end), end = '\\r')\n",
    "            counter += 1\n",
    "            q += x.plot(model = model, axes = axes, xmin = xmin, xmax = xmax, ymin = ymin, ymax = ymax,\\\n",
    "                        figsize = figsize, pseudo = pseudo)\n",
    "            \n",
    "        endtime = time.time()\n",
    "        print(\"Plot IDR {}/{} --> {} seconds\".format(counter, end, round((endtime - starttime) * 100) / 100), end = '\\r')\n",
    "        return q\n",
    "    \n",
    "    \n",
    "    def bounding_IDRs(self, v):\n",
    "        r'''\n",
    "        Given a vertex object, return all the IDRs that contains v in\n",
    "        its interior/boundary.\n",
    "        '''\n",
    "        boundings = set()\n",
    "        counter = 0\n",
    "        for R in self.IDRs():\n",
    "            if R.contains_vertex(v):\n",
    "                boundings.add((R, counter))\n",
    "            counter += 1\n",
    "        return boundings\n",
    "    \n",
    "    def vertices(self):\n",
    "        r'''\n",
    "        Returns the set of all vertices that were found.\n",
    "        '''\n",
    "        ret = set()\n",
    "        for IDR in self.IDRs():\n",
    "            ret.update(IDR.vertices())\n",
    "        return ret\n",
    "    \n",
    "\n",
    "    \n",
    "class IDR:\n",
    "    r'''\n",
    "    An IDR object is defined by a surface, it is also efficient to store\n",
    "    the surface should it be a part of some IDC that we're trying to compute,\n",
    "    called the 'parent_s'. It also stores the TeichmullerDisk 'parent_td' if applicable.\n",
    "    '''\n",
    "    def __init__(self, s, parent_s = None, parent_td = None):\n",
    "        self._defining_surface = s\n",
    "        self._defining_surface.set_immutable()\n",
    "        self._parent_IDC_surface = parent_s\n",
    "        self._parent_td = parent_td\n",
    "        self._ret = get_IDR_from_bowman(self._defining_surface)\n",
    "        self._unique_geodesics = self.construct_unique_geodesics()\n",
    "        self._pseudo_v = None\n",
    "    def parent_IDC_surface(self):\n",
    "        return self._parent_IDC_surface\n",
    "    def __eq__(self, other):\n",
    "        r'''\n",
    "        Two IDRs are the same when they have the same vertices, regardless of permutation.\n",
    "        '''\n",
    "        return set(self.vertices()) == set(other.vertices())\n",
    "    @cached_method\n",
    "    def __hash__(self, custom_TD = None):\n",
    "        r'''\n",
    "        The hash is defined by the sum of the hashes of the surfaces at the\n",
    "        vertices. The 'custom_TD' option will allow us to compare IDRs when\n",
    "        they're not from the same IDC.\n",
    "        '''\n",
    "        ret = 0\n",
    "        if custom_TD:\n",
    "            TD = custom_TD\n",
    "        else:\n",
    "            TD = self._parent_td\n",
    "        for v in self.vertices():\n",
    "            if v.norm() < 1:\n",
    "                try:            \n",
    "                    ret += hash(TD.surface(v).copy(new_field = AA))\n",
    "                except AttributeError:\n",
    "                    pass\n",
    "        return int(ret)\n",
    "    def IDR_dict(self):\n",
    "        r'''\n",
    "        Returns 'edge_ineq_geo' from the 'get_IDR_from_bowman' function.\n",
    "        '''\n",
    "        return self._ret[0]\n",
    "    def surface(self):\n",
    "        r'''\n",
    "        Returns the defining surface of the IDR (not the parent surface).\n",
    "        '''\n",
    "        return self._defining_surface\n",
    "    def vertices(self):\n",
    "        r'''\n",
    "        Returns vertices from the 'get_IDR_from_bowman' function.\n",
    "        '''\n",
    "        return self._ret[1]\n",
    "    def unique_geodesics(self):\n",
    "        r'''\n",
    "        Returns a dictionary where key = geodesics (edge object)\n",
    "        and values are gluing data that is necessary to travel\n",
    "        across the key.\n",
    "        '''\n",
    "        return self._unique_geodesics\n",
    "    \n",
    "    def has_free_edge(self):\n",
    "        r'''\n",
    "        Returns if the IDR has a free edge or not.\n",
    "        '''\n",
    "        return (len(self._unique_geodesics.keys()) < len(vertices))\n",
    "            \n",
    "    def is_degenerate(self):\n",
    "        r'''\n",
    "        Returns 'True' only when there is a vertex in the interior of the KM,\n",
    "        and 'False' otherwise.\n",
    "        '''\n",
    "        \n",
    "        for v in self.vertices():\n",
    "            if v.norm() < 1:\n",
    "                return False\n",
    "        return True\n",
    "    \n",
    "    @cached_method\n",
    "    def contains_vertex(self, v):\n",
    "        r'''\n",
    "        Tests if 'self' contains a particular vertex object v in its interior/boundary.\n",
    "        '''\n",
    "        q = Polyhedron(vertices=[w.km() for w in self.vertices()],\n",
    "                       base_ring=AA)\n",
    "        return q.contains(v.km())\n",
    "        \n",
    "    \n",
    "    @cached_method\n",
    "    def pseudo_vertices(self):\n",
    "        r'''\n",
    "        Returns the pseudo vertices:\n",
    "        If the IDR has 3 edges: pseudo vertices is the singleton consisting of the fixed\n",
    "        point of the mobius map that rotates the vertices.\n",
    "        \n",
    "        If the IDR has >3 edges: pseudo vertices is the set of vertices obtained by intersecting\n",
    "        geodesics defined from the i'th and i+2'th vertex and from the i+1'th and i+3'th vertex\n",
    "        for all possible i.\n",
    "        \n",
    "        This function asserts the IDR to be degenerate.\n",
    "        '''\n",
    "        if not self.is_degenerate():\n",
    "            return []\n",
    "        if self._pseudo_v:\n",
    "            return self._pseudo_v\n",
    "        \n",
    "        ver = self.vertices()\n",
    "        pse_ver = []\n",
    "        num_vertices = len(ver)\n",
    "        if num_vertices > 3:\n",
    "            for i in range(num_vertices):\n",
    "                pse_ver.append(get_intersection(ver[i], ver[(i + 2) % num_vertices],\\\n",
    "                                            ver[(i + 1) % num_vertices], ver[(i + 3) % num_vertices]))\n",
    "        else:\n",
    "            pse_ver.append(tri_center(ver[0], ver[1], ver[2]))\n",
    "        self._pseudo_v = pse_ver\n",
    "        return pse_ver\n",
    "    @cached_method\n",
    "    def pseudo_edges(self):\n",
    "        r'''\n",
    "        Returns the pseudo edges.\n",
    "        If the IDR has 3 edges: pseudo edges = empty list.\n",
    "        If the IDR has >3 edges: pseudo edges are the geodesics defined by the i'th vertex\n",
    "        to the i+2'th vertex for all possible i.\n",
    "        \n",
    "        This function asserts the IDR to be degenerate.\n",
    "        '''\n",
    "        \n",
    "        if not self.is_degenerate():\n",
    "            return []\n",
    "        ver = self.vertices()\n",
    "        num_vertices = len(ver)\n",
    "        pse_edg = []\n",
    "        if num_vertices == 3:\n",
    "            return []\n",
    "        for i in range(num_vertices):\n",
    "            pse_edg.append(Edge(ver[i], ver[(i + 2) % num_vertices]))\n",
    "        return pse_edg\n",
    "    \n",
    "    def construct_unique_geodesics(self):\n",
    "        r'''\n",
    "        This function constructs 'self._unique_geodesics'.\n",
    "        '''\n",
    "        ret = dict()\n",
    "        unique_geos = set([value[2] for value in self.IDR_dict().values() if value[2]])\n",
    "            \n",
    "        for geo in unique_geos:\n",
    "            edge_cross = []\n",
    "            for key, value in self.IDR_dict().items():\n",
    "                try:\n",
    "                    if geo == value[2]:\n",
    "                        edge_cross.append(key)\n",
    "                except AttributeError:\n",
    "                    pass\n",
    "            ret[geo] = list(set(edge_cross))\n",
    "        return ret\n",
    "\n",
    "    def plot(self, n = 2, axes = True, model = \"UHP\", xmin = -2, xmax = 2, ymin = 0, ymax = 2,\\\n",
    "             figsize = 30, pseudo = 0):\n",
    "        q = plot(1000, axes = axes, xmin = xmin, xmax = xmax,\\\n",
    "                 ymin = ymin, ymax = ymax, figsize = figsize)\n",
    "        r'''\n",
    "        This function plots the IDR with various options. In particular,\n",
    "        pseudo = 0 means we don't plot any pseudo edges/vertices,\n",
    "        pseudo = 1 means we plot pseudo vertices,\n",
    "        pseudo = 2 means we plot pseudo edges, and\n",
    "        pseudo = 3 means we plot pseudo vertices and edges.\n",
    "        '''\n",
    "        if pseudo == 3:\n",
    "            for e in self.pseudo_edges():\n",
    "                q += e.plot(model = model, axes = axes, xmin = xmin, xmax = xmax,\\\n",
    "                          ymin = ymin, ymax = ymax, figsize = figsize, color = 'red')\n",
    "            for v in self.pseudo_vertices():\n",
    "                q += v.plot(model = model, axes = axes, xmin = xmin, xmax = xmax,\\\n",
    "                          ymin = ymin, ymax = ymax, figsize = figsize)\n",
    "        elif pseudo == 2:\n",
    "            for e in self.pseudo_edges():\n",
    "                q += e.plot(model = model, axes = axes, xmin = xmin, xmax = xmax,\\\n",
    "                          ymin = ymin, ymax = ymax, figsize = figsize, color = 'red')\n",
    "        elif pseudo == 1:\n",
    "            for v in self.pseudo_vertices():\n",
    "                q += v.plot(model = model, axes = axes, xmin = xmin, xmax = xmax,\\\n",
    "                          ymin = ymin, ymax = ymax, figsize = figsize)\n",
    "        for key in self.unique_geodesics().keys():\n",
    "            q += key.plot(model = model, axes = axes, xmin = xmin, xmax = xmax,\\\n",
    "                          ymin = ymin, ymax = ymax, figsize = figsize)\n",
    "        return q"
   ]
  },
  {
   "cell_type": "code",
   "execution_count": 3,
   "id": "ceb05b0f",
   "metadata": {},
   "outputs": [],
   "source": [
    "t = EquiangularPolygons(2,3,4).an_element()\n",
    "t0 = t\n",
    "t1 = matrix([[1, 0],[0,-1]])*t0\n",
    "sl = Surface_list(t.base_ring())\n",
    "sl.add_polygon(t0)\n",
    "sl.add_polygon(t1)\n",
    "sl.change_edge_gluing(0, 0, 1, 2)\n",
    "sl.change_edge_gluing(0, 1, 1, 1)\n",
    "sl.change_edge_gluing(0, 2, 1, 0)\n",
    "sl.change_base_label(0)\n",
    "sl.set_immutable()\n",
    "cs = ConeSurface(sl)\n",
    "for e in range(3):\n",
    "    ee = cs.opposite_edge(0, e)[1]\n",
    "ts = cs.minimal_cover().copy(relabel=True)\n",
    "tri234 = ts.canonicalize()\n",
    "    \n",
    "\n",
    "\n",
    "def deformed_square_surface(a, b, c, d):\n",
    "    s = Surface_list(base_ring=QQ)\n",
    "    a = vector(QQ, a)\n",
    "    b = vector(QQ, b)\n",
    "    c = vector(QQ, c)\n",
    "    d = vector(QQ, d)\n",
    "    P = Polygons(QQ)\n",
    "    CP = ConvexPolygons(QQ)\n",
    "    hexagon = CP(edges=[2*a, 2*b-c, -d, -a, 2*c-b, 2*d])\n",
    "    s.add_polygon(hexagon)\n",
    "    s.change_base_label(0)\n",
    "    triangle1 = CP(edges=[-c, 2*b, c-2*b])\n",
    "    s.add_polygon(triangle1)\n",
    "    triangle2 = CP(edges=[b-2*c, 2*c, -b])\n",
    "    s.add_polygon(triangle2)\n",
    "    s.change_edge_gluing(0, 0, 0, 3)\n",
    "    s.change_edge_gluing(0, 2, 0, 5)\n",
    "    s.change_edge_gluing(0, 1, 1, 2)\n",
    "    s.change_edge_gluing(0, 4, 2, 0)\n",
    "    s.change_edge_gluing(1, 0, 2, 1)\n",
    "    s.change_edge_gluing(1, 1, 2, 2)\n",
    "    s.set_immutable()\n",
    "    ds = DilationSurface(s)\n",
    "    TestSuite(s).run()\n",
    "    TestSuite(ds).run()\n",
    "    return ds\n",
    "\n",
    "from flatsurf import *\n",
    "from flatsurf.geometry.surface import Surface_list\n",
    "\n",
    "def genus_one_square(a, b, c, d):\n",
    "    r\"\"\"A genus one dilation surface is returned.\n",
    "    \n",
    "    The unit square is made into an octagon by marking a point on \n",
    "    each of its edges. Then opposite sides of this octagon are \n",
    "    glued together by translation. The parameters $a$, $b$, $c$,\n",
    "    and $d$ should be real numbers strictly between zero and one.\n",
    "    These represent the lengths of an edge of the resulting octagon,\n",
    "    as depicted below. \n",
    "             c\n",
    "       +--+-------+\n",
    "     d |2/        |\n",
    "       |/         |\n",
    "       +    0     +\n",
    "       |         /|\n",
    "       |        /1| b\n",
    "       +-------+--+\n",
    "          a\n",
    "    The other edges will have length $1-a$, $1-b$, $1-c$, and $1-d$.\n",
    "    Dilations used to glue edges will be by factors $c/a$, $d/b$,\n",
    "    $(1-c)/(1-a)$ and $(1-d)/(1-b)$.\n",
    "    \"\"\"\n",
    "    field = Sequence([a, b, c, d]).universe().fraction_field()\n",
    "    s = Surface_list(base_ring=QQ)\n",
    "    CP = ConvexPolygons(field)\n",
    "    hexagon = CP(edges=[(a,0), (1-a,b), (0,1-b), (-c,0), (c-1,-d), (0,d-1)])\n",
    "    s.add_polygon(hexagon) # polygon 0\n",
    "    s.change_base_label(0)\n",
    "    triangle1 = CP(edges=[(1-a,0), (0,b), (a-1,-b)])\n",
    "    s.add_polygon(triangle1) # polygon 1\n",
    "    triangle2 = CP(edges=[(1-c,d), (c-1,0), (0,-d)])\n",
    "    s.add_polygon(triangle2) # polygon 2\n",
    "    s.change_edge_gluing(0, 0, 2, 1)\n",
    "    s.change_edge_gluing(0, 2, 2, 2)\n",
    "    s.change_edge_gluing(0, 1, 1, 2)\n",
    "    s.change_edge_gluing(0, 4, 2, 0)\n",
    "    s.change_edge_gluing(1, 0, 0, 3)\n",
    "    s.change_edge_gluing(1, 1, 0, 5)\n",
    "    s.set_immutable()\n",
    "    ds = DilationSurface(s)\n",
    "    return ds\n",
    "\n",
    "\n",
    "from flatsurf import *\n",
    "from flatsurf.geometry.surface import Surface\n",
    "from flatsurf.geometry.similarity import SimilarityGroup\n",
    "\n",
    "\n",
    "class SpiralSurface(Surface):\n",
    "    def __init__(self, field, c, p0, p1, n):\n",
    "        \"\"\"The parameter c should be an expanding 2x2 matrix\"\"\"\n",
    "        if not field.is_field():\n",
    "            field = field.fraction_field()\n",
    "        self._field = field\n",
    "        self._M = MatrixSpace(field, 2, 2)\n",
    "        self._c = self._M(c)\n",
    "        self._ci = ~self._c\n",
    "        self._V = VectorSpace(field, 2)\n",
    "        self._p0 = self._V(p0)\n",
    "        self._p1 = self._V(p1)\n",
    "        self._n = n\n",
    "        self.rename(f'Spiral surface with parameters {self._c}, {self._p0}, {self._p1}')\n",
    "        self._minus_I = - self._M.one()\n",
    "        self._P = ConvexPolygons(field)\n",
    "        self._G = SimilarityGroup(field)\n",
    "        Surface.__init__(self, field, ZZ(0), finite=True)\n",
    "\n",
    "    @cached_method\n",
    "    def position_function(self):\n",
    "        @cached_function\n",
    "        def translation_vector(lab):\n",
    "            if lab == 0:\n",
    "                return self._p0\n",
    "            if lab %2 == 1:\n",
    "                return - translation_vector(lab-1)\n",
    "            if lab > 0:\n",
    "                return self._c * translation_vector(lab-2)\n",
    "            if lab < 0:\n",
    "                return self._ci * translation_vector(lab+2)\n",
    "        def pf(lab):\n",
    "            return self._G(1, 0, *translation_vector(lab))\n",
    "        return pf\n",
    "        \n",
    "    @cached_method\n",
    "    def polygon(self, lab):\n",
    "        if lab == 0:\n",
    "            v0 = self._p0\n",
    "            v1 = self._p1\n",
    "            v2 = self._c * v1\n",
    "            v3 = self._c * v0\n",
    "            return self._P(edges = [v1-v0,v2-v1,v3-v2,v0-v3])\n",
    "        if lab % 2 == 1:\n",
    "            return self._minus_I * self.polygon(lab-1)\n",
    "        if lab > 0:\n",
    "            # lab is even and positive\n",
    "            return self._c * self.polygon(lab-2)\n",
    "        else:\n",
    "            # lab is even and negative\n",
    "            return self._ci * self.polygon(lab+2)\n",
    "\n",
    "    def opposite_edge(self, p, e):\n",
    "        if p % 2 == 0:\n",
    "            # p is even\n",
    "            if e == 0:\n",
    "                return (p-2)%(2*self._n), 2\n",
    "            if e == 1:\n",
    "                return (p+1)%(2*self._n), 1\n",
    "            if e == 2:\n",
    "                return (p+2)%(2*self._n), 0\n",
    "            assert e==3, 'e should be 0, 1, 2 or 3'\n",
    "            return (p+1)%(2*self._n), 3\n",
    "        else:\n",
    "            # p is odd\n",
    "            if e == 0:\n",
    "                return (p-2)%(2*self._n), 2\n",
    "            if e == 1:\n",
    "                return (p-1)%(2*self._n), 1\n",
    "            if e == 2:\n",
    "                return (p+2)%(2*self._n), 0\n",
    "            assert e==3, 'e should be 0, 1, 2 or 3'\n",
    "            return (p-1)%(2*self._n), 3\n",
    "       \n",
    "    \n",
    "    \n",
    "c = ~matrix([\n",
    "    [1/2, -1/2],\n",
    "    [1/2,  1/2]\n",
    "]).transpose()\n",
    "p0 = vector((1, 0))\n",
    "#p1 = c**8 * p0\n",
    "p1 = -c**4 * p0\n",
    "s = SpiralSurface(QQ, c, p0, p1, 8)\n",
    "TestSuite(s).run(skip='_test_override')\n",
    "ds = DilationSurface(s)\n",
    "TestSuite(ds).run(skip='_test_underlying_surface')\n",
    "spiral1 = ds.copy(relabel=True)\n",
    "        \n",
    "    \n",
    "c = ~matrix([\n",
    "    [1/2, -1/2],\n",
    "    [1/2,  1/2]\n",
    "]).transpose()\n",
    "p0 = vector((1, 0))\n",
    "p1 = vector((2, 0))\n",
    "s = SpiralSurface(QQ, c, p0, p1, 8)\n",
    "TestSuite(s).run(skip='_test_override')\n",
    "ds = DilationSurface(s)\n",
    "TestSuite(ds).run(skip='_test_underlying_surface')\n",
    "spiral2 = ds.copy(relabel=True)\n",
    "\n",
    "\n",
    "c = ~matrix([\n",
    "    [1/2, -1/2],\n",
    "    [1/2,  1/2]\n",
    "]).transpose()\n",
    "p0 = vector((1, 0))\n",
    "p1 = vector((6, 0))\n",
    "s = SpiralSurface(QQ, c, p0, p1, 8)\n",
    "TestSuite(s).run(skip='_test_override')\n",
    "ds = DilationSurface(s)\n",
    "TestSuite(ds).run(skip='_test_underlying_surface')\n",
    "spiral3 = ds.copy(relabel=True)\n",
    "\n",
    "\n",
    "c = ~matrix([\n",
    "    [0, -1/2],\n",
    "    [1,  0]\n",
    "]).transpose()\n",
    "p0 = vector((1, 0))\n",
    "#p1 = c**8 * p0\n",
    "p1 = -c**2 * p0\n",
    "s = SpiralSurface(QQ, c, p0, p1, 4)\n",
    "TestSuite(s).run(skip='_test_override')\n",
    "ds = DilationSurface(s)\n",
    "TestSuite(ds).run(skip='_test_underlying_surface')\n",
    "spiral4 = ds.copy(relabel=True)\n",
    "\n",
    "\n",
    "c = ~matrix([\n",
    "    [3/2, -1],\n",
    "    [3/4,  0]\n",
    "]).transpose()\n",
    "p0 = vector((1, 0))\n",
    "# p1 = vector((2, 0))\n",
    "p1 = -c**6 * p0\n",
    "s = SpiralSurface(QQ, c, p0, p1, 12)\n",
    "TestSuite(s).run(skip='_test_override')\n",
    "ds = DilationSurface(s)\n",
    "TestSuite(ds).run(skip='_test_underlying_surface')\n",
    "spiral5 = ds.copy(relabel=True)\n",
    "\n",
    "\n",
    "c = ~matrix([\n",
    "    [1, -1],\n",
    "    [1,  0]\n",
    "]).transpose()\n",
    "c *= 3/2\n",
    "p0 = vector((1, 0))\n",
    "# p1 = vector((2, 0))\n",
    "p1 = -c**3 * p0\n",
    "s = SpiralSurface(QQ, c, p0, p1, 6)\n",
    "TestSuite(s).run(skip='_test_override')\n",
    "ds = DilationSurface(s)\n",
    "TestSuite(ds).run(skip='_test_underlying_surface')\n",
    "spiral6 = ds.copy(relabel=True)\n",
    "\n",
    "\n",
    "c = ~matrix([\n",
    "    [-1, -1],\n",
    "    [1,  0]\n",
    "]).transpose()\n",
    "c *= 2\n",
    "p0 = vector((1, 0))\n",
    "# p1 = vector((2, 0))\n",
    "p1 = c**3 * p0\n",
    "s = SpiralSurface(QQ, c, p0, p1, 3)\n",
    "TestSuite(s).run(skip='_test_override')\n",
    "ds = DilationSurface(s)\n",
    "\n",
    "TestSuite(ds).run(skip='_test_underlying_surface')\n",
    "spiral7 = ds.copy(relabel=True)"
   ]
  },
  {
   "cell_type": "code",
   "execution_count": 4,
   "id": "b5bb4078",
   "metadata": {},
   "outputs": [],
   "source": [
    "# # # # # # # # # # # # # # # # # # # # # # # # # # # # # # # # # #\n",
    "# # # # # # #                                         # # # # # # #\n",
    "# # # # # # #             Dimple Surface              # # # # # # # \n",
    "# # # # # # #                                         # # # # # # #\n",
    "# # # # # # # # # # # # # # # # # # # # # # # # # # # # # # # # # #"
   ]
  },
  {
   "cell_type": "code",
   "execution_count": 8,
   "id": "34199d70",
   "metadata": {
    "scrolled": true
   },
   "outputs": [],
   "source": [
    "# Search for Veech group of Dimple surface under different parameters\n",
    "\n",
    "def search_dimple(x,y):\n",
    "    s = Surface_list(QQ)\n",
    "\n",
    "#     x = 1/2\n",
    "#     y = 2\n",
    "\n",
    "        \n",
    "    p0 = (0,0)\n",
    "    p1 = (1,0)\n",
    "    p2 = ((1+x)/2,(1-x)/2)\n",
    "    p3 = ((1-x)/2,(1-x)/2)\n",
    "    p4 = ((1-x)/2,(1+x)/2)\n",
    "    p5 = (0,1)\n",
    "\n",
    "    q0 = (0,0)\n",
    "    q1 = (1,0)\n",
    "    q2 = (1,y)\n",
    "    q3 = (0,y)\n",
    "\n",
    "    \n",
    "    P1 = polygons(vertices = [p0,p1,p2,p3])\n",
    "    P2 = polygons(vertices = [q0,q1,q2,q3])\n",
    "\n",
    "    s.add_polygon(P1)\n",
    "    s.add_polygon(P1)\n",
    "    s.add_polygon(P1)\n",
    "    s.add_polygon(P1)\n",
    "    s.add_polygon(P2)\n",
    "\n",
    "\n",
    "    S = SimilaritySurface(s)\n",
    "\n",
    "    s.set_edge_pairing(0,0,2,0)\n",
    "    s.set_edge_pairing(0,1,1,3)\n",
    "    s.set_edge_pairing(0,2,4,0)\n",
    "    s.set_edge_pairing(0,3,3,1)\n",
    "    s.set_edge_pairing(1,0,3,0)\n",
    "    s.set_edge_pairing(1,1,2,3)\n",
    "    s.set_edge_pairing(1,2,4,1)\n",
    "    s.set_edge_pairing(2,1,3,3)\n",
    "    s.set_edge_pairing(2,2,4,2)\n",
    "    s.set_edge_pairing(3,2,4,3)\n",
    "\n",
    "\n",
    "    S.plot(edge_labels='letter')\n",
    "    gs = S.graphical_surface()\n",
    "\n",
    "    gs.make_adjacent(3,3)\n",
    "    gs.hide(4)\n",
    "    gs.plot()\n",
    "\n",
    "    DS = S.minimal_cover(cover_type='dilation').copy(relabel=True)\n",
    "    show(S.plot())\n",
    "    print('Square size: (' + str(x) + ',' + str(x) + ')')\n",
    "    print('Rect size:   (1,' + str(y) + ')')\n",
    "    IDC1 = IDC(DS, 10000, veech = 1, show_current_sym = 1) # Change 1 to > 100\n",
    "    show(IDC1.plot(model = 'UHP', figsize = 10)) #UHP or KM\n",
    "    show(list(IDC1.generators(normalize_det=1)))\n"
   ]
  },
  {
   "cell_type": "code",
   "execution_count": 9,
   "id": "bf344b83",
   "metadata": {
    "scrolled": false
   },
   "outputs": [
    {
     "data": {
      "image/png": "[encoded data removed]",
      "text/plain": [
       "Graphics object consisting of 24 graphics primitives"
      ]
     },
     "metadata": {},
     "output_type": "display_data"
    },
    {
     "name": "stdout",
     "output_type": "stream",
     "text": [
      "Square size: (1/2,1/2)\n",
      "Rect size:   (1,2)\n",
      "Previous queue not found.\n",
      "IDR 231/10000\r"
     ]
    },
    {
     "data": {
      "text/html": [
       "<html>\\(\\displaystyle \\left(\\begin{array}{rr}\n",
       "1 & 0 \\\\\n",
       "12 & 1\n",
       "\\end{array}\\right)\\)</html>"
      ],
      "text/latex": [
       "$\\displaystyle \\left(\\begin{array}{rr}\n",
       "1 & 0 \\\\\n",
       "12 & 1\n",
       "\\end{array}\\right)$"
      ],
      "text/plain": [
       "[ 1  0]\n",
       "[12  1]"
      ]
     },
     "metadata": {},
     "output_type": "display_data"
    },
    {
     "name": "stdout",
     "output_type": "stream",
     "text": [
      "IDR 326/10000\r"
     ]
    },
    {
     "data": {
      "text/html": [
       "<html>\\(\\displaystyle \\left(\\begin{array}{rr}\n",
       "\\frac{19}{2} & \\frac{7}{2} \\\\\n",
       "-\\frac{63}{2} & -\\frac{23}{2}\n",
       "\\end{array}\\right)\\)</html>"
      ],
      "text/latex": [
       "$\\displaystyle \\left(\\begin{array}{rr}\n",
       "\\frac{19}{2} & \\frac{7}{2} \\\\\n",
       "-\\frac{63}{2} & -\\frac{23}{2}\n",
       "\\end{array}\\right)$"
      ],
      "text/plain": [
       "[ 19/2   7/2]\n",
       "[-63/2 -23/2]"
      ]
     },
     "metadata": {},
     "output_type": "display_data"
    },
    {
     "name": "stdout",
     "output_type": "stream",
     "text": [
      "IDR 437/10000\r"
     ]
    },
    {
     "data": {
      "text/html": [
       "<html>\\(\\displaystyle \\left(\\begin{array}{rr}\n",
       "23 & -7 \\\\\n",
       "63 & -19\n",
       "\\end{array}\\right)\\)</html>"
      ],
      "text/latex": [
       "$\\displaystyle \\left(\\begin{array}{rr}\n",
       "23 & -7 \\\\\n",
       "63 & -19\n",
       "\\end{array}\\right)$"
      ],
      "text/plain": [
       "[ 23  -7]\n",
       "[ 63 -19]"
      ]
     },
     "metadata": {},
     "output_type": "display_data"
    },
    {
     "name": "stdout",
     "output_type": "stream",
     "text": [
      "IDR 458/10000\r"
     ]
    },
    {
     "data": {
      "text/html": [
       "<html>\\(\\displaystyle \\left(\\begin{array}{rr}\n",
       "17 & 8 \\\\\n",
       "-32 & -15\n",
       "\\end{array}\\right)\\)</html>"
      ],
      "text/latex": [
       "$\\displaystyle \\left(\\begin{array}{rr}\n",
       "17 & 8 \\\\\n",
       "-32 & -15\n",
       "\\end{array}\\right)$"
      ],
      "text/plain": [
       "[ 17   8]\n",
       "[-32 -15]"
      ]
     },
     "metadata": {},
     "output_type": "display_data"
    },
    {
     "name": "stdout",
     "output_type": "stream",
     "text": [
      "IDR 602/10000\r"
     ]
    },
    {
     "data": {
      "text/html": [
       "<html>\\(\\displaystyle \\left(\\begin{array}{rr}\n",
       "-30 & 16 \\\\\n",
       "-64 & 34\n",
       "\\end{array}\\right)\\)</html>"
      ],
      "text/latex": [
       "$\\displaystyle \\left(\\begin{array}{rr}\n",
       "-30 & 16 \\\\\n",
       "-64 & 34\n",
       "\\end{array}\\right)$"
      ],
      "text/plain": [
       "[-30  16]\n",
       "[-64  34]"
      ]
     },
     "metadata": {},
     "output_type": "display_data"
    },
    {
     "name": "stdout",
     "output_type": "stream",
     "text": [
      "IDR 613/10000\r"
     ]
    },
    {
     "data": {
      "text/html": [
       "<html>\\(\\displaystyle \\left(\\begin{array}{rr}\n",
       "-\\frac{19}{2} & \\frac{7}{2} \\\\\n",
       "-\\frac{63}{2} & \\frac{23}{2}\n",
       "\\end{array}\\right)\\)</html>"
      ],
      "text/latex": [
       "$\\displaystyle \\left(\\begin{array}{rr}\n",
       "-\\frac{19}{2} & \\frac{7}{2} \\\\\n",
       "-\\frac{63}{2} & \\frac{23}{2}\n",
       "\\end{array}\\right)$"
      ],
      "text/plain": [
       "[-19/2   7/2]\n",
       "[-63/2  23/2]"
      ]
     },
     "metadata": {},
     "output_type": "display_data"
    },
    {
     "name": "stdout",
     "output_type": "stream",
     "text": [
      "IDR 626/10000\r"
     ]
    },
    {
     "data": {
      "text/html": [
       "<html>\\(\\displaystyle \\left(\\begin{array}{rr}\n",
       "-\\frac{23}{4} & -\\frac{7}{4} \\\\\n",
       "\\frac{63}{4} & \\frac{19}{4}\n",
       "\\end{array}\\right)\\)</html>"
      ],
      "text/latex": [
       "$\\displaystyle \\left(\\begin{array}{rr}\n",
       "-\\frac{23}{4} & -\\frac{7}{4} \\\\\n",
       "\\frac{63}{4} & \\frac{19}{4}\n",
       "\\end{array}\\right)$"
      ],
      "text/plain": [
       "[-23/4  -7/4]\n",
       "[ 63/4  19/4]"
      ]
     },
     "metadata": {},
     "output_type": "display_data"
    },
    {
     "name": "stdout",
     "output_type": "stream",
     "text": [
      "IDR 694/10000\r"
     ]
    },
    {
     "data": {
      "text/html": [
       "<html>\\(\\displaystyle \\left(\\begin{array}{rr}\n",
       "43 & 88 \\\\\n",
       "-22 & -45\n",
       "\\end{array}\\right)\\)</html>"
      ],
      "text/latex": [
       "$\\displaystyle \\left(\\begin{array}{rr}\n",
       "43 & 88 \\\\\n",
       "-22 & -45\n",
       "\\end{array}\\right)$"
      ],
      "text/plain": [
       "[ 43  88]\n",
       "[-22 -45]"
      ]
     },
     "metadata": {},
     "output_type": "display_data"
    },
    {
     "name": "stdout",
     "output_type": "stream",
     "text": [
      "IDR 712/10000\r"
     ]
    },
    {
     "data": {
      "text/html": [
       "<html>\\(\\displaystyle \\left(\\begin{array}{rr}\n",
       "-28 & -90 \\\\\n",
       "10 & 32\n",
       "\\end{array}\\right)\\)</html>"
      ],
      "text/latex": [
       "$\\displaystyle \\left(\\begin{array}{rr}\n",
       "-28 & -90 \\\\\n",
       "10 & 32\n",
       "\\end{array}\\right)$"
      ],
      "text/plain": [
       "[-28 -90]\n",
       "[ 10  32]"
      ]
     },
     "metadata": {},
     "output_type": "display_data"
    },
    {
     "name": "stdout",
     "output_type": "stream",
     "text": [
      "IDR 766/10000\r"
     ]
    },
    {
     "data": {
      "text/html": [
       "<html>\\(\\displaystyle \\left(\\begin{array}{rr}\n",
       "-1 & 12 \\\\\n",
       "0 & -1\n",
       "\\end{array}\\right)\\)</html>"
      ],
      "text/latex": [
       "$\\displaystyle \\left(\\begin{array}{rr}\n",
       "-1 & 12 \\\\\n",
       "0 & -1\n",
       "\\end{array}\\right)$"
      ],
      "text/plain": [
       "[-1 12]\n",
       "[ 0 -1]"
      ]
     },
     "metadata": {},
     "output_type": "display_data"
    },
    {
     "name": "stdout",
     "output_type": "stream",
     "text": [
      "IDR 981/10000\r"
     ]
    },
    {
     "data": {
      "text/html": [
       "<html>\\(\\displaystyle \\left(\\begin{array}{rr}\n",
       "32 & 90 \\\\\n",
       "-10 & -28\n",
       "\\end{array}\\right)\\)</html>"
      ],
      "text/latex": [
       "$\\displaystyle \\left(\\begin{array}{rr}\n",
       "32 & 90 \\\\\n",
       "-10 & -28\n",
       "\\end{array}\\right)$"
      ],
      "text/plain": [
       "[ 32  90]\n",
       "[-10 -28]"
      ]
     },
     "metadata": {},
     "output_type": "display_data"
    },
    {
     "name": "stdout",
     "output_type": "stream",
     "text": [
      "IDR 1075/10000\r"
     ]
    },
    {
     "data": {
      "text/html": [
       "<html>\\(\\displaystyle \\left(\\begin{array}{rr}\n",
       "-16 & 45 \\\\\n",
       "-5 & 14\n",
       "\\end{array}\\right)\\)</html>"
      ],
      "text/latex": [
       "$\\displaystyle \\left(\\begin{array}{rr}\n",
       "-16 & 45 \\\\\n",
       "-5 & 14\n",
       "\\end{array}\\right)$"
      ],
      "text/plain": [
       "[-16  45]\n",
       "[ -5  14]"
      ]
     },
     "metadata": {},
     "output_type": "display_data"
    },
    {
     "name": "stdout",
     "output_type": "stream",
     "text": [
      "IDR 1091/10000\r"
     ]
    },
    {
     "data": {
      "text/html": [
       "<html>\\(\\displaystyle \\left(\\begin{array}{rr}\n",
       "-45 & 88 \\\\\n",
       "-22 & 43\n",
       "\\end{array}\\right)\\)</html>"
      ],
      "text/latex": [
       "$\\displaystyle \\left(\\begin{array}{rr}\n",
       "-45 & 88 \\\\\n",
       "-22 & 43\n",
       "\\end{array}\\right)$"
      ],
      "text/plain": [
       "[-45  88]\n",
       "[-22  43]"
      ]
     },
     "metadata": {},
     "output_type": "display_data"
    },
    {
     "name": "stdout",
     "output_type": "stream",
     "text": [
      "IDR 1174/10000\r"
     ]
    },
    {
     "data": {
      "text/html": [
       "<html>\\(\\displaystyle \\left(\\begin{array}{rr}\n",
       "17 & -8 \\\\\n",
       "32 & -15\n",
       "\\end{array}\\right)\\)</html>"
      ],
      "text/latex": [
       "$\\displaystyle \\left(\\begin{array}{rr}\n",
       "17 & -8 \\\\\n",
       "32 & -15\n",
       "\\end{array}\\right)$"
      ],
      "text/plain": [
       "[ 17  -8]\n",
       "[ 32 -15]"
      ]
     },
     "metadata": {},
     "output_type": "display_data"
    },
    {
     "name": "stdout",
     "output_type": "stream",
     "text": [
      "IDR 1278/10000\r"
     ]
    },
    {
     "data": {
      "text/html": [
       "<html>\\(\\displaystyle \\left(\\begin{array}{rr}\n",
       "59 & 90 \\\\\n",
       "-40 & -61\n",
       "\\end{array}\\right)\\)</html>"
      ],
      "text/latex": [
       "$\\displaystyle \\left(\\begin{array}{rr}\n",
       "59 & 90 \\\\\n",
       "-40 & -61\n",
       "\\end{array}\\right)$"
      ],
      "text/plain": [
       "[ 59  90]\n",
       "[-40 -61]"
      ]
     },
     "metadata": {},
     "output_type": "display_data"
    },
    {
     "name": "stdout",
     "output_type": "stream",
     "text": [
      "IDR 1642/10000\r"
     ]
    },
    {
     "data": {
      "text/html": [
       "<html>\\(\\displaystyle \\left(\\begin{array}{rr}\n",
       "65 & 16 \\\\\n",
       "-256 & -63\n",
       "\\end{array}\\right)\\)</html>"
      ],
      "text/latex": [
       "$\\displaystyle \\left(\\begin{array}{rr}\n",
       "65 & 16 \\\\\n",
       "-256 & -63\n",
       "\\end{array}\\right)$"
      ],
      "text/plain": [
       "[  65   16]\n",
       "[-256  -63]"
      ]
     },
     "metadata": {},
     "output_type": "display_data"
    },
    {
     "name": "stdout",
     "output_type": "stream",
     "text": [
      "IDR 1675/10000\r"
     ]
    },
    {
     "data": {
      "text/html": [
       "<html>\\(\\displaystyle \\left(\\begin{array}{rr}\n",
       "-\\frac{17}{2} & -4 \\\\\n",
       "16 & \\frac{15}{2}\n",
       "\\end{array}\\right)\\)</html>"
      ],
      "text/latex": [
       "$\\displaystyle \\left(\\begin{array}{rr}\n",
       "-\\frac{17}{2} & -4 \\\\\n",
       "16 & \\frac{15}{2}\n",
       "\\end{array}\\right)$"
      ],
      "text/plain": [
       "[-17/2    -4]\n",
       "[   16  15/2]"
      ]
     },
     "metadata": {},
     "output_type": "display_data"
    },
    {
     "name": "stdout",
     "output_type": "stream",
     "text": [
      "IDR 1735/10000\r"
     ]
    },
    {
     "data": {
      "text/html": [
       "<html>\\(\\displaystyle \\left(\\begin{array}{rr}\n",
       "-122 & -180 \\\\\n",
       "80 & 118\n",
       "\\end{array}\\right)\\)</html>"
      ],
      "text/latex": [
       "$\\displaystyle \\left(\\begin{array}{rr}\n",
       "-122 & -180 \\\\\n",
       "80 & 118\n",
       "\\end{array}\\right)$"
      ],
      "text/plain": [
       "[-122 -180]\n",
       "[  80  118]"
      ]
     },
     "metadata": {},
     "output_type": "display_data"
    },
    {
     "name": "stdout",
     "output_type": "stream",
     "text": [
      "IDR 1816/10000\r"
     ]
    },
    {
     "data": {
      "text/html": [
       "<html>\\(\\displaystyle \\left(\\begin{array}{rr}\n",
       "-16 & -45 \\\\\n",
       "5 & 14\n",
       "\\end{array}\\right)\\)</html>"
      ],
      "text/latex": [
       "$\\displaystyle \\left(\\begin{array}{rr}\n",
       "-16 & -45 \\\\\n",
       "5 & 14\n",
       "\\end{array}\\right)$"
      ],
      "text/plain": [
       "[-16 -45]\n",
       "[  5  14]"
      ]
     },
     "metadata": {},
     "output_type": "display_data"
    },
    {
     "name": "stdout",
     "output_type": "stream",
     "text": [
      "IDR 2052/10000\r"
     ]
    },
    {
     "data": {
      "text/html": [
       "<html>\\(\\displaystyle \\left(\\begin{array}{rr}\n",
       "-59 & 90 \\\\\n",
       "-40 & 61\n",
       "\\end{array}\\right)\\)</html>"
      ],
      "text/latex": [
       "$\\displaystyle \\left(\\begin{array}{rr}\n",
       "-59 & 90 \\\\\n",
       "-40 & 61\n",
       "\\end{array}\\right)$"
      ],
      "text/plain": [
       "[-59  90]\n",
       "[-40  61]"
      ]
     },
     "metadata": {},
     "output_type": "display_data"
    },
    {
     "name": "stdout",
     "output_type": "stream",
     "text": [
      "IDR 2075/10000\r"
     ]
    },
    {
     "data": {
      "text/html": [
       "<html>\\(\\displaystyle \\left(\\begin{array}{rr}\n",
       "322 & -360 \\\\\n",
       "-288 & 322\n",
       "\\end{array}\\right)\\)</html>"
      ],
      "text/latex": [
       "$\\displaystyle \\left(\\begin{array}{rr}\n",
       "322 & -360 \\\\\n",
       "-288 & 322\n",
       "\\end{array}\\right)$"
      ],
      "text/plain": [
       "[ 322 -360]\n",
       "[-288  322]"
      ]
     },
     "metadata": {},
     "output_type": "display_data"
    },
    {
     "name": "stdout",
     "output_type": "stream",
     "text": [
      "IDR 2153/10000\r"
     ]
    },
    {
     "data": {
      "text/html": [
       "<html>\\(\\displaystyle \\left(\\begin{array}{rr}\n",
       "\\frac{15}{2} & -4 \\\\\n",
       "16 & -\\frac{17}{2}\n",
       "\\end{array}\\right)\\)</html>"
      ],
      "text/latex": [
       "$\\displaystyle \\left(\\begin{array}{rr}\n",
       "\\frac{15}{2} & -4 \\\\\n",
       "16 & -\\frac{17}{2}\n",
       "\\end{array}\\right)$"
      ],
      "text/plain": [
       "[ 15/2    -4]\n",
       "[   16 -17/2]"
      ]
     },
     "metadata": {},
     "output_type": "display_data"
    },
    {
     "name": "stdout",
     "output_type": "stream",
     "text": [
      "IDR 2174/10000\r"
     ]
    },
    {
     "data": {
      "text/html": [
       "<html>\\(\\displaystyle \\left(\\begin{array}{rr}\n",
       "\\frac{19}{8} & -\\frac{7}{8} \\\\\n",
       "\\frac{63}{8} & -\\frac{23}{8}\n",
       "\\end{array}\\right)\\)</html>"
      ],
      "text/latex": [
       "$\\displaystyle \\left(\\begin{array}{rr}\n",
       "\\frac{19}{8} & -\\frac{7}{8} \\\\\n",
       "\\frac{63}{8} & -\\frac{23}{8}\n",
       "\\end{array}\\right)$"
      ],
      "text/plain": [
       "[ 19/8  -7/8]\n",
       "[ 63/8 -23/8]"
      ]
     },
     "metadata": {},
     "output_type": "display_data"
    },
    {
     "name": "stdout",
     "output_type": "stream",
     "text": [
      "IDR 2198/10000\r"
     ]
    },
    {
     "data": {
      "text/html": [
       "<html>\\(\\displaystyle \\left(\\begin{array}{rr}\n",
       "-\\frac{65}{2} & 8 \\\\\n",
       "-128 & \\frac{63}{2}\n",
       "\\end{array}\\right)\\)</html>"
      ],
      "text/latex": [
       "$\\displaystyle \\left(\\begin{array}{rr}\n",
       "-\\frac{65}{2} & 8 \\\\\n",
       "-128 & \\frac{63}{2}\n",
       "\\end{array}\\right)$"
      ],
      "text/plain": [
       "[-65/2     8]\n",
       "[ -128  63/2]"
      ]
     },
     "metadata": {},
     "output_type": "display_data"
    },
    {
     "name": "stdout",
     "output_type": "stream",
     "text": [
      "IDR 2245/10000\r"
     ]
    },
    {
     "data": {
      "text/html": [
       "<html>\\(\\displaystyle \\left(\\begin{array}{rr}\n",
       "-35 & -6 \\\\\n",
       "-204 & -35\n",
       "\\end{array}\\right)\\)</html>"
      ],
      "text/latex": [
       "$\\displaystyle \\left(\\begin{array}{rr}\n",
       "-35 & -6 \\\\\n",
       "-204 & -35\n",
       "\\end{array}\\right)$"
      ],
      "text/plain": [
       "[ -35   -6]\n",
       "[-204  -35]"
      ]
     },
     "metadata": {},
     "output_type": "display_data"
    },
    {
     "name": "stdout",
     "output_type": "stream",
     "text": [
      "IDR 2294/10000\r"
     ]
    },
    {
     "data": {
      "text/html": [
       "<html>\\(\\displaystyle \\left(\\begin{array}{rr}\n",
       "-\\frac{193}{2} & -\\frac{117}{2} \\\\\n",
       "\\frac{325}{2} & \\frac{197}{2}\n",
       "\\end{array}\\right)\\)</html>"
      ],
      "text/latex": [
       "$\\displaystyle \\left(\\begin{array}{rr}\n",
       "-\\frac{193}{2} & -\\frac{117}{2} \\\\\n",
       "\\frac{325}{2} & \\frac{197}{2}\n",
       "\\end{array}\\right)$"
      ],
      "text/plain": [
       "[-193/2 -117/2]\n",
       "[ 325/2  197/2]"
      ]
     },
     "metadata": {},
     "output_type": "display_data"
    },
    {
     "name": "stdout",
     "output_type": "stream",
     "text": [
      "IDR 2563/10000\r"
     ]
    },
    {
     "data": {
      "text/html": [
       "<html>\\(\\displaystyle \\left(\\begin{array}{rr}\n",
       "-161 & -180 \\\\\n",
       "-144 & -161\n",
       "\\end{array}\\right)\\)</html>"
      ],
      "text/latex": [
       "$\\displaystyle \\left(\\begin{array}{rr}\n",
       "-161 & -180 \\\\\n",
       "-144 & -161\n",
       "\\end{array}\\right)$"
      ],
      "text/plain": [
       "[-161 -180]\n",
       "[-144 -161]"
      ]
     },
     "metadata": {},
     "output_type": "display_data"
    },
    {
     "name": "stdout",
     "output_type": "stream",
     "text": [
      "IDR 2632/10000\r"
     ]
    },
    {
     "data": {
      "text/html": [
       "<html>\\(\\displaystyle \\left(\\begin{array}{rr}\n",
       "242 & 160 \\\\\n",
       "-360 & -238\n",
       "\\end{array}\\right)\\)</html>"
      ],
      "text/latex": [
       "$\\displaystyle \\left(\\begin{array}{rr}\n",
       "242 & 160 \\\\\n",
       "-360 & -238\n",
       "\\end{array}\\right)$"
      ],
      "text/plain": [
       "[ 242  160]\n",
       "[-360 -238]"
      ]
     },
     "metadata": {},
     "output_type": "display_data"
    },
    {
     "name": "stdout",
     "output_type": "stream",
     "text": [
      "IDR 2895/10000\r"
     ]
    },
    {
     "data": {
      "text/html": [
       "<html>\\(\\displaystyle \\left(\\begin{array}{rr}\n",
       "-394 & 234 \\\\\n",
       "-650 & 386\n",
       "\\end{array}\\right)\\)</html>"
      ],
      "text/latex": [
       "$\\displaystyle \\left(\\begin{array}{rr}\n",
       "-394 & 234 \\\\\n",
       "-650 & 386\n",
       "\\end{array}\\right)$"
      ],
      "text/plain": [
       "[-394  234]\n",
       "[-650  386]"
      ]
     },
     "metadata": {},
     "output_type": "display_data"
    },
    {
     "name": "stdout",
     "output_type": "stream",
     "text": [
      "IDR 3163/10000\r"
     ]
    },
    {
     "data": {
      "text/html": [
       "<html>\\(\\displaystyle \\left(\\begin{array}{rr}\n",
       "89 & 129 \\\\\n",
       "20 & 29\n",
       "\\end{array}\\right)\\)</html>"
      ],
      "text/latex": [
       "$\\displaystyle \\left(\\begin{array}{rr}\n",
       "89 & 129 \\\\\n",
       "20 & 29\n",
       "\\end{array}\\right)$"
      ],
      "text/plain": [
       "[ 89 129]\n",
       "[ 20  29]"
      ]
     },
     "metadata": {},
     "output_type": "display_data"
    },
    {
     "name": "stdout",
     "output_type": "stream",
     "text": [
      "IDR 3296/10000\r"
     ]
    },
    {
     "data": {
      "text/html": [
       "<html>\\(\\displaystyle \\left(\\begin{array}{rr}\n",
       "\\frac{29}{2} & \\frac{129}{2} \\\\\n",
       "10 & \\frac{89}{2}\n",
       "\\end{array}\\right)\\)</html>"
      ],
      "text/latex": [
       "$\\displaystyle \\left(\\begin{array}{rr}\n",
       "\\frac{29}{2} & \\frac{129}{2} \\\\\n",
       "10 & \\frac{89}{2}\n",
       "\\end{array}\\right)$"
      ],
      "text/plain": [
       "[ 29/2 129/2]\n",
       "[   10  89/2]"
      ]
     },
     "metadata": {},
     "output_type": "display_data"
    },
    {
     "name": "stdout",
     "output_type": "stream",
     "text": [
      "IDR 3303/10000\r"
     ]
    },
    {
     "data": {
      "text/html": [
       "<html>\\(\\displaystyle \\left(\\begin{array}{rr}\n",
       "31 & 148 \\\\\n",
       "-53 & -253\n",
       "\\end{array}\\right)\\)</html>"
      ],
      "text/latex": [
       "$\\displaystyle \\left(\\begin{array}{rr}\n",
       "31 & 148 \\\\\n",
       "-53 & -253\n",
       "\\end{array}\\right)$"
      ],
      "text/plain": [
       "[  31  148]\n",
       "[ -53 -253]"
      ]
     },
     "metadata": {},
     "output_type": "display_data"
    },
    {
     "name": "stdout",
     "output_type": "stream",
     "text": [
      "IDR 3306/10000\r"
     ]
    },
    {
     "data": {
      "text/html": [
       "<html>\\(\\displaystyle \\left(\\begin{array}{rr}\n",
       "-\\frac{31}{2} & -74 \\\\\n",
       "\\frac{53}{2} & \\frac{253}{2}\n",
       "\\end{array}\\right)\\)</html>"
      ],
      "text/latex": [
       "$\\displaystyle \\left(\\begin{array}{rr}\n",
       "-\\frac{31}{2} & -74 \\\\\n",
       "\\frac{53}{2} & \\frac{253}{2}\n",
       "\\end{array}\\right)$"
      ],
      "text/plain": [
       "[-31/2   -74]\n",
       "[ 53/2 253/2]"
      ]
     },
     "metadata": {},
     "output_type": "display_data"
    },
    {
     "name": "stdout",
     "output_type": "stream",
     "text": [
      "IDR 3314/10000\r"
     ]
    },
    {
     "data": {
      "text/html": [
       "<html>\\(\\displaystyle \\left(\\begin{array}{rr}\n",
       "45 & 176 \\\\\n",
       "-11 & -43\n",
       "\\end{array}\\right)\\)</html>"
      ],
      "text/latex": [
       "$\\displaystyle \\left(\\begin{array}{rr}\n",
       "45 & 176 \\\\\n",
       "-11 & -43\n",
       "\\end{array}\\right)$"
      ],
      "text/plain": [
       "[ 45 176]\n",
       "[-11 -43]"
      ]
     },
     "metadata": {},
     "output_type": "display_data"
    },
    {
     "name": "stdout",
     "output_type": "stream",
     "text": [
      "IDR 3365/10000\r"
     ]
    },
    {
     "data": {
      "text/html": [
       "<html>\\(\\displaystyle \\left(\\begin{array}{rr}\n",
       "15 & 82 \\\\\n",
       "-58 & -317\n",
       "\\end{array}\\right)\\)</html>"
      ],
      "text/latex": [
       "$\\displaystyle \\left(\\begin{array}{rr}\n",
       "15 & 82 \\\\\n",
       "-58 & -317\n",
       "\\end{array}\\right)$"
      ],
      "text/plain": [
       "[  15   82]\n",
       "[ -58 -317]"
      ]
     },
     "metadata": {},
     "output_type": "display_data"
    },
    {
     "name": "stdout",
     "output_type": "stream",
     "text": [
      "IDR 3497/10000\r"
     ]
    },
    {
     "data": {
      "text/html": [
       "<html>\\(\\displaystyle \\left(\\begin{array}{rr}\n",
       "-238 & -160 \\\\\n",
       "360 & 242\n",
       "\\end{array}\\right)\\)</html>"
      ],
      "text/latex": [
       "$\\displaystyle \\left(\\begin{array}{rr}\n",
       "-238 & -160 \\\\\n",
       "360 & 242\n",
       "\\end{array}\\right)$"
      ],
      "text/plain": [
       "[-238 -160]\n",
       "[ 360  242]"
      ]
     },
     "metadata": {},
     "output_type": "display_data"
    },
    {
     "name": "stdout",
     "output_type": "stream",
     "text": [
      "IDR 3542/10000\r"
     ]
    },
    {
     "data": {
      "text/html": [
       "<html>\\(\\displaystyle \\left(\\begin{array}{rr}\n",
       "-\\frac{121}{4} & -20 \\\\\n",
       "45 & \\frac{119}{4}\n",
       "\\end{array}\\right)\\)</html>"
      ],
      "text/latex": [
       "$\\displaystyle \\left(\\begin{array}{rr}\n",
       "-\\frac{121}{4} & -20 \\\\\n",
       "45 & \\frac{119}{4}\n",
       "\\end{array}\\right)$"
      ],
      "text/plain": [
       "[-121/4    -20]\n",
       "[    45  119/4]"
      ]
     },
     "metadata": {},
     "output_type": "display_data"
    },
    {
     "name": "stdout",
     "output_type": "stream",
     "text": [
      "IDR 3573/10000\r"
     ]
    },
    {
     "data": {
      "text/html": [
       "<html>\\(\\displaystyle \\left(\\begin{array}{rr}\n",
       "-58 & 258 \\\\\n",
       "40 & -178\n",
       "\\end{array}\\right)\\)</html>"
      ],
      "text/latex": [
       "$\\displaystyle \\left(\\begin{array}{rr}\n",
       "-58 & 258 \\\\\n",
       "40 & -178\n",
       "\\end{array}\\right)$"
      ],
      "text/plain": [
       "[ -58  258]\n",
       "[  40 -178]"
      ]
     },
     "metadata": {},
     "output_type": "display_data"
    },
    {
     "name": "stdout",
     "output_type": "stream",
     "text": [
      "IDR 3695/10000\r"
     ]
    },
    {
     "data": {
      "text/html": [
       "<html>\\(\\displaystyle \\left(\\begin{array}{rr}\n",
       "90 & -176 \\\\\n",
       "44 & -86\n",
       "\\end{array}\\right)\\)</html>"
      ],
      "text/latex": [
       "$\\displaystyle \\left(\\begin{array}{rr}\n",
       "90 & -176 \\\\\n",
       "44 & -86\n",
       "\\end{array}\\right)$"
      ],
      "text/plain": [
       "[  90 -176]\n",
       "[  44  -86]"
      ]
     },
     "metadata": {},
     "output_type": "display_data"
    },
    {
     "name": "stdout",
     "output_type": "stream",
     "text": [
      "IDR 3731/10000\r"
     ]
    },
    {
     "data": {
      "text/html": [
       "<html>\\(\\displaystyle \\left(\\begin{array}{rr}\n",
       "-122 & 180 \\\\\n",
       "-80 & 118\n",
       "\\end{array}\\right)\\)</html>"
      ],
      "text/latex": [
       "$\\displaystyle \\left(\\begin{array}{rr}\n",
       "-122 & 180 \\\\\n",
       "-80 & 118\n",
       "\\end{array}\\right)$"
      ],
      "text/plain": [
       "[-122  180]\n",
       "[ -80  118]"
      ]
     },
     "metadata": {},
     "output_type": "display_data"
    },
    {
     "name": "stdout",
     "output_type": "stream",
     "text": [
      "IDR 3843/10000\r"
     ]
    },
    {
     "data": {
      "text/html": [
       "<html>\\(\\displaystyle \\left(\\begin{array}{rr}\n",
       "479 & -333 \\\\\n",
       "-689 & 479\n",
       "\\end{array}\\right)\\)</html>"
      ],
      "text/latex": [
       "$\\displaystyle \\left(\\begin{array}{rr}\n",
       "479 & -333 \\\\\n",
       "-689 & 479\n",
       "\\end{array}\\right)$"
      ],
      "text/plain": [
       "[ 479 -333]\n",
       "[-689  479]"
      ]
     },
     "metadata": {},
     "output_type": "display_data"
    },
    {
     "name": "stdout",
     "output_type": "stream",
     "text": [
      "IDR 3844/10000\r"
     ]
    },
    {
     "data": {
      "text/html": [
       "<html>\\(\\displaystyle \\left(\\begin{array}{rr}\n",
       "\\frac{479}{4} & -\\frac{333}{4} \\\\\n",
       "-\\frac{689}{4} & \\frac{479}{4}\n",
       "\\end{array}\\right)\\)</html>"
      ],
      "text/latex": [
       "$\\displaystyle \\left(\\begin{array}{rr}\n",
       "\\frac{479}{4} & -\\frac{333}{4} \\\\\n",
       "-\\frac{689}{4} & \\frac{479}{4}\n",
       "\\end{array}\\right)$"
      ],
      "text/plain": [
       "[ 479/4 -333/4]\n",
       "[-689/4  479/4]"
      ]
     },
     "metadata": {},
     "output_type": "display_data"
    },
    {
     "name": "stdout",
     "output_type": "stream",
     "text": [
      "IDR 3890/10000\r"
     ]
    },
    {
     "data": {
      "text/html": [
       "<html>\\(\\displaystyle \\left(\\begin{array}{rr}\n",
       "121 & -80 \\\\\n",
       "180 & -119\n",
       "\\end{array}\\right)\\)</html>"
      ],
      "text/latex": [
       "$\\displaystyle \\left(\\begin{array}{rr}\n",
       "121 & -80 \\\\\n",
       "180 & -119\n",
       "\\end{array}\\right)$"
      ],
      "text/plain": [
       "[ 121  -80]\n",
       "[ 180 -119]"
      ]
     },
     "metadata": {},
     "output_type": "display_data"
    },
    {
     "name": "stdout",
     "output_type": "stream",
     "text": [
      "IDR 3892/10000\r"
     ]
    },
    {
     "data": {
      "text/html": [
       "<html>\\(\\displaystyle \\left(\\begin{array}{rr}\n",
       "-\\frac{193}{4} & \\frac{117}{4} \\\\\n",
       "-\\frac{325}{4} & \\frac{197}{4}\n",
       "\\end{array}\\right)\\)</html>"
      ],
      "text/latex": [
       "$\\displaystyle \\left(\\begin{array}{rr}\n",
       "-\\frac{193}{4} & \\frac{117}{4} \\\\\n",
       "-\\frac{325}{4} & \\frac{197}{4}\n",
       "\\end{array}\\right)$"
      ],
      "text/plain": [
       "[-193/4  117/4]\n",
       "[-325/4  197/4]"
      ]
     },
     "metadata": {},
     "output_type": "display_data"
    },
    {
     "name": "stdout",
     "output_type": "stream",
     "text": [
      "IDR 3977/10000\r"
     ]
    },
    {
     "data": {
      "text/html": [
       "<html>\\(\\displaystyle \\left(\\begin{array}{rr}\n",
       "-\\frac{23}{4} & \\frac{7}{4} \\\\\n",
       "-\\frac{63}{4} & \\frac{19}{4}\n",
       "\\end{array}\\right)\\)</html>"
      ],
      "text/latex": [
       "$\\displaystyle \\left(\\begin{array}{rr}\n",
       "-\\frac{23}{4} & \\frac{7}{4} \\\\\n",
       "-\\frac{63}{4} & \\frac{19}{4}\n",
       "\\end{array}\\right)$"
      ],
      "text/plain": [
       "[-23/4   7/4]\n",
       "[-63/4  19/4]"
      ]
     },
     "metadata": {},
     "output_type": "display_data"
    },
    {
     "name": "stdout",
     "output_type": "stream",
     "text": [
      "IDR 4019/10000\r"
     ]
    },
    {
     "data": {
      "text/html": [
       "<html>\\(\\displaystyle \\left(\\begin{array}{rr}\n",
       "130 & 32 \\\\\n",
       "-512 & -126\n",
       "\\end{array}\\right)\\)</html>"
      ],
      "text/latex": [
       "$\\displaystyle \\left(\\begin{array}{rr}\n",
       "130 & 32 \\\\\n",
       "-512 & -126\n",
       "\\end{array}\\right)$"
      ],
      "text/plain": [
       "[ 130   32]\n",
       "[-512 -126]"
      ]
     },
     "metadata": {},
     "output_type": "display_data"
    },
    {
     "name": "stdout",
     "output_type": "stream",
     "text": [
      "IDR 4022/10000\r"
     ]
    },
    {
     "data": {
      "text/html": [
       "<html>\\(\\displaystyle \\left(\\begin{array}{rr}\n",
       "\\frac{317}{2} & 41 \\\\\n",
       "-29 & -\\frac{15}{2}\n",
       "\\end{array}\\right)\\)</html>"
      ],
      "text/latex": [
       "$\\displaystyle \\left(\\begin{array}{rr}\n",
       "\\frac{317}{2} & 41 \\\\\n",
       "-29 & -\\frac{15}{2}\n",
       "\\end{array}\\right)$"
      ],
      "text/plain": [
       "[317/2    41]\n",
       "[  -29 -15/2]"
      ]
     },
     "metadata": {},
     "output_type": "display_data"
    },
    {
     "name": "stdout",
     "output_type": "stream",
     "text": [
      "IDR 4152/10000\r"
     ]
    },
    {
     "data": {
      "text/html": [
       "<html>\\(\\displaystyle \\left(\\begin{array}{rr}\n",
       "178 & 225 \\\\\n",
       "-678 & -857\n",
       "\\end{array}\\right)\\)</html>"
      ],
      "text/latex": [
       "$\\displaystyle \\left(\\begin{array}{rr}\n",
       "178 & 225 \\\\\n",
       "-678 & -857\n",
       "\\end{array}\\right)$"
      ],
      "text/plain": [
       "[ 178  225]\n",
       "[-678 -857]"
      ]
     },
     "metadata": {},
     "output_type": "display_data"
    },
    {
     "name": "stdout",
     "output_type": "stream",
     "text": [
      "IDR 4201/10000\r"
     ]
    },
    {
     "data": {
      "text/html": [
       "<html>\\(\\displaystyle \\left(\\begin{array}{rr}\n",
       "818 & 1088 \\\\\n",
       "-612 & -814\n",
       "\\end{array}\\right)\\)</html>"
      ],
      "text/latex": [
       "$\\displaystyle \\left(\\begin{array}{rr}\n",
       "818 & 1088 \\\\\n",
       "-612 & -814\n",
       "\\end{array}\\right)$"
      ],
      "text/plain": [
       "[ 818 1088]\n",
       "[-612 -814]"
      ]
     },
     "metadata": {},
     "output_type": "display_data"
    },
    {
     "name": "stdout",
     "output_type": "stream",
     "text": [
      "IDR 4346/10000\r"
     ]
    },
    {
     "data": {
      "text/html": [
       "<html>\\(\\displaystyle \\left(\\begin{array}{rr}\n",
       "\\frac{43}{2} & 44 \\\\\n",
       "-11 & -\\frac{45}{2}\n",
       "\\end{array}\\right)\\)</html>"
      ],
      "text/latex": [
       "$\\displaystyle \\left(\\begin{array}{rr}\n",
       "\\frac{43}{2} & 44 \\\\\n",
       "-11 & -\\frac{45}{2}\n",
       "\\end{array}\\right)$"
      ],
      "text/plain": [
       "[ 43/2    44]\n",
       "[  -11 -45/2]"
      ]
     },
     "metadata": {},
     "output_type": "display_data"
    },
    {
     "name": "stdout",
     "output_type": "stream",
     "text": [
      "IDR 4417/10000\r"
     ]
    },
    {
     "data": {
      "text/html": [
       "<html>\\(\\displaystyle \\left(\\begin{array}{rr}\n",
       "31 & 141 \\\\\n",
       "20 & 91\n",
       "\\end{array}\\right)\\)</html>"
      ],
      "text/latex": [
       "$\\displaystyle \\left(\\begin{array}{rr}\n",
       "31 & 141 \\\\\n",
       "20 & 91\n",
       "\\end{array}\\right)$"
      ],
      "text/plain": [
       "[ 31 141]\n",
       "[ 20  91]"
      ]
     },
     "metadata": {},
     "output_type": "display_data"
    },
    {
     "name": "stdout",
     "output_type": "stream",
     "text": [
      "IDR 4496/10000\r"
     ]
    },
    {
     "data": {
      "text/html": [
       "<html>\\(\\displaystyle \\left(\\begin{array}{rr}\n",
       "35 & 216 \\\\\n",
       "-6 & -37\n",
       "\\end{array}\\right)\\)</html>"
      ],
      "text/latex": [
       "$\\displaystyle \\left(\\begin{array}{rr}\n",
       "35 & 216 \\\\\n",
       "-6 & -37\n",
       "\\end{array}\\right)$"
      ],
      "text/plain": [
       "[ 35 216]\n",
       "[ -6 -37]"
      ]
     },
     "metadata": {},
     "output_type": "display_data"
    },
    {
     "name": "stdout",
     "output_type": "stream",
     "text": [
      "IDR 4501/10000\r"
     ]
    },
    {
     "data": {
      "text/html": [
       "<html>\\(\\displaystyle \\left(\\begin{array}{rr}\n",
       "\\frac{1}{2} & 6 \\\\\n",
       "0 & \\frac{1}{2}\n",
       "\\end{array}\\right)\\)</html>"
      ],
      "text/latex": [
       "$\\displaystyle \\left(\\begin{array}{rr}\n",
       "\\frac{1}{2} & 6 \\\\\n",
       "0 & \\frac{1}{2}\n",
       "\\end{array}\\right)$"
      ],
      "text/plain": [
       "[1/2   6]\n",
       "[  0 1/2]"
      ]
     },
     "metadata": {},
     "output_type": "display_data"
    },
    {
     "name": "stdout",
     "output_type": "stream",
     "text": [
      "IDR 4686/10000\r"
     ]
    },
    {
     "data": {
      "text/html": [
       "<html>\\(\\displaystyle \\left(\\begin{array}{rr}\n",
       "-958 & -666 \\\\\n",
       "-1378 & -958\n",
       "\\end{array}\\right)\\)</html>"
      ],
      "text/latex": [
       "$\\displaystyle \\left(\\begin{array}{rr}\n",
       "-958 & -666 \\\\\n",
       "-1378 & -958\n",
       "\\end{array}\\right)$"
      ],
      "text/plain": [
       "[ -958  -666]\n",
       "[-1378  -958]"
      ]
     },
     "metadata": {},
     "output_type": "display_data"
    },
    {
     "name": "stdout",
     "output_type": "stream",
     "text": [
      "IDR 4721/10000\r"
     ]
    },
    {
     "data": {
      "text/html": [
       "<html>\\(\\displaystyle \\left(\\begin{array}{rr}\n",
       "811 & 523 \\\\\n",
       "-214 & -138\n",
       "\\end{array}\\right)\\)</html>"
      ],
      "text/latex": [
       "$\\displaystyle \\left(\\begin{array}{rr}\n",
       "811 & 523 \\\\\n",
       "-214 & -138\n",
       "\\end{array}\\right)$"
      ],
      "text/plain": [
       "[ 811  523]\n",
       "[-214 -138]"
      ]
     },
     "metadata": {},
     "output_type": "display_data"
    },
    {
     "name": "stdout",
     "output_type": "stream",
     "text": [
      "IDR 4730/10000\r"
     ]
    },
    {
     "data": {
      "text/html": [
       "<html>\\(\\displaystyle \\left(\\begin{array}{rr}\n",
       "\\frac{811}{2} & \\frac{523}{2} \\\\\n",
       "-107 & -69\n",
       "\\end{array}\\right)\\)</html>"
      ],
      "text/latex": [
       "$\\displaystyle \\left(\\begin{array}{rr}\n",
       "\\frac{811}{2} & \\frac{523}{2} \\\\\n",
       "-107 & -69\n",
       "\\end{array}\\right)$"
      ],
      "text/plain": [
       "[811/2 523/2]\n",
       "[ -107   -69]"
      ]
     },
     "metadata": {},
     "output_type": "display_data"
    },
    {
     "name": "stdout",
     "output_type": "stream",
     "text": [
      "IDR 4752/10000\r"
     ]
    },
    {
     "data": {
      "text/html": [
       "<html>\\(\\displaystyle \\left(\\begin{array}{rr}\n",
       "-\\frac{193}{4} & -\\frac{117}{4} \\\\\n",
       "\\frac{325}{4} & \\frac{197}{4}\n",
       "\\end{array}\\right)\\)</html>"
      ],
      "text/latex": [
       "$\\displaystyle \\left(\\begin{array}{rr}\n",
       "-\\frac{193}{4} & -\\frac{117}{4} \\\\\n",
       "\\frac{325}{4} & \\frac{197}{4}\n",
       "\\end{array}\\right)$"
      ],
      "text/plain": [
       "[-193/4 -117/4]\n",
       "[ 325/4  197/4]"
      ]
     },
     "metadata": {},
     "output_type": "display_data"
    },
    {
     "name": "stdout",
     "output_type": "stream",
     "text": [
      "IDR 4777/10000\r"
     ]
    },
    {
     "data": {
      "text/html": [
       "<html>\\(\\displaystyle \\left(\\begin{array}{rr}\n",
       "-\\frac{29}{2} & \\frac{129}{2} \\\\\n",
       "10 & -\\frac{89}{2}\n",
       "\\end{array}\\right)\\)</html>"
      ],
      "text/latex": [
       "$\\displaystyle \\left(\\begin{array}{rr}\n",
       "-\\frac{29}{2} & \\frac{129}{2} \\\\\n",
       "10 & -\\frac{89}{2}\n",
       "\\end{array}\\right)$"
      ],
      "text/plain": [
       "[-29/2 129/2]\n",
       "[   10 -89/2]"
      ]
     },
     "metadata": {},
     "output_type": "display_data"
    },
    {
     "name": "stdout",
     "output_type": "stream",
     "text": [
      "IDR 4781/10000\r"
     ]
    },
    {
     "data": {
      "text/html": [
       "<html>\\(\\displaystyle \\left(\\begin{array}{rr}\n",
       "-43 & 176 \\\\\n",
       "-11 & 45\n",
       "\\end{array}\\right)\\)</html>"
      ],
      "text/latex": [
       "$\\displaystyle \\left(\\begin{array}{rr}\n",
       "-43 & 176 \\\\\n",
       "-11 & 45\n",
       "\\end{array}\\right)$"
      ],
      "text/plain": [
       "[-43 176]\n",
       "[-11  45]"
      ]
     },
     "metadata": {},
     "output_type": "display_data"
    },
    {
     "name": "stdout",
     "output_type": "stream",
     "text": [
      "IDR 4782/10000\r"
     ]
    },
    {
     "data": {
      "text/html": [
       "<html>\\(\\displaystyle \\left(\\begin{array}{rr}\n",
       "-\\frac{31}{4} & 37 \\\\\n",
       "-\\frac{53}{4} & \\frac{253}{4}\n",
       "\\end{array}\\right)\\)</html>"
      ],
      "text/latex": [
       "$\\displaystyle \\left(\\begin{array}{rr}\n",
       "-\\frac{31}{4} & 37 \\\\\n",
       "-\\frac{53}{4} & \\frac{253}{4}\n",
       "\\end{array}\\right)$"
      ],
      "text/plain": [
       "[-31/4    37]\n",
       "[-53/4 253/4]"
      ]
     },
     "metadata": {},
     "output_type": "display_data"
    },
    {
     "name": "stdout",
     "output_type": "stream",
     "text": [
      "IDR 4783/10000\r"
     ]
    },
    {
     "data": {
      "text/html": [
       "<html>\\(\\displaystyle \\left(\\begin{array}{rr}\n",
       "-\\frac{31}{2} & 74 \\\\\n",
       "-\\frac{53}{2} & \\frac{253}{2}\n",
       "\\end{array}\\right)\\)</html>"
      ],
      "text/latex": [
       "$\\displaystyle \\left(\\begin{array}{rr}\n",
       "-\\frac{31}{2} & 74 \\\\\n",
       "-\\frac{53}{2} & \\frac{253}{2}\n",
       "\\end{array}\\right)$"
      ],
      "text/plain": [
       "[-31/2    74]\n",
       "[-53/2 253/2]"
      ]
     },
     "metadata": {},
     "output_type": "display_data"
    },
    {
     "name": "stdout",
     "output_type": "stream",
     "text": [
      "IDR 4795/10000\r"
     ]
    },
    {
     "data": {
      "text/html": [
       "<html>\\(\\displaystyle \\left(\\begin{array}{rr}\n",
       "\\frac{15}{2} & -41 \\\\\n",
       "29 & -\\frac{317}{2}\n",
       "\\end{array}\\right)\\)</html>"
      ],
      "text/latex": [
       "$\\displaystyle \\left(\\begin{array}{rr}\n",
       "\\frac{15}{2} & -41 \\\\\n",
       "29 & -\\frac{317}{2}\n",
       "\\end{array}\\right)$"
      ],
      "text/plain": [
       "[  15/2    -41]\n",
       "[    29 -317/2]"
      ]
     },
     "metadata": {},
     "output_type": "display_data"
    },
    {
     "name": "stdout",
     "output_type": "stream",
     "text": [
      "IDR 4991/10000\r"
     ]
    },
    {
     "data": {
      "text/html": [
       "<html>\\(\\displaystyle \\left(\\begin{array}{rr}\n",
       "182 & -282 \\\\\n",
       "-40 & 62\n",
       "\\end{array}\\right)\\)</html>"
      ],
      "text/latex": [
       "$\\displaystyle \\left(\\begin{array}{rr}\n",
       "182 & -282 \\\\\n",
       "-40 & 62\n",
       "\\end{array}\\right)$"
      ],
      "text/plain": [
       "[ 182 -282]\n",
       "[ -40   62]"
      ]
     },
     "metadata": {},
     "output_type": "display_data"
    },
    {
     "name": "stdout",
     "output_type": "stream",
     "text": [
      "IDR 4998/10000\r"
     ]
    },
    {
     "data": {
      "text/html": [
       "<html>\\(\\displaystyle \\left(\\begin{array}{rr}\n",
       "356 & -516 \\\\\n",
       "-80 & 116\n",
       "\\end{array}\\right)\\)</html>"
      ],
      "text/latex": [
       "$\\displaystyle \\left(\\begin{array}{rr}\n",
       "356 & -516 \\\\\n",
       "-80 & 116\n",
       "\\end{array}\\right)$"
      ],
      "text/plain": [
       "[ 356 -516]\n",
       "[ -80  116]"
      ]
     },
     "metadata": {},
     "output_type": "display_data"
    },
    {
     "name": "stdout",
     "output_type": "stream",
     "text": [
      "IDR 5143/10000\r"
     ]
    },
    {
     "data": {
      "text/html": [
       "<html>\\(\\displaystyle \\left(\\begin{array}{rr}\n",
       "\\frac{479}{2} & -\\frac{333}{2} \\\\\n",
       "-\\frac{689}{2} & \\frac{479}{2}\n",
       "\\end{array}\\right)\\)</html>"
      ],
      "text/latex": [
       "$\\displaystyle \\left(\\begin{array}{rr}\n",
       "\\frac{479}{2} & -\\frac{333}{2} \\\\\n",
       "-\\frac{689}{2} & \\frac{479}{2}\n",
       "\\end{array}\\right)$"
      ],
      "text/plain": [
       "[ 479/2 -333/2]\n",
       "[-689/2  479/2]"
      ]
     },
     "metadata": {},
     "output_type": "display_data"
    },
    {
     "name": "stdout",
     "output_type": "stream",
     "text": [
      "IDR 5209/10000\r"
     ]
    },
    {
     "data": {
      "text/html": [
       "<html>\\(\\displaystyle \\left(\\begin{array}{rr}\n",
       "\\frac{253}{2} & -74 \\\\\n",
       "\\frac{53}{2} & -\\frac{31}{2}\n",
       "\\end{array}\\right)\\)</html>"
      ],
      "text/latex": [
       "$\\displaystyle \\left(\\begin{array}{rr}\n",
       "\\frac{253}{2} & -74 \\\\\n",
       "\\frac{53}{2} & -\\frac{31}{2}\n",
       "\\end{array}\\right)$"
      ],
      "text/plain": [
       "[253/2   -74]\n",
       "[ 53/2 -31/2]"
      ]
     },
     "metadata": {},
     "output_type": "display_data"
    },
    {
     "name": "stdout",
     "output_type": "stream",
     "text": [
      "IDR 5217/10000\r"
     ]
    },
    {
     "data": {
      "text/html": [
       "<html>\\(\\displaystyle \\left(\\begin{array}{rr}\n",
       "-1480 & 868 \\\\\n",
       "948 & -556\n",
       "\\end{array}\\right)\\)</html>"
      ],
      "text/latex": [
       "$\\displaystyle \\left(\\begin{array}{rr}\n",
       "-1480 & 868 \\\\\n",
       "948 & -556\n",
       "\\end{array}\\right)$"
      ],
      "text/plain": [
       "[-1480   868]\n",
       "[  948  -556]"
      ]
     },
     "metadata": {},
     "output_type": "display_data"
    },
    {
     "name": "stdout",
     "output_type": "stream",
     "text": [
      "IDR 5218/10000\r"
     ]
    },
    {
     "data": {
      "text/html": [
       "<html>\\(\\displaystyle \\left(\\begin{array}{rr}\n",
       "253 & -148 \\\\\n",
       "53 & -31\n",
       "\\end{array}\\right)\\)</html>"
      ],
      "text/latex": [
       "$\\displaystyle \\left(\\begin{array}{rr}\n",
       "253 & -148 \\\\\n",
       "53 & -31\n",
       "\\end{array}\\right)$"
      ],
      "text/plain": [
       "[ 253 -148]\n",
       "[  53  -31]"
      ]
     },
     "metadata": {},
     "output_type": "display_data"
    },
    {
     "name": "stdout",
     "output_type": "stream",
     "text": [
      "IDR 5223/10000\r"
     ]
    },
    {
     "data": {
      "text/html": [
       "<html>\\(\\displaystyle \\left(\\begin{array}{rr}\n",
       "-788 & 468 \\\\\n",
       "-1300 & 772\n",
       "\\end{array}\\right)\\)</html>"
      ],
      "text/latex": [
       "$\\displaystyle \\left(\\begin{array}{rr}\n",
       "-788 & 468 \\\\\n",
       "-1300 & 772\n",
       "\\end{array}\\right)$"
      ],
      "text/plain": [
       "[ -788   468]\n",
       "[-1300   772]"
      ]
     },
     "metadata": {},
     "output_type": "display_data"
    },
    {
     "name": "stdout",
     "output_type": "stream",
     "text": [
      "IDR 5326/10000\r"
     ]
    },
    {
     "data": {
      "text/html": [
       "<html>\\(\\displaystyle \\left(\\begin{array}{rr}\n",
       "317 & -82 \\\\\n",
       "58 & -15\n",
       "\\end{array}\\right)\\)</html>"
      ],
      "text/latex": [
       "$\\displaystyle \\left(\\begin{array}{rr}\n",
       "317 & -82 \\\\\n",
       "58 & -15\n",
       "\\end{array}\\right)$"
      ],
      "text/plain": [
       "[317 -82]\n",
       "[ 58 -15]"
      ]
     },
     "metadata": {},
     "output_type": "display_data"
    },
    {
     "name": "stdout",
     "output_type": "stream",
     "text": [
      "IDR 5328/10000\r"
     ]
    },
    {
     "data": {
      "text/html": [
       "<html>\\(\\displaystyle \\left(\\begin{array}{rr}\n",
       "379 & -98 \\\\\n",
       "-58 & 15\n",
       "\\end{array}\\right)\\)</html>"
      ],
      "text/latex": [
       "$\\displaystyle \\left(\\begin{array}{rr}\n",
       "379 & -98 \\\\\n",
       "-58 & 15\n",
       "\\end{array}\\right)$"
      ],
      "text/plain": [
       "[379 -98]\n",
       "[-58  15]"
      ]
     },
     "metadata": {},
     "output_type": "display_data"
    },
    {
     "name": "stdout",
     "output_type": "stream",
     "text": [
      "IDR 5511/10000\r"
     ]
    },
    {
     "data": {
      "text/html": [
       "<html>\\(\\displaystyle \\left(\\begin{array}{rr}\n",
       "-185 & -\\frac{217}{2} \\\\\n",
       "-\\frac{237}{2} & -\\frac{139}{2}\n",
       "\\end{array}\\right)\\)</html>"
      ],
      "text/latex": [
       "$\\displaystyle \\left(\\begin{array}{rr}\n",
       "-185 & -\\frac{217}{2} \\\\\n",
       "-\\frac{237}{2} & -\\frac{139}{2}\n",
       "\\end{array}\\right)$"
      ],
      "text/plain": [
       "[  -185 -217/2]\n",
       "[-237/2 -139/2]"
      ]
     },
     "metadata": {},
     "output_type": "display_data"
    },
    {
     "name": "stdout",
     "output_type": "stream",
     "text": [
      "IDR 5513/10000\r"
     ]
    },
    {
     "data": {
      "text/html": [
       "<html>\\(\\displaystyle \\left(\\begin{array}{rr}\n",
       "-370 & -217 \\\\\n",
       "-237 & -139\n",
       "\\end{array}\\right)\\)</html>"
      ],
      "text/latex": [
       "$\\displaystyle \\left(\\begin{array}{rr}\n",
       "-370 & -217 \\\\\n",
       "-237 & -139\n",
       "\\end{array}\\right)$"
      ],
      "text/plain": [
       "[-370 -217]\n",
       "[-237 -139]"
      ]
     },
     "metadata": {},
     "output_type": "display_data"
    },
    {
     "name": "stdout",
     "output_type": "stream",
     "text": [
      "IDR 5530/10000\r"
     ]
    },
    {
     "data": {
      "text/html": [
       "<html>\\(\\displaystyle \\left(\\begin{array}{rr}\n",
       "-89 & -\\frac{225}{2} \\\\\n",
       "339 & \\frac{857}{2}\n",
       "\\end{array}\\right)\\)</html>"
      ],
      "text/latex": [
       "$\\displaystyle \\left(\\begin{array}{rr}\n",
       "-89 & -\\frac{225}{2} \\\\\n",
       "339 & \\frac{857}{2}\n",
       "\\end{array}\\right)$"
      ],
      "text/plain": [
       "[   -89 -225/2]\n",
       "[   339  857/2]"
      ]
     },
     "metadata": {},
     "output_type": "display_data"
    },
    {
     "name": "stdout",
     "output_type": "stream",
     "text": [
      "IDR 5534/10000\r"
     ]
    },
    {
     "data": {
      "text/html": [
       "<html>\\(\\displaystyle \\left(\\begin{array}{rr}\n",
       "-261 & -325 \\\\\n",
       "208 & 259\n",
       "\\end{array}\\right)\\)</html>"
      ],
      "text/latex": [
       "$\\displaystyle \\left(\\begin{array}{rr}\n",
       "-261 & -325 \\\\\n",
       "208 & 259\n",
       "\\end{array}\\right)$"
      ],
      "text/plain": [
       "[-261 -325]\n",
       "[ 208  259]"
      ]
     },
     "metadata": {},
     "output_type": "display_data"
    },
    {
     "name": "stdout",
     "output_type": "stream",
     "text": [
      "IDR 5976/10000\r"
     ]
    },
    {
     "data": {
      "text/html": [
       "<html>\\(\\displaystyle \\left(\\begin{array}{rr}\n",
       "-\\frac{15}{4} & -\\frac{49}{2} \\\\\n",
       "-\\frac{29}{2} & -\\frac{379}{4}\n",
       "\\end{array}\\right)\\)</html>"
      ],
      "text/latex": [
       "$\\displaystyle \\left(\\begin{array}{rr}\n",
       "-\\frac{15}{4} & -\\frac{49}{2} \\\\\n",
       "-\\frac{29}{2} & -\\frac{379}{4}\n",
       "\\end{array}\\right)$"
      ],
      "text/plain": [
       "[ -15/4  -49/2]\n",
       "[ -29/2 -379/4]"
      ]
     },
     "metadata": {},
     "output_type": "display_data"
    },
    {
     "name": "stdout",
     "output_type": "stream",
     "text": [
      "IDR 5977/10000\r"
     ]
    },
    {
     "data": {
      "text/html": [
       "<html>\\(\\displaystyle \\left(\\begin{array}{rr}\n",
       "30 & 196 \\\\\n",
       "116 & 758\n",
       "\\end{array}\\right)\\)</html>"
      ],
      "text/latex": [
       "$\\displaystyle \\left(\\begin{array}{rr}\n",
       "30 & 196 \\\\\n",
       "116 & 758\n",
       "\\end{array}\\right)$"
      ],
      "text/plain": [
       "[ 30 196]\n",
       "[116 758]"
      ]
     },
     "metadata": {},
     "output_type": "display_data"
    },
    {
     "name": "stdout",
     "output_type": "stream",
     "text": [
      "IDR 6317/10000\r"
     ]
    },
    {
     "data": {
      "text/html": [
       "<html>\\(\\displaystyle \\left(\\begin{array}{rr}\n",
       "193 & 117 \\\\\n",
       "-325 & -197\n",
       "\\end{array}\\right)\\)</html>"
      ],
      "text/latex": [
       "$\\displaystyle \\left(\\begin{array}{rr}\n",
       "193 & 117 \\\\\n",
       "-325 & -197\n",
       "\\end{array}\\right)$"
      ],
      "text/plain": [
       "[ 193  117]\n",
       "[-325 -197]"
      ]
     },
     "metadata": {},
     "output_type": "display_data"
    },
    {
     "name": "stdout",
     "output_type": "stream",
     "text": [
      "IDR 6534/10000\r"
     ]
    },
    {
     "data": {
      "text/html": [
       "<html>\\(\\displaystyle \\left(\\begin{array}{rr}\n",
       "1676 & -3192 \\\\\n",
       "-880 & 1676\n",
       "\\end{array}\\right)\\)</html>"
      ],
      "text/latex": [
       "$\\displaystyle \\left(\\begin{array}{rr}\n",
       "1676 & -3192 \\\\\n",
       "-880 & 1676\n",
       "\\end{array}\\right)$"
      ],
      "text/plain": [
       "[ 1676 -3192]\n",
       "[ -880  1676]"
      ]
     },
     "metadata": {},
     "output_type": "display_data"
    },
    {
     "name": "stdout",
     "output_type": "stream",
     "text": [
      "IDR 6539/10000\r"
     ]
    },
    {
     "data": {
      "text/html": [
       "<html>\\(\\displaystyle \\left(\\begin{array}{rr}\n",
       "838 & -1596 \\\\\n",
       "-440 & 838\n",
       "\\end{array}\\right)\\)</html>"
      ],
      "text/latex": [
       "$\\displaystyle \\left(\\begin{array}{rr}\n",
       "838 & -1596 \\\\\n",
       "-440 & 838\n",
       "\\end{array}\\right)$"
      ],
      "text/plain": [
       "[  838 -1596]\n",
       "[ -440   838]"
      ]
     },
     "metadata": {},
     "output_type": "display_data"
    },
    {
     "name": "stdout",
     "output_type": "stream",
     "text": [
      "IDR 6554/10000\r"
     ]
    },
    {
     "data": {
      "text/html": [
       "<html>\\(\\displaystyle \\left(\\begin{array}{rr}\n",
       "\\frac{89}{2} & -\\frac{225}{4} \\\\\n",
       "\\frac{339}{2} & -\\frac{857}{4}\n",
       "\\end{array}\\right)\\)</html>"
      ],
      "text/latex": [
       "$\\displaystyle \\left(\\begin{array}{rr}\n",
       "\\frac{89}{2} & -\\frac{225}{4} \\\\\n",
       "\\frac{339}{2} & -\\frac{857}{4}\n",
       "\\end{array}\\right)$"
      ],
      "text/plain": [
       "[  89/2 -225/4]\n",
       "[ 339/2 -857/4]"
      ]
     },
     "metadata": {},
     "output_type": "display_data"
    },
    {
     "name": "stdout",
     "output_type": "stream",
     "text": [
      "IDR 6613/10000\r"
     ]
    },
    {
     "data": {
      "text/html": [
       "<html>\\(\\displaystyle \\left(\\begin{array}{rr}\n",
       "89 & -129 \\\\\n",
       "-20 & 29\n",
       "\\end{array}\\right)\\)</html>"
      ],
      "text/latex": [
       "$\\displaystyle \\left(\\begin{array}{rr}\n",
       "89 & -129 \\\\\n",
       "-20 & 29\n",
       "\\end{array}\\right)$"
      ],
      "text/plain": [
       "[  89 -129]\n",
       "[ -20   29]"
      ]
     },
     "metadata": {},
     "output_type": "display_data"
    },
    {
     "name": "stdout",
     "output_type": "stream",
     "text": [
      "IDR 6645/10000\r"
     ]
    },
    {
     "data": {
      "text/html": [
       "<html>\\(\\displaystyle \\left(\\begin{array}{rr}\n",
       "409 & -544 \\\\\n",
       "306 & -407\n",
       "\\end{array}\\right)\\)</html>"
      ],
      "text/latex": [
       "$\\displaystyle \\left(\\begin{array}{rr}\n",
       "409 & -544 \\\\\n",
       "306 & -407\n",
       "\\end{array}\\right)$"
      ],
      "text/plain": [
       "[ 409 -544]\n",
       "[ 306 -407]"
      ]
     },
     "metadata": {},
     "output_type": "display_data"
    },
    {
     "name": "stdout",
     "output_type": "stream",
     "text": [
      "IDR 6853/10000\r"
     ]
    },
    {
     "data": {
      "text/html": [
       "<html>\\(\\displaystyle \\left(\\begin{array}{rr}\n",
       "-238 & 160 \\\\\n",
       "-360 & 242\n",
       "\\end{array}\\right)\\)</html>"
      ],
      "text/latex": [
       "$\\displaystyle \\left(\\begin{array}{rr}\n",
       "-238 & 160 \\\\\n",
       "-360 & 242\n",
       "\\end{array}\\right)$"
      ],
      "text/plain": [
       "[-238  160]\n",
       "[-360  242]"
      ]
     },
     "metadata": {},
     "output_type": "display_data"
    },
    {
     "name": "stdout",
     "output_type": "stream",
     "text": [
      "IDR 6867/10000\r"
     ]
    },
    {
     "data": {
      "text/html": [
       "<html>\\(\\displaystyle \\left(\\begin{array}{rr}\n",
       "811 & -523 \\\\\n",
       "214 & -138\n",
       "\\end{array}\\right)\\)</html>"
      ],
      "text/latex": [
       "$\\displaystyle \\left(\\begin{array}{rr}\n",
       "811 & -523 \\\\\n",
       "214 & -138\n",
       "\\end{array}\\right)$"
      ],
      "text/plain": [
       "[ 811 -523]\n",
       "[ 214 -138]"
      ]
     },
     "metadata": {},
     "output_type": "display_data"
    },
    {
     "name": "stdout",
     "output_type": "stream",
     "text": [
      "IDR 6870/10000\r"
     ]
    },
    {
     "data": {
      "text/html": [
       "<html>\\(\\displaystyle \\left(\\begin{array}{rr}\n",
       "1622 & -1046 \\\\\n",
       "428 & -276\n",
       "\\end{array}\\right)\\)</html>"
      ],
      "text/latex": [
       "$\\displaystyle \\left(\\begin{array}{rr}\n",
       "1622 & -1046 \\\\\n",
       "428 & -276\n",
       "\\end{array}\\right)$"
      ],
      "text/plain": [
       "[ 1622 -1046]\n",
       "[  428  -276]"
      ]
     },
     "metadata": {},
     "output_type": "display_data"
    },
    {
     "name": "stdout",
     "output_type": "stream",
     "text": [
      "IDR 7032/10000\r"
     ]
    },
    {
     "data": {
      "text/html": [
       "<html>\\(\\displaystyle \\left(\\begin{array}{rr}\n",
       "\\frac{857}{4} & -\\frac{225}{4} \\\\\n",
       "\\frac{339}{2} & -\\frac{89}{2}\n",
       "\\end{array}\\right)\\)</html>"
      ],
      "text/latex": [
       "$\\displaystyle \\left(\\begin{array}{rr}\n",
       "\\frac{857}{4} & -\\frac{225}{4} \\\\\n",
       "\\frac{339}{2} & -\\frac{89}{2}\n",
       "\\end{array}\\right)$"
      ],
      "text/plain": [
       "[ 857/4 -225/4]\n",
       "[ 339/2  -89/2]"
      ]
     },
     "metadata": {},
     "output_type": "display_data"
    },
    {
     "name": "stdout",
     "output_type": "stream",
     "text": [
      "IDR 7034/10000\r"
     ]
    },
    {
     "data": {
      "text/html": [
       "<html>\\(\\displaystyle \\left(\\begin{array}{rr}\n",
       "-\\frac{317}{2} & 41 \\\\\n",
       "-29 & \\frac{15}{2}\n",
       "\\end{array}\\right)\\)</html>"
      ],
      "text/latex": [
       "$\\displaystyle \\left(\\begin{array}{rr}\n",
       "-\\frac{317}{2} & 41 \\\\\n",
       "-29 & \\frac{15}{2}\n",
       "\\end{array}\\right)$"
      ],
      "text/plain": [
       "[-317/2     41]\n",
       "[   -29   15/2]"
      ]
     },
     "metadata": {},
     "output_type": "display_data"
    },
    {
     "name": "stdout",
     "output_type": "stream",
     "text": [
      "IDR 7092/10000\r"
     ]
    },
    {
     "data": {
      "text/html": [
       "<html>\\(\\displaystyle \\left(\\begin{array}{rr}\n",
       "-\\frac{317}{4} & -\\frac{41}{2} \\\\\n",
       "\\frac{29}{2} & \\frac{15}{4}\n",
       "\\end{array}\\right)\\)</html>"
      ],
      "text/latex": [
       "$\\displaystyle \\left(\\begin{array}{rr}\n",
       "-\\frac{317}{4} & -\\frac{41}{2} \\\\\n",
       "\\frac{29}{2} & \\frac{15}{4}\n",
       "\\end{array}\\right)$"
      ],
      "text/plain": [
       "[-317/4  -41/2]\n",
       "[  29/2   15/4]"
      ]
     },
     "metadata": {},
     "output_type": "display_data"
    },
    {
     "name": "stdout",
     "output_type": "stream",
     "text": [
      "IDR 7124/10000\r"
     ]
    },
    {
     "data": {
      "text/html": [
       "<html>\\(\\displaystyle \\left(\\begin{array}{rr}\n",
       "-\\frac{2497}{2} & -\\frac{549}{2} \\\\\n",
       "\\frac{3625}{2} & \\frac{797}{2}\n",
       "\\end{array}\\right)\\)</html>"
      ],
      "text/latex": [
       "$\\displaystyle \\left(\\begin{array}{rr}\n",
       "-\\frac{2497}{2} & -\\frac{549}{2} \\\\\n",
       "\\frac{3625}{2} & \\frac{797}{2}\n",
       "\\end{array}\\right)$"
      ],
      "text/plain": [
       "[-2497/2  -549/2]\n",
       "[ 3625/2   797/2]"
      ]
     },
     "metadata": {},
     "output_type": "display_data"
    },
    {
     "name": "stdout",
     "output_type": "stream",
     "text": [
      "IDR 7543/10000\r"
     ]
    },
    {
     "data": {
      "text/html": [
       "<html>\\(\\displaystyle \\left(\\begin{array}{rr}\n",
       "107 & 203 \\\\\n",
       "-603 & -1144\n",
       "\\end{array}\\right)\\)</html>"
      ],
      "text/latex": [
       "$\\displaystyle \\left(\\begin{array}{rr}\n",
       "107 & 203 \\\\\n",
       "-603 & -1144\n",
       "\\end{array}\\right)$"
      ],
      "text/plain": [
       "[  107   203]\n",
       "[ -603 -1144]"
      ]
     },
     "metadata": {},
     "output_type": "display_data"
    },
    {
     "name": "stdout",
     "output_type": "stream",
     "text": [
      "IDR 7608/10000\r"
     ]
    },
    {
     "data": {
      "text/html": [
       "<html>\\(\\displaystyle \\left(\\begin{array}{rr}\n",
       "\\frac{1243}{2} & \\frac{2311}{2} \\\\\n",
       "-277 & -515\n",
       "\\end{array}\\right)\\)</html>"
      ],
      "text/latex": [
       "$\\displaystyle \\left(\\begin{array}{rr}\n",
       "\\frac{1243}{2} & \\frac{2311}{2} \\\\\n",
       "-277 & -515\n",
       "\\end{array}\\right)$"
      ],
      "text/plain": [
       "[1243/2 2311/2]\n",
       "[  -277   -515]"
      ]
     },
     "metadata": {},
     "output_type": "display_data"
    },
    {
     "name": "stdout",
     "output_type": "stream",
     "text": [
      "IDR 7729/10000\r"
     ]
    },
    {
     "data": {
      "text/html": [
       "<html>\\(\\displaystyle \\left(\\begin{array}{rr}\n",
       "138 & 523 \\\\\n",
       "-214 & -811\n",
       "\\end{array}\\right)\\)</html>"
      ],
      "text/latex": [
       "$\\displaystyle \\left(\\begin{array}{rr}\n",
       "138 & 523 \\\\\n",
       "-214 & -811\n",
       "\\end{array}\\right)$"
      ],
      "text/plain": [
       "[ 138  523]\n",
       "[-214 -811]"
      ]
     },
     "metadata": {},
     "output_type": "display_data"
    },
    {
     "name": "stdout",
     "output_type": "stream",
     "text": [
      "IDR 7742/10000\r"
     ]
    },
    {
     "data": {
      "text/html": [
       "<html>\\(\\displaystyle \\left(\\begin{array}{rr}\n",
       "1126 & 2613 \\\\\n",
       "-602 & -1397\n",
       "\\end{array}\\right)\\)</html>"
      ],
      "text/latex": [
       "$\\displaystyle \\left(\\begin{array}{rr}\n",
       "1126 & 2613 \\\\\n",
       "-602 & -1397\n",
       "\\end{array}\\right)$"
      ],
      "text/plain": [
       "[ 1126  2613]\n",
       "[ -602 -1397]"
      ]
     },
     "metadata": {},
     "output_type": "display_data"
    },
    {
     "name": "stdout",
     "output_type": "stream",
     "text": [
      "IDR 7749/10000\r"
     ]
    },
    {
     "data": {
      "text/html": [
       "<html>\\(\\displaystyle \\left(\\begin{array}{rr}\n",
       "-593 & -1369 \\\\\n",
       "256 & 591\n",
       "\\end{array}\\right)\\)</html>"
      ],
      "text/latex": [
       "$\\displaystyle \\left(\\begin{array}{rr}\n",
       "-593 & -1369 \\\\\n",
       "256 & 591\n",
       "\\end{array}\\right)$"
      ],
      "text/plain": [
       "[ -593 -1369]\n",
       "[  256   591]"
      ]
     },
     "metadata": {},
     "output_type": "display_data"
    },
    {
     "name": "stdout",
     "output_type": "stream",
     "text": [
      "IDR 7754/10000\r"
     ]
    },
    {
     "data": {
      "text/html": [
       "<html>\\(\\displaystyle \\left(\\begin{array}{rr}\n",
       "-1210 & -2789 \\\\\n",
       "646 & 1489\n",
       "\\end{array}\\right)\\)</html>"
      ],
      "text/latex": [
       "$\\displaystyle \\left(\\begin{array}{rr}\n",
       "-1210 & -2789 \\\\\n",
       "646 & 1489\n",
       "\\end{array}\\right)$"
      ],
      "text/plain": [
       "[-1210 -2789]\n",
       "[  646  1489]"
      ]
     },
     "metadata": {},
     "output_type": "display_data"
    },
    {
     "name": "stdout",
     "output_type": "stream",
     "text": [
      "IDR 7858/10000\r"
     ]
    },
    {
     "data": {
      "text/html": [
       "<html>\\(\\displaystyle \\left(\\begin{array}{rr}\n",
       "-66 & -380 \\\\\n",
       "-256 & -1474\n",
       "\\end{array}\\right)\\)</html>"
      ],
      "text/latex": [
       "$\\displaystyle \\left(\\begin{array}{rr}\n",
       "-66 & -380 \\\\\n",
       "-256 & -1474\n",
       "\\end{array}\\right)$"
      ],
      "text/plain": [
       "[  -66  -380]\n",
       "[ -256 -1474]"
      ]
     },
     "metadata": {},
     "output_type": "display_data"
    },
    {
     "name": "stdout",
     "output_type": "stream",
     "text": [
      "IDR 8217/10000\r"
     ]
    },
    {
     "data": {
      "text/html": [
       "<html>\\(\\displaystyle \\left(\\begin{array}{rr}\n",
       "-\\frac{1737}{2} & -\\frac{1277}{2} \\\\\n",
       "1231 & 905\n",
       "\\end{array}\\right)\\)</html>"
      ],
      "text/latex": [
       "$\\displaystyle \\left(\\begin{array}{rr}\n",
       "-\\frac{1737}{2} & -\\frac{1277}{2} \\\\\n",
       "1231 & 905\n",
       "\\end{array}\\right)$"
      ],
      "text/plain": [
       "[-1737/2 -1277/2]\n",
       "[   1231     905]"
      ]
     },
     "metadata": {},
     "output_type": "display_data"
    },
    {
     "name": "stdout",
     "output_type": "stream",
     "text": [
      "IDR 8331/10000\r"
     ]
    },
    {
     "data": {
      "text/html": [
       "<html>\\(\\displaystyle \\left(\\begin{array}{rr}\n",
       "\\frac{45}{2} & -88 \\\\\n",
       "\\frac{11}{2} & -\\frac{43}{2}\n",
       "\\end{array}\\right)\\)</html>"
      ],
      "text/latex": [
       "$\\displaystyle \\left(\\begin{array}{rr}\n",
       "\\frac{45}{2} & -88 \\\\\n",
       "\\frac{11}{2} & -\\frac{43}{2}\n",
       "\\end{array}\\right)$"
      ],
      "text/plain": [
       "[ 45/2   -88]\n",
       "[ 11/2 -43/2]"
      ]
     },
     "metadata": {},
     "output_type": "display_data"
    },
    {
     "name": "stdout",
     "output_type": "stream",
     "text": [
      "IDR 8334/10000\r"
     ]
    },
    {
     "data": {
      "text/html": [
       "<html>\\(\\displaystyle \\left(\\begin{array}{rr}\n",
       "-69 & \\frac{523}{2} \\\\\n",
       "-107 & \\frac{811}{2}\n",
       "\\end{array}\\right)\\)</html>"
      ],
      "text/latex": [
       "$\\displaystyle \\left(\\begin{array}{rr}\n",
       "-69 & \\frac{523}{2} \\\\\n",
       "-107 & \\frac{811}{2}\n",
       "\\end{array}\\right)$"
      ],
      "text/plain": [
       "[  -69 523/2]\n",
       "[ -107 811/2]"
      ]
     },
     "metadata": {},
     "output_type": "display_data"
    },
    {
     "name": "stdout",
     "output_type": "stream",
     "text": [
      "IDR 8344/10000\r"
     ]
    },
    {
     "data": {
      "text/html": [
       "<html>\\(\\displaystyle \\left(\\begin{array}{rr}\n",
       "-\\frac{43}{2} & 88 \\\\\n",
       "-\\frac{11}{2} & \\frac{45}{2}\n",
       "\\end{array}\\right)\\)</html>"
      ],
      "text/latex": [
       "$\\displaystyle \\left(\\begin{array}{rr}\n",
       "-\\frac{43}{2} & 88 \\\\\n",
       "-\\frac{11}{2} & \\frac{45}{2}\n",
       "\\end{array}\\right)$"
      ],
      "text/plain": [
       "[-43/2    88]\n",
       "[-11/2  45/2]"
      ]
     },
     "metadata": {},
     "output_type": "display_data"
    },
    {
     "name": "stdout",
     "output_type": "stream",
     "text": [
      "IDR 8586/10000\r"
     ]
    },
    {
     "data": {
      "text/html": [
       "<html>\\(\\displaystyle \\left(\\begin{array}{rr}\n",
       "419 & -798 \\\\\n",
       "-220 & 419\n",
       "\\end{array}\\right)\\)</html>"
      ],
      "text/latex": [
       "$\\displaystyle \\left(\\begin{array}{rr}\n",
       "419 & -798 \\\\\n",
       "-220 & 419\n",
       "\\end{array}\\right)$"
      ],
      "text/plain": [
       "[ 419 -798]\n",
       "[-220  419]"
      ]
     },
     "metadata": {},
     "output_type": "display_data"
    },
    {
     "name": "stdout",
     "output_type": "stream",
     "text": [
      "IDR 8607/10000\r"
     ]
    },
    {
     "data": {
      "text/html": [
       "<html>\\(\\displaystyle \\left(\\begin{array}{rr}\n",
       "89 & -\\frac{225}{2} \\\\\n",
       "339 & -\\frac{857}{2}\n",
       "\\end{array}\\right)\\)</html>"
      ],
      "text/latex": [
       "$\\displaystyle \\left(\\begin{array}{rr}\n",
       "89 & -\\frac{225}{2} \\\\\n",
       "339 & -\\frac{857}{2}\n",
       "\\end{array}\\right)$"
      ],
      "text/plain": [
       "[    89 -225/2]\n",
       "[   339 -857/2]"
      ]
     },
     "metadata": {},
     "output_type": "display_data"
    },
    {
     "name": "stdout",
     "output_type": "stream",
     "text": [
      "IDR 8608/10000\r"
     ]
    },
    {
     "data": {
      "text/html": [
       "<html>\\(\\displaystyle \\left(\\begin{array}{rr}\n",
       "-522 & 650 \\\\\n",
       "-416 & 518\n",
       "\\end{array}\\right)\\)</html>"
      ],
      "text/latex": [
       "$\\displaystyle \\left(\\begin{array}{rr}\n",
       "-522 & 650 \\\\\n",
       "-416 & 518\n",
       "\\end{array}\\right)$"
      ],
      "text/plain": [
       "[-522  650]\n",
       "[-416  518]"
      ]
     },
     "metadata": {},
     "output_type": "display_data"
    },
    {
     "name": "stdout",
     "output_type": "stream",
     "text": [
      "IDR 9196/10000\r"
     ]
    },
    {
     "data": {
      "text/html": [
       "<html>\\(\\displaystyle \\left(\\begin{array}{rr}\n",
       "65 & -16 \\\\\n",
       "256 & -63\n",
       "\\end{array}\\right)\\)</html>"
      ],
      "text/latex": [
       "$\\displaystyle \\left(\\begin{array}{rr}\n",
       "65 & -16 \\\\\n",
       "256 & -63\n",
       "\\end{array}\\right)$"
      ],
      "text/plain": [
       "[ 65 -16]\n",
       "[256 -63]"
      ]
     },
     "metadata": {},
     "output_type": "display_data"
    },
    {
     "name": "stdout",
     "output_type": "stream",
     "text": [
      "IDR 9197/10000\r"
     ]
    },
    {
     "data": {
      "text/html": [
       "<html>\\(\\displaystyle \\left(\\begin{array}{rr}\n",
       "-163 & 38 \\\\\n",
       "845 & -197\n",
       "\\end{array}\\right)\\)</html>"
      ],
      "text/latex": [
       "$\\displaystyle \\left(\\begin{array}{rr}\n",
       "-163 & 38 \\\\\n",
       "845 & -197\n",
       "\\end{array}\\right)$"
      ],
      "text/plain": [
       "[-163   38]\n",
       "[ 845 -197]"
      ]
     },
     "metadata": {},
     "output_type": "display_data"
    },
    {
     "name": "stdout",
     "output_type": "stream",
     "text": [
      "IDR 9198/10000\r"
     ]
    },
    {
     "data": {
      "text/html": [
       "<html>\\(\\displaystyle \\left(\\begin{array}{rr}\n",
       "-\\frac{163}{2} & 19 \\\\\n",
       "\\frac{845}{2} & -\\frac{197}{2}\n",
       "\\end{array}\\right)\\)</html>"
      ],
      "text/latex": [
       "$\\displaystyle \\left(\\begin{array}{rr}\n",
       "-\\frac{163}{2} & 19 \\\\\n",
       "\\frac{845}{2} & -\\frac{197}{2}\n",
       "\\end{array}\\right)$"
      ],
      "text/plain": [
       "[-163/2     19]\n",
       "[ 845/2 -197/2]"
      ]
     },
     "metadata": {},
     "output_type": "display_data"
    },
    {
     "name": "stdout",
     "output_type": "stream",
     "text": [
      "IDR 9204/10000\r"
     ]
    },
    {
     "data": {
      "text/html": [
       "<html>\\(\\displaystyle \\left(\\begin{array}{rr}\n",
       "-\\frac{2497}{2} & \\frac{549}{2} \\\\\n",
       "-\\frac{3625}{2} & \\frac{797}{2}\n",
       "\\end{array}\\right)\\)</html>"
      ],
      "text/latex": [
       "$\\displaystyle \\left(\\begin{array}{rr}\n",
       "-\\frac{2497}{2} & \\frac{549}{2} \\\\\n",
       "-\\frac{3625}{2} & \\frac{797}{2}\n",
       "\\end{array}\\right)$"
      ],
      "text/plain": [
       "[-2497/2   549/2]\n",
       "[-3625/2   797/2]"
      ]
     },
     "metadata": {},
     "output_type": "display_data"
    },
    {
     "name": "stdout",
     "output_type": "stream",
     "text": [
      "IDR 9250/10000\r"
     ]
    },
    {
     "data": {
      "text/html": [
       "<html>\\(\\displaystyle \\left(\\begin{array}{rr}\n",
       "-252 & 64 \\\\\n",
       "-1024 & 260\n",
       "\\end{array}\\right)\\)</html>"
      ],
      "text/latex": [
       "$\\displaystyle \\left(\\begin{array}{rr}\n",
       "-252 & 64 \\\\\n",
       "-1024 & 260\n",
       "\\end{array}\\right)$"
      ],
      "text/plain": [
       "[ -252    64]\n",
       "[-1024   260]"
      ]
     },
     "metadata": {},
     "output_type": "display_data"
    },
    {
     "name": "stdout",
     "output_type": "stream",
     "text": [
      "IDR 9251/10000\r"
     ]
    },
    {
     "data": {
      "text/html": [
       "<html>\\(\\displaystyle \\left(\\begin{array}{rr}\n",
       "-\\frac{737}{4} & \\frac{95}{2} \\\\\n",
       "32 & -\\frac{33}{4}\n",
       "\\end{array}\\right)\\)</html>"
      ],
      "text/latex": [
       "$\\displaystyle \\left(\\begin{array}{rr}\n",
       "-\\frac{737}{4} & \\frac{95}{2} \\\\\n",
       "32 & -\\frac{33}{4}\n",
       "\\end{array}\\right)$"
      ],
      "text/plain": [
       "[-737/4   95/2]\n",
       "[    32  -33/4]"
      ]
     },
     "metadata": {},
     "output_type": "display_data"
    },
    {
     "name": "stdout",
     "output_type": "stream",
     "text": [
      "IDR 9272/10000\r"
     ]
    },
    {
     "data": {
      "text/html": [
       "<html>\\(\\displaystyle \\left(\\begin{array}{rr}\n",
       "-197 & 38 \\\\\n",
       "845 & -163\n",
       "\\end{array}\\right)\\)</html>"
      ],
      "text/latex": [
       "$\\displaystyle \\left(\\begin{array}{rr}\n",
       "-197 & 38 \\\\\n",
       "845 & -163\n",
       "\\end{array}\\right)$"
      ],
      "text/plain": [
       "[-197   38]\n",
       "[ 845 -163]"
      ]
     },
     "metadata": {},
     "output_type": "display_data"
    },
    {
     "name": "stdout",
     "output_type": "stream",
     "text": [
      "IDR 9273/10000\r"
     ]
    },
    {
     "data": {
      "text/html": [
       "<html>\\(\\displaystyle \\left(\\begin{array}{rr}\n",
       "-\\frac{197}{2} & 19 \\\\\n",
       "\\frac{845}{2} & -\\frac{163}{2}\n",
       "\\end{array}\\right)\\)</html>"
      ],
      "text/latex": [
       "$\\displaystyle \\left(\\begin{array}{rr}\n",
       "-\\frac{197}{2} & 19 \\\\\n",
       "\\frac{845}{2} & -\\frac{163}{2}\n",
       "\\end{array}\\right)$"
      ],
      "text/plain": [
       "[-197/2     19]\n",
       "[ 845/2 -163/2]"
      ]
     },
     "metadata": {},
     "output_type": "display_data"
    },
    {
     "name": "stdout",
     "output_type": "stream",
     "text": [
      "IDR 9317/10000\r"
     ]
    },
    {
     "data": {
      "text/html": [
       "<html>\\(\\displaystyle \\left(\\begin{array}{rr}\n",
       "\\frac{387}{2} & 47 \\\\\n",
       "-35 & -\\frac{17}{2}\n",
       "\\end{array}\\right)\\)</html>"
      ],
      "text/latex": [
       "$\\displaystyle \\left(\\begin{array}{rr}\n",
       "\\frac{387}{2} & 47 \\\\\n",
       "-35 & -\\frac{17}{2}\n",
       "\\end{array}\\right)$"
      ],
      "text/plain": [
       "[387/2    47]\n",
       "[  -35 -17/2]"
      ]
     },
     "metadata": {},
     "output_type": "display_data"
    },
    {
     "name": "stdout",
     "output_type": "stream",
     "text": [
      "IDR 9385/10000\r"
     ]
    },
    {
     "data": {
      "text/html": [
       "<html>\\(\\displaystyle \\left(\\begin{array}{rr}\n",
       "572 & \\frac{203}{2} \\\\\n",
       "-\\frac{603}{2} & -\\frac{107}{2}\n",
       "\\end{array}\\right)\\)</html>"
      ],
      "text/latex": [
       "$\\displaystyle \\left(\\begin{array}{rr}\n",
       "572 & \\frac{203}{2} \\\\\n",
       "-\\frac{603}{2} & -\\frac{107}{2}\n",
       "\\end{array}\\right)$"
      ],
      "text/plain": [
       "[   572  203/2]\n",
       "[-603/2 -107/2]"
      ]
     },
     "metadata": {},
     "output_type": "display_data"
    },
    {
     "name": "stdout",
     "output_type": "stream",
     "text": [
      "IDR 9409/10000\r"
     ]
    },
    {
     "data": {
      "text/html": [
       "<html>\\(\\displaystyle \\left(\\begin{array}{rr}\n",
       "\\frac{197}{2} & 19 \\\\\n",
       "\\frac{845}{2} & \\frac{163}{2}\n",
       "\\end{array}\\right)\\)</html>"
      ],
      "text/latex": [
       "$\\displaystyle \\left(\\begin{array}{rr}\n",
       "\\frac{197}{2} & 19 \\\\\n",
       "\\frac{845}{2} & \\frac{163}{2}\n",
       "\\end{array}\\right)$"
      ],
      "text/plain": [
       "[197/2    19]\n",
       "[845/2 163/2]"
      ]
     },
     "metadata": {},
     "output_type": "display_data"
    },
    {
     "name": "stdout",
     "output_type": "stream",
     "text": [
      "IDR 9557/10000\r"
     ]
    },
    {
     "data": {
      "text/html": [
       "<html>\\(\\displaystyle \\left(\\begin{array}{rr}\n",
       "-740 & -434 \\\\\n",
       "-474 & -278\n",
       "\\end{array}\\right)\\)</html>"
      ],
      "text/latex": [
       "$\\displaystyle \\left(\\begin{array}{rr}\n",
       "-740 & -434 \\\\\n",
       "-474 & -278\n",
       "\\end{array}\\right)$"
      ],
      "text/plain": [
       "[-740 -434]\n",
       "[-474 -278]"
      ]
     },
     "metadata": {},
     "output_type": "display_data"
    },
    {
     "name": "stdout",
     "output_type": "stream",
     "text": [
      "IDR 9571/10000\r"
     ]
    },
    {
     "data": {
      "text/html": [
       "<html>\\(\\displaystyle \\left(\\begin{array}{rr}\n",
       "171 & \\frac{425}{2} \\\\\n",
       "-649 & -\\frac{1613}{2}\n",
       "\\end{array}\\right)\\)</html>"
      ],
      "text/latex": [
       "$\\displaystyle \\left(\\begin{array}{rr}\n",
       "171 & \\frac{425}{2} \\\\\n",
       "-649 & -\\frac{1613}{2}\n",
       "\\end{array}\\right)$"
      ],
      "text/plain": [
       "[    171   425/2]\n",
       "[   -649 -1613/2]"
      ]
     },
     "metadata": {},
     "output_type": "display_data"
    },
    {
     "name": "stdout",
     "output_type": "stream",
     "text": [
      "IDR 9889/10000\r"
     ]
    },
    {
     "data": {
      "text/html": [
       "<html>\\(\\displaystyle \\left(\\begin{array}{rr}\n",
       "\\frac{1489}{2} & \\frac{2789}{2} \\\\\n",
       "-323 & -605\n",
       "\\end{array}\\right)\\)</html>"
      ],
      "text/latex": [
       "$\\displaystyle \\left(\\begin{array}{rr}\n",
       "\\frac{1489}{2} & \\frac{2789}{2} \\\\\n",
       "-323 & -605\n",
       "\\end{array}\\right)$"
      ],
      "text/plain": [
       "[1489/2 2789/2]\n",
       "[  -323   -605]"
      ]
     },
     "metadata": {},
     "output_type": "display_data"
    },
    {
     "name": "stdout",
     "output_type": "stream",
     "text": [
      "IDR 9892/10000\r"
     ]
    },
    {
     "data": {
      "text/html": [
       "<html>\\(\\displaystyle \\left(\\begin{array}{rr}\n",
       "\\frac{1397}{2} & \\frac{2613}{2} \\\\\n",
       "-301 & -563\n",
       "\\end{array}\\right)\\)</html>"
      ],
      "text/latex": [
       "$\\displaystyle \\left(\\begin{array}{rr}\n",
       "\\frac{1397}{2} & \\frac{2613}{2} \\\\\n",
       "-301 & -563\n",
       "\\end{array}\\right)$"
      ],
      "text/plain": [
       "[1397/2 2613/2]\n",
       "[  -301   -563]"
      ]
     },
     "metadata": {},
     "output_type": "display_data"
    },
    {
     "name": "stdout",
     "output_type": "stream",
     "text": [
      "IDR 9965/10000\r"
     ]
    },
    {
     "data": {
      "text/html": [
       "<html>\\(\\displaystyle \\left(\\begin{array}{rr}\n",
       "\\frac{1151}{2} & \\frac{2135}{2} \\\\\n",
       "-255 & -473\n",
       "\\end{array}\\right)\\)</html>"
      ],
      "text/latex": [
       "$\\displaystyle \\left(\\begin{array}{rr}\n",
       "\\frac{1151}{2} & \\frac{2135}{2} \\\\\n",
       "-255 & -473\n",
       "\\end{array}\\right)$"
      ],
      "text/plain": [
       "[1151/2 2135/2]\n",
       "[  -255   -473]"
      ]
     },
     "metadata": {},
     "output_type": "display_data"
    },
    {
     "name": "stdout",
     "output_type": "stream",
     "text": [
      "IDR 10000/10000 --> 8349.95 seconds\n",
      "Plot IDR 9485/9485 --> 27.69 seconds\r"
     ]
    },
    {
     "data": {
      "image/png": "[encoded data removed]",
      "text/plain": [
       "Graphics object consisting of 79854 graphics primitives"
      ]
     },
     "metadata": {},
     "output_type": "display_data"
    },
    {
     "data": {
      "text/html": [
       "<html>\\(\\displaystyle \\left[\\left(\\begin{array}{rr}\n",
       "409 & -544 \\\\\n",
       "306 & -407\n",
       "\\end{array}\\right), \\left(\\begin{array}{rr}\n",
       "\\frac{1243}{2} & \\frac{2311}{2} \\\\\n",
       "-277 & -515\n",
       "\\end{array}\\right), \\left(\\begin{array}{rr}\n",
       "-370 & 217 \\\\\n",
       "237 & -139\n",
       "\\end{array}\\right), \\left(\\begin{array}{rr}\n",
       "121 & -80 \\\\\n",
       "180 & -119\n",
       "\\end{array}\\right), \\left(\\begin{array}{rr}\n",
       "65 & -16 \\\\\n",
       "256 & -63\n",
       "\\end{array}\\right), \\left(\\begin{array}{rr}\n",
       "29 & 129 \\\\\n",
       "20 & 89\n",
       "\\end{array}\\right), \\left(\\begin{array}{rr}\n",
       "15 & -8 \\\\\n",
       "32 & -17\n",
       "\\end{array}\\right), \\left(\\begin{array}{rr}\n",
       "17 & -8 \\\\\n",
       "32 & -15\n",
       "\\end{array}\\right), \\left(\\begin{array}{rr}\n",
       "-197 & 38 \\\\\n",
       "845 & -163\n",
       "\\end{array}\\right), \\left(\\begin{array}{rr}\n",
       "-\\frac{23}{2} & -\\frac{7}{2} \\\\\n",
       "\\frac{63}{2} & \\frac{19}{2}\n",
       "\\end{array}\\right), \\left(\\begin{array}{rr}\n",
       "-61 & 90 \\\\\n",
       "-40 & 59\n",
       "\\end{array}\\right), \\left(\\begin{array}{rr}\n",
       "-59 & 90 \\\\\n",
       "-40 & 61\n",
       "\\end{array}\\right), \\left(\\begin{array}{rr}\n",
       "-29 & 129 \\\\\n",
       "20 & -89\n",
       "\\end{array}\\right), \\left(\\begin{array}{rr}\n",
       "69 & \\frac{523}{2} \\\\\n",
       "-107 & -\\frac{811}{2}\n",
       "\\end{array}\\right), \\left(\\begin{array}{rr}\n",
       "409 & 544 \\\\\n",
       "-306 & -407\n",
       "\\end{array}\\right), \\left(\\begin{array}{rr}\n",
       "253 & -148 \\\\\n",
       "53 & -31\n",
       "\\end{array}\\right), \\left(\\begin{array}{rr}\n",
       "89 & -129 \\\\\n",
       "-20 & 29\n",
       "\\end{array}\\right), \\left(\\begin{array}{rr}\n",
       "31 & 148 \\\\\n",
       "-53 & -253\n",
       "\\end{array}\\right), \\left(\\begin{array}{rr}\n",
       "161 & -180 \\\\\n",
       "-144 & 161\n",
       "\\end{array}\\right), \\left(\\begin{array}{rr}\n",
       "\\frac{1151}{2} & \\frac{2135}{2} \\\\\n",
       "-255 & -473\n",
       "\\end{array}\\right), \\left(\\begin{array}{rr}\n",
       "15 & 98 \\\\\n",
       "58 & 379\n",
       "\\end{array}\\right), \\left(\\begin{array}{rr}\n",
       "-31 & 148 \\\\\n",
       "-53 & 253\n",
       "\\end{array}\\right), \\left(\\begin{array}{rr}\n",
       "-61 & -90 \\\\\n",
       "40 & 59\n",
       "\\end{array}\\right), \\left(\\begin{array}{rr}\n",
       "\\frac{19}{2} & \\frac{7}{2} \\\\\n",
       "-\\frac{63}{2} & -\\frac{23}{2}\n",
       "\\end{array}\\right), \\left(\\begin{array}{rr}\n",
       "-\\frac{2497}{4} & -\\frac{549}{4} \\\\\n",
       "\\frac{3625}{4} & \\frac{797}{4}\n",
       "\\end{array}\\right), \\left(\\begin{array}{rr}\n",
       "-16 & 45 \\\\\n",
       "-5 & 14\n",
       "\\end{array}\\right), \\left(\\begin{array}{rr}\n",
       "121 & 80 \\\\\n",
       "-180 & -119\n",
       "\\end{array}\\right), \\left(\\begin{array}{rr}\n",
       "\\frac{811}{2} & \\frac{523}{2} \\\\\n",
       "-107 & -69\n",
       "\\end{array}\\right), \\left(\\begin{array}{rr}\n",
       "45 & -88 \\\\\n",
       "22 & -43\n",
       "\\end{array}\\right), \\left(\\begin{array}{rr}\n",
       "91 & -141 \\\\\n",
       "-20 & 31\n",
       "\\end{array}\\right), \\left(\\begin{array}{rr}\n",
       "\\frac{811}{2} & -\\frac{523}{2} \\\\\n",
       "107 & -69\n",
       "\\end{array}\\right), \\left(\\begin{array}{rr}\n",
       "419 & -798 \\\\\n",
       "-220 & 419\n",
       "\\end{array}\\right), \\left(\\begin{array}{rr}\n",
       "35 & 216 \\\\\n",
       "-6 & -37\n",
       "\\end{array}\\right), \\left(\\begin{array}{rr}\n",
       "-\\frac{23}{2} & \\frac{7}{2} \\\\\n",
       "-\\frac{63}{2} & \\frac{19}{2}\n",
       "\\end{array}\\right), \\left(\\begin{array}{rr}\n",
       "16 & 45 \\\\\n",
       "-5 & -14\n",
       "\\end{array}\\right), \\left(\\begin{array}{rr}\n",
       "107 & 203 \\\\\n",
       "-603 & -1144\n",
       "\\end{array}\\right), \\left(\\begin{array}{rr}\n",
       "-370 & -217 \\\\\n",
       "-237 & -139\n",
       "\\end{array}\\right), \\left(\\begin{array}{rr}\n",
       "317 & 82 \\\\\n",
       "-58 & -15\n",
       "\\end{array}\\right), \\left(\\begin{array}{rr}\n",
       "1144 & 203 \\\\\n",
       "-603 & -107\n",
       "\\end{array}\\right), \\left(\\begin{array}{rr}\n",
       "197 & 38 \\\\\n",
       "845 & 163\n",
       "\\end{array}\\right), \\left(\\begin{array}{rr}\n",
       "45 & -176 \\\\\n",
       "11 & -43\n",
       "\\end{array}\\right), \\left(\\begin{array}{rr}\n",
       "-\\frac{193}{2} & -\\frac{117}{2} \\\\\n",
       "\\frac{325}{2} & \\frac{197}{2}\n",
       "\\end{array}\\right), \\left(\\begin{array}{rr}\n",
       "\\frac{479}{2} & -\\frac{333}{2} \\\\\n",
       "-\\frac{689}{2} & \\frac{479}{2}\n",
       "\\end{array}\\right), \\left(\\begin{array}{rr}\n",
       "-605 & -\\frac{2789}{2} \\\\\n",
       "323 & \\frac{1489}{2}\n",
       "\\end{array}\\right), \\left(\\begin{array}{rr}\n",
       "89 & -\\frac{225}{2} \\\\\n",
       "339 & -\\frac{857}{2}\n",
       "\\end{array}\\right), \\left(\\begin{array}{rr}\n",
       "387 & 94 \\\\\n",
       "-70 & -17\n",
       "\\end{array}\\right), \\left(\\begin{array}{rr}\n",
       "-43 & 176 \\\\\n",
       "-11 & 45\n",
       "\\end{array}\\right), \\left(\\begin{array}{rr}\n",
       "563 & \\frac{2613}{2} \\\\\n",
       "-301 & -\\frac{1397}{2}\n",
       "\\end{array}\\right), \\left(\\begin{array}{rr}\n",
       "-317 & -82 \\\\\n",
       "58 & 15\n",
       "\\end{array}\\right), \\left(\\begin{array}{rr}\n",
       "-14 & -45 \\\\\n",
       "5 & 16\n",
       "\\end{array}\\right), \\left(\\begin{array}{rr}\n",
       "15 & -82 \\\\\n",
       "58 & -317\n",
       "\\end{array}\\right), \\left(\\begin{array}{rr}\n",
       "-737 & 190 \\\\\n",
       "128 & -33\n",
       "\\end{array}\\right), \\left(\\begin{array}{rr}\n",
       "-35 & -6 \\\\\n",
       "-204 & -35\n",
       "\\end{array}\\right), \\left(\\begin{array}{rr}\n",
       "-17 & -8 \\\\\n",
       "32 & 15\n",
       "\\end{array}\\right), \\left(\\begin{array}{rr}\n",
       "-\\frac{479}{2} & -\\frac{333}{2} \\\\\n",
       "-\\frac{689}{2} & -\\frac{479}{2}\n",
       "\\end{array}\\right), \\left(\\begin{array}{rr}\n",
       "-\\frac{1737}{2} & -\\frac{1277}{2} \\\\\n",
       "1231 & 905\n",
       "\\end{array}\\right), \\left(\\begin{array}{rr}\n",
       "-\\frac{2497}{4} & \\frac{549}{4} \\\\\n",
       "-\\frac{3625}{4} & \\frac{797}{4}\n",
       "\\end{array}\\right), \\left(\\begin{array}{rr}\n",
       "\\frac{857}{2} & -\\frac{225}{2} \\\\\n",
       "339 & -89\n",
       "\\end{array}\\right), \\left(\\begin{array}{rr}\n",
       "65 & 16 \\\\\n",
       "-256 & -63\n",
       "\\end{array}\\right), \\left(\\begin{array}{rr}\n",
       "45 & 176 \\\\\n",
       "-11 & -43\n",
       "\\end{array}\\right), \\left(\\begin{array}{rr}\n",
       "-121 & -80 \\\\\n",
       "180 & 119\n",
       "\\end{array}\\right), \\left(\\begin{array}{rr}\n",
       "-119 & -80 \\\\\n",
       "180 & 121\n",
       "\\end{array}\\right), \\left(\\begin{array}{rr}\n",
       "-15 & -98 \\\\\n",
       "-58 & -379\n",
       "\\end{array}\\right), \\left(\\begin{array}{rr}\n",
       "-\\frac{197}{2} & \\frac{117}{2} \\\\\n",
       "-\\frac{325}{2} & \\frac{193}{2}\n",
       "\\end{array}\\right), \\left(\\begin{array}{rr}\n",
       "-593 & -1369 \\\\\n",
       "256 & 591\n",
       "\\end{array}\\right), \\left(\\begin{array}{rr}\n",
       "-\\frac{193}{2} & \\frac{117}{2} \\\\\n",
       "-\\frac{325}{2} & \\frac{197}{2}\n",
       "\\end{array}\\right), \\left(\\begin{array}{rr}\n",
       "-163 & 38 \\\\\n",
       "845 & -197\n",
       "\\end{array}\\right), \\left(\\begin{array}{rr}\n",
       "-31 & -148 \\\\\n",
       "53 & 253\n",
       "\\end{array}\\right), \\left(\\begin{array}{rr}\n",
       "171 & \\frac{425}{2} \\\\\n",
       "-649 & -\\frac{1613}{2}\n",
       "\\end{array}\\right), \\left(\\begin{array}{rr}\n",
       "-317 & 82 \\\\\n",
       "-58 & 15\n",
       "\\end{array}\\right), \\left(\\begin{array}{rr}\n",
       "\\frac{193}{2} & \\frac{117}{2} \\\\\n",
       "-\\frac{325}{2} & -\\frac{197}{2}\n",
       "\\end{array}\\right), \\left(\\begin{array}{rr}\n",
       "1 & 12 \\\\\n",
       "0 & 1\n",
       "\\end{array}\\right), \\left(\\begin{array}{rr}\n",
       "-261 & 325 \\\\\n",
       "-208 & 259\n",
       "\\end{array}\\right), \\left(\\begin{array}{rr}\n",
       "89 & \\frac{225}{2} \\\\\n",
       "-339 & -\\frac{857}{2}\n",
       "\\end{array}\\right), \\left(\\begin{array}{rr}\n",
       "\\frac{19}{2} & -\\frac{7}{2} \\\\\n",
       "\\frac{63}{2} & -\\frac{23}{2}\n",
       "\\end{array}\\right), \\left(\\begin{array}{rr}\n",
       "1 & 0 \\\\\n",
       "12 & 1\n",
       "\\end{array}\\right), \\left(\\begin{array}{rr}\n",
       "43 & 88 \\\\\n",
       "-22 & -45\n",
       "\\end{array}\\right), \\left(\\begin{array}{rr}\n",
       "\\frac{23}{2} & -\\frac{7}{2} \\\\\n",
       "\\frac{63}{2} & -\\frac{19}{2}\n",
       "\\end{array}\\right), \\left(\\begin{array}{rr}\n",
       "-33 & -190 \\\\\n",
       "-128 & -737\n",
       "\\end{array}\\right), \\left(\\begin{array}{rr}\n",
       "-15 & 8 \\\\\n",
       "-32 & 17\n",
       "\\end{array}\\right), \\left(\\begin{array}{rr}\n",
       "-65 & 16 \\\\\n",
       "-256 & 63\n",
       "\\end{array}\\right), \\left(\\begin{array}{rr}\n",
       "-63 & 16 \\\\\n",
       "-256 & 65\n",
       "\\end{array}\\right), \\left(\\begin{array}{rr}\n",
       "-119 & 80 \\\\\n",
       "-180 & 121\n",
       "\\end{array}\\right), \\left(\\begin{array}{rr}\n",
       "-261 & -325 \\\\\n",
       "208 & 259\n",
       "\\end{array}\\right), \\left(\\begin{array}{rr}\n",
       "-1 & 0 \\\\\n",
       "0 & -1\n",
       "\\end{array}\\right)\\right]\\)</html>"
      ],
      "text/latex": [
       "$\\displaystyle \\left[\\left(\\begin{array}{rr}\n",
       "409 & -544 \\\\\n",
       "306 & -407\n",
       "\\end{array}\\right), \\left(\\begin{array}{rr}\n",
       "\\frac{1243}{2} & \\frac{2311}{2} \\\\\n",
       "-277 & -515\n",
       "\\end{array}\\right), \\left(\\begin{array}{rr}\n",
       "-370 & 217 \\\\\n",
       "237 & -139\n",
       "\\end{array}\\right), \\left(\\begin{array}{rr}\n",
       "121 & -80 \\\\\n",
       "180 & -119\n",
       "\\end{array}\\right), \\left(\\begin{array}{rr}\n",
       "65 & -16 \\\\\n",
       "256 & -63\n",
       "\\end{array}\\right), \\left(\\begin{array}{rr}\n",
       "29 & 129 \\\\\n",
       "20 & 89\n",
       "\\end{array}\\right), \\left(\\begin{array}{rr}\n",
       "15 & -8 \\\\\n",
       "32 & -17\n",
       "\\end{array}\\right), \\left(\\begin{array}{rr}\n",
       "17 & -8 \\\\\n",
       "32 & -15\n",
       "\\end{array}\\right), \\left(\\begin{array}{rr}\n",
       "-197 & 38 \\\\\n",
       "845 & -163\n",
       "\\end{array}\\right), \\left(\\begin{array}{rr}\n",
       "-\\frac{23}{2} & -\\frac{7}{2} \\\\\n",
       "\\frac{63}{2} & \\frac{19}{2}\n",
       "\\end{array}\\right), \\left(\\begin{array}{rr}\n",
       "-61 & 90 \\\\\n",
       "-40 & 59\n",
       "\\end{array}\\right), \\left(\\begin{array}{rr}\n",
       "-59 & 90 \\\\\n",
       "-40 & 61\n",
       "\\end{array}\\right), \\left(\\begin{array}{rr}\n",
       "-29 & 129 \\\\\n",
       "20 & -89\n",
       "\\end{array}\\right), \\left(\\begin{array}{rr}\n",
       "69 & \\frac{523}{2} \\\\\n",
       "-107 & -\\frac{811}{2}\n",
       "\\end{array}\\right), \\left(\\begin{array}{rr}\n",
       "409 & 544 \\\\\n",
       "-306 & -407\n",
       "\\end{array}\\right), \\left(\\begin{array}{rr}\n",
       "253 & -148 \\\\\n",
       "53 & -31\n",
       "\\end{array}\\right), \\left(\\begin{array}{rr}\n",
       "89 & -129 \\\\\n",
       "-20 & 29\n",
       "\\end{array}\\right), \\left(\\begin{array}{rr}\n",
       "31 & 148 \\\\\n",
       "-53 & -253\n",
       "\\end{array}\\right), \\left(\\begin{array}{rr}\n",
       "161 & -180 \\\\\n",
       "-144 & 161\n",
       "\\end{array}\\right), \\left(\\begin{array}{rr}\n",
       "\\frac{1151}{2} & \\frac{2135}{2} \\\\\n",
       "-255 & -473\n",
       "\\end{array}\\right), \\left(\\begin{array}{rr}\n",
       "15 & 98 \\\\\n",
       "58 & 379\n",
       "\\end{array}\\right), \\left(\\begin{array}{rr}\n",
       "-31 & 148 \\\\\n",
       "-53 & 253\n",
       "\\end{array}\\right), \\left(\\begin{array}{rr}\n",
       "-61 & -90 \\\\\n",
       "40 & 59\n",
       "\\end{array}\\right), \\left(\\begin{array}{rr}\n",
       "\\frac{19}{2} & \\frac{7}{2} \\\\\n",
       "-\\frac{63}{2} & -\\frac{23}{2}\n",
       "\\end{array}\\right), \\left(\\begin{array}{rr}\n",
       "-\\frac{2497}{4} & -\\frac{549}{4} \\\\\n",
       "\\frac{3625}{4} & \\frac{797}{4}\n",
       "\\end{array}\\right), \\left(\\begin{array}{rr}\n",
       "-16 & 45 \\\\\n",
       "-5 & 14\n",
       "\\end{array}\\right), \\left(\\begin{array}{rr}\n",
       "121 & 80 \\\\\n",
       "-180 & -119\n",
       "\\end{array}\\right), \\left(\\begin{array}{rr}\n",
       "\\frac{811}{2} & \\frac{523}{2} \\\\\n",
       "-107 & -69\n",
       "\\end{array}\\right), \\left(\\begin{array}{rr}\n",
       "45 & -88 \\\\\n",
       "22 & -43\n",
       "\\end{array}\\right), \\left(\\begin{array}{rr}\n",
       "91 & -141 \\\\\n",
       "-20 & 31\n",
       "\\end{array}\\right), \\left(\\begin{array}{rr}\n",
       "\\frac{811}{2} & -\\frac{523}{2} \\\\\n",
       "107 & -69\n",
       "\\end{array}\\right), \\left(\\begin{array}{rr}\n",
       "419 & -798 \\\\\n",
       "-220 & 419\n",
       "\\end{array}\\right), \\left(\\begin{array}{rr}\n",
       "35 & 216 \\\\\n",
       "-6 & -37\n",
       "\\end{array}\\right), \\left(\\begin{array}{rr}\n",
       "-\\frac{23}{2} & \\frac{7}{2} \\\\\n",
       "-\\frac{63}{2} & \\frac{19}{2}\n",
       "\\end{array}\\right), \\left(\\begin{array}{rr}\n",
       "16 & 45 \\\\\n",
       "-5 & -14\n",
       "\\end{array}\\right), \\left(\\begin{array}{rr}\n",
       "107 & 203 \\\\\n",
       "-603 & -1144\n",
       "\\end{array}\\right), \\left(\\begin{array}{rr}\n",
       "-370 & -217 \\\\\n",
       "-237 & -139\n",
       "\\end{array}\\right), \\left(\\begin{array}{rr}\n",
       "317 & 82 \\\\\n",
       "-58 & -15\n",
       "\\end{array}\\right), \\left(\\begin{array}{rr}\n",
       "1144 & 203 \\\\\n",
       "-603 & -107\n",
       "\\end{array}\\right), \\left(\\begin{array}{rr}\n",
       "197 & 38 \\\\\n",
       "845 & 163\n",
       "\\end{array}\\right), \\left(\\begin{array}{rr}\n",
       "45 & -176 \\\\\n",
       "11 & -43\n",
       "\\end{array}\\right), \\left(\\begin{array}{rr}\n",
       "-\\frac{193}{2} & -\\frac{117}{2} \\\\\n",
       "\\frac{325}{2} & \\frac{197}{2}\n",
       "\\end{array}\\right), \\left(\\begin{array}{rr}\n",
       "\\frac{479}{2} & -\\frac{333}{2} \\\\\n",
       "-\\frac{689}{2} & \\frac{479}{2}\n",
       "\\end{array}\\right), \\left(\\begin{array}{rr}\n",
       "-605 & -\\frac{2789}{2} \\\\\n",
       "323 & \\frac{1489}{2}\n",
       "\\end{array}\\right), \\left(\\begin{array}{rr}\n",
       "89 & -\\frac{225}{2} \\\\\n",
       "339 & -\\frac{857}{2}\n",
       "\\end{array}\\right), \\left(\\begin{array}{rr}\n",
       "387 & 94 \\\\\n",
       "-70 & -17\n",
       "\\end{array}\\right), \\left(\\begin{array}{rr}\n",
       "-43 & 176 \\\\\n",
       "-11 & 45\n",
       "\\end{array}\\right), \\left(\\begin{array}{rr}\n",
       "563 & \\frac{2613}{2} \\\\\n",
       "-301 & -\\frac{1397}{2}\n",
       "\\end{array}\\right), \\left(\\begin{array}{rr}\n",
       "-317 & -82 \\\\\n",
       "58 & 15\n",
       "\\end{array}\\right), \\left(\\begin{array}{rr}\n",
       "-14 & -45 \\\\\n",
       "5 & 16\n",
       "\\end{array}\\right), \\left(\\begin{array}{rr}\n",
       "15 & -82 \\\\\n",
       "58 & -317\n",
       "\\end{array}\\right), \\left(\\begin{array}{rr}\n",
       "-737 & 190 \\\\\n",
       "128 & -33\n",
       "\\end{array}\\right), \\left(\\begin{array}{rr}\n",
       "-35 & -6 \\\\\n",
       "-204 & -35\n",
       "\\end{array}\\right), \\left(\\begin{array}{rr}\n",
       "-17 & -8 \\\\\n",
       "32 & 15\n",
       "\\end{array}\\right), \\left(\\begin{array}{rr}\n",
       "-\\frac{479}{2} & -\\frac{333}{2} \\\\\n",
       "-\\frac{689}{2} & -\\frac{479}{2}\n",
       "\\end{array}\\right), \\left(\\begin{array}{rr}\n",
       "-\\frac{1737}{2} & -\\frac{1277}{2} \\\\\n",
       "1231 & 905\n",
       "\\end{array}\\right), \\left(\\begin{array}{rr}\n",
       "-\\frac{2497}{4} & \\frac{549}{4} \\\\\n",
       "-\\frac{3625}{4} & \\frac{797}{4}\n",
       "\\end{array}\\right), \\left(\\begin{array}{rr}\n",
       "\\frac{857}{2} & -\\frac{225}{2} \\\\\n",
       "339 & -89\n",
       "\\end{array}\\right), \\left(\\begin{array}{rr}\n",
       "65 & 16 \\\\\n",
       "-256 & -63\n",
       "\\end{array}\\right), \\left(\\begin{array}{rr}\n",
       "45 & 176 \\\\\n",
       "-11 & -43\n",
       "\\end{array}\\right), \\left(\\begin{array}{rr}\n",
       "-121 & -80 \\\\\n",
       "180 & 119\n",
       "\\end{array}\\right), \\left(\\begin{array}{rr}\n",
       "-119 & -80 \\\\\n",
       "180 & 121\n",
       "\\end{array}\\right), \\left(\\begin{array}{rr}\n",
       "-15 & -98 \\\\\n",
       "-58 & -379\n",
       "\\end{array}\\right), \\left(\\begin{array}{rr}\n",
       "-\\frac{197}{2} & \\frac{117}{2} \\\\\n",
       "-\\frac{325}{2} & \\frac{193}{2}\n",
       "\\end{array}\\right), \\left(\\begin{array}{rr}\n",
       "-593 & -1369 \\\\\n",
       "256 & 591\n",
       "\\end{array}\\right), \\left(\\begin{array}{rr}\n",
       "-\\frac{193}{2} & \\frac{117}{2} \\\\\n",
       "-\\frac{325}{2} & \\frac{197}{2}\n",
       "\\end{array}\\right), \\left(\\begin{array}{rr}\n",
       "-163 & 38 \\\\\n",
       "845 & -197\n",
       "\\end{array}\\right), \\left(\\begin{array}{rr}\n",
       "-31 & -148 \\\\\n",
       "53 & 253\n",
       "\\end{array}\\right), \\left(\\begin{array}{rr}\n",
       "171 & \\frac{425}{2} \\\\\n",
       "-649 & -\\frac{1613}{2}\n",
       "\\end{array}\\right), \\left(\\begin{array}{rr}\n",
       "-317 & 82 \\\\\n",
       "-58 & 15\n",
       "\\end{array}\\right), \\left(\\begin{array}{rr}\n",
       "\\frac{193}{2} & \\frac{117}{2} \\\\\n",
       "-\\frac{325}{2} & -\\frac{197}{2}\n",
       "\\end{array}\\right), \\left(\\begin{array}{rr}\n",
       "1 & 12 \\\\\n",
       "0 & 1\n",
       "\\end{array}\\right), \\left(\\begin{array}{rr}\n",
       "-261 & 325 \\\\\n",
       "-208 & 259\n",
       "\\end{array}\\right), \\left(\\begin{array}{rr}\n",
       "89 & \\frac{225}{2} \\\\\n",
       "-339 & -\\frac{857}{2}\n",
       "\\end{array}\\right), \\left(\\begin{array}{rr}\n",
       "\\frac{19}{2} & -\\frac{7}{2} \\\\\n",
       "\\frac{63}{2} & -\\frac{23}{2}\n",
       "\\end{array}\\right), \\left(\\begin{array}{rr}\n",
       "1 & 0 \\\\\n",
       "12 & 1\n",
       "\\end{array}\\right), \\left(\\begin{array}{rr}\n",
       "43 & 88 \\\\\n",
       "-22 & -45\n",
       "\\end{array}\\right), \\left(\\begin{array}{rr}\n",
       "\\frac{23}{2} & -\\frac{7}{2} \\\\\n",
       "\\frac{63}{2} & -\\frac{19}{2}\n",
       "\\end{array}\\right), \\left(\\begin{array}{rr}\n",
       "-33 & -190 \\\\\n",
       "-128 & -737\n",
       "\\end{array}\\right), \\left(\\begin{array}{rr}\n",
       "-15 & 8 \\\\\n",
       "-32 & 17\n",
       "\\end{array}\\right), \\left(\\begin{array}{rr}\n",
       "-65 & 16 \\\\\n",
       "-256 & 63\n",
       "\\end{array}\\right), \\left(\\begin{array}{rr}\n",
       "-63 & 16 \\\\\n",
       "-256 & 65\n",
       "\\end{array}\\right), \\left(\\begin{array}{rr}\n",
       "-119 & 80 \\\\\n",
       "-180 & 121\n",
       "\\end{array}\\right), \\left(\\begin{array}{rr}\n",
       "-261 & -325 \\\\\n",
       "208 & 259\n",
       "\\end{array}\\right), \\left(\\begin{array}{rr}\n",
       "-1 & 0 \\\\\n",
       "0 & -1\n",
       "\\end{array}\\right)\\right]$"
      ],
      "text/plain": [
       "[\n",
       "[ 409 -544]  [1243/2 2311/2]  [-370  217]  [ 121  -80]  [ 65 -16]\n",
       "[ 306 -407], [  -277   -515], [ 237 -139], [ 180 -119], [256 -63],\n",
       "\n",
       "[ 29 129]  [ 15  -8]  [ 17  -8]  [-197   38]  [-23/2  -7/2]  [-61  90]\n",
       "[ 20  89], [ 32 -17], [ 32 -15], [ 845 -163], [ 63/2  19/2], [-40  59],\n",
       "\n",
       "[-59  90]  [-29 129]  [    69  523/2]  [ 409  544]  [ 253 -148]\n",
       "[-40  61], [ 20 -89], [  -107 -811/2], [-306 -407], [  53  -31],\n",
       "\n",
       "[  89 -129]  [  31  148]  [ 161 -180]  [1151/2 2135/2]  [ 15  98]\n",
       "[ -20   29], [ -53 -253], [-144  161], [  -255   -473], [ 58 379],\n",
       "\n",
       "[-31 148]  [-61 -90]  [ 19/2   7/2]  [-2497/4  -549/4]  [-16  45]\n",
       "[-53 253], [ 40  59], [-63/2 -23/2], [ 3625/4   797/4], [ -5  14],\n",
       "\n",
       "[ 121   80]  [811/2 523/2]  [ 45 -88]  [  91 -141]  [ 811/2 -523/2]\n",
       "[-180 -119], [ -107   -69], [ 22 -43], [ -20   31], [   107    -69],\n",
       "\n",
       "[ 419 -798]  [ 35 216]  [-23/2   7/2]  [ 16  45]  [  107   203]\n",
       "[-220  419], [ -6 -37], [-63/2  19/2], [ -5 -14], [ -603 -1144],\n",
       "\n",
       "[-370 -217]  [317  82]  [1144  203]  [197  38]  [  45 -176]\n",
       "[-237 -139], [-58 -15], [-603 -107], [845 163], [  11  -43],\n",
       "\n",
       "[-193/2 -117/2]  [ 479/2 -333/2]  [   -605 -2789/2]  [    89 -225/2]\n",
       "[ 325/2  197/2], [-689/2  479/2], [    323  1489/2], [   339 -857/2],\n",
       "\n",
       "[387  94]  [-43 176]  [    563  2613/2]  [-317  -82]  [-14 -45]\n",
       "[-70 -17], [-11  45], [   -301 -1397/2], [  58   15], [  5  16],\n",
       "\n",
       "[  15  -82]  [-737  190]  [ -35   -6]  [-17  -8]  [-479/2 -333/2]\n",
       "[  58 -317], [ 128  -33], [-204  -35], [ 32  15], [-689/2 -479/2],\n",
       "\n",
       "[-1737/2 -1277/2]  [-2497/4   549/4]  [ 857/2 -225/2]  [  65   16]\n",
       "[   1231     905], [-3625/4   797/4], [   339    -89], [-256  -63],\n",
       "\n",
       "[ 45 176]  [-121  -80]  [-119  -80]  [ -15  -98]  [-197/2  117/2]\n",
       "[-11 -43], [ 180  119], [ 180  121], [ -58 -379], [-325/2  193/2],\n",
       "\n",
       "[ -593 -1369]  [-193/2  117/2]  [-163   38]  [ -31 -148]\n",
       "[  256   591], [-325/2  197/2], [ 845 -197], [  53  253],\n",
       "\n",
       "[    171   425/2]  [-317   82]  [ 193/2  117/2]  [ 1 12]  [-261  325]\n",
       "[   -649 -1613/2], [ -58   15], [-325/2 -197/2], [ 0  1], [-208  259],\n",
       "\n",
       "[    89  225/2]  [ 19/2  -7/2]  [ 1  0]  [ 43  88]  [ 23/2  -7/2]\n",
       "[  -339 -857/2], [ 63/2 -23/2], [12  1], [-22 -45], [ 63/2 -19/2],\n",
       "\n",
       "[ -33 -190]  [-15   8]  [ -65   16]  [ -63   16]  [-119   80]\n",
       "[-128 -737], [-32  17], [-256   63], [-256   65], [-180  121],\n",
       "\n",
       "[-261 -325]  [-1  0]\n",
       "[ 208  259], [ 0 -1]\n",
       "]"
      ]
     },
     "metadata": {},
     "output_type": "display_data"
    }
   ],
   "source": [
    "# Find Veech group of Dimple.\n",
    "\n",
    "search_dimple(1/2,2)\n",
    "# search_dimple(1/3,2)\n",
    "# search_dimple(1/3,3/2)\n"
   ]
  }
 ],
 "metadata": {
  "kernelspec": {
   "display_name": "SageMath 9.6",
   "language": "sage",
   "name": "sagemath-9.6"
  },
  "language_info": {
   "codemirror_mode": {
    "name": "ipython",
    "version": 3
   },
   "file_extension": ".py",
   "mimetype": "text/x-python",
   "name": "python",
   "nbconvert_exporter": "python",
   "pygments_lexer": "ipython3",
   "version": "3.10.3"
  }
 },
 "nbformat": 4,
 "nbformat_minor": 5
}
